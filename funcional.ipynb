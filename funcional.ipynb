{
 "cells": [
  {
   "cell_type": "markdown",
   "metadata": {},
   "source": [
    "<a href=\"https://colab.research.google.com/github/fralfaro/python_intro/blob/main/docs/funcional.ipynb\" target=\"_parent\"><img src=\"https://colab.research.google.com/assets/colab-badge.svg\" alt=\"Open In Colab\"/></a>"
   ]
  },
  {
   "cell_type": "markdown",
   "metadata": {},
   "source": [
    "# Programación Funcional\n",
    "\n",
    "\n",
    "\n",
    "## Paradigmas de programación\n",
    "\n",
    "\n",
    "> **Python** es un lenguaje de programación interpretado cuya filosofía hace hincapié en la legibilidad de su código. Se trata de un lenguaje de programación multiparadigma, ya que soporta orientación a objetos, programación imperativa y, en menor medida, programación funcional.\n",
    "\n",
    "Quiere decir que acepta diversas formar de trabajar con el lenguaje. Básicamente existen 3 paradigmas predominantes, o dicho de otra manera, 3 formatos globales de organizar un código.\n",
    "\n",
    "* **Programación imperativa** (estructurada), el código será ejecutado desde el principio del fichero al final sin seguir ningún tipo de desviación. Su mayor ventaja radica en su simplicidad y poco peso. Su peligrosidad es el código espagueti, archivos con centenares o miles de líneas donde solo unos pocos seres humanos son capaces de modificar y salir victoriosos.\n",
    "\n",
    "\n",
    "* **Programación orientada a objetos** (OOP o Object Oriented Programming), donde se encapsulan las variables y funciones en pequeños módulos capaces de clonarse y modificarse. Su punto fuerte es la capacidad de re-utilización y aislamiento para evitar problemas con otras funcionalidades. La parte negativa recae en la complejidad de crear buenos objetos y la depuración.\n",
    "\n",
    "\n",
    "* **Programación funcional** (FP o Functional programming), donde el código se reparte en sencillas funciones capaces de ser invocadas con variables u otras funciones. Su facilidad de uso por atomicidad logra un mantenimiento sólido y compatible con casi cualquier lenguaje. Además su inmutabilidad de variables evita gran parte de los problemas que si sufre la programación orientada a objetos.\n",
    "\n",
    "Para seguir profundizando, leer el libro **Clean Architecture - Robert C. Martin**."
   ]
  },
  {
   "cell_type": "markdown",
   "metadata": {},
   "source": [
    "##  Principios de la programación funcional\n",
    "\n",
    "* **Uso de funciones**: Como su nombre indica, todo se construye por medio de funciones. \n",
    "\n",
    "\n",
    "* **Funciones de primera clase**: Las funciones son tratadas como una variable más. Incluso pueden ser devueltas.\n",
    "\n",
    "\n",
    "* **Funciones puras**: Totalmente predictivo, los mismos datos de entrada producirán los mismos datos de salida. Puedes sustituir el parámetro de entrada de sin que ello altere el flujo del programa.\n",
    "\n",
    "\n",
    "* **Recursividad**: Las funciones se pueden llamar a si mismas simplificando tareas como recorrer árboles de datos o la gestión de bucles controlados.\n",
    "\n",
    "\n",
    "* **Inmutabilidad**: No hay variables, solo constantes. \n",
    "\n",
    "\n",
    "* **Evaluación perezosa** (no estricta): En la programación funcional podemos trabajar con expresiones que no han sido evaluadas, o dicho de otra manera, podemos disponer de variables con operaciones cuyo resultado aún no se conoce."
   ]
  },
  {
   "cell_type": "markdown",
   "metadata": {},
   "source": [
    "### Funciones\n",
    "\n",
    "Las funciones en Python es que estas pueden ser asignadas a variables, lo cual nos abre la puerta a que funciones puedan ser usadas como argumento de otras funciones y que funciones retornen funciones."
   ]
  },
  {
   "cell_type": "code",
   "execution_count": 1,
   "metadata": {},
   "outputs": [],
   "source": [
    "# funcion suma de dos numeros\n",
    "def suma(val1=0, val2=0):\n",
    "    return val1 + val2\n"
   ]
  },
  {
   "cell_type": "code",
   "execution_count": 2,
   "metadata": {},
   "outputs": [
    {
     "name": "stdout",
     "output_type": "stream",
     "text": [
      "30\n"
     ]
    }
   ],
   "source": [
    "resultado = suma(10,20)\n",
    "print(resultado)"
   ]
  },
  {
   "cell_type": "markdown",
   "metadata": {},
   "source": [
    "### Funciones anónimas o lambdas\n",
    "\n",
    "Habrá ocasiones en las cuales necesitemos crear funciones de manera rápida, en tiempo de ejecución. Funciones las cuales realizan una tarea en concreto, regularmente pequeña. En estos casos haremos uso de funciones `lambda`.\n",
    "\n",
    "Una función `lambda` es una función anónima, una función que no posee un nombre. En Python la estructura de una función `lambda` es la siguiente.\n",
    "\n",
    "```terminal\n",
    "lambda argumentos : cuerpo de la función\n",
    "\n",
    "```"
   ]
  },
  {
   "cell_type": "code",
   "execution_count": 3,
   "metadata": {},
   "outputs": [
    {
     "name": "stdout",
     "output_type": "stream",
     "text": [
      "4\n"
     ]
    }
   ],
   "source": [
    "# un argumento\n",
    "funcion = lambda a : 1+a\n",
    "print(funcion(3))"
   ]
  },
  {
   "cell_type": "code",
   "execution_count": 4,
   "metadata": {},
   "outputs": [
    {
     "name": "stdout",
     "output_type": "stream",
     "text": [
      "30\n"
     ]
    }
   ],
   "source": [
    "# varios argumentos\n",
    "suma = lambda val1=0, val2=0: val1 + val2\n",
    "print(suma(10,20))"
   ]
  },
  {
   "cell_type": "markdown",
   "metadata": {},
   "source": [
    "### Función map\n",
    "\n",
    "La función `map`  permite aplicar una función a una secuencia de elementos como un iterable (Listas, tuplas, etc...). Es una forma rápida, limpia y, lo que es más importante, legible de realizar la operación.\n",
    "\n",
    "La estructura de la función es la siguiente.\n",
    "\n",
    "```terminal\n",
    "map(función a aplicar, objeto iterable)\n",
    "```"
   ]
  },
  {
   "cell_type": "code",
   "execution_count": 5,
   "metadata": {},
   "outputs": [],
   "source": [
    "#Obtener el cuadrado de todos los elementos en la lista.\n",
    "\n",
    "def cuadrado(elemento=0):\n",
    "    return elemento * elemento"
   ]
  },
  {
   "cell_type": "code",
   "execution_count": 6,
   "metadata": {},
   "outputs": [
    {
     "name": "stdout",
     "output_type": "stream",
     "text": [
      "[1, 4, 9, 16, 25, 36, 49, 64, 81, 100]\n"
     ]
    }
   ],
   "source": [
    "lista = [1,2,3,4,5,6,7,8,9,10]\n",
    "resultado = list( map(cuadrado, lista) )\n",
    "print(resultado)"
   ]
  },
  {
   "cell_type": "markdown",
   "metadata": {},
   "source": [
    "<img src=\"https://raw.githubusercontent.com/fralfaro/python_intro/main/docs/images/map.png\"  align=\"center\" width=\"500\" height=\"500\" />\n"
   ]
  },
  {
   "cell_type": "markdown",
   "metadata": {},
   "source": [
    "### Función filter\n",
    "\n",
    "La función `filter`, es quizás, una de las funciones más utilizadas al momento de trabajar con colecciones. Cómo su nombre lo indica, esta función nos permite realizar un filtro sobre los elementos de la colección.\n",
    "\n",
    "La estructura de la función es la siguiente.\n",
    "\n",
    "```terminal\n",
    "filter(función a aplicar, objeto iterable)\n",
    "```"
   ]
  },
  {
   "cell_type": "code",
   "execution_count": 7,
   "metadata": {},
   "outputs": [],
   "source": [
    "#Obtener la cantidad de elementos mayores a 5 en la tupla.\n",
    "\n",
    "def mayor_a_cinco(elemento):\n",
    "    return elemento > 5"
   ]
  },
  {
   "cell_type": "code",
   "execution_count": 8,
   "metadata": {},
   "outputs": [
    {
     "name": "stdout",
     "output_type": "stream",
     "text": [
      "(6, 7, 8, 10, 77, 55, 30)\n"
     ]
    }
   ],
   "source": [
    "tupla = (5,2,6,7,8,10,77,55,2,1,30,4,2,3)\n",
    "resultado = tuple(filter( mayor_a_cinco, tupla))\n",
    "print(resultado)"
   ]
  },
  {
   "cell_type": "markdown",
   "metadata": {},
   "source": [
    "<img src=\"https://raw.githubusercontent.com/fralfaro/python_intro/main/docs/images/filter.png\"  align=\"center\" width=\"500\" height=\"500\" />\n"
   ]
  },
  {
   "cell_type": "markdown",
   "metadata": {},
   "source": [
    "### Función reduce\n",
    "\n",
    "Usaremos la función `reduce` cuando poseamos una colección de elementos y necesitemos generar un único resultado. reduce nos permitirá reducir los elementos de la colección. Podemos ver a esta función como un acumulador.\n",
    "\n",
    "La estructura de la función es la siguiente.\n",
    "\n",
    "```terminal\n",
    "reduce(función a aplicar, objeto iterable)\n",
    "```"
   ]
  },
  {
   "cell_type": "code",
   "execution_count": 9,
   "metadata": {},
   "outputs": [
    {
     "name": "stdout",
     "output_type": "stream",
     "text": [
      "10\n"
     ]
    }
   ],
   "source": [
    "#Obtener la suma de todos los elementos en la lista\n",
    "\n",
    "lista = [1,2,3,4]\n",
    "acumulador = 0;\n",
    "\n",
    "for elemento in lista:\n",
    "    acumulador += elemento\n",
    "\n",
    "print(acumulador)"
   ]
  },
  {
   "cell_type": "markdown",
   "metadata": {},
   "source": [
    "Como observamos, para resolver el problema tuvimos que declarar una variable (acumulador). Variable que comienza con el valor de 0. Al recorrer la lista, el valor de nuestra variable incrementa. Su nuevo valor es el valor actual más el valor del elemento en la lista. Hasta aquí no creo que exista alguna duda.\n",
    "\n",
    "Ahora veamos el mismo ejemplo utilizando la función `reduce`.\n",
    "\n"
   ]
  },
  {
   "cell_type": "code",
   "execution_count": 10,
   "metadata": {},
   "outputs": [
    {
     "name": "stdout",
     "output_type": "stream",
     "text": [
      "10\n"
     ]
    }
   ],
   "source": [
    "from functools import reduce\n",
    "\n",
    "lista = [1,2,3,4]\n",
    "\n",
    "def funcion_acumulador(acumulador=0, elemento=0):\n",
    "    return acumulador + elemento\n",
    "\n",
    "resultado = reduce(funcion_acumulador, lista)\n",
    "print(resultado)"
   ]
  },
  {
   "cell_type": "markdown",
   "metadata": {},
   "source": [
    "Por cada elemento de la colección se ejecuta la función, `funcion_acumulador`. La función retorna la suma de los parámetros, este valor es almacenado en nuestro acumulador. Al finalizar la iteración de todos los elementos, `reduce` retornará el valor del acumulador."
   ]
  },
  {
   "cell_type": "markdown",
   "metadata": {},
   "source": [
    "<img src=\"https://raw.githubusercontent.com/fralfaro/python_intro/main/docs/images/reduce.png\"  align=\"center\" width=\"500\" height=\"500\" />\n"
   ]
  },
  {
   "cell_type": "markdown",
   "metadata": {},
   "source": [
    "## Ejercicios\n",
    "\n",
    "**Ejercicio 01**\n",
    "\n",
    "Ocupando la notación `lambda`, crear las funciones operacionales básicas, es decir, \n",
    "\n",
    "* **suma**\n",
    "* **resta** \n",
    "* **multiplicaición**\n",
    "* **división**\n",
    "* **resto**\n",
    "* **potencia**"
   ]
  },
  {
   "cell_type": "code",
   "execution_count": null,
   "metadata": {},
   "outputs": [],
   "source": [
    "# respuesta"
   ]
  },
  {
   "cell_type": "markdown",
   "metadata": {},
   "source": [
    "**Ejercicio 02**\n",
    "\n",
    "Ocupando la notación `map`, crear una función que tome una lista de dígitos y analice si el número objetivo es primo o no.\n",
    "\n"
   ]
  },
  {
   "cell_type": "code",
   "execution_count": null,
   "metadata": {},
   "outputs": [],
   "source": [
    "# respuesta"
   ]
  },
  {
   "cell_type": "markdown",
   "metadata": {},
   "source": [
    "**Ejercicio 03**\n",
    "\n",
    "Ocupando la notación `filter`, crear una función que tome una lista de dígitos y analice si el número objetivo es un cuadrado perfecto o no.\n"
   ]
  },
  {
   "cell_type": "code",
   "execution_count": null,
   "metadata": {},
   "outputs": [],
   "source": [
    "# respuesta"
   ]
  },
  {
   "cell_type": "markdown",
   "metadata": {},
   "source": [
    "**Ejercicio 04**\n",
    "\n",
    "Ocupando la notación `reduce`, crear una función que tome una lista de dígitos y devuelva al número al que corresponden.\n",
    "\n",
    "Por ejemplo `[1,2,3]` corresponde a el numero ciento veintitrés ($123$)."
   ]
  },
  {
   "cell_type": "code",
   "execution_count": null,
   "metadata": {},
   "outputs": [],
   "source": [
    "# respuesta"
   ]
  }
 ],
 "metadata": {
  "kernelspec": {
   "display_name": "Python 3",
   "language": "python",
   "name": "python3"
  },
  "language_info": {
   "codemirror_mode": {
    "name": "ipython",
    "version": 3
   },
   "file_extension": ".py",
   "mimetype": "text/x-python",
   "name": "python",
   "nbconvert_exporter": "python",
   "pygments_lexer": "ipython3",
   "version": "3.8.10"
  }
 },
 "nbformat": 4,
 "nbformat_minor": 4
}
