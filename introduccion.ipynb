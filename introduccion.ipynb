{
 "cells": [
  {
   "cell_type": "markdown",
   "id": "bece336b",
   "metadata": {},
   "source": [
    "<a href=\"https://colab.research.google.com/github/fralfaro/python_intro/blob/main/docs/introduccion.ipynb\" target=\"_parent\"><img src=\"https://colab.research.google.com/assets/colab-badge.svg\" alt=\"Open In Colab\"/></a>"
   ]
  },
  {
   "cell_type": "markdown",
   "id": "ba9c606f",
   "metadata": {},
   "source": [
    "# Motivación\n",
    "\n",
    "[Python](https://www.python.org/) es un lenguaje de programación interpretado, cuya filosofía hace hincapié en una sintaxis muy limpia y un código legible. Aquí les presento una lista de razones para aprender Python.\n",
    "\n",
    "* Código abierto\n",
    "* Multiparadigma y Multiplataforma\n",
    "* Versatilidad a la hora de programar\n",
    "* Sintaxis amigable"
   ]
  },
  {
   "cell_type": "markdown",
   "id": "9c9c1c19",
   "metadata": {},
   "source": [
    "## Popularidad \n",
    "\n",
    "Desde 2012, Python ha crecido constantemente en popularidad, y es probable que la tendencia continúe, si no aumenta, en el futuro.\n",
    "\n",
    "Según [Stack Overflow Developer Survey 2018](https://insights.stackoverflow.com/survey/2018/#most-loved-dreaded-and-wanted).\n",
    "\n",
    "<img src=\"./images/survey_2018.png\" alt=\"\" align=\"center\" />"
   ]
  },
  {
   "cell_type": "markdown",
   "id": "cac68bae",
   "metadata": {},
   "source": [
    "La demanda y el soporte para Python también están en aumento, y si se cree en las proyecciones, Python superará a Java en los próximos años y reclamará el primer puesto."
   ]
  },
  {
   "cell_type": "markdown",
   "id": "5a4df2eb",
   "metadata": {},
   "source": [
    "**¿Es buena la popularidad de Python?**"
   ]
  },
  {
   "cell_type": "markdown",
   "id": "e38bef8d",
   "metadata": {},
   "source": [
    "En general, lo que es popular no siempre es lo mejor, en el caso de los lenguajes de programación, la popularidad vale la pena.\n",
    "\n",
    "Gracias a la popularidad de Python, es probable que encuentre una solución preparada para cualquier problema que pueda estar experimentando. La comunidad de entusiastas de Python es fuerte y están trabajando incansablemente para mejorar el lenguaje todos los días.\n",
    "\n",
    "Python también tiene una serie de patrocinadores corporativos, presionando para popularizar aún más el lenguaje. Entre ellos se encuentran gigantes tecnológicos como [Google](https://www.google.com/), que está utilizando Python.\n",
    "\n",
    "## Librerías y frameworks\n",
    "\n",
    "<img src=\"./images/librerias.png\" alt=\"\" align=\"center\" />"
   ]
  },
  {
   "cell_type": "markdown",
   "id": "7082f40b",
   "metadata": {},
   "source": [
    "Una gran ventaja de Python es la amplia selección de **librerías** y **frameworks** que ofrece. \n",
    "\n",
    "Hay librerías para distintos tópicos:\n",
    "\n",
    "* Manipulación de datos \n",
    "* Visualización de datos \n",
    "* Aprendizaje automático\n",
    "* Ciencia de los datos\n",
    "* Procesamiento natural del lenguaje\n",
    "* Big Data\n",
    "\n",
    "Lo mismo es cierto para los `frameworks`, que ayudan a despegar su proyecto y le ahorran tiempo y esfuerzo. Hay una variedad de marcos para elegir, dependiendo de sus necesidades, por ejemplo, para el desarrollo web tenemos:\n",
    "\n",
    "* Django\n",
    "* Flask\n",
    "* FastApi"
   ]
  },
  {
   "cell_type": "markdown",
   "id": "707e41b1",
   "metadata": {},
   "source": [
    "## Performance\n",
    "\n",
    "<img src=\"./images/tuning-performance.jpg\" alt=\"\" align=\"center\" />"
   ]
  },
  {
   "cell_type": "markdown",
   "id": "9b9e4d6f",
   "metadata": {},
   "source": [
    "Una de las mayores críticas de Python es el tiempo de ejecución, relativamente lento en comparación con otros lenguajes. Sin embargo, hay una solución alternativa a este desafío específico.\n",
    "\n",
    "Cuando el rendimiento tiene prioridad, Python le brinda la capacidad de integrar otros lenguajes de mayor rendimiento en su código. **Cython** es un buen ejemplo de tal solución. Optimiza su velocidad sin obligarlo a reescribir todo su código base desde cero.\n",
    "\n",
    "El recurso más caro no es el tiempo de CPU, sino el tiempo de tus desarrolladores. Por lo tanto, reducir el tiempo de comercialización siempre debe tener prioridad sobre la ejecución rápida del tiempo de ejecución."
   ]
  },
  {
   "cell_type": "markdown",
   "id": "da68581a",
   "metadata": {},
   "source": [
    "Además, Python tiene una sintaxis clara y no requiere tantas líneas de código como **Java** o **C** para obtener resultados comparables.\n",
    "\n",
    "**¿Cuáles son los beneficios de la alta legibilidad de Python?**\n",
    "\n",
    "La simplicidad de Python es particularmente útil para leer el código, el suyo o el de otra persona. Debido a que el código Python tiene menos líneas e imita el inglés, revisarlo lleva mucho menos tiempo. Este es un gran beneficio.\n",
    "\n",
    "Reducir el tiempo que necesita dedicar a la revisión de código es invaluable, ya que la productividad de sus desarrolladores debe ser su máxima prioridad."
   ]
  },
  {
   "cell_type": "markdown",
   "id": "cbf9e292",
   "metadata": {},
   "source": [
    "## Referencia\n",
    "\n",
    "1. [Introducción al lenguaje Python](https://entrenamiento-python-basico.readthedocs.io/es/latest/leccion1/)\n",
    "2. [Introducción — Tutorial de Python 3.6.3 documentation](http://docs.python.org.ar/tutorial/3/real-index.html)"
   ]
  }
 ],
 "metadata": {
  "jupytext": {
   "cell_metadata_filter": "-all",
   "main_language": "python",
   "notebook_metadata_filter": "-all",
   "text_representation": {
    "extension": ".md",
    "format_name": "markdown"
   }
  },
  "kernelspec": {
   "display_name": "Python 3",
   "language": "python",
   "name": "python3"
  },
  "language_info": {
   "codemirror_mode": {
    "name": "ipython",
    "version": 3
   },
   "file_extension": ".py",
   "mimetype": "text/x-python",
   "name": "python",
   "nbconvert_exporter": "python",
   "pygments_lexer": "ipython3",
   "version": "3.8.10"
  }
 },
 "nbformat": 4,
 "nbformat_minor": 5
}
