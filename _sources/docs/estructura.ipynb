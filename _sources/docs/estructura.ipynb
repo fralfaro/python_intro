{
 "cells": [
  {
   "cell_type": "markdown",
   "metadata": {},
   "source": [
    "<a href=\"https://colab.research.google.com/github/fralfaro/python_intro/blob/main/docs/estructura.ipynb\" target=\"_parent\"><img src=\"https://colab.research.google.com/assets/colab-badge.svg\" alt=\"Open In Colab\"/></a>"
   ]
  },
  {
   "cell_type": "markdown",
   "metadata": {},
   "source": [
    "# Estructura de datos\n",
    "\n",
    "Son una utilidad de Python dispuesta para almacenar y guardar cualquier tipo de Dato, tanto así\n",
    "que pueden contenerse entre sí. Cada una posee un tipo de paréntesis, o comillas en el caso de\n",
    "los strings, siendo fácil diferenciarlos unos de otro.\n",
    "\n",
    "* **Strings** `‘ ’` : Representan texto , siendo una cadena ordenada de caracteres y un tipo de dato,\n",
    "como los números y booleanos, pero con una complejidad mayor al ser también una estructura.\n",
    "Pueden estar entre comillas ‘simples’ o “dobles”.\n",
    "\n",
    "* **Listas** `[ ]` : Son una cadena ordenada de datos, los cuales, al igual que en los strings y tuplas,\n",
    "tienen la relación dato-posición.\n",
    "\n",
    "* **Tuplas** `( )`: Son una cadena ordenada de datos, pero a diferencia de las listas, y al igual que los\n",
    "strings, es inmutable, es decir, no se puede modificar.\n",
    "\n",
    "* **Diccionarios** `{ : }` : Son un conjunto de pares de datos que se caracteriza por utilizar una\n",
    "relación llave-dato. Debido a esto no necesitan orden, ya que al tener una llave se puede sacar\n",
    "su dato relacionado.\n",
    "\n",
    "\n",
    "Las estructuras de datos de **string** ya fueron estudiados en secciones pasada. En esta sección nos centraremos en las estructuras de **Listas**, **Tuplas** y **Diccionarios**. "
   ]
  },
  {
   "cell_type": "markdown",
   "metadata": {},
   "source": [
    "## Listas\n",
    "\n",
    "Una lista es una colección ordenada de valores. Una lista puede contener cualquier cosa.\n",
    "\n",
    "En Python, el tipo de datos que representa a las listas se llama `list`.\n",
    "\n",
    "### Creando listas en python\n",
    "\n",
    "Existen varias formas de crear listas:"
   ]
  },
  {
   "cell_type": "code",
   "execution_count": 1,
   "metadata": {
    "tags": []
   },
   "outputs": [
    {
     "name": "stdout",
     "output_type": "stream",
     "text": [
      "[]\n"
     ]
    }
   ],
   "source": [
    "# lista vacia (Usando corchetes)\n",
    "lista = []\n",
    "print(lista)"
   ]
  },
  {
   "cell_type": "code",
   "execution_count": 2,
   "metadata": {
    "tags": []
   },
   "outputs": [
    {
     "name": "stdout",
     "output_type": "stream",
     "text": [
      "[]\n"
     ]
    }
   ],
   "source": [
    "# lista vacia (Usando el constructor)\n",
    "lista = list()\n",
    "print(lista)"
   ]
  },
  {
   "cell_type": "code",
   "execution_count": 3,
   "metadata": {
    "tags": []
   },
   "outputs": [
    {
     "name": "stdout",
     "output_type": "stream",
     "text": [
      "[1, 2, 3]\n"
     ]
    }
   ],
   "source": [
    "# lista de enteros\n",
    "lista = [1, 2, 3]\n",
    "print(lista)"
   ]
  },
  {
   "cell_type": "code",
   "execution_count": 4,
   "metadata": {
    "tags": []
   },
   "outputs": [
    {
     "name": "stdout",
     "output_type": "stream",
     "text": [
      "[1, 'hola', 3.4]\n"
     ]
    }
   ],
   "source": [
    "# lista mixta\n",
    "lista = [1, \"hola\", 3.4]\n",
    "print(lista)"
   ]
  },
  {
   "cell_type": "markdown",
   "metadata": {},
   "source": [
    "### Operaciones sobre listas\n",
    "\n",
    "**Operador len**\n",
    "\n",
    "`len(lista)` entrega el largo de la lista; es decir, cuántos elementos tiene:"
   ]
  },
  {
   "cell_type": "code",
   "execution_count": 7,
   "metadata": {},
   "outputs": [
    {
     "name": "stdout",
     "output_type": "stream",
     "text": [
      "4\n"
     ]
    }
   ],
   "source": [
    "colores = ['azul', 'rojo', 'verde', 'amarillo']\n",
    "print(len(colores))"
   ]
  },
  {
   "cell_type": "markdown",
   "metadata": {},
   "source": [
    "**Acceder al índice**\n",
    "\n",
    "`l[i]` entrega el i-ésimo valor de la lista. El valor $i$ se llama índice del valor. Al igual que para los strings, los índices parten de cero:"
   ]
  },
  {
   "cell_type": "code",
   "execution_count": 1,
   "metadata": {},
   "outputs": [
    {
     "name": "stdout",
     "output_type": "stream",
     "text": [
      "primer elemento de la lista: azul\n",
      "tercer elemento de la lista: verde\n"
     ]
    }
   ],
   "source": [
    "colores = ['azul', 'rojo', 'verde', 'amarillo']\n",
    "print(f'primer elemento de la lista: {colores[0]}')\n",
    "print(f'tercer elemento de la lista: {colores[2]}')"
   ]
  },
  {
   "cell_type": "code",
   "execution_count": 12,
   "metadata": {},
   "outputs": [
    {
     "ename": "IndexError",
     "evalue": "list index out of range",
     "output_type": "error",
     "traceback": [
      "\u001b[0;31m---------------------------------------------------------------------------\u001b[0m",
      "\u001b[0;31mIndexError\u001b[0m                                Traceback (most recent call last)",
      "\u001b[0;32m<ipython-input-12-f7eb673eabf2>\u001b[0m in \u001b[0;36m<module>\u001b[0;34m\u001b[0m\n\u001b[1;32m      1\u001b[0m \u001b[0;31m# elemento fuera de la lista\u001b[0m\u001b[0;34m\u001b[0m\u001b[0;34m\u001b[0m\u001b[0;34m\u001b[0m\u001b[0m\n\u001b[0;32m----> 2\u001b[0;31m \u001b[0mprint\u001b[0m\u001b[0;34m(\u001b[0m \u001b[0mcolores\u001b[0m\u001b[0;34m[\u001b[0m\u001b[0;36m4\u001b[0m\u001b[0;34m]\u001b[0m\u001b[0;34m)\u001b[0m\u001b[0;34m\u001b[0m\u001b[0;34m\u001b[0m\u001b[0m\n\u001b[0m",
      "\u001b[0;31mIndexError\u001b[0m: list index out of range"
     ]
    }
   ],
   "source": [
    "# elemento fuera de la lista\n",
    "print( colores[4])"
   ]
  },
  {
   "cell_type": "markdown",
   "metadata": {},
   "source": [
    "**Índice negativo**\n",
    "\n",
    "Si el índice es negativo, los elementos se cuentan desde el final hacia atrás:"
   ]
  },
  {
   "cell_type": "code",
   "execution_count": 14,
   "metadata": {},
   "outputs": [
    {
     "name": "stdout",
     "output_type": "stream",
     "text": [
      "amarillo\n"
     ]
    }
   ],
   "source": [
    "colores = ['azul', 'rojo', 'verde', 'amarillo']\n",
    "print(colores[-1])"
   ]
  },
  {
   "cell_type": "markdown",
   "metadata": {},
   "source": [
    "**Agregar un elemento**\n",
    "\n",
    "`l.append(x)` agrega el elemento x al final de la lista:\n",
    "\n"
   ]
  },
  {
   "cell_type": "code",
   "execution_count": 15,
   "metadata": {},
   "outputs": [
    {
     "name": "stdout",
     "output_type": "stream",
     "text": [
      "[2, 3, 5, 7, 11, 13]\n"
     ]
    }
   ],
   "source": [
    "primos = [2, 3, 5, 7, 11]\n",
    "primos.append(13)\n",
    "print(primos)"
   ]
  },
  {
   "cell_type": "markdown",
   "metadata": {},
   "source": [
    "**Concatenar dos listas**\n",
    "\n",
    "`l1` + `l2` concatena las listas `l1` y `l2`:\n",
    "\n"
   ]
  },
  {
   "cell_type": "code",
   "execution_count": 16,
   "metadata": {},
   "outputs": [
    {
     "name": "stdout",
     "output_type": "stream",
     "text": [
      "[1, 2, 3, 4, 5, 6]\n"
     ]
    }
   ],
   "source": [
    "l1 = [1,2,3]\n",
    "l2 = [4,5,6]\n",
    "\n",
    "print(l1+l2)"
   ]
  },
  {
   "cell_type": "markdown",
   "metadata": {},
   "source": [
    "**Repetir lista**\n",
    "\n",
    "`l * n` repite $n$ veces la lista `l`:\n",
    "\n"
   ]
  },
  {
   "cell_type": "code",
   "execution_count": 17,
   "metadata": {},
   "outputs": [
    {
     "name": "stdout",
     "output_type": "stream",
     "text": [
      "[1, 2, 3, 1, 2, 3]\n"
     ]
    }
   ],
   "source": [
    "lista = [1,2,3]\n",
    "print(2*lista)"
   ]
  },
  {
   "cell_type": "markdown",
   "metadata": {},
   "source": [
    "**Elemento en una lista**\n",
    "\n",
    "Para saber si un elemento x está en la lista `l`, se usa `x in l`. La versión negativa de `in` es `not in`:\n",
    "\n"
   ]
  },
  {
   "cell_type": "code",
   "execution_count": 2,
   "metadata": {},
   "outputs": [
    {
     "name": "stdout",
     "output_type": "stream",
     "text": [
      "False\n"
     ]
    }
   ],
   "source": [
    "lista = [1,2,3,4,5,6,7,8,9]\n",
    "\n",
    "print(12 in lista)"
   ]
  },
  {
   "cell_type": "code",
   "execution_count": 3,
   "metadata": {},
   "outputs": [
    {
     "name": "stdout",
     "output_type": "stream",
     "text": [
      "True\n"
     ]
    }
   ],
   "source": [
    "print(12 not in lista)"
   ]
  },
  {
   "cell_type": "markdown",
   "metadata": {},
   "source": [
    "**Operador rebanado**\n",
    "\n",
    "`l[i:j]` es el operador de rebanado, que entrega una nueva lista que tiene desde el i-ésimo hasta justo antes del j-ésimo elemento de la lista l:"
   ]
  },
  {
   "cell_type": "code",
   "execution_count": 22,
   "metadata": {},
   "outputs": [
    {
     "name": "stdout",
     "output_type": "stream",
     "text": [
      "[8.4, 3.1]\n"
     ]
    }
   ],
   "source": [
    "l = [1.5, 3.3, 8.4, 3.1, 2.9]\n",
    "print(l[2:4])"
   ]
  },
  {
   "cell_type": "markdown",
   "metadata": {},
   "source": [
    "**Operador índice**\n",
    "\n",
    "`l.index(x)` entrega cuál es el índice del valor x:\n",
    "\n"
   ]
  },
  {
   "cell_type": "code",
   "execution_count": 26,
   "metadata": {},
   "outputs": [
    {
     "name": "stdout",
     "output_type": "stream",
     "text": [
      "2\n"
     ]
    }
   ],
   "source": [
    "colores = ['azul', 'rojo', 'verde', 'amarillo']\n",
    "print(colores.index('verde'))"
   ]
  },
  {
   "cell_type": "markdown",
   "metadata": {},
   "source": [
    "**Operador remover**\n",
    "\n",
    "`l.remove(x)` elimina el elemento x de la lista:\n",
    "\n"
   ]
  },
  {
   "cell_type": "code",
   "execution_count": 27,
   "metadata": {},
   "outputs": [
    {
     "name": "stdout",
     "output_type": "stream",
     "text": [
      "[7, 0, 3, 9, 8, 4]\n"
     ]
    }
   ],
   "source": [
    "l = [7, 0, 3, 9, 8, 2, 4]\n",
    "l.remove(2)\n",
    "print(l)"
   ]
  },
  {
   "cell_type": "markdown",
   "metadata": {},
   "source": [
    "**Operador borrar**\n",
    "\n",
    "`del l[i]` elimina el i-ésimo elemento de la lista:\n",
    "\n"
   ]
  },
  {
   "cell_type": "code",
   "execution_count": 28,
   "metadata": {},
   "outputs": [
    {
     "name": "stdout",
     "output_type": "stream",
     "text": [
      "[7, 0, 9, 8, 2, 4]\n"
     ]
    }
   ],
   "source": [
    "l = [7, 0, 3, 9, 8, 2, 4]\n",
    "del l[2]\n",
    "print(l)"
   ]
  },
  {
   "cell_type": "markdown",
   "metadata": {},
   "source": [
    "**Operador reversa**\n",
    "\n",
    "`l.reverse()` invierte la lista:\n",
    "\n"
   ]
  },
  {
   "cell_type": "code",
   "execution_count": 29,
   "metadata": {},
   "outputs": [
    {
     "name": "stdout",
     "output_type": "stream",
     "text": [
      "[4, 2, 8, 9, 3, 0, 7]\n"
     ]
    }
   ],
   "source": [
    "l = [7, 0, 3, 9, 8, 2, 4]\n",
    "l.reverse()\n",
    "print(l)"
   ]
  },
  {
   "cell_type": "markdown",
   "metadata": {},
   "source": [
    "**Operador ordenar**\n",
    "\n",
    "`l.sort()` ordena la lista:\n",
    "\n"
   ]
  },
  {
   "cell_type": "code",
   "execution_count": 30,
   "metadata": {},
   "outputs": [
    {
     "name": "stdout",
     "output_type": "stream",
     "text": [
      "[0, 2, 3, 4, 7, 8, 9]\n"
     ]
    }
   ],
   "source": [
    "l = [7, 0, 3, 9, 8, 2, 4]\n",
    "l.sort()\n",
    "print(l)"
   ]
  },
  {
   "cell_type": "markdown",
   "metadata": {},
   "source": [
    "### Iterar sobre una lista\n",
    "\n",
    "\n",
    "En Python, una lista es un tipo de objeto iterable, lo que significa que puedes recorrer sus elementos utilizando un ciclo `for`. \n",
    "\n",
    "A continuación, te mostraremos un ejemplo de cómo hacerlo paso a paso:"
   ]
  },
  {
   "cell_type": "code",
   "execution_count": 5,
   "metadata": {
    "tags": []
   },
   "outputs": [
    {
     "name": "stdout",
     "output_type": "stream",
     "text": [
      "El cuadrado de 1 es 1\n",
      "El cuadrado de 2 es 4\n",
      "El cuadrado de 3 es 9\n",
      "El cuadrado de 4 es 16\n",
      "El cuadrado de 5 es 25\n"
     ]
    }
   ],
   "source": [
    "# Definimos una lista llamada 'valores' con algunos números\n",
    "valores = [1, 2, 3, 4, 5]\n",
    "\n",
    "# Usamos un ciclo 'for' para recorrer cada elemento de la lista\n",
    "for i in valores:\n",
    "    # En cada iteración, 'i' toma el valor de un elemento de la lista\n",
    "    # y calculamos su cuadrado utilizando el operador '**'\n",
    "    cuadrado = i ** 2\n",
    "\n",
    "    # Luego, imprimimos el valor y su cuadrado en la consola\n",
    "    print(f\"El cuadrado de {i} es {cuadrado}\")"
   ]
  },
  {
   "cell_type": "markdown",
   "metadata": {},
   "source": [
    "1. Creamos una lista llamada `valores` que contiene los números `[1, 2, 3, 4, 5]`. Esta será la lista que recorreremos.\n",
    "\n",
    "2. Utilizamos un ciclo `for` para iterar a través de cada elemento de la lista. En cada iteración, la variable `i` toma el valor del siguiente elemento de la lista.\n",
    "\n",
    "3. Dentro del ciclo `for`, calculamos el cuadrado de `i` usando el operador `**` y almacenamos el resultado en la variable `cuadrado`.\n",
    "\n",
    "4. Finalmente, imprimimos en la consola un mensaje que muestra el número original (`i`) y su cuadrado (`cuadrado`) utilizando una f-string."
   ]
  },
  {
   "cell_type": "markdown",
   "metadata": {},
   "source": [
    "## Tuplas\n",
    "\n",
    "Una tupla es una secuencia de valores agrupados. Una tupla sirve para agrupar, como si fueran un único valor, varios valores que, por su naturaleza, deben ir juntos.\n",
    "\n",
    "El tipo de datos que representa a las tuplas se llama `tuple`. El tipo tuple es **inmutable: una tupla no puede ser modificada una vez que ha sido creada**."
   ]
  },
  {
   "cell_type": "code",
   "execution_count": 10,
   "metadata": {
    "tags": []
   },
   "outputs": [
    {
     "name": "stdout",
     "output_type": "stream",
     "text": [
      "()\n"
     ]
    }
   ],
   "source": [
    "# tupla vacia (Usando corchetes)\n",
    "tupla = ()\n",
    "print(tupla)"
   ]
  },
  {
   "cell_type": "code",
   "execution_count": 11,
   "metadata": {
    "tags": []
   },
   "outputs": [
    {
     "name": "stdout",
     "output_type": "stream",
     "text": [
      "()\n"
     ]
    }
   ],
   "source": [
    "# tupla vacia (Usando el constructor)\n",
    "tupla = tuple()\n",
    "print(tupla)"
   ]
  },
  {
   "cell_type": "code",
   "execution_count": 12,
   "metadata": {
    "tags": []
   },
   "outputs": [
    {
     "name": "stdout",
     "output_type": "stream",
     "text": [
      "('uno', 'dos', 'tres', 'cuatro')\n"
     ]
    }
   ],
   "source": [
    "# tupla con elementos\n",
    "numeros = (\"uno\", \"dos\", \"tres\", \"cuatro\")\n",
    "print(numeros)"
   ]
  },
  {
   "cell_type": "markdown",
   "metadata": {},
   "source": [
    "### Desempaquetado de tuplas\n",
    "\n",
    "Los valores individuales de una tupla pueden ser recuperados asignando la tupla a las variables respectivas. Esto se llama desempaquetar la tupla (en inglés: unpack):"
   ]
  },
  {
   "cell_type": "code",
   "execution_count": 3,
   "metadata": {},
   "outputs": [
    {
     "name": "stdout",
     "output_type": "stream",
     "text": [
      "Javier Perez\n"
     ]
    }
   ],
   "source": [
    "persona = ('Javier', 'Perez')\n",
    "nombre, apellido = persona\n",
    "print(nombre, apellido)"
   ]
  },
  {
   "cell_type": "markdown",
   "metadata": {},
   "source": [
    "Si se intenta desempaquetar una cantidad incorrecta de valores, ocurre un error de valor:\n",
    "\n"
   ]
  },
  {
   "cell_type": "code",
   "execution_count": 4,
   "metadata": {},
   "outputs": [
    {
     "ename": "ValueError",
     "evalue": "not enough values to unpack (expected 3, got 2)",
     "output_type": "error",
     "traceback": [
      "\u001b[0;31m---------------------------------------------------------------------------\u001b[0m",
      "\u001b[0;31mValueError\u001b[0m                                Traceback (most recent call last)",
      "\u001b[0;32m<ipython-input-4-998bf8320296>\u001b[0m in \u001b[0;36m<module>\u001b[0;34m\u001b[0m\n\u001b[0;32m----> 1\u001b[0;31m \u001b[0ma\u001b[0m\u001b[0;34m,\u001b[0m \u001b[0mb\u001b[0m\u001b[0;34m,\u001b[0m \u001b[0mc\u001b[0m \u001b[0;34m=\u001b[0m \u001b[0mpersona\u001b[0m\u001b[0;34m\u001b[0m\u001b[0;34m\u001b[0m\u001b[0m\n\u001b[0m",
      "\u001b[0;31mValueError\u001b[0m: not enough values to unpack (expected 3, got 2)"
     ]
    }
   ],
   "source": [
    "a, b, c = persona"
   ]
  },
  {
   "cell_type": "markdown",
   "metadata": {},
   "source": [
    "### Comparación de tuplas\n",
    "Dos tuplas son iguales cuando tienen el mismo tamaño y cada uno de sus elementos correspondientes tienen el mismo valor:"
   ]
  },
  {
   "cell_type": "code",
   "execution_count": 5,
   "metadata": {},
   "outputs": [
    {
     "data": {
      "text/plain": [
       "True"
      ]
     },
     "execution_count": 5,
     "metadata": {},
     "output_type": "execute_result"
    }
   ],
   "source": [
    "(1, 2) == (2 / 2, 1 + 1)"
   ]
  },
  {
   "cell_type": "code",
   "execution_count": 6,
   "metadata": {},
   "outputs": [
    {
     "data": {
      "text/plain": [
       "False"
      ]
     },
     "execution_count": 6,
     "metadata": {},
     "output_type": "execute_result"
    }
   ],
   "source": [
    "(6, 1) == (6, 2)"
   ]
  },
  {
   "cell_type": "markdown",
   "metadata": {},
   "source": [
    "Para determinar si una tupla es menor que otra, se utiliza lo que se denomina **orden lexicográfico**. Si los elementos en la primera posición de ambas tuplas son distintos, ellos determinan el ordenamiento de las tuplas:"
   ]
  },
  {
   "cell_type": "code",
   "execution_count": 7,
   "metadata": {},
   "outputs": [
    {
     "data": {
      "text/plain": [
       "True"
      ]
     },
     "execution_count": 7,
     "metadata": {},
     "output_type": "execute_result"
    }
   ],
   "source": [
    "(1, 4, 7) < (2, 0, 0, 1)"
   ]
  },
  {
   "cell_type": "code",
   "execution_count": 8,
   "metadata": {},
   "outputs": [
    {
     "data": {
      "text/plain": [
       "False"
      ]
     },
     "execution_count": 8,
     "metadata": {},
     "output_type": "execute_result"
    }
   ],
   "source": [
    "(1, 9, 10) < (0, 5)"
   ]
  },
  {
   "cell_type": "markdown",
   "metadata": {},
   "source": [
    "### Acceder a  valores de una tupla\n",
    "\n",
    "Al igual que las listas, se pueden acceder a distintos elemntos de las tuplas de la siguiente forma:"
   ]
  },
  {
   "cell_type": "code",
   "execution_count": null,
   "metadata": {},
   "outputs": [],
   "source": [
    "numeros = (\"uno\", \"dos\", \"tres\", \"cuatro\")\n",
    "\n",
    "print(numeros[1]) #Output: dos\n",
    "print(numeros[3]) #Output: cuatro\n",
    "print(numeros[-1]) # Output: cuatro"
   ]
  },
  {
   "cell_type": "markdown",
   "metadata": {},
   "source": [
    "### Iteración sobre tuplas\n",
    "Las tuplas en Python también son objetos iterables, lo que significa que puedes recorrer sus elementos usando un ciclo `for`.\n",
    "\n",
    "A continuación, te mostraremos un ejemplo de cómo hacerlo paso a paso:\n"
   ]
  },
  {
   "cell_type": "code",
   "execution_count": 6,
   "metadata": {
    "tags": []
   },
   "outputs": [
    {
     "name": "stdout",
     "output_type": "stream",
     "text": [
      "El cuadrado de 1 es 1\n",
      "El cuadrado de 2 es 4\n",
      "El cuadrado de 3 es 9\n",
      "El cuadrado de 4 es 16\n",
      "El cuadrado de 5 es 25\n"
     ]
    }
   ],
   "source": [
    "# Definimos una tupla con algunos números\n",
    "tupla_valores = (1, 2, 3, 4, 5)\n",
    "\n",
    "# Usamos un ciclo 'for' para recorrer cada elemento de la tupla\n",
    "for valor in tupla_valores:\n",
    "    # En cada iteración, 'valor' toma el valor de un elemento de la tupla\n",
    "    # y calculamos su cuadrado utilizando el operador '**'\n",
    "    cuadrado = valor ** 2\n",
    "\n",
    "    # Luego, imprimimos el valor y su cuadrado en la consola\n",
    "    print(f\"El cuadrado de {valor} es {cuadrado}\")"
   ]
  },
  {
   "cell_type": "markdown",
   "metadata": {},
   "source": [
    "**Convertir Entre Listas y Tuplas**\n",
    "\n",
    "En Python, puedes convertir una tupla en una lista utilizando la función `list()` y una lista en una tupla utilizando la función `tuple()`. Esto es útil cuando necesitas cambiar el tipo de contenedor de datos. A continuación, te proporciono ejemplos para ilustrar ambos casos:\n",
    "\n",
    "**Convertir una Tupla en una Lista:**"
   ]
  },
  {
   "cell_type": "code",
   "execution_count": 8,
   "metadata": {
    "tags": []
   },
   "outputs": [
    {
     "name": "stdout",
     "output_type": "stream",
     "text": [
      "Tupla original: (1, 2, 3, 4, 5)\n",
      "Lista resultante: [1, 2, 3, 4, 5]\n"
     ]
    }
   ],
   "source": [
    "# Definimos una tupla\n",
    "mi_tupla = (1, 2, 3, 4, 5)\n",
    "\n",
    "# Usamos la función 'list()' para convertir la tupla en una lista\n",
    "mi_lista = list(mi_tupla)\n",
    "\n",
    "# Imprimimos la lista resultante\n",
    "print(\"Tupla original:\", mi_tupla)\n",
    "print(\"Lista resultante:\", mi_lista)"
   ]
  },
  {
   "cell_type": "markdown",
   "metadata": {},
   "source": [
    "**Convertir una Lista en una Tupla:**"
   ]
  },
  {
   "cell_type": "code",
   "execution_count": 9,
   "metadata": {
    "tags": []
   },
   "outputs": [
    {
     "name": "stdout",
     "output_type": "stream",
     "text": [
      "Lista original: [1, 2, 3, 4, 5]\n",
      "Tupla resultante: (1, 2, 3, 4, 5)\n"
     ]
    }
   ],
   "source": [
    "# Definimos una lista\n",
    "mi_lista = [1, 2, 3, 4, 5]\n",
    "\n",
    "# Usamos la función 'tuple()' para convertir la lista en una tupla\n",
    "mi_tupla = tuple(mi_lista)\n",
    "\n",
    "# Imprimimos la tupla resultante\n",
    "print(\"Lista original:\", mi_lista)\n",
    "print(\"Tupla resultante:\", mi_tupla)"
   ]
  },
  {
   "cell_type": "markdown",
   "metadata": {},
   "source": [
    "## Conjuntos\n",
    "\n",
    "Un conjunto es una colección desordenada de valores no repetidos.\n",
    "\n",
    "Los conjuntos de Python son análogos a los conjuntos matemáticos. El tipo de datos que representa a los conjuntos se llama `set`."
   ]
  },
  {
   "cell_type": "markdown",
   "metadata": {},
   "source": [
    "### Cómo crear conjuntos\n",
    "\n",
    "Las dos maneras principales de crear un conjunto son:"
   ]
  },
  {
   "cell_type": "code",
   "execution_count": 13,
   "metadata": {
    "tags": []
   },
   "outputs": [
    {
     "name": "stdout",
     "output_type": "stream",
     "text": [
      "{}\n"
     ]
    }
   ],
   "source": [
    "# conjunto vacio (Usando corchetes)\n",
    "conjunto = {}\n",
    "print(conjunto)"
   ]
  },
  {
   "cell_type": "code",
   "execution_count": 14,
   "metadata": {
    "tags": []
   },
   "outputs": [
    {
     "name": "stdout",
     "output_type": "stream",
     "text": [
      "set()\n"
     ]
    }
   ],
   "source": [
    "# conjunto vacio (Usando el constructor)\n",
    "conjunto = set()\n",
    "print(conjunto)"
   ]
  },
  {
   "cell_type": "code",
   "execution_count": 33,
   "metadata": {},
   "outputs": [
    {
     "name": "stdout",
     "output_type": "stream",
     "text": [
      "{1, 2, 3}\n"
     ]
    }
   ],
   "source": [
    "# usar un conjunto literal, entre llave \n",
    "conjunto = {1, 2, 3}\n",
    "print(conjunto)"
   ]
  },
  {
   "cell_type": "code",
   "execution_count": 32,
   "metadata": {},
   "outputs": [
    {
     "name": "stdout",
     "output_type": "stream",
     "text": [
      "{1, 2, 3}\n"
     ]
    }
   ],
   "source": [
    "# set aplicada sobre un iterable\n",
    "conjunto = set([1, 2, 3])\n",
    "print(conjunto)"
   ]
  },
  {
   "cell_type": "markdown",
   "metadata": {},
   "source": [
    "Los elementos de un conjunto deben ser inmutables. Por ejemplo, no es posible crear un conjunto de listas, pero sí un conjunto de tuplas:"
   ]
  },
  {
   "cell_type": "code",
   "execution_count": 34,
   "metadata": {},
   "outputs": [
    {
     "ename": "TypeError",
     "evalue": "unhashable type: 'list'",
     "output_type": "error",
     "traceback": [
      "\u001b[0;31m---------------------------------------------------------------------------\u001b[0m",
      "\u001b[0;31mTypeError\u001b[0m                                 Traceback (most recent call last)",
      "\u001b[0;32m<ipython-input-34-c1f516a9affc>\u001b[0m in \u001b[0;36m<module>\u001b[0;34m\u001b[0m\n\u001b[0;32m----> 1\u001b[0;31m \u001b[0ms\u001b[0m \u001b[0;34m=\u001b[0m \u001b[0;34m{\u001b[0m\u001b[0;34m[\u001b[0m\u001b[0;36m2\u001b[0m\u001b[0;34m,\u001b[0m \u001b[0;36m4\u001b[0m\u001b[0;34m]\u001b[0m\u001b[0;34m,\u001b[0m \u001b[0;34m[\u001b[0m\u001b[0;36m6\u001b[0m\u001b[0;34m,\u001b[0m \u001b[0;36m1\u001b[0m\u001b[0;34m]\u001b[0m\u001b[0;34m}\u001b[0m\u001b[0;34m\u001b[0m\u001b[0;34m\u001b[0m\u001b[0m\n\u001b[0m",
      "\u001b[0;31mTypeError\u001b[0m: unhashable type: 'list'"
     ]
    }
   ],
   "source": [
    "conjunto = {[2, 4], [6, 1]}"
   ]
  },
  {
   "cell_type": "markdown",
   "metadata": {},
   "source": [
    "Como un conjunto no es ordenado, no tiene sentido intentar obtener un elemento usando un índice:\n",
    "\n"
   ]
  },
  {
   "cell_type": "code",
   "execution_count": 35,
   "metadata": {},
   "outputs": [
    {
     "ename": "TypeError",
     "evalue": "'set' object is not subscriptable",
     "output_type": "error",
     "traceback": [
      "\u001b[0;31m---------------------------------------------------------------------------\u001b[0m",
      "\u001b[0;31mTypeError\u001b[0m                                 Traceback (most recent call last)",
      "\u001b[0;32m<ipython-input-35-501605a4a770>\u001b[0m in \u001b[0;36m<module>\u001b[0;34m\u001b[0m\n\u001b[1;32m      1\u001b[0m \u001b[0mconjunto\u001b[0m \u001b[0;34m=\u001b[0m \u001b[0;34m{\u001b[0m\u001b[0;34m'a'\u001b[0m\u001b[0;34m,\u001b[0m \u001b[0;34m'b'\u001b[0m\u001b[0;34m,\u001b[0m \u001b[0;34m'c'\u001b[0m\u001b[0;34m}\u001b[0m\u001b[0;34m\u001b[0m\u001b[0;34m\u001b[0m\u001b[0m\n\u001b[0;32m----> 2\u001b[0;31m \u001b[0mconjunto\u001b[0m\u001b[0;34m[\u001b[0m\u001b[0;36m0\u001b[0m\u001b[0;34m]\u001b[0m\u001b[0;34m\u001b[0m\u001b[0;34m\u001b[0m\u001b[0m\n\u001b[0m",
      "\u001b[0;31mTypeError\u001b[0m: 'set' object is not subscriptable"
     ]
    }
   ],
   "source": [
    "conjunto = {'a', 'b', 'c'}\n",
    "conjunto[0]"
   ]
  },
  {
   "cell_type": "markdown",
   "metadata": {},
   "source": [
    "Sin embargo, sí es posible iterar sobre un conjunto usando un ciclo for:\n",
    "\n"
   ]
  },
  {
   "cell_type": "code",
   "execution_count": 36,
   "metadata": {},
   "outputs": [
    {
     "name": "stdout",
     "output_type": "stream",
     "text": [
      "a\n",
      "c\n",
      "b\n"
     ]
    }
   ],
   "source": [
    "conjunto = {'a', 'b', 'c'}\n",
    "for i in conjunto:\n",
    "    print(i)"
   ]
  },
  {
   "cell_type": "markdown",
   "metadata": {},
   "source": [
    "### Operaciones sobre conjuntos\n"
   ]
  },
  {
   "cell_type": "markdown",
   "metadata": {},
   "source": [
    "**Largo del conjunto**\n",
    "`len(s)` entrega el número de elementos del conjunto s:"
   ]
  },
  {
   "cell_type": "code",
   "execution_count": 37,
   "metadata": {},
   "outputs": [
    {
     "data": {
      "text/plain": [
       "3"
      ]
     },
     "execution_count": 37,
     "metadata": {},
     "output_type": "execute_result"
    }
   ],
   "source": [
    "len({'azul', 'verde', 'rojo'})"
   ]
  },
  {
   "cell_type": "markdown",
   "metadata": {},
   "source": [
    "**Elementos en el conjunto**\n",
    "\n",
    "`x in s` permite saber si el elemento x está en el conjunto s:\n",
    "\n"
   ]
  },
  {
   "cell_type": "code",
   "execution_count": 38,
   "metadata": {},
   "outputs": [
    {
     "data": {
      "text/plain": [
       "True"
      ]
     },
     "execution_count": 38,
     "metadata": {},
     "output_type": "execute_result"
    }
   ],
   "source": [
    "3 in {2, 3, 4}"
   ]
  },
  {
   "cell_type": "markdown",
   "metadata": {},
   "source": [
    "`x not in s` permite saber si x no está en s:\n",
    "\n"
   ]
  },
  {
   "cell_type": "code",
   "execution_count": 39,
   "metadata": {},
   "outputs": [
    {
     "data": {
      "text/plain": [
       "False"
      ]
     },
     "execution_count": 39,
     "metadata": {},
     "output_type": "execute_result"
    }
   ],
   "source": [
    "3 not in {2, 3, 4}"
   ]
  },
  {
   "cell_type": "markdown",
   "metadata": {},
   "source": [
    "**Agregar elementos al conjunto**\n",
    "\n",
    "`s.add(x)` agrega el elemento x al conjunto s:\n",
    "\n"
   ]
  },
  {
   "cell_type": "code",
   "execution_count": 40,
   "metadata": {},
   "outputs": [
    {
     "data": {
      "text/plain": [
       "{-37, 1, 3, 4, 5, 6}"
      ]
     },
     "execution_count": 40,
     "metadata": {},
     "output_type": "execute_result"
    }
   ],
   "source": [
    "s = {6, 1, 5, 4, 3}\n",
    "s.add(-37)\n",
    "s"
   ]
  },
  {
   "cell_type": "markdown",
   "metadata": {},
   "source": [
    "**Remover elementos al conjunto**\n",
    "\n",
    "`s.remove(x)` elimina el elemento x del conjunto s:\n",
    "\n"
   ]
  },
  {
   "cell_type": "code",
   "execution_count": 41,
   "metadata": {},
   "outputs": [
    {
     "data": {
      "text/plain": [
       "{3, 4, 5, 6}"
      ]
     },
     "execution_count": 41,
     "metadata": {},
     "output_type": "execute_result"
    }
   ],
   "source": [
    "s = {6, 1, 5, 4, 3}\n",
    "s.remove(1)\n",
    "s"
   ]
  },
  {
   "cell_type": "markdown",
   "metadata": {},
   "source": [
    "Si el elemento x no está en el conjunto, ocurre un error de llave:\n",
    "\n"
   ]
  },
  {
   "cell_type": "code",
   "execution_count": 42,
   "metadata": {},
   "outputs": [
    {
     "ename": "KeyError",
     "evalue": "10",
     "output_type": "error",
     "traceback": [
      "\u001b[0;31m---------------------------------------------------------------------------\u001b[0m",
      "\u001b[0;31mKeyError\u001b[0m                                  Traceback (most recent call last)",
      "\u001b[0;32m<ipython-input-42-23b5f1bb77c8>\u001b[0m in \u001b[0;36m<module>\u001b[0;34m\u001b[0m\n\u001b[0;32m----> 1\u001b[0;31m \u001b[0ms\u001b[0m\u001b[0;34m.\u001b[0m\u001b[0mremove\u001b[0m\u001b[0;34m(\u001b[0m\u001b[0;36m10\u001b[0m\u001b[0;34m)\u001b[0m\u001b[0;34m\u001b[0m\u001b[0;34m\u001b[0m\u001b[0m\n\u001b[0m",
      "\u001b[0;31mKeyError\u001b[0m: 10"
     ]
    }
   ],
   "source": [
    "s.remove(10)"
   ]
  },
  {
   "cell_type": "markdown",
   "metadata": {},
   "source": [
    "**Operaciones sobre conjuntos**\n",
    "\n",
    "<img src=\"https://raw.githubusercontent.com/fralfaro/python_intro/main/docs/images/set.png\"  align=\"center\" width=\"300\"  />\n",
    "\n",
    "\n",
    "`&` y `|` son los operadores de intersección y unión repectivamente:\n",
    "\n"
   ]
  },
  {
   "cell_type": "code",
   "execution_count": 44,
   "metadata": {},
   "outputs": [],
   "source": [
    "# crear dos conjuntos\n",
    "a = {1, 2, 3, 4}\n",
    "b = {2, 4, 6, 8}"
   ]
  },
  {
   "cell_type": "code",
   "execution_count": 45,
   "metadata": {},
   "outputs": [
    {
     "data": {
      "text/plain": [
       "{2, 4}"
      ]
     },
     "execution_count": 45,
     "metadata": {},
     "output_type": "execute_result"
    }
   ],
   "source": [
    "# interseccion\n",
    "a & b"
   ]
  },
  {
   "cell_type": "code",
   "execution_count": 46,
   "metadata": {},
   "outputs": [
    {
     "data": {
      "text/plain": [
       "{1, 2, 3, 4, 6, 8}"
      ]
     },
     "execution_count": 46,
     "metadata": {},
     "output_type": "execute_result"
    }
   ],
   "source": [
    "# union\n",
    "a | b"
   ]
  },
  {
   "cell_type": "markdown",
   "metadata": {},
   "source": [
    "`s - t` entrega la diferencia entre s y t; es decir, los elementos de s que no están en t:\n",
    "\n"
   ]
  },
  {
   "cell_type": "code",
   "execution_count": 47,
   "metadata": {},
   "outputs": [
    {
     "data": {
      "text/plain": [
       "{1, 3}"
      ]
     },
     "execution_count": 47,
     "metadata": {},
     "output_type": "execute_result"
    }
   ],
   "source": [
    "# diferencia\n",
    "a - b"
   ]
  },
  {
   "cell_type": "markdown",
   "metadata": {},
   "source": [
    "`s ^ t` entrega la diferencia simétrica entre s y t; es decir, los elementos que están en s o en t, pero no en ambos:"
   ]
  },
  {
   "cell_type": "code",
   "execution_count": 49,
   "metadata": {},
   "outputs": [
    {
     "data": {
      "text/plain": [
       "{1, 3, 6, 8}"
      ]
     },
     "execution_count": 49,
     "metadata": {},
     "output_type": "execute_result"
    }
   ],
   "source": [
    "# diferencia simetrica\n",
    "a ^ b"
   ]
  },
  {
   "cell_type": "markdown",
   "metadata": {},
   "source": [
    "El operador `<` aplicado sobre conjuntos significa «es subconjunto de»:\n",
    "\n"
   ]
  },
  {
   "cell_type": "code",
   "execution_count": 50,
   "metadata": {},
   "outputs": [
    {
     "data": {
      "text/plain": [
       "True"
      ]
     },
     "execution_count": 50,
     "metadata": {},
     "output_type": "execute_result"
    }
   ],
   "source": [
    "{1, 2} < {1, 2, 3}"
   ]
  },
  {
   "cell_type": "code",
   "execution_count": 51,
   "metadata": {},
   "outputs": [
    {
     "data": {
      "text/plain": [
       "False"
      ]
     },
     "execution_count": 51,
     "metadata": {},
     "output_type": "execute_result"
    }
   ],
   "source": [
    "{1, 4} < {1, 2, 3}"
   ]
  },
  {
   "cell_type": "markdown",
   "metadata": {},
   "source": [
    "`s <= t` también indica si s es subconjunto de t. La distinción ocurre cuando los conjuntos son iguales:\n",
    "\n"
   ]
  },
  {
   "cell_type": "code",
   "execution_count": 52,
   "metadata": {},
   "outputs": [
    {
     "data": {
      "text/plain": [
       "False"
      ]
     },
     "execution_count": 52,
     "metadata": {},
     "output_type": "execute_result"
    }
   ],
   "source": [
    "{1, 2, 3} < {1, 2, 3}"
   ]
  },
  {
   "cell_type": "code",
   "execution_count": 53,
   "metadata": {},
   "outputs": [
    {
     "data": {
      "text/plain": [
       "True"
      ]
     },
     "execution_count": 53,
     "metadata": {},
     "output_type": "execute_result"
    }
   ],
   "source": [
    "{1, 2, 3} <= {1, 2, 3}"
   ]
  },
  {
   "cell_type": "markdown",
   "metadata": {},
   "source": [
    "## Diccionarios\n",
    "\n",
    "Un diccionario es un tipo de datos que sirve para asociar pares de objetos.\n",
    "\n",
    "Un diccionario puede ser visto como una colección de llaves, cada una de las cuales tiene asociada un valor. Las llaves no están ordenadas y no hay llaves repetidas. La única manera de acceder a un valor es a través de su llave."
   ]
  },
  {
   "cell_type": "markdown",
   "metadata": {},
   "source": [
    "### Cómo crear diccionarios\n",
    "Los diccionarios literales se crean usando llaves ({ y }). La llave y el valor van separados por dos puntos:\n",
    "\n"
   ]
  },
  {
   "cell_type": "code",
   "execution_count": 15,
   "metadata": {
    "tags": []
   },
   "outputs": [
    {
     "name": "stdout",
     "output_type": "stream",
     "text": [
      "{}\n"
     ]
    }
   ],
   "source": [
    "# diccionario vacio (Usando corchetes)\n",
    "dct = {}\n",
    "print(dct)"
   ]
  },
  {
   "cell_type": "code",
   "execution_count": 16,
   "metadata": {
    "tags": []
   },
   "outputs": [
    {
     "name": "stdout",
     "output_type": "stream",
     "text": [
      "{}\n"
     ]
    }
   ],
   "source": [
    "# lista vacia (Usando el constructor)\n",
    "dct = dict()\n",
    "print(dct)"
   ]
  },
  {
   "cell_type": "code",
   "execution_count": null,
   "metadata": {},
   "outputs": [],
   "source": [
    "# diccionario de enteros\n",
    "dct = {1: 'apple', 2: 'ball'}"
   ]
  },
  {
   "cell_type": "code",
   "execution_count": null,
   "metadata": {},
   "outputs": [],
   "source": [
    "# diccionario dde llaves mixtas\n",
    "dct = {'name': 'John', 1: [2, 4, 3]}"
   ]
  },
  {
   "cell_type": "markdown",
   "metadata": {},
   "source": [
    "### Cómo usar un diccionario\n",
    "\n",
    "El valor asociado a la llave $k$ en el diccionario $dct$ se puede obtener mediante $dct[k]$:\n",
    "\n"
   ]
  },
  {
   "cell_type": "code",
   "execution_count": 14,
   "metadata": {},
   "outputs": [
    {
     "name": "stdout",
     "output_type": "stream",
     "text": [
      "26\n"
     ]
    }
   ],
   "source": [
    "dct = {'nombre':'Jack', 'edad': 26, 'salario': 4534.2}\n",
    "print(dct['edad']) # Output: 26"
   ]
  },
  {
   "cell_type": "markdown",
   "metadata": {},
   "source": [
    "Si se asigna un valor a una llave que ya estaba en el diccionario, el valor anterior se sobreescribe. Recuerde que un diccionario no puede tener llaves repetidas:"
   ]
  },
  {
   "cell_type": "code",
   "execution_count": null,
   "metadata": {},
   "outputs": [],
   "source": [
    "dct = {'nombre':'Jack', 'edad': 26}"
   ]
  },
  {
   "cell_type": "code",
   "execution_count": null,
   "metadata": {},
   "outputs": [],
   "source": [
    "# cambiar edad\n",
    "dct['edad'] = 36 \n",
    "print(dct) # Output: {'name': 'Jack', 'age': 36}"
   ]
  },
  {
   "cell_type": "markdown",
   "metadata": {},
   "source": [
    "También se pueden adherir llaves al diccionario"
   ]
  },
  {
   "cell_type": "code",
   "execution_count": null,
   "metadata": {},
   "outputs": [],
   "source": [
    "# adherir llave salario\n",
    "dct['salario'] = 4342.4\n",
    "print(dct) # Output: {'name': 'Jack', 'age': 36, 'salary': 4342.4}"
   ]
  },
  {
   "cell_type": "markdown",
   "metadata": {},
   "source": [
    "Por otro lado, si se quiere borrar una llave o el mismo diccionario, se ocupa el comando `del`"
   ]
  },
  {
   "cell_type": "code",
   "execution_count": null,
   "metadata": {},
   "outputs": [],
   "source": [
    "# borrar llave edad\n",
    "del dct['edad']\n",
    "print(dct) # Output: {'name': 'Jack', 'salary': 4342.4}"
   ]
  },
  {
   "cell_type": "code",
   "execution_count": null,
   "metadata": {},
   "outputs": [],
   "source": [
    "# borrar diccionario\n",
    "del dct"
   ]
  },
  {
   "cell_type": "markdown",
   "metadata": {},
   "source": [
    "### Iterar un diccionario\n",
    "\n",
    "Los diccionarios son iterables. Al iterar sobre un diccionario en un ciclo `for`, se obtiene las llaves:\n",
    "\n"
   ]
  },
  {
   "cell_type": "code",
   "execution_count": 2,
   "metadata": {},
   "outputs": [
    {
     "name": "stdout",
     "output_type": "stream",
     "text": [
      "1\n",
      "2\n"
     ]
    }
   ],
   "source": [
    "dct = {1: 'apple', 2: 'ball'}\n",
    "\n",
    "for k in dct:\n",
    "    print(k)"
   ]
  },
  {
   "cell_type": "markdown",
   "metadata": {},
   "source": [
    "Para iterar sobre las llaves, se usa `values()`:\n",
    "\n"
   ]
  },
  {
   "cell_type": "code",
   "execution_count": 3,
   "metadata": {},
   "outputs": [
    {
     "name": "stdout",
     "output_type": "stream",
     "text": [
      "apple\n",
      "ball\n"
     ]
    }
   ],
   "source": [
    "for v in dct.values():\n",
    "    print(v)"
   ]
  },
  {
   "cell_type": "markdown",
   "metadata": {},
   "source": [
    "Para iterar sobre las llaves y los valores simultáneamente, se usa el método `items()`:\n",
    "\n"
   ]
  },
  {
   "cell_type": "code",
   "execution_count": 6,
   "metadata": {},
   "outputs": [
    {
     "name": "stdout",
     "output_type": "stream",
     "text": [
      "llave: 1, valor: apple\n",
      "llave: 2, valor: ball\n"
     ]
    }
   ],
   "source": [
    "for k,v in dct.items():\n",
    "    print(f\"llave: {k}, valor: {v}\")"
   ]
  },
  {
   "cell_type": "markdown",
   "metadata": {},
   "source": [
    "### Restricciones sobre las llaves\n",
    "No se puede usar cualquier objeto como llave de un diccionario. Las llaves deben ser de un tipo de datos inmutable. Por ejemplo, no se puede usar listas:"
   ]
  },
  {
   "cell_type": "code",
   "execution_count": 30,
   "metadata": {},
   "outputs": [
    {
     "ename": "TypeError",
     "evalue": "unhashable type: 'list'",
     "output_type": "error",
     "traceback": [
      "\u001b[0;31m---------------------------------------------------------------------------\u001b[0m",
      "\u001b[0;31mTypeError\u001b[0m                                 Traceback (most recent call last)",
      "\u001b[0;32m<ipython-input-30-873bc4fce75e>\u001b[0m in \u001b[0;36m<module>\u001b[0;34m\u001b[0m\n\u001b[0;32m----> 1\u001b[0;31m \u001b[0mdct\u001b[0m \u001b[0;34m=\u001b[0m \u001b[0;34m{\u001b[0m\u001b[0;34m[\u001b[0m\u001b[0;36m1\u001b[0m\u001b[0;34m,\u001b[0m \u001b[0;36m2\u001b[0m\u001b[0;34m,\u001b[0m \u001b[0;36m3\u001b[0m\u001b[0;34m]\u001b[0m\u001b[0;34m:\u001b[0m \u001b[0;34m'hola'\u001b[0m\u001b[0;34m}\u001b[0m\u001b[0;34m\u001b[0m\u001b[0;34m\u001b[0m\u001b[0m\n\u001b[0m",
      "\u001b[0;31mTypeError\u001b[0m: unhashable type: 'list'"
     ]
    }
   ],
   "source": [
    "dct = {[1, 2, 3]: 'hola'}"
   ]
  },
  {
   "cell_type": "markdown",
   "metadata": {},
   "source": [
    "Típicamente, se usa números, tuplas y strings como llaves de los diccionarios.\n",
    "\n"
   ]
  },
  {
   "cell_type": "markdown",
   "metadata": {},
   "source": [
    "## Ejercicios\n",
    "\n",
    "### Listas"
   ]
  },
  {
   "cell_type": "markdown",
   "metadata": {},
   "source": [
    "**Ejercicio 01**\n",
    "\n",
    "\n",
    "Considere las siguientes listas:\n",
    "\n",
    "```python\n",
    "a = [5, 1, 4, 9, 0]\n",
    "b = range(3, 10) + range(20, 23)\n",
    "c = [[1, 2], [3, 4, 5], [6, 7]]\n",
    "d = ['perro', 'gato', 'jirafa', 'elefante']\n",
    "e = ['a', a, 2 * a]\n",
    "```\n",
    "\n",
    "Sin usar el computador, indique cuál es el resultado y el tipo de las siguientes expresiones. A continuación, verifique sus respuestas en el computador.\n",
    "\n",
    "```python\n",
    "a[2]\n",
    "b[9]\n",
    "c[1][2]\n",
    "e[0] == e[1]\n",
    "len(c)\n",
    "len(c[0])\n",
    "len(e)\n",
    "c[-1]\n",
    "c[-1][+1]\n",
    "c[2:] + d[2:]\n",
    "a[3:10]\n",
    "a[3:10:2]\n",
    "d.index('jirafa')\n",
    "e[c[0][1]].count(5)\n",
    "sorted(a)[2]\n",
    "complex(b[0], b[1])\n",
    "```"
   ]
  },
  {
   "cell_type": "code",
   "execution_count": null,
   "metadata": {},
   "outputs": [],
   "source": [
    "# respuesta"
   ]
  },
  {
   "cell_type": "markdown",
   "metadata": {},
   "source": [
    "**Ejercicio 02**\n",
    "\n",
    "Escriba la función `mayores_que(x, valores)` que cuente cuántos valores en la lista valores son mayores que `x`:\n",
    "\n",
    "```terminal\n",
    ">>> mayores_que(5, [7, 3, 6, 0, 4, 5, 10])\n",
    "3\n",
    ">>> mayores_que(2, [-1, 1, 8, 2, 0])\n",
    "1\n",
    "```"
   ]
  },
  {
   "cell_type": "code",
   "execution_count": null,
   "metadata": {},
   "outputs": [],
   "source": [
    "# respuesta"
   ]
  },
  {
   "cell_type": "markdown",
   "metadata": {},
   "source": [
    "**Ejercicio 03**\n",
    "\n",
    "El [producto interno](https://es.wikipedia.org/wiki/Producto_escalar) de dos listas de números es la suma de los productos de los términos correspondientes de ambas.\n",
    "\n",
    "Por ejemplo, si:\n",
    "```\n",
    "a = [5, 1, 6]\n",
    "b = [1, -2, 8]\n",
    "```\n",
    "\n",
    "entonces el producto interno entre $a$ y $b$ es:\n",
    "\n",
    "```\n",
    "(5 * 1) + (1 * -2) + (6 * 8)\n",
    "```\n",
    "\n",
    "1. Escriba la función `producto_interno(a, b)` que entregue el producto interno de `a` y `b`:\n",
    "\n",
    "    ```\n",
    "    >>> a = [7, 1, 4, 9, 8]\n",
    "    >>> b = range(5)\n",
    "    >>> producto_interno(a, b)\n",
    "    68\n",
    "    ```\n",
    "\n",
    "2. Dos listas de números son [ortogonales](https://es.wikipedia.org/wiki/Producto_escalar#Vectores_ortogonales) si su producto interno es cero. Escriba la función `son_ortogonales(a, b)` que indique si `a` y `b` son ortogonales:\n",
    "\n",
    "    ```\n",
    "    >>> son_ortogonales([2, 1], [-3, 6])\n",
    "    True\n",
    "    ```  \n"
   ]
  },
  {
   "cell_type": "code",
   "execution_count": null,
   "metadata": {},
   "outputs": [],
   "source": [
    "# respuesta"
   ]
  },
  {
   "cell_type": "markdown",
   "metadata": {},
   "source": [
    "### Tuplas\n",
    "\n",
    "**Ejercicio 01**\n",
    "\n",
    "\n",
    "Considere las siguientes asignaciones:\n",
    "\n",
    "```python\n",
    "a = (2, 10, 1991)\n",
    "b = (25, 12, 1990)\n",
    "c = ('Donald', True, b)\n",
    "x, y = ((27, 3), 9)\n",
    "z, w = x\n",
    "v = (x, a)\n",
    "```\n",
    "\n",
    "Sin usar el computador, indique cuál es el resultado y el tipo de las siguientes expresiones. A continuación, verifique sus respuestas en el computador.\n",
    "\n",
    "```python\n",
    "a < b\n",
    "y + w\n",
    "x + a\n",
    "len(v)\n",
    "v[1][1]\n",
    "c[0][0]\n",
    "z, y\n",
    "a + b[1:5]\n",
    "(a + b)[1:5]\n",
    "str(a[2]) + str(b[2])\n",
    "str(a[2] + b[2])\n",
    "str((a + b)[2])\n",
    "str(a + b)[2]\n",
    "```"
   ]
  },
  {
   "cell_type": "code",
   "execution_count": null,
   "metadata": {},
   "outputs": [],
   "source": [
    "# respuesta"
   ]
  },
  {
   "cell_type": "markdown",
   "metadata": {},
   "source": [
    "**Ejercicio 02**\n",
    "\n",
    "\n",
    "Una fecha puede ser representada como una tupla `(anno, mes, dia)`.\n",
    "\n",
    "1. Escriba la función `dia_siguiente(f)` que reciba como parámetro una fecha `f` y entegue cuál es la fecha siguiente:\n",
    "\n",
    "    ```\n",
    "    >>> dia_siguiente((2011, 4, 11))\n",
    "    (2011, 4, 12)\n",
    "    >>> dia_siguiente((2011, 4, 30))\n",
    "    (2011, 5, 1)\n",
    "    >>> dia_siguiente((2011, 12, 31))\n",
    "    (2012, 1, 1)\n",
    "    ```\n",
    "    \n",
    "    Como recomendación, dentro de su función use una lista con la cantidad de días que tiene cada mes:\n",
    "    \n",
    "    ```\n",
    "    dias_mes = [31, 28, 31, 30,\n",
    "            31, 30, 31, 31,\n",
    "            30, 31, 30, 31]\n",
    "    ```\n",
    "    \n",
    "\n",
    "2. Escriba la función `dias_entre(f1, f2)` que retorne la cantidad de días que han transcurrido entre las fechas `f1` y `f2`:\n",
    "\n",
    "    ```\n",
    "    >>> hoy = (2011, 4, 11)\n",
    "    >>> navidad = (2011, 12, 25)\n",
    "    >>> dias_entre(hoy, navidad)\n",
    "    258\n",
    "    >>> dias_entre(hoy, hoy)\n",
    "    0\n",
    "    ```"
   ]
  },
  {
   "cell_type": "code",
   "execution_count": null,
   "metadata": {},
   "outputs": [],
   "source": [
    "# respuesta"
   ]
  },
  {
   "cell_type": "markdown",
   "metadata": {},
   "source": [
    "### Conjuntos\n",
    "\n",
    "**Ejercicio 01**\n",
    "\n",
    "\n",
    "Considere las siguientes asignaciones:\n",
    "\n",
    "```python\n",
    "a = {5, 2, 3, 9, 4}\n",
    "b = {3, 1}\n",
    "c = {7, 5, 5, 1, 8, 6}\n",
    "d = [6, 2, 4, 5, 5, 3, 1, 3, 7, 8]\n",
    "e = {(2, 3), (3, 4), (4, 5)}\n",
    "f = [{2, 3}, {3, 4}, {4, 5}]\n",
    "```\n",
    "\n",
    "Sin usar el computador, indique cuál es el resultado y el tipo de las siguientes expresiones. A continuación, verifique sus respuestas en el computador.\n",
    "\n",
    "\n",
    "```python\n",
    "len(c)\n",
    "len(set(d))\n",
    "a & (b | c)\n",
    "(a & b) | c\n",
    "c - a\n",
    "max(e)\n",
    "f[0] < a\n",
    "set(range(4)) & a\n",
    "(set(range(4)) & a) in f\n",
    "len(set('perro'))\n",
    "len({'perro'})\n",
    "```"
   ]
  },
  {
   "cell_type": "code",
   "execution_count": null,
   "metadata": {},
   "outputs": [],
   "source": [
    "# respuesta"
   ]
  },
  {
   "cell_type": "markdown",
   "metadata": {},
   "source": [
    "**Ejercicio 02**\n",
    "\n",
    "\n",
    "El [conjunto potencia](https://es.wikipedia.org/wiki/Conjunto_potencia) de un conjunto $S$ es el conjunto de todos los subconjuntos de $S$.\n",
    "\n",
    "Por ejemplo, el conjunto potencia de $\\{1,2,3\\}$\n",
    " es:\n",
    "\n",
    "$$\\{\\emptyset,\\{1\\},\\{2\\},\\{3\\},\\{1,2\\},\\{1,3\\},\\{2,3\\},\\{1,2,3\\}\\}$$\n",
    "\n",
    "En Python, un conjunto no puede contener a otros conjuntos, ya que no puede tener elementos mutables, y los conjuntos lo son:\n",
    "\n",
    "\n",
    "```python\n",
    ">>> a = set()\n",
    ">>> a.add({1, 2})        # :(\n",
    "Traceback (most recent call last):\n",
    "  File \"<console>\", line 1, in <module>\n",
    "TypeError: unhashable type: 'set'\n",
    "```\n",
    "\n",
    "Lo que sí podemos crear es una lista de conjuntos:\n",
    "\n",
    "```python\n",
    ">>> l = list()\n",
    ">>> l.append({1, 2})     # :)\n",
    ">>> l\n",
    "[set([1, 2])]\n",
    "```\n",
    "\n",
    "Escriba la `función conjunto_potencia(s)` que reciba como parámetro un conjunto cualquiera `s` y retorne su «lista potencia» (la lista de todos sus subconjuntos):\n",
    "\n",
    "```python\n",
    ">>> conjunto_potencia({6, 1, 4})\n",
    "[set(), set([6]), set([1]), set([4]), set([6, 1]), set([6, 4]), set([1, 4]), set([6, 1, 4])]\n",
    "```"
   ]
  },
  {
   "cell_type": "code",
   "execution_count": null,
   "metadata": {},
   "outputs": [],
   "source": [
    "# respuesta"
   ]
  },
  {
   "cell_type": "markdown",
   "metadata": {},
   "source": [
    "### Diccionarios\n",
    "\n",
    "**Ejercicio 01**\n",
    "\n",
    "\n",
    "Considere las siguientes asignaciones:\n",
    "\n",
    "```python\n",
    "a = {'a': 14, 'b': 23, 'c': 88}\n",
    "b = {12: True, 55: False, -2: False}\n",
    "c = dict()\n",
    "d = {1: [2, 3, 4], 5: [6, 7, 8, 9], 10: [11]}\n",
    "e = {2 + 3: 4, 5: 6 + 7, 8: 9, 10: 11 + 12}\n",
    "```\n",
    "\n",
    "Sin usar el computador, indique cuál es el resultado y el tipo de las siguientes expresiones. A continuación, verifique sus respuestas en el computador.\n",
    "\n",
    "```python\n",
    "a['c']\n",
    "a[23]\n",
    "b[-2] or b[55]\n",
    "23 in a\n",
    "'a' in a\n",
    "5 in d[5]\n",
    "sum(b)\n",
    "len(c)\n",
    "len(d)\n",
    "len(d[1])\n",
    "len(b.values())\n",
    "len(e)\n",
    "sum(a.values())\n",
    "max(list(e))\n",
    "d[1] + d[5] + d[10]\n",
    "```"
   ]
  },
  {
   "cell_type": "code",
   "execution_count": null,
   "metadata": {},
   "outputs": [],
   "source": [
    "# respuesta"
   ]
  },
  {
   "cell_type": "markdown",
   "metadata": {},
   "source": [
    "**Ejercicio 02**\n",
    "\n",
    "Para este ejercicio considere lo siguiente:\n",
    "\n",
    "Para obtener la lista de palabras de la oración, puede usar el método `split` de los strings:\n",
    "\n",
    "```python\n",
    ">>> s = 'el gato y el pato'\n",
    ">>> s.split()\n",
    "['el', 'gato', 'y', 'el', 'pato']\n",
    "```\n",
    "\n",
    "Para obtener un string en minúsculas, puede usar el método lower:\n",
    "\n",
    "```python\n",
    ">>> s = 'Venezuela'\n",
    ">>> s.lower()\n",
    "'venezuela'\n",
    "```"
   ]
  },
  {
   "cell_type": "markdown",
   "metadata": {},
   "source": [
    "1. Escriba la función `contar_letras(oracion)` que retorne un diccionario asociando a cada letra la cantidad de veces que aparece en la oracion:\n",
    "\n",
    "    ```\n",
    "    >>> contar_letras('El elefante avanza hacia Asia')\n",
    "    {'a': 8, 'c': 1, 'e': 4, 'f': 1, 'h': 1, 'i': 2, 'l': 2, 'n': 2, 's': 1, 't': 1, 'v': 1, 'z': 1}\n",
    "    ```\n",
    "\n",
    "    Cada valor del diccionario debe considerar tanto las apariciones en mayúscula como en minúscula de la letra correspondiente. Los espacios deben ser ignorados.\n",
    "\n",
    "2. Escriba la función `contar_vocales(oracion)` que retorne un diccionario asociando a cada vocal la cantidad de veces que aparece en la oracion. Si una vocal no aparece en la oración, de todos modos debe estar en el diccionario asociada al valor 0:\n",
    "\n",
    "    ```\n",
    "    >>> contar_vocales('El elefante avanza hacia Asia')\n",
    "    {'a': 8, 'e': 4, 'i': 2, 'o': 0, 'u': 0}\n",
    "    ```\n",
    "\n",
    "\n",
    "3. Escriba la función `contar_iniciales(oracion)` que retorne un diccionario asociando a cada letra la cantidad de veces que aparece al principio de una palabra:\n",
    "\n",
    "    ```\n",
    "    >>> contar_iniciales('El elefante avanza hacia Asia')\n",
    "    {'e': 2, 'h': 1, 'a': 2}\n",
    "    >>> contar_iniciales('Varias vacas vuelan sobre Venezuela')\n",
    "    {'s': 1', 'v': 4}\n",
    "    ```\n",
    "\n",
    "\n",
    "4. Escriba la función `obtener_largo_palabras(oracion)` que retorne un diccionario asociando a cada palabra su cantidad de letras:\n",
    "\n",
    "    ```\n",
    "    >>> obtener_largo_palabras('el gato y el pato son amigos')\n",
    "    {'el': 2, 'son': 3, 'gato': 4, 'y': 1, 'amigos': 6, 'pato': 4}\n",
    "    ```\n",
    "\n",
    "\n",
    "5. Escriba la función `contar_palabras(oracion)` que retorne un diccionario asociando a cada palabra la cantidad de veces que aparece en la oración:\n",
    "\n",
    "    ```\n",
    "    >>> contar_palabras('El sobre esta sobre el pupitre')\n",
    "    {'sobre': 2, 'pupitre': 1, 'el': 2, 'esta': 1}\n",
    "    ```\n",
    "\n",
    "6. Escriba la función `palabras_repetidas(oracion)` que retorne una lista con las palabras que están repetidas:\n",
    "\n",
    "    ```\n",
    "    >>> palabras_repetidas('El partido termino cero a cero')\n",
    "    ['cero']\n",
    "    >>> palabras_repetidas('El sobre esta sobre el mueble')\n",
    "    ['el', 'sobre']\n",
    "    >>> palabras_repetidas('Ay, ahi no hay pan')\n",
    "    []\n",
    "    ```"
   ]
  },
  {
   "cell_type": "code",
   "execution_count": 1,
   "metadata": {
    "tags": []
   },
   "outputs": [],
   "source": [
    "# respuesta"
   ]
  }
 ],
 "metadata": {
  "kernelspec": {
   "display_name": "Python 3 (ipykernel)",
   "language": "python",
   "name": "python3"
  },
  "language_info": {
   "codemirror_mode": {
    "name": "ipython",
    "version": 3
   },
   "file_extension": ".py",
   "mimetype": "text/x-python",
   "name": "python",
   "nbconvert_exporter": "python",
   "pygments_lexer": "ipython3",
   "version": "3.8.10"
  }
 },
 "nbformat": 4,
 "nbformat_minor": 4
}
