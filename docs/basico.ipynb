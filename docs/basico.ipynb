{
 "cells": [
  {
   "cell_type": "markdown",
   "metadata": {
    "colab_type": "text",
    "id": "view-in-github"
   },
   "source": [
    "<a href=\"https://colab.research.google.com/github/fralfaro/python_intro/blob/main/docs/basico.ipynb\" target=\"_parent\"><img src=\"https://colab.research.google.com/assets/colab-badge.svg\" alt=\"Open In Colab\"/></a>"
   ]
  },
  {
   "cell_type": "markdown",
   "metadata": {
    "id": "mFoKMBCrm327"
   },
   "source": [
    "# Nomenclatura \n",
    "\n",
    "## Sintaxis\n",
    "\n",
    "### Hola mundo!\n",
    "\n",
    "Escribamos nuestro primer programa de Python, \"¡Hola, mundo!\". Es un programa simple que imprime Hello World! en el dispositivo de salida estándar (pantalla). Para eso se ocupa el comando `print()`.\n"
   ]
  },
  {
   "cell_type": "code",
   "execution_count": 1,
   "metadata": {
    "id": "XU5m3Ginm32-",
    "outputId": "942a9a99-fbb5-4a61-a844-8fa6752741b3"
   },
   "outputs": [
    {
     "name": "stdout",
     "output_type": "stream",
     "text": [
      "Hola Mundo!\n"
     ]
    }
   ],
   "source": [
    "# imprimir \"Hola Mundo!\"\n",
    "print(\"Hola Mundo!\");"
   ]
  },
  {
   "cell_type": "markdown",
   "metadata": {
    "id": "w_As-2x5m32_"
   },
   "source": [
    "### Variables\n",
    "\n",
    "Una **variable** es una ubicación con nombre utilizada para almacenar datos en la memoria. Una **asignación** es una sentencia que asocia un nombre al resultado de una expresión. "
   ]
  },
  {
   "cell_type": "code",
   "execution_count": 2,
   "metadata": {
    "id": "FR06qHVum33A",
    "outputId": "46084b9c-5bfd-42f1-9408-51f830ac7ab9"
   },
   "outputs": [
    {
     "name": "stdout",
     "output_type": "stream",
     "text": [
      "a = 5\n"
     ]
    }
   ],
   "source": [
    "# asignar e imprimir variables (numericas)\n",
    "a = 5\n",
    "print(\"a =\", 5)"
   ]
  },
  {
   "cell_type": "code",
   "execution_count": 3,
   "metadata": {
    "id": "gztTmcWUm33B",
    "outputId": "7470f7fe-e19b-4011-fd4f-bfb80a94fc57"
   },
   "outputs": [
    {
     "name": "stdout",
     "output_type": "stream",
     "text": [
      "a = cinco\n"
     ]
    }
   ],
   "source": [
    "# asignar e imprimir variables (texto)\n",
    "a = \"cinco\"\n",
    "print(\"a =\", a)"
   ]
  },
  {
   "cell_type": "markdown",
   "metadata": {
    "id": "xsHnJi6rm33B"
   },
   "source": [
    "### Imprimir mensajes y variables\n",
    "\n",
    "La formula para imprimir mensajes y variables es:\n",
    "\n",
    "```python\n",
    "print(\"mensaje_01\",variable_01,\"mensaje_02\",variable_02,...)\n",
    "```"
   ]
  },
  {
   "cell_type": "code",
   "execution_count": 4,
   "metadata": {
    "id": "NMs5VUIum33B",
    "outputId": "2b0e1323-0ca9-43e5-e526-b8bcd34b33c5"
   },
   "outputs": [
    {
     "name": "stdout",
     "output_type": "stream",
     "text": [
      "La suma de 5 con 4 es igual a 9\n"
     ]
    }
   ],
   "source": [
    "# Ejemplo\n",
    "\n",
    "x = 5\n",
    "y = 4\n",
    "suma = x+y\n",
    "\n",
    "print(\"La suma de\", x, \"con\", y, \"es igual a\", suma)"
   ]
  },
  {
   "cell_type": "markdown",
   "metadata": {
    "id": "bocCLbvkm33C"
   },
   "source": [
    "Existen varias formas de imprimir variables y strings, sin embargo, la que más se destaca es la forma **Literal String Interpolation** (o también conocido como **f-string**). La formula es la siguiente:\n",
    "\n",
    "```python\n",
    "print(f\"mensaje_01 {variable_01} mensaje_02 {variable_02} ...\")\n",
    "```"
   ]
  },
  {
   "cell_type": "code",
   "execution_count": 5,
   "metadata": {
    "id": "rNHDIquwm33C",
    "outputId": "60774f48-ea81-43db-8dcf-0a2e8b2afb39"
   },
   "outputs": [
    {
     "name": "stdout",
     "output_type": "stream",
     "text": [
      "La suma de 5 con 4 es igual a igual a 9\n"
     ]
    }
   ],
   "source": [
    "# ejemplo f-string\n",
    "print(f\"La suma de {x} con {y} es igual a igual a {suma}\")"
   ]
  },
  {
   "cell_type": "markdown",
   "metadata": {
    "id": "Kkcf5Atom33D"
   },
   "source": [
    "> **Observación**: Se tratara de trabajar siempre con la forma **f-string** para ser consistente."
   ]
  },
  {
   "cell_type": "markdown",
   "metadata": {
    "id": "M7T0mBFam33D"
   },
   "source": [
    "### Inputs por el usuario\n",
    "\n",
    "En Python, puede usar la función `input()` para tomar la entrada del usuario. Por ejemplo:\n"
   ]
  },
  {
   "cell_type": "markdown",
   "metadata": {
    "id": "QDroptZrm33E",
    "pycharm": {
     "name": "#%% md\n"
    }
   },
   "source": [
    "```python\n",
    "# inputs por el usuario\n",
    "inputString = input('Escriba una oracion:')\n",
    "print(f'Su oracion es: {inputString}')\n",
    "```"
   ]
  },
  {
   "cell_type": "markdown",
   "metadata": {
    "id": "IW01wU8lm33E"
   },
   "source": [
    "## Tipos de datos\n",
    "\n",
    "### Enteros, flotantes y números complejos\n",
    "\n",
    "Python admite enteros, números de coma flotante y números complejos. Se definen como `int`, `float` y `complex` en Python."
   ]
  },
  {
   "cell_type": "code",
   "execution_count": 6,
   "metadata": {
    "id": "EXjSbxVhm33E",
    "outputId": "b6640fb3-db75-44ea-fd5e-e47b9da81a34"
   },
   "outputs": [
    {
     "name": "stdout",
     "output_type": "stream",
     "text": [
      "<class 'int'>\n"
     ]
    }
   ],
   "source": [
    "# entero \n",
    "a = 5\n",
    "print(type(a))"
   ]
  },
  {
   "cell_type": "code",
   "execution_count": 7,
   "metadata": {
    "id": "PuvT8ptem33F",
    "outputId": "4e7ecbea-b65a-4264-b4ed-518581783d13"
   },
   "outputs": [
    {
     "name": "stdout",
     "output_type": "stream",
     "text": [
      "<class 'float'>\n"
     ]
    }
   ],
   "source": [
    "# flotante \n",
    "b = 1.5\n",
    "print(type(b))"
   ]
  },
  {
   "cell_type": "code",
   "execution_count": 8,
   "metadata": {
    "id": "aF-8ZS55m33F",
    "outputId": "046d7c53-5d38-4716-c6ac-e1d3d5365876"
   },
   "outputs": [
    {
     "name": "stdout",
     "output_type": "stream",
     "text": [
      "<class 'complex'>\n"
     ]
    }
   ],
   "source": [
    "# complejo \n",
    "c = 5 + 3j\n",
    "print(type(c))"
   ]
  },
  {
   "cell_type": "markdown",
   "metadata": {
    "id": "1HG3sih6m33F"
   },
   "source": [
    "### Valores lógicos\n",
    "\n",
    "Los valores lógicos `True` y `False` (verdadero y falso) son de tipo `bool`, que representa valores lógicos.\n",
    "\n",
    "El nombre bool viene del matemático **George Boole**, quien creó un sistema algebraico para la lógica binaria. Por lo mismo, a `True` y `False` también se les llama **valores booleanos**. El nombre no es muy intuitivo, pero es el que se usa en informática, así que hay que conocerlo."
   ]
  },
  {
   "cell_type": "code",
   "execution_count": 9,
   "metadata": {
    "id": "ipB3WM09m33G",
    "outputId": "60e46492-c1ea-459d-9825-343190a1eedb"
   },
   "outputs": [
    {
     "name": "stdout",
     "output_type": "stream",
     "text": [
      "<class 'bool'>\n"
     ]
    }
   ],
   "source": [
    "a = True\n",
    "print(type(a))"
   ]
  },
  {
   "cell_type": "code",
   "execution_count": 10,
   "metadata": {
    "id": "s6TXPMSfm33G",
    "outputId": "9fa55e9e-a834-4eb6-d3d7-2cbd905d83c2"
   },
   "outputs": [
    {
     "name": "stdout",
     "output_type": "stream",
     "text": [
      "<class 'bool'>\n"
     ]
    }
   ],
   "source": [
    "b = False\n",
    "print(type(b))"
   ]
  },
  {
   "cell_type": "markdown",
   "metadata": {
    "id": "tO5DvkxQm33G"
   },
   "source": [
    "### Texto\n",
    "A los valores que representan texto se les llama `strings`, y tienen el tipo `str`.\n",
    "\n",
    "Los strings literales pueden ser representados con texto entre comillas simples o comillas dobles:"
   ]
  },
  {
   "cell_type": "code",
   "execution_count": 11,
   "metadata": {
    "id": "PFuQCBoKm33G",
    "outputId": "da453698-06f4-4077-a6b4-824b9dff1488"
   },
   "outputs": [
    {
     "name": "stdout",
     "output_type": "stream",
     "text": [
      "<class 'str'>\n"
     ]
    }
   ],
   "source": [
    "# comillas simples\n",
    "a = 'hola mundo'\n",
    "print(type(a))"
   ]
  },
  {
   "cell_type": "code",
   "execution_count": 12,
   "metadata": {
    "id": "dy6yO2UQm33H",
    "outputId": "bb467afe-aba4-497b-d992-7da61ec61fb8"
   },
   "outputs": [
    {
     "name": "stdout",
     "output_type": "stream",
     "text": [
      "<class 'str'>\n"
     ]
    }
   ],
   "source": [
    "# comillas complejas\n",
    "b = \"hola mundo\"\n",
    "print(type(b))"
   ]
  },
  {
   "cell_type": "markdown",
   "metadata": {
    "id": "1jDrj68Om33K"
   },
   "source": [
    "### Nulo\n",
    "Existe un valor llamado `None` (en inglés, «ninguno») que es utilizado para representar casos en que ningún valor es válido, o para indicar que una variable todavía no tiene un valor que tenga sentido.\n",
    "\n",
    "El valor None tiene su propio tipo, llamado `NoneType`, que es diferente al de todos los demás valores."
   ]
  },
  {
   "cell_type": "code",
   "execution_count": 13,
   "metadata": {
    "id": "BaGXyNvmm33K",
    "outputId": "2abaabcb-f03a-4c24-a067-be1a3ad0aa01"
   },
   "outputs": [
    {
     "name": "stdout",
     "output_type": "stream",
     "text": [
      "<class 'NoneType'>\n"
     ]
    }
   ],
   "source": [
    "a = None\n",
    "print(type(a))"
   ]
  },
  {
   "cell_type": "markdown",
   "metadata": {
    "id": "bkWDxePmm33K"
   },
   "source": [
    "### Conversión de tipo\n",
    "\n",
    "El proceso de convertir el valor de un tipo de datos (entero, cadena, flotante, etc.) en otro se llama conversión de tipo. Python tiene dos tipos de conversión de tipos.\n",
    "\n",
    "**a) Implícita**"
   ]
  },
  {
   "cell_type": "code",
   "execution_count": 14,
   "metadata": {
    "id": "I33Yofthm33L",
    "outputId": "2c30f62e-a97d-4c22-a88a-97b56ec1cc85"
   },
   "outputs": [
    {
     "name": "stdout",
     "output_type": "stream",
     "text": [
      "Valor de num_new: 124.23\n",
      "tipo de datos de  num_new: <class 'float'>\n"
     ]
    }
   ],
   "source": [
    "# correcto (numerico  + numerico)\n",
    "\n",
    "num_int = 123  # integer type\n",
    "num_flo = 1.23 # float type\n",
    "\n",
    "num_new = num_int + num_flo\n",
    "\n",
    "print(f\"Valor de num_new: {num_new}\")\n",
    "print(f\"tipo de datos de  num_new: {type(num_new)}\")"
   ]
  },
  {
   "cell_type": "code",
   "execution_count": 15,
   "metadata": {
    "id": "lAVhi7yim33L",
    "outputId": "b6471bd5-e3f6-458a-ffdb-df5568fcc50c"
   },
   "outputs": [
    {
     "ename": "TypeError",
     "evalue": "unsupported operand type(s) for +: 'int' and 'str'",
     "output_type": "error",
     "traceback": [
      "\u001b[1;31m---------------------------------------------------------------------------\u001b[0m",
      "\u001b[1;31mTypeError\u001b[0m                                 Traceback (most recent call last)",
      "Input \u001b[1;32mIn [15]\u001b[0m, in \u001b[0;36m<cell line: 5>\u001b[1;34m()\u001b[0m\n\u001b[0;32m      2\u001b[0m num_int \u001b[38;5;241m=\u001b[39m \u001b[38;5;241m123\u001b[39m     \u001b[38;5;66;03m# int type\u001b[39;00m\n\u001b[0;32m      3\u001b[0m num_str \u001b[38;5;241m=\u001b[39m \u001b[38;5;124m\"\u001b[39m\u001b[38;5;124m456\u001b[39m\u001b[38;5;124m\"\u001b[39m   \u001b[38;5;66;03m# str type\u001b[39;00m\n\u001b[1;32m----> 5\u001b[0m \u001b[38;5;28mprint\u001b[39m(\u001b[43mnum_int\u001b[49m\u001b[38;5;241;43m+\u001b[39;49m\u001b[43mnum_str\u001b[49m)\n",
      "\u001b[1;31mTypeError\u001b[0m: unsupported operand type(s) for +: 'int' and 'str'"
     ]
    }
   ],
   "source": [
    "# incorrecto (string  + numerico)\n",
    "num_int = 123     # int type\n",
    "num_str = \"456\"   # str type\n",
    "\n",
    "print(num_int+num_str)"
   ]
  },
  {
   "cell_type": "markdown",
   "metadata": {
    "id": "3GYGCidum33L"
   },
   "source": [
    "**b) Explícito**"
   ]
  },
  {
   "cell_type": "code",
   "execution_count": 16,
   "metadata": {
    "id": "VqAP72Dvm33L",
    "outputId": "70d1296e-4227-455e-b0ce-c03569c010d9"
   },
   "outputs": [
    {
     "name": "stdout",
     "output_type": "stream",
     "text": [
      "579\n"
     ]
    }
   ],
   "source": [
    "num_int = 123  # int type\n",
    "num_str = \"456\" # str type\n",
    "\n",
    "# cambiar string a numerico\n",
    "num_str = int(num_str) \n",
    "\n",
    "print(num_int+num_str)"
   ]
  },
  {
   "cell_type": "markdown",
   "metadata": {
    "id": "e5h5MMqTm33L"
   },
   "source": [
    "**Observación**: el proceso de transformar `string` a `numeric` es correcto cuando lo que está escrito en el `string` es un número, en caso contrario, nos dará error. "
   ]
  },
  {
   "cell_type": "markdown",
   "metadata": {
    "id": "C3fyySXam33L"
   },
   "source": [
    "## Operaciones\n",
    "\n",
    "### Operadores aritméticos\n",
    "\n",
    "Los operadores son símbolos especiales que realizan operaciones en operandos (variables y valores). Hablemos de operadores aritméticos y de asignación en esta parte."
   ]
  },
  {
   "cell_type": "code",
   "execution_count": 17,
   "metadata": {
    "id": "bHpxgVpBm33L",
    "outputId": "1dc4b4f4-1430-4771-decd-f30b82108345"
   },
   "outputs": [
    {
     "name": "stdout",
     "output_type": "stream",
     "text": [
      "x + y = 18\n",
      "x - y = 10\n",
      "x * y = 56\n",
      "x / y = 3.5\n",
      "x // y = 3\n"
     ]
    }
   ],
   "source": [
    "# operaciones basicas \n",
    "\n",
    "x = 14\n",
    "y = 4\n",
    "\n",
    "# suma\n",
    "print(f'x + y = {x+y}') # Output: x + y = 18\n",
    "\n",
    "# resta\n",
    "print(f'x - y = {x-y}') # Output: x - y = 10\n",
    "\n",
    "# multiplicacion\n",
    "print(f'x * y = {x*y}') # Output: x * y = 56\n",
    "\n",
    "# division\n",
    "print(f'x / y = {x/y}') # Output: x / y = 3.5\n",
    "\n",
    "# cuociente o division entera\n",
    "print(f'x // y = {x//y}') # Output: x // y = 3"
   ]
  },
  {
   "cell_type": "markdown",
   "metadata": {
    "id": "OmypbgKjm33M"
   },
   "source": [
    "### Otros operadores arítmeticos\n",
    "\n",
    "**Potencia**\n",
    "\n",
    "La función [potencia](https://es.wikipedia.org/wiki/Potenciaci%C3%B3n) de un número entero corresponde a multiplicar $n$ veces el mismo número. Por ejemplo\n",
    "\n",
    "$$4^3 = 4*4*4 = 64$$\n",
    "\n",
    "Cuando el exponente es fracionario, hablamos de raíces. Por ejemplo:\n",
    "\n",
    "$$4^{1/2} = \\sqrt{4} = 2$$"
   ]
  },
  {
   "cell_type": "code",
   "execution_count": 18,
   "metadata": {
    "id": "mg55nVIfm33M",
    "outputId": "33f0decb-fa8c-4d5f-94f2-0d52805e053f"
   },
   "outputs": [
    {
     "name": "stdout",
     "output_type": "stream",
     "text": [
      "potencia entera:           x ** y = 64\n",
      "potencia fraccionaria:     x ** z = 2.0\n"
     ]
    }
   ],
   "source": [
    "# operacion potencia\n",
    "x = 4\n",
    "y=3\n",
    "z=0.5\n",
    "\n",
    "print(f'potencia entera:           x ** y = {x**y}' ) \n",
    "print(f'potencia fraccionaria:     x ** z = {x**z}') "
   ]
  },
  {
   "cell_type": "markdown",
   "metadata": {
    "id": "jt-k12dCm33M"
   },
   "source": [
    "**Módulo**\n",
    "\n",
    "Cuando dividimos dos enteros, tenemos una ecuación que se ve como lo siguiente:\n",
    "$$\\dfrac{A}{B} = Q \\text{ residuo } R,$$\n",
    "donde:\n",
    "* $A$ es el dividendo\n",
    "* $B$ es el divisor\n",
    "* $Q$ es el cociente\n",
    "* $R$ es el residuo\n",
    "\n",
    "A veces, solo estamos interesados en cuánto es el residuo cuando dividimos $A$ entre $B$. Para estos casos hay un operador llamado el operador [módulo](https://es.khanacademy.org/computing/computer-science/cryptography/modarithmetic/a/what-is-modular-arithmetic) (abreviado como mod). \n",
    "\n",
    "Al usar los mismos $A$, $B$, $Q$ y $R$ que arriba, tendríamos: $A \\text{ mod } B = R$ (notación). Por ejemplo:\n",
    "\n",
    "\n",
    "$$\\dfrac{13}{4} = 3 \\text{ residuo } 1 \\textrm{, es equivalente a: } 13 \\textrm{ mod } 4 = 1 $$\n"
   ]
  },
  {
   "cell_type": "code",
   "execution_count": 19,
   "metadata": {
    "id": "o03_xRYFm33M",
    "outputId": "ce334787-8675-4a5a-8102-3e773fd16c5c"
   },
   "outputs": [
    {
     "name": "stdout",
     "output_type": "stream",
     "text": [
      "x % y = 1\n"
     ]
    }
   ],
   "source": [
    "# modulo\n",
    "x = 13\n",
    "y = 4\n",
    "print(f'x % y = {x%y}')"
   ]
  },
  {
   "cell_type": "markdown",
   "metadata": {
    "id": "b06envUPm33M"
   },
   "source": [
    "**Redondear**\n",
    "\n",
    "La función incorporada `round()` toma como argumento un número de coma flotante y retorna un número entero según las reglas del redondeo."
   ]
  },
  {
   "cell_type": "code",
   "execution_count": 20,
   "metadata": {
    "id": "GuayiSx5m33M"
   },
   "outputs": [],
   "source": [
    "x = 3.94987545322"
   ]
  },
  {
   "cell_type": "code",
   "execution_count": 21,
   "metadata": {
    "id": "nkgs9Vpbm33M",
    "outputId": "7450741a-9d13-4644-af44-d8d8920b4250"
   },
   "outputs": [
    {
     "name": "stdout",
     "output_type": "stream",
     "text": [
      "4\n"
     ]
    }
   ],
   "source": [
    "# cero decimales\n",
    "print(round(x))"
   ]
  },
  {
   "cell_type": "code",
   "execution_count": 22,
   "metadata": {
    "id": "9vhrMDidm33N",
    "outputId": "f7d1dc11-876b-4964-e0b4-6381c10a4c1e"
   },
   "outputs": [
    {
     "name": "stdout",
     "output_type": "stream",
     "text": [
      "3.9\n"
     ]
    }
   ],
   "source": [
    "# un decimal\n",
    "print(round(x,1))"
   ]
  },
  {
   "cell_type": "code",
   "execution_count": 23,
   "metadata": {
    "id": "Nd7Y_JsRm33N",
    "outputId": "39a1fa8b-f6a8-42c4-86a4-ab40abf8e8ab"
   },
   "outputs": [
    {
     "name": "stdout",
     "output_type": "stream",
     "text": [
      "3.95\n"
     ]
    }
   ],
   "source": [
    "# dos decimales\n",
    "print(round(x,2))"
   ]
  },
  {
   "cell_type": "markdown",
   "metadata": {
    "id": "KkrQ_eXpm33N"
   },
   "source": [
    "### Operadores de asignación\n",
    "\n",
    "Los operadores de asignación se utilizan para asignar valores a las variables. Probemos algunos operadores de asignación más comunes."
   ]
  },
  {
   "cell_type": "code",
   "execution_count": 24,
   "metadata": {
    "id": "HkYMy7rmm33N"
   },
   "outputs": [],
   "source": [
    "# operadores de asignacion\n",
    "\n",
    "x = 5"
   ]
  },
  {
   "cell_type": "code",
   "execution_count": 25,
   "metadata": {
    "id": "sHrNj3wZm33N",
    "outputId": "09e5ef63-a7af-42b0-cb1d-410512c4acaa"
   },
   "outputs": [
    {
     "name": "stdout",
     "output_type": "stream",
     "text": [
      "10\n"
     ]
    }
   ],
   "source": [
    "# x += 5 ----> x = x + 5\n",
    "x +=5\n",
    "print(x) # Output: 10"
   ]
  },
  {
   "cell_type": "code",
   "execution_count": 26,
   "metadata": {
    "id": "eo7Oj7v6m33N",
    "outputId": "6ad0f116-2b71-4a71-8388-04f525a18047"
   },
   "outputs": [
    {
     "name": "stdout",
     "output_type": "stream",
     "text": [
      "2.0\n"
     ]
    }
   ],
   "source": [
    "# x /= 5 ----> x = x / 5\n",
    "x /= 5\n",
    "print(x) # Output: 2.0"
   ]
  },
  {
   "cell_type": "markdown",
   "metadata": {
    "id": "2Kt3-TcRm33O"
   },
   "source": [
    "### Operadores relacionales\n",
    "\n",
    "\n",
    "Los operadores relacionales sirven para comparar valores. Sus operandos son cualquier cosa que pueda ser comparada, y sus resultados siempre son valores lógicos.\n",
    "\n",
    "**Operadores relacionales (numéricos)**"
   ]
  },
  {
   "cell_type": "code",
   "execution_count": 29,
   "metadata": {
    "id": "sNdJHZx6m33O",
    "outputId": "ceba9d9a-d7b8-49a8-8db1-92a6cbbe013c",
    "pycharm": {
     "name": "#%%\n"
    }
   },
   "outputs": [],
   "source": [
    "# operadores relacionales (numericos)\n",
    "\n",
    "x = 14\n",
    "y = 4"
   ]
  },
  {
   "cell_type": "code",
   "execution_count": 30,
   "metadata": {
    "id": "sNdJHZx6m33O",
    "outputId": "ceba9d9a-d7b8-49a8-8db1-92a6cbbe013c",
    "pycharm": {
     "name": "#%%\n"
    }
   },
   "outputs": [
    {
     "name": "stdout",
     "output_type": "stream",
     "text": [
      "x = y  False\n"
     ]
    }
   ],
   "source": [
    "# igual a\n",
    "print(f'x = y  {x==y}') "
   ]
  },
  {
   "cell_type": "code",
   "execution_count": 31,
   "metadata": {
    "id": "sNdJHZx6m33O",
    "outputId": "ceba9d9a-d7b8-49a8-8db1-92a6cbbe013c",
    "pycharm": {
     "name": "#%%\n"
    }
   },
   "outputs": [
    {
     "name": "stdout",
     "output_type": "stream",
     "text": [
      "x != y True\n"
     ]
    }
   ],
   "source": [
    "# distinto\n",
    "print(f'x != y {x!=y}')"
   ]
  },
  {
   "cell_type": "code",
   "execution_count": 32,
   "metadata": {
    "id": "sNdJHZx6m33O",
    "outputId": "ceba9d9a-d7b8-49a8-8db1-92a6cbbe013c",
    "pycharm": {
     "name": "#%%\n"
    }
   },
   "outputs": [
    {
     "name": "stdout",
     "output_type": "stream",
     "text": [
      "x > y  True\n"
     ]
    }
   ],
   "source": [
    "# mayor que\n",
    "print(f'x > y  {x>y}')"
   ]
  },
  {
   "cell_type": "code",
   "execution_count": 33,
   "metadata": {
    "id": "sNdJHZx6m33O",
    "outputId": "ceba9d9a-d7b8-49a8-8db1-92a6cbbe013c",
    "pycharm": {
     "name": "#%%\n"
    }
   },
   "outputs": [
    {
     "name": "stdout",
     "output_type": "stream",
     "text": [
      "x >= y True\n"
     ]
    }
   ],
   "source": [
    "# mayor o igual que\n",
    "print(f'x >= y {x>=y}') "
   ]
  },
  {
   "cell_type": "code",
   "execution_count": 34,
   "metadata": {
    "id": "sNdJHZx6m33O",
    "outputId": "ceba9d9a-d7b8-49a8-8db1-92a6cbbe013c",
    "pycharm": {
     "name": "#%%\n"
    }
   },
   "outputs": [
    {
     "name": "stdout",
     "output_type": "stream",
     "text": [
      "x <= y False\n"
     ]
    }
   ],
   "source": [
    "# menor o igual que\n",
    "print(f'x <= y {x<=y}') "
   ]
  },
  {
   "cell_type": "markdown",
   "metadata": {
    "id": "TCSZipl0m33O"
   },
   "source": [
    "**Operadores relacionales ( string )**"
   ]
  },
  {
   "cell_type": "code",
   "execution_count": 35,
   "metadata": {
    "id": "SDaaT4Pkm33O"
   },
   "outputs": [],
   "source": [
    "# operadores relacionales ( string )\n",
    "texto = \"Python\"\n",
    "otro_texto = \"programa\""
   ]
  },
  {
   "cell_type": "code",
   "execution_count": 36,
   "metadata": {
    "id": "zL6Eyldjm33O",
    "outputId": "a9d729d1-b8cf-4b16-ae97-3f8c18c0e246"
   },
   "outputs": [
    {
     "name": "stdout",
     "output_type": "stream",
     "text": [
      "False\n"
     ]
    }
   ],
   "source": [
    "# igualdad \n",
    "print(texto == otro_texto)"
   ]
  },
  {
   "cell_type": "code",
   "execution_count": 37,
   "metadata": {
    "id": "nwHEbew-m33P",
    "outputId": "af2a74b7-2e68-4264-b91d-245e196bfc6e"
   },
   "outputs": [
    {
     "name": "stdout",
     "output_type": "stream",
     "text": [
      "True\n"
     ]
    }
   ],
   "source": [
    "# desigualdad \n",
    "print(texto != otro_texto)"
   ]
  },
  {
   "cell_type": "code",
   "execution_count": 38,
   "metadata": {
    "id": "AML5Dx4-m33P",
    "outputId": "f46c2259-2d83-4439-a612-d73a79dfcbb1"
   },
   "outputs": [
    {
     "name": "stdout",
     "output_type": "stream",
     "text": [
      "True\n"
     ]
    }
   ],
   "source": [
    "# un string esta en un texto\n",
    "print(\"thon\" in texto)"
   ]
  },
  {
   "cell_type": "code",
   "execution_count": 39,
   "metadata": {
    "id": "U3yvB1J9m33P",
    "outputId": "fc07913e-66ce-4db9-96cd-a3d9b6d9eb81"
   },
   "outputs": [
    {
     "name": "stdout",
     "output_type": "stream",
     "text": [
      "False\n"
     ]
    }
   ],
   "source": [
    "# un string NO esta en un texto\n",
    "print(\"thon\" not in texto)"
   ]
  },
  {
   "cell_type": "markdown",
   "metadata": {
    "id": "C3orrUgkm33P"
   },
   "source": [
    "### Operaciones Binarias\n",
    "\n",
    "Una [tabla de verdad](https://es.wikipedia.org/wiki/Tabla_de_verdad), o tabla de valores de verdades, es una tabla que muestra el valor de verdad de una proposición compuesta, para cada combinación de verdad que se pueda asignar.\n",
    "\n",
    "| p \t| q \t| p ∧ q \t| p v q \t| ¬p \t| ¬q \t|\n",
    "|:-:\t|:-:\t|:-----:\t|:-----:\t|:--:\t|:--:\t|\n",
    "| T \t| T \t|   T   \t|   T   \t|  F \t|  F \t|\n",
    "| T \t| F \t|   F   \t|   T   \t|  F \t|  T \t|\n",
    "| F \t| T \t|   F   \t|   T   \t|  T \t|  F \t|\n",
    "| F \t| F \t|   F   \t|   F   \t|  T \t|  T \t|\n",
    "\n",
    "\n",
    "En Python, hay tres operaciones lógicas:\n",
    "\n",
    "* la conjunción lógica `and` (en español: **y**)\n",
    "* la disyunción lógica `or` (en español: **o**)\n",
    "* la negación lógica `not` (en español: **no**)\n",
    "\n",
    "\n",
    "\n",
    "| p     \t| q     \t| p and q \t| p or q \t| not p \t| not q \t|\n",
    "|-------\t|-------\t|---------\t|--------\t|-------\t|-------\t|\n",
    "| True  \t| True  \t| True    \t| True   \t| False \t| True  \t|\n",
    "| True  \t| False \t| False   \t| True   \t| False \t| True  \t|\n",
    "| False \t| True  \t| False   \t| True   \t| True  \t| False \t|\n",
    "| False \t| False \t| False   \t| False  \t| True  \t| False \t|"
   ]
  },
  {
   "cell_type": "code",
   "execution_count": 40,
   "metadata": {
    "id": "8I1AklA9m33P",
    "outputId": "978ad6f5-012e-4d7f-f798-6b755f125993"
   },
   "outputs": [
    {
     "name": "stdout",
     "output_type": "stream",
     "text": [
      "False\n"
     ]
    }
   ],
   "source": [
    "# ejemplos 'and'\n",
    "valor = True and False\n",
    "print(valor)"
   ]
  },
  {
   "cell_type": "code",
   "execution_count": 41,
   "metadata": {
    "id": "1TyngWMvm33P",
    "outputId": "20d58746-be8e-4f01-9549-75fa181fe4f4"
   },
   "outputs": [
    {
     "name": "stdout",
     "output_type": "stream",
     "text": [
      "True\n"
     ]
    }
   ],
   "source": [
    "# ejemplos 'or'\n",
    "valor = True or False\n",
    "print(valor)"
   ]
  },
  {
   "cell_type": "code",
   "execution_count": 42,
   "metadata": {
    "id": "s_LpZu5Qm33P",
    "outputId": "ce66e895-9cad-46fe-d919-31abaaec185c"
   },
   "outputs": [
    {
     "name": "stdout",
     "output_type": "stream",
     "text": [
      "False\n"
     ]
    }
   ],
   "source": [
    "# ejemplos 'not'\n",
    "valor = not True\n",
    "print(valor)"
   ]
  },
  {
   "cell_type": "markdown",
   "metadata": {},
   "source": [
    "### Operadores de String\n",
    "\n",
    "Los operadores de string sirven para poder operar variables tipo `str`."
   ]
  },
  {
   "cell_type": "code",
   "execution_count": 54,
   "metadata": {},
   "outputs": [
    {
     "name": "stdout",
     "output_type": "stream",
     "text": [
      "hola mundo\n"
     ]
    }
   ],
   "source": [
    "# suma\n",
    "texto_01 = \"hola \"\n",
    "texto_02 = \"mundo\"\n",
    "print(texto_01+texto_02)"
   ]
  },
  {
   "cell_type": "code",
   "execution_count": 55,
   "metadata": {},
   "outputs": [
    {
     "name": "stdout",
     "output_type": "stream",
     "text": [
      "hola mundo hola mundo hola mundo hola mundo \n"
     ]
    }
   ],
   "source": [
    "# multiplicacion\n",
    "texto = \"hola mundo \"\n",
    "print(4*texto)"
   ]
  },
  {
   "cell_type": "markdown",
   "metadata": {},
   "source": [
    "### Más operadores de String\n",
    "\n",
    "Existe algunas métodos aplicable a los `strings`:\n",
    "\n"
   ]
  },
  {
   "cell_type": "code",
   "execution_count": 43,
   "metadata": {},
   "outputs": [
    {
     "name": "stdout",
     "output_type": "stream",
     "text": [
      "hola mundo\n"
     ]
    }
   ],
   "source": [
    "# lower\n",
    "texto = \"HOLA MUNDO\"\n",
    "print(texto.lower())"
   ]
  },
  {
   "cell_type": "code",
   "execution_count": 44,
   "metadata": {},
   "outputs": [
    {
     "name": "stdout",
     "output_type": "stream",
     "text": [
      "HOLA MUNDO\n"
     ]
    }
   ],
   "source": [
    "# upper\n",
    "texto = \"hola mundo\"\n",
    "print(texto.upper())"
   ]
  },
  {
   "cell_type": "code",
   "execution_count": 45,
   "metadata": {},
   "outputs": [
    {
     "name": "stdout",
     "output_type": "stream",
     "text": [
      "hola mundo\n"
     ]
    }
   ],
   "source": [
    "# strip\n",
    "texto = \" hola mundo \"\n",
    "print(texto.strip())"
   ]
  },
  {
   "cell_type": "code",
   "execution_count": 46,
   "metadata": {},
   "outputs": [
    {
     "name": "stdout",
     "output_type": "stream",
     "text": [
      " hola universo \n"
     ]
    }
   ],
   "source": [
    "# replace\n",
    "texto = \" hola mundo \"\n",
    "cambiar = \"universo\"\n",
    "print(texto.replace(\"mundo\",\"universo\"))"
   ]
  },
  {
   "cell_type": "markdown",
   "metadata": {},
   "source": [
    "**Indexaciones**\n",
    "\n",
    "Cada uno de los caracteres de un string (incluidos los espacios) tiene asignado un índice. Este indice nos permite seleccionar su carácter asociado haciendo referencia a él entre corchetes (`[]`) en el nombre de la variable que almacena la cadena.\n",
    "\n",
    "<img src=\"https://raw.githubusercontent.com/fralfaro/python_intro/main/docs/images/index.png\" alt=\"\" width=\"360\" height=\"360\" align=\"center\"/>"
   ]
  },
  {
   "cell_type": "code",
   "execution_count": 47,
   "metadata": {},
   "outputs": [
    {
     "name": "stdout",
     "output_type": "stream",
     "text": [
      "P\n"
     ]
    }
   ],
   "source": [
    "# seleccion primer elemento \n",
    "texto = \"Python\"\n",
    "print(texto[0])"
   ]
  },
  {
   "cell_type": "code",
   "execution_count": 48,
   "metadata": {},
   "outputs": [
    {
     "name": "stdout",
     "output_type": "stream",
     "text": [
      "n\n"
     ]
    }
   ],
   "source": [
    "# seleccion ultimo elemento \n",
    "print(texto[-1])"
   ]
  },
  {
   "cell_type": "markdown",
   "metadata": {},
   "source": [
    "Otra operación que podemos realizar a una cadena es seleccionar solamente una parte de ella. Para ello se usa la notación `[inicio:fin:paso]` también en el nombre de la variable que almacena la cadena, donde:\n",
    "\n",
    "* **Inicio**: es el índice del primer carácter de la porción de la cadena que queremos seleccionar.\n",
    "* **Fin**: es el índice del último carácter no incluido de la porción de la cadena que queremos seleccionar.\n",
    "* **Paso**: indica cada cuantos caracteres seleccionamos entre las posiciones de inicio y fin."
   ]
  },
  {
   "cell_type": "code",
   "execution_count": 49,
   "metadata": {},
   "outputs": [],
   "source": [
    "texto = \"Programa en Python\""
   ]
  },
  {
   "cell_type": "code",
   "execution_count": 50,
   "metadata": {},
   "outputs": [
    {
     "name": "stdout",
     "output_type": "stream",
     "text": [
      "Programa\n"
     ]
    }
   ],
   "source": [
    "# seleccionar los elementos del primero al noveno en pasos de uno\n",
    "print(texto[0:8:1])"
   ]
  },
  {
   "cell_type": "code",
   "execution_count": 51,
   "metadata": {},
   "outputs": [
    {
     "name": "stdout",
     "output_type": "stream",
     "text": [
      "Programa\n"
     ]
    }
   ],
   "source": [
    "# seleccionar los elementos del primero al noveno en pasos de uno\n",
    "print(texto[0:8:1])"
   ]
  },
  {
   "cell_type": "code",
   "execution_count": 52,
   "metadata": {},
   "outputs": [
    {
     "name": "stdout",
     "output_type": "stream",
     "text": [
      "Python\n"
     ]
    }
   ],
   "source": [
    "# seleccionar los elementos del treceavo en adelante\n",
    "print(texto[12:])"
   ]
  },
  {
   "cell_type": "markdown",
   "metadata": {},
   "source": [
    "**Observación**: Para imprimir el largo de un texto, puede usar el comando `len`."
   ]
  },
  {
   "cell_type": "code",
   "execution_count": 53,
   "metadata": {},
   "outputs": [
    {
     "name": "stdout",
     "output_type": "stream",
     "text": [
      "El texto tiene 18 letras\n"
     ]
    }
   ],
   "source": [
    "texto = \"Programa en Python\"\n",
    "largo = len(texto)\n",
    "\n",
    "print(f\"El texto tiene {largo} letras\")"
   ]
  },
  {
   "cell_type": "markdown",
   "metadata": {
    "id": "ljReK16Om33Q"
   },
   "source": [
    "## Ejercicios"
   ]
  },
  {
   "cell_type": "markdown",
   "metadata": {
    "id": "iCau759wm33Q"
   },
   "source": [
    "**Ejercicio 01**\n",
    "\n",
    "Escriba un programa que pida al usuario que escriba su nombre, y lo salude llamándolo por su nombre.\n",
    "\n",
    "```terminal\n",
    "Ingrese su nombre: Perico\n",
    "Hola, Perico\n",
    "```"
   ]
  },
  {
   "cell_type": "code",
   "execution_count": null,
   "metadata": {
    "id": "PvD1z9RPm33Q",
    "pycharm": {
     "name": "#%%\n"
    }
   },
   "outputs": [],
   "source": [
    "# respuesta"
   ]
  },
  {
   "cell_type": "markdown",
   "metadata": {
    "id": "fDC-N0Prm33Q"
   },
   "source": [
    "**Ejercicio 02**\n",
    "\n",
    "Escriba un programa que reciba como entrada el radio de un círculo y entregue como salida su perímetro y su área:\n",
    "```terminal\n",
    "Ingrese el radio: 5\n",
    "Perimetro: 31.4\n",
    "Área: 78.5\n",
    "```"
   ]
  },
  {
   "cell_type": "code",
   "execution_count": null,
   "metadata": {
    "id": "4-HxFdNzm33Q",
    "pycharm": {
     "name": "#%%\n"
    }
   },
   "outputs": [],
   "source": [
    "# respuesta"
   ]
  },
  {
   "cell_type": "markdown",
   "metadata": {
    "id": "URiEvB5Sm33Q"
   },
   "source": [
    "**Ejercicio 03**\n",
    "\n",
    "Escriba un programa que calcule el promedio de 4 notas ingresadas por el usuario:\n",
    "\n",
    "\n",
    "```terminal\n",
    "Primera nota: 55\n",
    "Segunda nota: 71\n",
    "Tercera nota: 46\n",
    "Cuarta nota: 87\n",
    "El promedio es: 64.75\n",
    "```"
   ]
  },
  {
   "cell_type": "code",
   "execution_count": null,
   "metadata": {
    "id": "emOJFuWMm33Q",
    "pycharm": {
     "name": "#%%\n"
    }
   },
   "outputs": [],
   "source": [
    "# respuesta"
   ]
  },
  {
   "cell_type": "markdown",
   "metadata": {
    "id": "6rpVcLL6m33Q"
   },
   "source": [
    "**Ejercicio 04**\n",
    "\n",
    "Escriba un programa que convierta de centímetros a pulgadas. Una pulgada es igual a 2.54 centímetros.\n",
    "\n",
    "\n",
    "```terminal\n",
    "Ingrese longitud: 45\n",
    "45 cm = 17.7165 in\n",
    "```"
   ]
  },
  {
   "cell_type": "code",
   "execution_count": null,
   "metadata": {
    "id": "9j3W4qCbm33Q",
    "pycharm": {
     "name": "#%%\n"
    }
   },
   "outputs": [],
   "source": [
    "# respuesta"
   ]
  },
  {
   "cell_type": "markdown",
   "metadata": {
    "id": "mdzGJBigm33R"
   },
   "source": [
    "**Ejercicio 05**\n",
    "\n",
    "Escriba un programa que reciba como entrada las longitudes de los dos catetos $a$ y $b$ de un triángulo rectángulo, y que entregue como salida el largo de la hipotenusa $c$ del triangulo, dado por el teorema de Pitágoras: $c^2=a^2+b^2$.\n",
    "\n",
    "```terminal\n",
    "Ingrese cateto a: 7\n",
    "Ingrese cateto b: 5\n",
    "La hipotenusa es 8.6023252670426267\n",
    "```"
   ]
  },
  {
   "cell_type": "code",
   "execution_count": null,
   "metadata": {
    "id": "-YMs0xyam33R",
    "pycharm": {
     "name": "#%%\n"
    }
   },
   "outputs": [],
   "source": [
    "# respuesta"
   ]
  },
  {
   "cell_type": "markdown",
   "metadata": {
    "id": "PZb-uedUm33R"
   },
   "source": [
    "**Ejercicio 06**\n",
    "\n",
    "Escriba un programa que pregunte al usuario la hora actual $t$ del reloj y un número entero de horas $h$, que indique qué hora marcará el reloj dentro de $h$ horas:\n",
    "\n",
    "\n",
    "```terminal\n",
    "Hora actual: 3\n",
    "Cantidad de horas: 5\n",
    "En 5 horas, el reloj marcara las 8\n",
    "```"
   ]
  },
  {
   "cell_type": "code",
   "execution_count": null,
   "metadata": {
    "id": "hED67q1Lm33R",
    "pycharm": {
     "name": "#%%\n"
    }
   },
   "outputs": [],
   "source": [
    "# respuesta"
   ]
  },
  {
   "cell_type": "markdown",
   "metadata": {
    "id": "pXWMfU0Tm33R"
   },
   "source": [
    "**Ejercicio 07**\n",
    "\n",
    "Un alumno desea saber que nota necesita en el tercer certamen para aprobar un ramo.\n",
    "\n",
    "El promedio del ramo se calcula con la siguiente formula.\n",
    "\n",
    "$$N_C=(C_1+C_2+C_3)/3 \\\\ N_F=N_C⋅0.7+N_L⋅0.3$$\n",
    "\n",
    "\n",
    "Donde $N_C$ es el promedio de certámenes, $N_L$ el promedio de laboratorio y $N_F$ la nota final.\n",
    "\n",
    "Escriba un programa que pregunte al usuario las notas de los dos primeros certamen y la nota de laboratorio, y muestre la nota que necesita el alumno para aprobar el ramo con nota final 60.\n",
    "\n",
    "```terminal\n",
    "Ingrese nota certamen 1: 45\n",
    "Ingrese nota certamen 2: 55\n",
    "Ingrese nota laboratorio: 65\n",
    "Necesita nota 74 en el certamen 3\n",
    "```"
   ]
  },
  {
   "cell_type": "code",
   "execution_count": null,
   "metadata": {
    "id": "LMy5Pv4im33R"
   },
   "outputs": [],
   "source": [
    "# respuesta"
   ]
  }
 ],
 "metadata": {
  "colab": {
   "include_colab_link": true,
   "name": "basico.ipynb",
   "provenance": []
  },
  "kernelspec": {
   "display_name": "Python 3 (ipykernel)",
   "language": "python",
   "name": "python3"
  },
  "language_info": {
   "codemirror_mode": {
    "name": "ipython",
    "version": 3
   },
   "file_extension": ".py",
   "mimetype": "text/x-python",
   "name": "python",
   "nbconvert_exporter": "python",
   "pygments_lexer": "ipython3",
   "version": "3.8.10"
  }
 },
 "nbformat": 4,
 "nbformat_minor": 1
}
