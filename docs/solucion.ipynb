{
 "cells": [
  {
   "cell_type": "markdown",
   "id": "91cb8290-6f49-49e6-a435-b0c94c6c5fde",
   "metadata": {
    "id": "91cb8290-6f49-49e6-a435-b0c94c6c5fde"
   },
   "source": [
    "<a href=\"https://colab.research.google.com/github/fralfaro/python_intro/blob/main/docs/solucion.ipynb\" target=\"_parent\"><img src=\"https://colab.research.google.com/assets/colab-badge.svg\" alt=\"Open In Colab\"/></a>\n",
    "\n",
    "#  Solución Ejercicios\n",
    "\n",
    "## Nomenclatura"
   ]
  },
  {
   "cell_type": "markdown",
   "id": "1403d24c-c03c-4d51-bad5-2bb5328957b6",
   "metadata": {
    "id": "1403d24c-c03c-4d51-bad5-2bb5328957b6"
   },
   "source": [
    "**Ejercicio 01**\n",
    "\n",
    "Escriba un programa que pida al usuario que escriba su nombre, y lo salude llamándolo por su nombre.\n",
    "\n",
    "```terminal\n",
    "Ingrese su nombre: Python\n",
    "Hola, Python\n",
    "```"
   ]
  },
  {
   "cell_type": "code",
   "execution_count": 1,
   "id": "a2d0dda2-8463-4e86-8266-3e9e98f8c272",
   "metadata": {
    "id": "a2d0dda2-8463-4e86-8266-3e9e98f8c272",
    "outputId": "82c19774-4615-4a89-90ed-bbcdae507666",
    "tags": []
   },
   "outputs": [
    {
     "name": "stdout",
     "output_type": "stream",
     "text": [
      "Hola, Python!\n"
     ]
    }
   ],
   "source": [
    "# Solicita al usuario que ingrese su nombre y lo almacena en la variable \"nombre\"\n",
    "nombre = \"Python\"\n",
    "\n",
    "# Imprime un saludo personalizado utilizando el nombre ingresado por el usuario\n",
    "print(f\"Hola, {nombre}!\")"
   ]
  },
  {
   "cell_type": "markdown",
   "id": "bea7844f-ed0c-4f17-be3c-85da9329c102",
   "metadata": {
    "id": "bea7844f-ed0c-4f17-be3c-85da9329c102"
   },
   "source": [
    "**Ejercicio 02**\n",
    "\n",
    "Escriba un programa que reciba como entrada el radio de un círculo y entregue como salida su perímetro y su área:\n",
    "```terminal\n",
    "Ingrese el radio: 5\n",
    "Perimetro: 31.4\n",
    "Área: 78.5\n",
    "```"
   ]
  },
  {
   "cell_type": "code",
   "execution_count": 2,
   "id": "33d6fcae-f50e-44ec-8182-5c6411865942",
   "metadata": {
    "id": "33d6fcae-f50e-44ec-8182-5c6411865942",
    "outputId": "ed04c811-244f-4638-920a-46c42dc34eea",
    "tags": []
   },
   "outputs": [
    {
     "name": "stdout",
     "output_type": "stream",
     "text": [
      "Perímetro: 31.4\n",
      "Área: 78.5\n"
     ]
    }
   ],
   "source": [
    "# Solicitar al usuario que ingrese el radio del círculo\n",
    "radio = 5\n",
    "\n",
    "# Definir la variable para el valor de Pi\n",
    "pi = 3.14159265359\n",
    "\n",
    "# Calcular el perímetro y el área del círculo\n",
    "perimetro = 2 * pi * radio\n",
    "area = pi * radio ** 2\n",
    "\n",
    "# Imprimir el resultado con un formato más claro\n",
    "print(f\"Perímetro: {perimetro:.1f}\")\n",
    "print(f\"Área: {area:.1f}\")"
   ]
  },
  {
   "cell_type": "markdown",
   "id": "be2295f7-4858-41c2-aacf-4595db24f058",
   "metadata": {
    "id": "be2295f7-4858-41c2-aacf-4595db24f058"
   },
   "source": [
    "**Ejercicio 03**\n",
    "\n",
    "Escriba un programa que calcule el promedio de 4 notas ingresadas por el usuario:\n",
    "\n",
    "\n",
    "```terminal\n",
    "Primera nota: 55\n",
    "Segunda nota: 71\n",
    "Tercera nota: 46\n",
    "Cuarta nota: 87\n",
    "El promedio es: 64.75\n",
    "```"
   ]
  },
  {
   "cell_type": "code",
   "execution_count": 4,
   "id": "a7279414-0c91-4eb3-a842-e08dabce9a31",
   "metadata": {
    "id": "a7279414-0c91-4eb3-a842-e08dabce9a31",
    "outputId": "eba55ce1-1aa8-4d08-e630-6e4623ac74e6",
    "tags": []
   },
   "outputs": [
    {
     "name": "stdout",
     "output_type": "stream",
     "text": [
      "El promedio es: 64.75\n"
     ]
    }
   ],
   "source": [
    "# Solicitar al usuario que ingrese las 4 notas\n",
    "nota1 = 55\n",
    "nota2 = 71\n",
    "nota3 = 46\n",
    "nota4 = 87\n",
    "\n",
    "# Calcular el promedio\n",
    "promedio = (nota1 + nota2 + nota3 + nota4) / 4\n",
    "\n",
    "# Imprimir el resultado\n",
    "print(f\"El promedio es: {promedio:.2f}\")"
   ]
  },
  {
   "cell_type": "markdown",
   "id": "03828e10-95d9-44fb-9f06-142d16df470f",
   "metadata": {
    "id": "03828e10-95d9-44fb-9f06-142d16df470f"
   },
   "source": [
    "**Ejercicio 04**\n",
    "\n",
    "Escriba un programa que convierta de centímetros a pulgadas. Una pulgada es igual a 2.54 centímetros.\n",
    "\n",
    "\n",
    "```terminal\n",
    "Ingrese longitud: 45\n",
    "45 cm = 17.7165 in\n",
    "```"
   ]
  },
  {
   "cell_type": "code",
   "execution_count": 5,
   "id": "32df43b6-a7d3-4ff7-9728-7bb6186af5f0",
   "metadata": {
    "id": "32df43b6-a7d3-4ff7-9728-7bb6186af5f0",
    "outputId": "5c0703d6-a8f6-4f1c-ced9-c6578f7c0409",
    "tags": []
   },
   "outputs": [
    {
     "name": "stdout",
     "output_type": "stream",
     "text": [
      "45 cm = 17.7165 in\n"
     ]
    }
   ],
   "source": [
    "# Solicitar al usuario que ingrese la longitud en centímetros\n",
    "longitud_cm = 45\n",
    "\n",
    "# Realizar la conversión a pulgadas\n",
    "longitud_in = longitud_cm / 2.54\n",
    "\n",
    "# Imprimir el resultado\n",
    "print(f\"{longitud_cm} cm = {longitud_in:.4f} in\")"
   ]
  },
  {
   "cell_type": "markdown",
   "id": "0bb72fb1-46be-4432-b776-3bf0ebb4f1b1",
   "metadata": {
    "id": "0bb72fb1-46be-4432-b776-3bf0ebb4f1b1"
   },
   "source": [
    "**Ejercicio 05**\n",
    "\n",
    "Escriba un programa que reciba como entrada las longitudes de los dos catetos $a$ y $b$ de un triángulo rectángulo, y que entregue como salida el largo de la hipotenusa $c$ del triangulo, dado por el teorema de Pitágoras: $c^2=a^2+b^2$.\n",
    "\n",
    "```terminal\n",
    "Ingrese cateto a: 7\n",
    "Ingrese cateto b: 5\n",
    "La hipotenusa es 8.6023252670426267\n",
    "```"
   ]
  },
  {
   "cell_type": "code",
   "execution_count": 6,
   "id": "a6a4a0bb-708c-47c3-8dd0-a8edac3da80e",
   "metadata": {
    "id": "a6a4a0bb-708c-47c3-8dd0-a8edac3da80e",
    "outputId": "cbf28a63-f6ce-4622-b6b1-9e01e59ac74f",
    "tags": []
   },
   "outputs": [
    {
     "name": "stdout",
     "output_type": "stream",
     "text": [
      "La hipotenusa es 8.602325267042627\n"
     ]
    }
   ],
   "source": [
    "# Solicitar al usuario que ingrese la longitud de los catetos\n",
    "cateto_a = 7\n",
    "cateto_b = 5\n",
    "\n",
    "# Calcular la hipotenusa utilizando el teorema de Pitágoras\n",
    "hipotenusa = (cateto_a ** 2 + cateto_b ** 2) ** 0.5\n",
    "\n",
    "# Imprimir el resultado\n",
    "print(f\"La hipotenusa es {hipotenusa}\")"
   ]
  },
  {
   "cell_type": "markdown",
   "id": "2f906313-7c49-4591-9544-080cdf1e87bb",
   "metadata": {
    "id": "2f906313-7c49-4591-9544-080cdf1e87bb"
   },
   "source": [
    "**Ejercicio 06**\n",
    "\n",
    "Escriba un programa que pregunte al usuario la hora actual $t$ del reloj y un número entero de horas $h$, que indique qué hora marcará el reloj dentro de $h$ horas:\n",
    "\n",
    "\n",
    "```terminal\n",
    "Hora actual: 23\n",
    "Cantidad de horas: 5\n",
    "En 5 horas, el reloj marcara las 4\n",
    "```"
   ]
  },
  {
   "cell_type": "code",
   "execution_count": 8,
   "id": "3a7cfa7a-c0d2-4e64-a9f9-ed8e45745a2f",
   "metadata": {
    "id": "3a7cfa7a-c0d2-4e64-a9f9-ed8e45745a2f",
    "outputId": "8be4e2eb-4df2-46b1-eb1c-770d8e43793c",
    "tags": []
   },
   "outputs": [
    {
     "name": "stdout",
     "output_type": "stream",
     "text": [
      "En 5 horas, el reloj marcará las 4\n"
     ]
    }
   ],
   "source": [
    "# Solicitar al usuario la hora actual y la cantidad de horas\n",
    "hora_actual = 23\n",
    "horas_pasadas = 5\n",
    "\n",
    "# Calcular la nueva hora\n",
    "nueva_hora = (hora_actual + horas_pasadas) % 24\n",
    "\n",
    "# Imprimir el resultado\n",
    "print(f\"En {horas_pasadas} horas, el reloj marcará las {nueva_hora}\")"
   ]
  },
  {
   "cell_type": "markdown",
   "id": "2503d629-965f-4a85-aae3-b938b858ca61",
   "metadata": {
    "id": "2503d629-965f-4a85-aae3-b938b858ca61"
   },
   "source": [
    "**Ejercicio 07**\n",
    "\n",
    "Un alumno desea saber que nota necesita en el tercer certamen para aprobar un ramo.\n",
    "\n",
    "El promedio del ramo se calcula con la siguiente formula.\n",
    "\n",
    "$$N_C=(C_1+C_2+C_3)/3$$\n",
    "$$ N_F=N_C⋅0.7+N_L⋅0.3$$\n",
    "\n",
    "\n",
    "Donde $N_C$ es el promedio de certámenes, $N_L$ el promedio de laboratorio y $N_F$ la nota final.\n",
    "\n",
    "Escriba un programa que pregunte al usuario las notas de los dos primeros certamen y la nota de laboratorio, y muestre la nota que necesita el alumno para aprobar el ramo con nota final 60.\n",
    "\n",
    "```terminal\n",
    "Ingrese nota certamen 1: 45\n",
    "Ingrese nota certamen 2: 55\n",
    "Ingrese nota laboratorio: 65\n",
    "Necesita nota 74 en el certamen 3\n",
    "```"
   ]
  },
  {
   "cell_type": "code",
   "execution_count": 14,
   "id": "fbafaea4",
   "metadata": {
    "id": "fbafaea4",
    "outputId": "d5ca6f10-5a7f-404e-cce3-29aefccdf1ba",
    "tags": []
   },
   "outputs": [
    {
     "name": "stdout",
     "output_type": "stream",
     "text": [
      "Necesita nota 74 en el certamen 3\n"
     ]
    }
   ],
   "source": [
    "# Solicitar al usuario las notas de los dos primeros certámenes y la nota de laboratorio\n",
    "certamen1 = 45\n",
    "certamen2 = 55\n",
    "laboratorio = 65\n",
    "\n",
    "\n",
    "# Calcular la nota necesaria en el tercer certamen para aprobar con nota final 60\n",
    "nota_necesaria = 3*((60-0.3*laboratorio)/0.7)-certamen1-certamen2\n",
    "\n",
    "# Imprimir la nota necesaria en el tercer certamen\n",
    "print(f\"Necesita nota {nota_necesaria:.0f} en el certamen 3\")"
   ]
  },
  {
   "cell_type": "markdown",
   "id": "787b2864-3425-4d92-abeb-037c370f3a66",
   "metadata": {},
   "source": [
    "**Ejercicio 08**\n",
    "\n",
    "Realice un programa que calcule el área de un triángulo a partir de las longitudes de sus lados.\n",
    "\n",
    "Para calcularlo puede utilizar la fórmula de Herón:\n",
    "\n",
    "$$\n",
    "    A = \\sqrt{s\\,(s-a)(s-b)(s-c)},\n",
    "$$\n",
    "donde $a$, $b$ y $c$ son las longitudes de cada lado y $s=\\dfrac{a+b+c}{2}$ es el semiperímetro.\n",
    "\n",
    "\n",
    "```terminal\n",
    "Ingrese longitud de lado 1: 3\n",
    "Ingrese longitud de lado 2: 4\n",
    "Ingrese longitud de lado 3: 5\n",
    "El área del triángulo es 6.0\n",
    "```"
   ]
  },
  {
   "cell_type": "code",
   "execution_count": 15,
   "id": "e79cd3cf-b534-44b0-bb1e-523e83ecb52d",
   "metadata": {
    "tags": []
   },
   "outputs": [
    {
     "name": "stdout",
     "output_type": "stream",
     "text": [
      "El área del triángulo es 6.0\n"
     ]
    }
   ],
   "source": [
    "import math\n",
    "\n",
    "# Solicitar al usuario las longitudes de los lados del triángulo\n",
    "lado1 = 3\n",
    "lado2 = 4\n",
    "lado3 = 5\n",
    "\n",
    "# Calcular el semiperímetro\n",
    "s = (lado1 + lado2 + lado3) / 2\n",
    "\n",
    "# Calcular el área utilizando la fórmula de Herón\n",
    "area = math.sqrt(s * (s - lado1) * (s - lado2) * (s - lado3))\n",
    "\n",
    "# Imprimir el resultado\n",
    "print(f\"El área del triángulo es {area:.1f}\")"
   ]
  },
  {
   "cell_type": "markdown",
   "id": "91147116-8baf-41e3-a89b-3eb8cec29000",
   "metadata": {
    "id": "91147116-8baf-41e3-a89b-3eb8cec29000"
   },
   "source": [
    "## Control de Flujo"
   ]
  },
  {
   "cell_type": "markdown",
   "id": "9f6131f6-648a-4d41-a98c-0eaa7fb48506",
   "metadata": {
    "id": "9f6131f6-648a-4d41-a98c-0eaa7fb48506"
   },
   "source": [
    "### if-elif-else\n",
    "\n",
    "**Ejercicio 01**\n",
    "\n",
    "Escriba un programa que determine si el número entero ingresado por el usuario es par o no.\n",
    "\n",
    "\n",
    "```terminal\n",
    "Ingrese un número: 4\n",
    "Su número es par\n",
    "```\n",
    "\n",
    "```terminal\n",
    "Ingrese un número: 3\n",
    "Su número es impar\n",
    "```"
   ]
  },
  {
   "cell_type": "code",
   "execution_count": 17,
   "id": "8e89681c-653d-40c2-918b-f3e03faa52a2",
   "metadata": {
    "id": "8e89681c-653d-40c2-918b-f3e03faa52a2",
    "outputId": "e1e822cd-6e01-4bc0-8b51-4d3b08f4a781",
    "tags": []
   },
   "outputs": [
    {
     "name": "stdout",
     "output_type": "stream",
     "text": [
      "Su número es par\n"
     ]
    }
   ],
   "source": [
    "# Solicitar al usuario que ingrese un número entero\n",
    "\n",
    "# Caso 01\n",
    "numero = 4 \n",
    "\n",
    "# Caso 02\n",
    "#numero = 3\n",
    "\n",
    "# Verificar si el número es par o impar\n",
    "if numero % 2 == 0:\n",
    "    print(\"Su número es par\")\n",
    "else:\n",
    "    print(\"Su número es impar\")"
   ]
  },
  {
   "cell_type": "markdown",
   "id": "7992405a-8643-4ee3-bf52-301c4520aec9",
   "metadata": {},
   "source": [
    "**Ejercicio 02**\n",
    "\n",
    "Escriba un programa que pida dos números enteros y que calcule la división, indicando si la división es exacta o no.\n",
    "\n",
    "\n",
    "\n",
    "```terminal\n",
    "Dividendo: 14\n",
    "Divisor: 5\n",
    "\n",
    "La división no es exacta.\n",
    "Cociente: 2\n",
    "Resto: 4\n",
    "```\n",
    "\n",
    "```python\n",
    "Dividendo: 100\n",
    "Divisor: 10\n",
    "\n",
    "La división es exacta.\n",
    "Cociente: 10\n",
    "Resto: 0\n",
    "```"
   ]
  },
  {
   "cell_type": "code",
   "execution_count": 20,
   "id": "b6c39e23-db31-4202-be99-eeec93aa5df2",
   "metadata": {
    "tags": []
   },
   "outputs": [
    {
     "name": "stdout",
     "output_type": "stream",
     "text": [
      "La división no es exacta.\n",
      "Cociente: 2\n",
      "Resto: 4\n"
     ]
    }
   ],
   "source": [
    "# Solicitar al usuario que ingrese el dividendo y el divisor\n",
    "\n",
    "# Caso 01\n",
    "dividendo = 14\n",
    "divisor = 5\n",
    "\n",
    "# Caso 02\n",
    "#dividendo = 100\n",
    "#divisor = 10\n",
    "\n",
    "# Calcular el cociente y el resto de la división\n",
    "cociente = dividendo // divisor\n",
    "resto = dividendo % divisor\n",
    "\n",
    "# Verificar si la división es exacta\n",
    "if resto == 0:\n",
    "    print(\"La división es exacta.\")\n",
    "else:\n",
    "    print(\"La división no es exacta.\")\n",
    "\n",
    "# Imprimir el cociente y el resto\n",
    "print(f\"Cociente: {cociente}\")\n",
    "print(f\"Resto: {resto}\")"
   ]
  },
  {
   "cell_type": "markdown",
   "id": "8403a470-c59f-4411-a031-7cf96e27eaad",
   "metadata": {},
   "source": [
    "**Ejercicio 03**\n",
    "\n",
    "Escriba un programa que pida al usuario dos palabras, y que indique cuál de ellas es la más larga y por cuántas letras lo es.\n",
    "\n",
    "```terminal\n",
    "Palabra 1: edificio\n",
    "Palabra 2: tren\n",
    "La palabra edificio tiene 4 letras mas que tren.\n",
    "```\n",
    "\n",
    "```terminal\n",
    "Palabra 1: sol\n",
    "Palabra 2: paralelepipedo\n",
    "La palabra paralelepipedo tiene 11 letras mas que sol\n",
    "```\n",
    "\n",
    "```terminal\n",
    "Palabra 1: plancha\n",
    "Palabra 2: lapices\n",
    "Las dos palabras tienen el mismo largo\n",
    "```"
   ]
  },
  {
   "cell_type": "code",
   "execution_count": 22,
   "id": "8729b645-fbda-4cdb-80f2-7cccef0cafde",
   "metadata": {
    "tags": []
   },
   "outputs": [
    {
     "name": "stdout",
     "output_type": "stream",
     "text": [
      "La palabra edificio tiene 4 letras más que tren.\n"
     ]
    }
   ],
   "source": [
    "# Solicitar al usuario que ingrese las dos palabras\n",
    "\n",
    "# Caso 01\n",
    "palabra1 = 'edificio'\n",
    "palabra2 = 'tren'\n",
    "\n",
    "# Caso 02\n",
    "#palabra1 = 'sol'\n",
    "#palabra2 = 'paralelepipedo'\n",
    "\n",
    "# Caso 03\n",
    "#palabra1 = 'plancha'\n",
    "#palabra2 = 'lapices'\n",
    "\n",
    "# Calcular la diferencia en la longitud de las palabras\n",
    "diferencia = abs(len(palabra1) - len(palabra2))\n",
    "\n",
    "# Determinar cuál palabra es más larga y construir el mensaje\n",
    "if len(palabra1) > len(palabra2):\n",
    "    mensaje = f\"La palabra {palabra1} tiene {diferencia} letras más que {palabra2}.\"\n",
    "elif len(palabra1) < len(palabra2):\n",
    "    mensaje = f\"La palabra {palabra2} tiene {diferencia} letras más que {palabra1}.\"\n",
    "else:\n",
    "    mensaje = \"Las dos palabras tienen el mismo largo.\"\n",
    "\n",
    "# Imprimir el resultado\n",
    "print(mensaje)"
   ]
  },
  {
   "cell_type": "markdown",
   "id": "76627e67-dc3a-4cdb-98c4-8d86dc072bde",
   "metadata": {},
   "source": [
    "**Ejercicio 04**\n",
    "\n",
    "Un año es [bisiesto](https://es.wikipedia.org/wiki/A%C3%B1o_bisiesto) si es divisible por $4$, excepto si es divisible por $100$ y no por $400$. \n",
    " Escriba un programa que reciba un año como entrada e indique `True` si un año es bisiesto o `False` si no lo es.\n",
    "\n",
    "```terminal\n",
    "Ingrese un anno: 1988\n",
    "1988 es bisiesto\n",
    "```\n",
    "\n",
    "\n",
    "\n",
    "```terminal\n",
    "Ingrese un anno: 2011\n",
    "2011 no es bisiesto\n",
    "```\n",
    "\n",
    "\n",
    "```terminal\n",
    "Ingrese un anno: 1700\n",
    "1700 no es bisiesto\n",
    "```\n",
    "\n",
    "\n",
    "```terminal\n",
    "Ingrese un anno: 2400\n",
    "2400 es bisiesto\n",
    "```"
   ]
  },
  {
   "cell_type": "code",
   "execution_count": 25,
   "id": "9df51c14-9e16-4046-88e2-5ea4176f8193",
   "metadata": {
    "tags": []
   },
   "outputs": [
    {
     "name": "stdout",
     "output_type": "stream",
     "text": [
      "1988 es bisiesto\n"
     ]
    }
   ],
   "source": [
    "# Solicitar al usuario que ingrese un año\n",
    "\n",
    "# Caso 01\n",
    "anno = 1988\n",
    "\n",
    "# Caso 02\n",
    "#anno = 2011\n",
    "\n",
    "# Caso 03\n",
    "#anno = 1700\n",
    "\n",
    "# Caso 04\n",
    "#anno = 2400\n",
    "\n",
    "# Verificar si el año es bisiesto\n",
    "if (anno % 4 == 0 and anno % 100 != 0) or anno % 400 == 0:\n",
    "    print(f\"{anno} es bisiesto\")\n",
    "else:\n",
    "    print(f\"{anno} no es bisiesto\")"
   ]
  },
  {
   "cell_type": "markdown",
   "id": "f40907fa-41af-4bab-845b-8240906b9a4c",
   "metadata": {},
   "source": [
    "**Ejercicio 05**\n",
    "\n",
    "Los tres lados $a, b$ y $c$ de un triángulo deben satisfacer la [desigualdad triangular](https://es.wikipedia.org/wiki/Desigualdad_triangular): cada uno de los lados no puede ser más largo que la suma de los otros dos.\n",
    "\n",
    "Escriba un programa que reciba como entrada los tres lados de un triángulo, e indique:\n",
    "\n",
    "* si acaso el triángulo es inválido\n",
    "* si el triángulo es válido, qué [tipo de triángulo](https://www.universoformulas.com/matematicas/geometria/tipos-triangulos/) es.\n",
    "\n",
    "```terminal\n",
    "Ingrese a: 3.9\n",
    "Ingrese b: 6.0\n",
    "Ingrese c: 1.2\n",
    "No es un triangulo valido.\n",
    "```\n",
    "\n",
    "```terminal\n",
    "Ingrese a: 1.9\n",
    "Ingrese b: 2\n",
    "Ingrese c: 2\n",
    "El triangulo es isoceles.\n",
    "```\n",
    "\n",
    "```terminal\n",
    "Ingrese a: 3.0\n",
    "Ingrese b: 5.0\n",
    "Ingrese c: 4.0\n",
    "El triangulo es escaleno.\n",
    "```\n",
    "\n",
    "```terminal\n",
    "Ingrese a: 2\n",
    "Ingrese b: 2\n",
    "Ingrese c: 2\n",
    "El triangulo es equilatero.\n",
    "```"
   ]
  },
  {
   "cell_type": "code",
   "execution_count": 31,
   "id": "d30e089e-74d6-467b-9e4f-549faaec3d3f",
   "metadata": {
    "tags": []
   },
   "outputs": [
    {
     "name": "stdout",
     "output_type": "stream",
     "text": [
      "No es un triángulo válido.\n"
     ]
    }
   ],
   "source": [
    "# Solicitar al usuario que ingrese los lados del triángulo\n",
    "\n",
    "# Caso 01\n",
    "a = 3.9\n",
    "b = 6.0\n",
    "c = 1.2\n",
    "\n",
    "# Caso 02\n",
    "#a = 1.9\n",
    "#b = 1.9\n",
    "#c = 2.0\n",
    "\n",
    "# Caso 03\n",
    "#a = 3.0\n",
    "#b = 5.0\n",
    "#c = 4.0\n",
    "\n",
    "# Caso 04\n",
    "#a = 2.0\n",
    "#b = 2.0\n",
    "#c = 2.0\n",
    "\n",
    "# Verificar si es un triángulo válido\n",
    "if a + b > c and a + c > b and b + c > a:\n",
    "    if a == b == c:\n",
    "        print(\"El triángulo es equilátero.\")\n",
    "    elif a == b or a == c or b == c:\n",
    "        print(\"El triángulo es isósceles.\")\n",
    "    else:\n",
    "        print(\"El triángulo es escaleno.\")\n",
    "else:\n",
    "    print(\"No es un triángulo válido.\")"
   ]
  },
  {
   "cell_type": "markdown",
   "id": "1408b9b3-76b3-45e0-a78b-ee91aecca683",
   "metadata": {},
   "source": [
    "**Ejercicio 06**\n",
    "\n",
    "El riesgo de que una persona sufra enfermedades coronarias depende de su edad y su índice de masa corporal:\n",
    "\n",
    "\n",
    "|            | edad < 45 | edad ≥ 45 |\n",
    "|------------|-----------|-----------|\n",
    "| IMC < 22.0 | bajo      | medio     |\n",
    "| IMC ≥ 22.0 | medio     | alto      |\n",
    "\n",
    "El índice de masa corporal es el cuociente entre el peso del individuo en kilos y el cuadrado de su estatura en metros ($IMC = \\dfrac{peso}{estatura^2} $).\n",
    "\n",
    "Escriba un programa que reciba como entrada la estatura, el peso y la edad de una persona, y le entregue su condición de riesgo.\n",
    "\n",
    "**ejemplos**\n",
    "\n",
    "* Si el usuario ingresa una estatura de 1.75 metros, un peso de 70 kilogramos y una edad de 30 años, el programa mostrará: \"La condición de riesgo es: medio\".\n",
    "* Si el usuario ingresa una estatura de 1.65 metros, un peso de 90 kilogramos y una edad de 50 años, el programa mostrará: \"La condición de riesgo es: alto\"."
   ]
  },
  {
   "cell_type": "code",
   "execution_count": 35,
   "id": "ac18543e-8cf8-4584-a791-15ed0b41435d",
   "metadata": {
    "tags": []
   },
   "outputs": [
    {
     "name": "stdout",
     "output_type": "stream",
     "text": [
      "La condición de riesgo es: alto\n"
     ]
    }
   ],
   "source": [
    "# Solicitar al usuario que ingrese la estatura, peso y edad\n",
    "estatura = 1.65\n",
    "peso = 180\n",
    "edad = 45\n",
    "\n",
    "# Calcular el índice de masa corporal (IMC)\n",
    "imc = peso / (estatura ** 2)\n",
    "\n",
    "# Determinar la condición de riesgo\n",
    "if edad < 45:\n",
    "    if imc < 22.0:\n",
    "        riesgo = \"bajo\"\n",
    "    else:\n",
    "        riesgo = \"medio\"\n",
    "else:\n",
    "    if imc < 22.0:\n",
    "        riesgo = \"medio\"\n",
    "    else:\n",
    "        riesgo = \"alto\"\n",
    "\n",
    "# Imprimir la condición de riesgo\n",
    "print(f\"La condición de riesgo es: {riesgo}\")"
   ]
  },
  {
   "cell_type": "markdown",
   "id": "56636fea-46c1-4fd8-8b6b-a27f6eb30b7b",
   "metadata": {},
   "source": [
    "**Ejercicio 07**\n",
    "\n",
    "Un número natural es un [palíndromo](https://es.wikipedia.org/wiki/Pal%C3%ADndromo) si se lee igual de izquierda a derecha y de derecha a izquierda.\n",
    "\n",
    "Por ejemplo, $14941$ es un palíndromo, mientras que $81924$ no lo es.\n",
    "\n",
    "Escriba un programa que indique si el número ingresado es o no palíndromo:\n",
    "\n",
    "```terminal\n",
    "Ingrese un numero: 14941\n",
    "14941 es palindromo\n",
    "```\n",
    "\n",
    "```terminal\n",
    "Ingrese un numero: 81924\n",
    "81924 no es palindromo\n",
    "```\n",
    "\n",
    "> **Hint**: Para encontrar el inverso de un string en Python, puedes utilizar la técnica de `texto[::-1]`. "
   ]
  },
  {
   "cell_type": "code",
   "execution_count": 40,
   "id": "cff15792-052b-4abe-a49a-f77d7fed3fd9",
   "metadata": {
    "tags": []
   },
   "outputs": [
    {
     "name": "stdout",
     "output_type": "stream",
     "text": [
      "14941 es un palíndromo\n"
     ]
    }
   ],
   "source": [
    "# Solicitar al usuario que ingrese un número\n",
    "\n",
    "# Caso 01\n",
    "numero = '14941'\n",
    "\n",
    "# Caso 02\n",
    "#numero = '81924'\n",
    "\n",
    "\n",
    "# Obtener el número en su versión invertida\n",
    "numero_invertido = numero[::-1]\n",
    "\n",
    "# Verificar si el número y su versión invertida son iguales\n",
    "if numero == numero_invertido:\n",
    "    print(f\"{numero} es un palíndromo\")\n",
    "else:\n",
    "    print(f\"{numero} no es un palíndromo\")"
   ]
  },
  {
   "cell_type": "markdown",
   "id": "dfcd7413-16b1-4df9-a367-a6cabdd68288",
   "metadata": {},
   "source": [
    "### While\n",
    "\n",
    "**Ejercicio 01**\n",
    "\n",
    "Solicita al usuario un número y muestra un contador regresivo desde ese número hasta 1. Utiliza la declaración `while` para resolver este problema.\n",
    "\n",
    "```\n",
    "Ingrese un número: 5\n",
    "Contador regresivo desde 5 hasta 1:\n",
    "5\n",
    "4\n",
    "3\n",
    "2\n",
    "1\n",
    "```"
   ]
  },
  {
   "cell_type": "code",
   "execution_count": 41,
   "id": "ef07f7e6-8e0e-4dd2-b02c-85d81ae16e3d",
   "metadata": {
    "tags": []
   },
   "outputs": [
    {
     "name": "stdout",
     "output_type": "stream",
     "text": [
      "Contador regresivo desde 5 hasta 1:\n",
      "5\n",
      "4\n",
      "3\n",
      "2\n",
      "1\n"
     ]
    }
   ],
   "source": [
    "# Solicitar al usuario que ingrese un número\n",
    "numero = 5\n",
    "\n",
    "# Mostrar un contador regresivo desde el número ingresado hasta 1\n",
    "print(\"Contador regresivo desde\", numero, \"hasta 1:\")\n",
    "while numero >= 1:\n",
    "    print(numero)\n",
    "    numero -= 1"
   ]
  },
  {
   "cell_type": "markdown",
   "id": "b7f8d373-d7e4-4e7e-8460-509708e86fb9",
   "metadata": {},
   "source": [
    "**Ejercicio 02**\n",
    "\n",
    "Solicita al usuario un número y calcula la suma de todos los números pares desde 2 hasta ese número. Utiliza la declaración `while` para resolver este problema.\n",
    "\n",
    "```\n",
    "Ingrese un número: 10\n",
    "La suma de números pares desde 2 hasta 10 es 30\n",
    "```"
   ]
  },
  {
   "cell_type": "code",
   "execution_count": 42,
   "id": "98972543-8354-4c25-974e-cf738f7cd346",
   "metadata": {
    "tags": []
   },
   "outputs": [
    {
     "name": "stdout",
     "output_type": "stream",
     "text": [
      "La suma de números pares desde 2 hasta 10 es 30\n"
     ]
    }
   ],
   "source": [
    "# Solicitar al usuario que ingrese un número\n",
    "numero = 10\n",
    "\n",
    "# Inicializar la suma y el contador\n",
    "suma = 0\n",
    "contador = 2\n",
    "\n",
    "# Calcular la suma de números pares desde 2 hasta el número ingresado\n",
    "while contador <= numero:\n",
    "    suma += contador\n",
    "    contador += 2  # Avanzar al siguiente número par\n",
    "\n",
    "# Imprimir el resultado\n",
    "print(f\"La suma de números pares desde 2 hasta {numero} es {suma}\")"
   ]
  },
  {
   "cell_type": "markdown",
   "id": "0943fc21-047a-4155-9f39-a3846014b89f",
   "metadata": {},
   "source": [
    "**Ejercicio 03**\n",
    "\n",
    "Solicita al usuario un número entero y suma todos sus dígitos. Utiliza la declaración `while` para resolver este problema.\n",
    "\n",
    "```\n",
    "Ingrese un número entero: 12345\n",
    "La suma de los dígitos es 15\n",
    "```"
   ]
  },
  {
   "cell_type": "code",
   "execution_count": 43,
   "id": "6cafcdf7-691d-49a8-bdcd-1d109327eb58",
   "metadata": {
    "tags": []
   },
   "outputs": [
    {
     "name": "stdout",
     "output_type": "stream",
     "text": [
      "La suma de los dígitos es 15\n"
     ]
    }
   ],
   "source": [
    "# Solicitar al usuario que ingrese un número entero\n",
    "numero = 12345\n",
    "\n",
    "# Inicializar la suma y el contador\n",
    "suma_digitos = 0\n",
    "\n",
    "# Calcular la suma de los dígitos\n",
    "while numero > 0:\n",
    "    # Obtener el último dígito y sumarlo\n",
    "    digito = numero % 10\n",
    "    suma_digitos += digito\n",
    "    \n",
    "    # Eliminar el último dígito\n",
    "    numero //= 10\n",
    "\n",
    "# Imprimir el resultado\n",
    "print(f\"La suma de los dígitos es {suma_digitos}\")"
   ]
  },
  {
   "cell_type": "markdown",
   "id": "2fb396b6-7be9-4640-a82c-e6cdf47e2e8e",
   "metadata": {},
   "source": [
    "**Ejercicio 04**\n",
    "\n",
    "Pide al usuario un número y cuenta cuántos de sus dígitos son pares. Utiliza la declaración `while` para resolver este problema.\n",
    "\n",
    "```\n",
    "Ingrese un número: 123456\n",
    "El número tiene 3 dígitos pares.\n",
    "```"
   ]
  },
  {
   "cell_type": "code",
   "execution_count": 1,
   "id": "9d7a806f-ed67-4185-bf1a-f86333121722",
   "metadata": {},
   "outputs": [
    {
     "name": "stdout",
     "output_type": "stream",
     "text": [
      "El número tiene 3 dígitos pares.\n"
     ]
    }
   ],
   "source": [
    "# Solicitar al usuario que ingrese un número\n",
    "numero = 123456\n",
    "\n",
    "# Inicializar el contador de dígitos pares\n",
    "contador_pares = 0\n",
    "\n",
    "# Contar los dígitos pares\n",
    "while numero > 0:\n",
    "    digito = numero % 10\n",
    "    if digito % 2 == 0:\n",
    "        contador_pares += 1\n",
    "    numero //= 10\n",
    "\n",
    "# Imprimir el resultado\n",
    "print(f\"El número tiene {contador_pares} dígitos pares.\")"
   ]
  },
  {
   "cell_type": "markdown",
   "id": "9d004854-ae27-446c-ac13-9b75cb53cfd7",
   "metadata": {},
   "source": [
    "**Ejercicio 05**\n",
    "\n",
    "Solicita al usuario un número y cuenta cuántos números en el rango de 1 a ese número son divisibles por 7. Utiliza la declaración `while` para resolver este problema.\n",
    "\n",
    "```\n",
    "Ingrese un número: 20\n",
    "Hay 2 números divisibles por 7 en el rango de 1 a 20.\n",
    "```"
   ]
  },
  {
   "cell_type": "code",
   "execution_count": 2,
   "id": "97d3a0e3-1922-4e3e-8a90-419778fc2081",
   "metadata": {},
   "outputs": [
    {
     "name": "stdout",
     "output_type": "stream",
     "text": [
      "Hay 2 números divisibles por 7 en el rango de 1 a 20.\n"
     ]
    }
   ],
   "source": [
    "# Solicitar al usuario que ingrese un número\n",
    "numero = 20\n",
    "\n",
    "# Inicializar el contador de números divisibles por 7\n",
    "contador_divisibles = 0\n",
    "\n",
    "# Contar los números divisibles por 7 en el rango de 1 a numero\n",
    "numero_actual = 1\n",
    "while numero_actual <= numero:\n",
    "    if numero_actual % 7 == 0:\n",
    "        contador_divisibles += 1\n",
    "    numero_actual += 1\n",
    "\n",
    "# Imprimir el resultado\n",
    "print(f\"Hay {contador_divisibles} números divisibles por 7 en el rango de 1 a {numero}.\")"
   ]
  },
  {
   "cell_type": "markdown",
   "id": "9e4fd82e-e300-451b-adb6-1c2c6ce61b8b",
   "metadata": {},
   "source": [
    "**Ejercicio 06**\n",
    "\n",
    "Solicita al usuario un número y cuenta cuántos de sus dígitos son impares. Utiliza la declaración `while` para resolver este problema.\n",
    "\n",
    "```\n",
    "Ingrese un número: 7654321\n",
    "El número tiene 4 dígitos impares.\n",
    "```"
   ]
  },
  {
   "cell_type": "code",
   "execution_count": 4,
   "id": "fe8ea9e6-bf3c-4284-9555-fae6bcfadef4",
   "metadata": {},
   "outputs": [
    {
     "name": "stdout",
     "output_type": "stream",
     "text": [
      "El número tiene 4 dígitos impares.\n"
     ]
    }
   ],
   "source": [
    "# Solicitar al usuario que ingrese un número\n",
    "numero = 7654321\n",
    "\n",
    "# Inicializar el contador de dígitos impares\n",
    "contador_impares = 0\n",
    "\n",
    "# Contar los dígitos impares\n",
    "while numero > 0:\n",
    "    digito = numero % 10\n",
    "    if digito % 2 != 0:\n",
    "        contador_impares += 1\n",
    "    numero //= 10\n",
    "\n",
    "# Imprimir el resultado\n",
    "print(f\"El número tiene {contador_impares} dígitos impares.\")"
   ]
  },
  {
   "cell_type": "markdown",
   "id": "dd40b7af-5c6a-456c-a60b-2a49fd7a3f10",
   "metadata": {},
   "source": [
    "### Range\n",
    "\n",
    "**Ejercicio 01**\n",
    "\n",
    "Calcula la suma de todos los números pares desde 1 hasta un número dado ($n$). Utiliza la declaración `range` para resolver este problema.\n",
    "\n",
    "```\n",
    "Ingrese un número: 10\n",
    "La suma de números pares desde 1 hasta 10 es 30\n",
    "```"
   ]
  },
  {
   "cell_type": "code",
   "execution_count": 5,
   "id": "82817b13-2755-40e6-b30e-c036be444c11",
   "metadata": {},
   "outputs": [
    {
     "name": "stdout",
     "output_type": "stream",
     "text": [
      "La suma de números pares desde 1 hasta 10 es 30\n"
     ]
    }
   ],
   "source": [
    "# Solicitar al usuario que ingrese un número\n",
    "n = 10\n",
    "\n",
    "# Inicializar la suma\n",
    "suma_pares = 0\n",
    "\n",
    "# Calcular la suma de números pares desde 1 hasta n\n",
    "for i in range(2, n + 1, 2):\n",
    "    suma_pares += i\n",
    "\n",
    "# Imprimir el resultado\n",
    "print(f\"La suma de números pares desde 1 hasta {n} es {suma_pares}\")"
   ]
  },
  {
   "cell_type": "markdown",
   "id": "ecf676be-998d-4d69-ab12-9af4d545946f",
   "metadata": {},
   "source": [
    "**Ejercicio 02**\n",
    "\n",
    "Muestra un contador regresivo desde un número ($n$) dado hasta 1. Utiliza la declaración `range` para resolver este problema.\n",
    "\n",
    "```\n",
    "Ingrese un número: 5\n",
    "Contador regresivo desde 5 hasta 1:\n",
    "5\n",
    "4\n",
    "3\n",
    "2\n",
    "1\n",
    "```"
   ]
  },
  {
   "cell_type": "code",
   "execution_count": 6,
   "id": "c8a7e0ae-7c36-439f-be5c-79117a46b7a8",
   "metadata": {},
   "outputs": [
    {
     "name": "stdout",
     "output_type": "stream",
     "text": [
      "Contador regresivo desde 5 hasta 1:\n",
      "5\n",
      "4\n",
      "3\n",
      "2\n",
      "1\n"
     ]
    }
   ],
   "source": [
    "# Solicitar al usuario que ingrese un número\n",
    "n = 5\n",
    "\n",
    "# Mostrar un contador regresivo desde n hasta 1\n",
    "print(f\"Contador regresivo desde {n} hasta 1:\")\n",
    "for i in range(n, 0, -1):\n",
    "    print(i)"
   ]
  },
  {
   "cell_type": "markdown",
   "id": "cbfec486-7f2f-4429-91ec-28090c183f63",
   "metadata": {},
   "source": [
    "**Ejercicio 03**\n",
    "\n",
    "Muestra la tabla de multiplicar de un número dado. Utiliza la declaración `range` para resolver este problema.\n",
    "\n",
    "```\n",
    "Ingrese un número: 7\n",
    "Tabla de multiplicar del 7:\n",
    "7 x 1 = 7\n",
    "7 x 2 = 14\n",
    "7 x 3 = 21\n",
    "7 x 4 = 28\n",
    "7 x 5 = 35\n",
    "7 x 6 = 42\n",
    "7 x 7 = 49\n",
    "7 x 8 = 56\n",
    "7 x 9 = 63\n",
    "7 x 10 = 70\n",
    "```"
   ]
  },
  {
   "cell_type": "code",
   "execution_count": 7,
   "id": "4daaab15-446b-48b5-9e0d-69b155e5f680",
   "metadata": {},
   "outputs": [
    {
     "name": "stdout",
     "output_type": "stream",
     "text": [
      "Tabla de multiplicar del 7:\n",
      "7 x 1 = 7\n",
      "7 x 2 = 14\n",
      "7 x 3 = 21\n",
      "7 x 4 = 28\n",
      "7 x 5 = 35\n",
      "7 x 6 = 42\n",
      "7 x 7 = 49\n",
      "7 x 8 = 56\n",
      "7 x 9 = 63\n",
      "7 x 10 = 70\n"
     ]
    }
   ],
   "source": [
    "# Solicitar al usuario que ingrese un número\n",
    "n = 7\n",
    "\n",
    "# Mostrar la tabla de multiplicar de n\n",
    "print(f\"Tabla de multiplicar del {n}:\")\n",
    "for i in range(1, 11):\n",
    "    resultado = n * i\n",
    "    print(f\"{n} x {i} = {resultado}\")"
   ]
  },
  {
   "cell_type": "markdown",
   "id": "c1d2999d-20ef-4c61-9993-055fcf23438a",
   "metadata": {},
   "source": [
    "**Ejercicio 04**\n",
    "\n",
    "Escribe un programa que solicite al usuario un número entero positivo y luego calcule la suma de los cuadrados de todos los números desde 1 hasta el número ingresado. Utiliza la declaración `range` para generar los números en el rango y luego suma los cuadrados de esos números.\n",
    "\n",
    "**Ejemplos**\n",
    "\n",
    "1. Si el usuario ingresa el número 4, el programa calculará la suma de los cuadrados de los números desde 1 hasta 4 de la siguiente manera:\n",
    "\n",
    "   Suma = $1^2 + 2^2 + 3^2 + 4^2 = 1 + 4 + 9 + 16 = 30$\n",
    "\n",
    "   El programa mostrará: \"La suma de los cuadrados de los números en el rango de 1 a 4 es 30.\""
   ]
  },
  {
   "cell_type": "code",
   "execution_count": 9,
   "id": "e60c7cb3-2042-4970-a84f-51b47142eeb4",
   "metadata": {},
   "outputs": [
    {
     "name": "stdout",
     "output_type": "stream",
     "text": [
      "La suma de los cuadrados de los números en el rango de 1 a 4 es 30\n"
     ]
    }
   ],
   "source": [
    "# Solicitar al usuario que ingrese un número entero positivo\n",
    "n = 4\n",
    "\n",
    "# Inicializar la suma de cuadrados\n",
    "suma_cuadrados = 0\n",
    "\n",
    "# Calcular la suma de los cuadrados de los números en el rango de 1 a n\n",
    "for numero in range(1, n + 1):\n",
    "    cuadrado = numero ** 2\n",
    "    suma_cuadrados += cuadrado\n",
    "\n",
    "# Imprimir el resultado\n",
    "print(f\"La suma de los cuadrados de los números en el rango de 1 a {n} es {suma_cuadrados}\")"
   ]
  },
  {
   "cell_type": "markdown",
   "id": "ef019812-69cb-45e4-a45e-a92cb55a89ff",
   "metadata": {},
   "source": [
    "### Break & Continue\n",
    "\n",
    "**Ejercicio 01**\n",
    "\n",
    "Solicita al usuario un número y cuenta cuántos de sus dígitos son pares. Utiliza la declaración `continue` para omitir los dígitos impares.\n",
    "\n",
    "```\n",
    "Ingrese un número: 123456\n",
    "El número tiene 3 dígitos pares.\n",
    "```"
   ]
  },
  {
   "cell_type": "code",
   "execution_count": 10,
   "id": "a1f1414d-0215-4880-90b5-a951aab8cc4b",
   "metadata": {},
   "outputs": [
    {
     "name": "stdout",
     "output_type": "stream",
     "text": [
      "El número tiene 3 dígitos pares.\n"
     ]
    }
   ],
   "source": [
    "# Solicitar al usuario que ingrese un número\n",
    "numero = 123456\n",
    "\n",
    "# Inicializar el contador de dígitos pares\n",
    "contador_pares = 0\n",
    "\n",
    "# Contar los dígitos pares\n",
    "while numero > 0:\n",
    "    digito = numero % 10\n",
    "    if digito % 2 != 0:\n",
    "        # Si el dígito es impar, omitirlo\n",
    "        numero //= 10\n",
    "        continue\n",
    "    contador_pares += 1\n",
    "    numero //= 10\n",
    "\n",
    "# Imprimir el resultado\n",
    "print(f\"El número tiene {contador_pares} dígitos pares.\")"
   ]
  },
  {
   "cell_type": "markdown",
   "id": "c53f810b-d431-4159-b68e-bec63d3719a6",
   "metadata": {},
   "source": [
    "**Ejercicio 02**\n",
    "\n",
    "Calcula la suma de los números en un rango dado (por ejemplo, de 1 a 10), pero omite los múltiplos de 3 utilizando la declaración `continue`.\n",
    "\n",
    "```\n",
    "Ingrese un número: 10\n",
    "La suma de los números no divisibles por 3 en el rango de 1 a 10 es 37\n",
    "```"
   ]
  },
  {
   "cell_type": "code",
   "execution_count": 12,
   "id": "1bceaef3-2881-4677-8fe2-b8238fc5d617",
   "metadata": {},
   "outputs": [
    {
     "name": "stdout",
     "output_type": "stream",
     "text": [
      "La suma de los números no divisibles por 3 en el rango de 1 a 10 es 37\n"
     ]
    }
   ],
   "source": [
    "# Solicitar al usuario que ingrese un número\n",
    "n = 10\n",
    "\n",
    "# Inicializar la suma\n",
    "suma = 0\n",
    "\n",
    "# Calcular la suma de los números en el rango de 1 a n, omitiendo los múltiplos de 3\n",
    "for numero in range(1, n + 1):\n",
    "    if numero % 3 == 0:\n",
    "        # Si es múltiplo de 3, omitirlo\n",
    "        continue\n",
    "    suma += numero\n",
    "\n",
    "# Imprimir el resultado\n",
    "print(f\"La suma de los números no divisibles por 3 en el rango de 1 a {n} es {suma}\")"
   ]
  },
  {
   "cell_type": "markdown",
   "id": "c9605aff-d865-45ba-babb-6bded850c867",
   "metadata": {},
   "source": [
    "**Ejercicio 03**\n",
    "\n",
    "Dada una lista de números enteros, solicita al usuario un número objetivo y busca si el número está en la lista. Utiliza un bucle con `break` para detener la búsqueda una vez que encuentres el número o determines que no está en la lista."
   ]
  },
  {
   "cell_type": "code",
   "execution_count": 17,
   "id": "8097cdba-08c5-4e59-a76e-2650a0113970",
   "metadata": {},
   "outputs": [
    {
     "name": "stdout",
     "output_type": "stream",
     "text": [
      "El número 10 no se encontró en la lista.\n"
     ]
    }
   ],
   "source": [
    "# Lista de números\n",
    "numeros = [12, 45, 23, 7, 18, 35, 9, 42]\n",
    "\n",
    "# Solicitar al usuario un número objetivo\n",
    "objetivo = 10\n",
    "\n",
    "# Inicializar una variable para verificar si se encontró el número\n",
    "encontrado = False\n",
    "\n",
    "# Recorrer la lista de números\n",
    "for numero in numeros:\n",
    "    if numero == objetivo:\n",
    "        encontrado = True\n",
    "        break  # Detener la búsqueda una vez que se encuentra el número\n",
    "\n",
    "# Comprobar si se encontró el número o no\n",
    "if encontrado:\n",
    "    print(f\"El número {objetivo} fue encontrado en la lista.\")\n",
    "else:\n",
    "    print(f\"El número {objetivo} no se encontró en la lista.\")"
   ]
  },
  {
   "cell_type": "markdown",
   "id": "705856d9-3b65-401d-90a4-3755b8c570cf",
   "metadata": {},
   "source": [
    "**Ejercicio 04**\n",
    "\n",
    "Simula un juego en el que la computadora \"piensa\" en un número y el jugador intenta adivinarlo. Crea un bucle que permita al jugador hacer intentos para adivinar el número, y utiliza `break` para salir del bucle si el jugador adivina el número o excede un número máximo de intentos."
   ]
  },
  {
   "cell_type": "code",
   "execution_count": 19,
   "id": "768bad9d-3775-43b1-a6b8-49c28ff2c1c5",
   "metadata": {
    "tags": []
   },
   "outputs": [
    {
     "name": "stdout",
     "output_type": "stream",
     "text": [
      "Bienvenido al juego de adivinar el número.\n",
      "Estoy pensando en un número entre 1 y 100. Adivina cuál es.\n",
      "Tienes un máximo de 10 intentos.\n"
     ]
    },
    {
     "name": "stdin",
     "output_type": "stream",
     "text": [
      "Intento 1: Ingresa un número:  1\n"
     ]
    },
    {
     "name": "stdout",
     "output_type": "stream",
     "text": [
      "El número es más alto. Inténtalo de nuevo.\n"
     ]
    },
    {
     "name": "stdin",
     "output_type": "stream",
     "text": [
      "Intento 2: Ingresa un número:  30\n"
     ]
    },
    {
     "name": "stdout",
     "output_type": "stream",
     "text": [
      "El número es más alto. Inténtalo de nuevo.\n"
     ]
    },
    {
     "name": "stdin",
     "output_type": "stream",
     "text": [
      "Intento 3: Ingresa un número:  50\n"
     ]
    },
    {
     "name": "stdout",
     "output_type": "stream",
     "text": [
      "El número es más alto. Inténtalo de nuevo.\n"
     ]
    },
    {
     "name": "stdin",
     "output_type": "stream",
     "text": [
      "Intento 4: Ingresa un número:  80\n"
     ]
    },
    {
     "name": "stdout",
     "output_type": "stream",
     "text": [
      "El número es más alto. Inténtalo de nuevo.\n"
     ]
    },
    {
     "name": "stdin",
     "output_type": "stream",
     "text": [
      "Intento 5: Ingresa un número:  90\n"
     ]
    },
    {
     "name": "stdout",
     "output_type": "stream",
     "text": [
      "El número es más alto. Inténtalo de nuevo.\n"
     ]
    },
    {
     "name": "stdin",
     "output_type": "stream",
     "text": [
      "Intento 6: Ingresa un número:  95\n"
     ]
    },
    {
     "name": "stdout",
     "output_type": "stream",
     "text": [
      "El número es más alto. Inténtalo de nuevo.\n"
     ]
    },
    {
     "name": "stdin",
     "output_type": "stream",
     "text": [
      "Intento 7: Ingresa un número:  99\n"
     ]
    },
    {
     "name": "stdout",
     "output_type": "stream",
     "text": [
      "El número es más bajo. Inténtalo de nuevo.\n"
     ]
    },
    {
     "name": "stdin",
     "output_type": "stream",
     "text": [
      "Intento 8: Ingresa un número:  98\n"
     ]
    },
    {
     "name": "stdout",
     "output_type": "stream",
     "text": [
      "¡Felicidades! Adivinaste el número 98 en 8 intentos.\n"
     ]
    }
   ],
   "source": [
    "import random\n",
    "\n",
    "# Generar un número aleatorio entre 1 y 100\n",
    "numero_secreto = random.randint(1, 100)\n",
    "\n",
    "# Número máximo de intentos permitidos\n",
    "intentos_maximos = 10\n",
    "\n",
    "print(\"Bienvenido al juego de adivinar el número.\")\n",
    "print(f\"Estoy pensando en un número entre 1 y 100. Adivina cuál es.\")\n",
    "print(f\"Tienes un máximo de {intentos_maximos} intentos.\")\n",
    "\n",
    "# Bucle principal\n",
    "for intento in range(1, intentos_maximos + 1):\n",
    "    # Solicitar al jugador que ingrese un número\n",
    "    intento_jugador = int(input(f\"Intento {intento}: Ingresa un número: \"))\n",
    "\n",
    "    # Comprobar si el jugador adivinó el número\n",
    "    if intento_jugador == numero_secreto:\n",
    "        print(f\"¡Felicidades! Adivinaste el número {numero_secreto} en {intento} intentos.\")\n",
    "        break  # Salir del bucle, el juego ha terminado\n",
    "\n",
    "    # Comprobar si el intento es demasiado alto o bajo\n",
    "    if intento_jugador < numero_secreto:\n",
    "        print(\"El número es más alto. Inténtalo de nuevo.\")\n",
    "    else:\n",
    "        print(\"El número es más bajo. Inténtalo de nuevo.\")\n",
    "\n",
    "# Si el jugador no adivinó después de los intentos máximos\n",
    "else:\n",
    "    print(f\"Agotaste tus {intentos_maximos} intentos. El número secreto era {numero_secreto}. ¡Mejor suerte la próxima vez!\")"
   ]
  },
  {
   "cell_type": "markdown",
   "id": "19e0d15f-2fc7-4eb0-8ce4-08eabdfae0f1",
   "metadata": {},
   "source": [
    "## Estructura de Datos"
   ]
  },
  {
   "cell_type": "markdown",
   "id": "38d7060f-ff7f-488f-a73a-c3fb30a8abbc",
   "metadata": {},
   "source": [
    "### Listas\n",
    "\n",
    "**Ejercicio 01**\n",
    "\n",
    "\n",
    "Considere las siguientes listas:\n",
    "\n",
    "```python\n",
    "a = [5, 1, 4, 9, 0]\n",
    "b = range(3, 10) + range(20, 23)\n",
    "c = [[1, 2], [3, 4, 5], [6, 7]]\n",
    "d = ['perro', 'gato', 'jirafa', 'elefante']\n",
    "e = ['a', a, 2 * a]\n",
    "```\n",
    "\n",
    "Sin usar el computador, indique cuál es el resultado y el tipo de las siguientes expresiones. A continuación, verifique sus respuestas en el computador.\n",
    "\n",
    "```python\n",
    "a[2]\n",
    "b[9]\n",
    "c[1][2]\n",
    "e[0] == e[1]\n",
    "len(c)\n",
    "len(c[0])\n",
    "len(e)\n",
    "c[-1]\n",
    "c[-1][+1]\n",
    "c[2:] + d[2:]\n",
    "a[3:10]\n",
    "a[3:10:2]\n",
    "d.index('jirafa')\n",
    "e[c[0][1]].count(5)\n",
    "sorted(a)[2]\n",
    "complex(b[0], b[1])\n",
    "```"
   ]
  },
  {
   "cell_type": "markdown",
   "id": "c24370e1-ea4b-419a-922c-5e4701231f3c",
   "metadata": {},
   "source": [
    "Respuestas y verificaciones en el computador para las expresiones dadas:\n",
    "\n",
    "1. `a[2]`: Resultado: `4`, Tipo: `int`\n",
    "\n",
    "```python\n",
    "a = [5, 1, 4, 9, 0]\n",
    "a[2]  # Resultado: 4\n",
    "```\n",
    "\n",
    "2. `b[9]`: Resultado: `29`, Tipo: `int`\n",
    "\n",
    "```python\n",
    "b = list(range(3, 10)) + list(range(20, 23))\n",
    "b[9]  # Resultado: 29\n",
    "```\n",
    "\n",
    "3. `c[1][2]`: Resultado: `5`, Tipo: `int`\n",
    "\n",
    "```python\n",
    "c = [[1, 2], [3, 4, 5], [6, 7]]\n",
    "c[1][2]  # Resultado: 5\n",
    "```\n",
    "\n",
    "4. `e[0] == e[1]`: Resultado: `False`, Tipo: `bool`\n",
    "\n",
    "```python\n",
    "e = ['a', a, 2 * a]\n",
    "e[0] == e[1]  # Resultado: False\n",
    "```\n",
    "\n",
    "5. `len(c)`: Resultado: `3`, Tipo: `int`\n",
    "\n",
    "```python\n",
    "len(c)  # Resultado: 3\n",
    "```\n",
    "\n",
    "6. `len(c[0])`: Resultado: `2`, Tipo: `int`\n",
    "\n",
    "```python\n",
    "len(c[0])  # Resultado: 2\n",
    "```\n",
    "\n",
    "7. `len(e)`: Resultado: `3`, Tipo: `int`\n",
    "\n",
    "```python\n",
    "len(e)  # Resultado: 3\n",
    "```\n",
    "\n",
    "8. `c[-1]`: Resultado: `[6, 7]`, Tipo: `list`\n",
    "\n",
    "```python\n",
    "c[-1]  # Resultado: [6, 7]\n",
    "```\n",
    "\n",
    "9. `c[-1][+1]`: Resultado: `7`, Tipo: `int`\n",
    "\n",
    "```python\n",
    "c[-1][+1]  # Resultado: 7\n",
    "```\n",
    "\n",
    "10. `c[2:] + d[2:]`: Resultado: `[[6, 7], 'jirafa', 'elefante']`, Tipo: `list`\n",
    "\n",
    "```python\n",
    "c[2:] + d[2:]  # Resultado: [[6, 7], 'jirafa', 'elefante']\n",
    "```\n",
    "\n",
    "11. `a[3:10]`: Resultado: `[9, 0]`, Tipo: `list`\n",
    "\n",
    "```python\n",
    "a[3:10]  # Resultado: [9, 0]\n",
    "```\n",
    "\n",
    "12. `a[3:10:2]`: Resultado: `[9]`, Tipo: `list`\n",
    "\n",
    "```python\n",
    "a[3:10:2]  # Resultado: [9]\n",
    "```\n",
    "\n",
    "13. `d.index('jirafa')`: Resultado: `2`, Tipo: `int`\n",
    "\n",
    "```python\n",
    "d = ['perro', 'gato', 'jirafa', 'elefante']\n",
    "d.index('jirafa')  # Resultado: 2\n",
    "```\n",
    "\n",
    "14. `e[c[0][1]].count(5)`: Resultado: `0`, Tipo: `int`\n",
    "\n",
    "```python\n",
    "e[c[0][1]].count(5)  # Resultado: 0\n",
    "```\n",
    "\n",
    "15. `sorted(a)[2]`: Resultado: `4`, Tipo: `int`\n",
    "\n",
    "```python\n",
    "sorted(a)[2]  # Resultado: 4\n",
    "```\n",
    "\n",
    "16. `complex(b[0], b[1])`: Resultado: `(3+4j)`, Tipo: `complex`\n",
    "\n",
    "```python\n",
    "complex(b[0], b[1])  # Resultado: (3+4j)\n",
    "```"
   ]
  },
  {
   "cell_type": "markdown",
   "id": "86240c2e-f2dd-4f17-bc25-80699bc59102",
   "metadata": {},
   "source": [
    "**Ejercicio 02**\n",
    "\n",
    "Escriba una rutina  que cuente cuántos valores en la lista valores son mayores que `x`:\n",
    "\n",
    "```terminal\n",
    ">>> numero = 5\n",
    ">>> lista = [7, 3, 6, 0, 4, 5, 10]\n",
    "Existen 3 numeros mayores que 5 en la lista. \n",
    "```"
   ]
  },
  {
   "cell_type": "code",
   "execution_count": 20,
   "id": "4bdfa044-0316-4b19-ba51-d50e6316bf42",
   "metadata": {
    "tags": []
   },
   "outputs": [
    {
     "name": "stdout",
     "output_type": "stream",
     "text": [
      "Existen 3 números mayores que 5 en la lista.\n"
     ]
    }
   ],
   "source": [
    "# Número de referencia\n",
    "x = 5\n",
    "\n",
    "# Lista de valores\n",
    "valores = [7, 3, 6, 0, 4, 5, 10]\n",
    "\n",
    "# Contador para llevar el seguimiento de los valores mayores que x\n",
    "contador = 0\n",
    "\n",
    "# Iterar a través de la lista y contar los valores mayores que x\n",
    "for valor in valores:\n",
    "    if valor > x:\n",
    "        contador += 1\n",
    "\n",
    "# Imprimir el resultado\n",
    "print(f\"Existen {contador} números mayores que {x} en la lista.\")"
   ]
  },
  {
   "cell_type": "markdown",
   "id": "e4ec197a-4f0d-4b9d-83fe-f2ce84e6e1c4",
   "metadata": {},
   "source": [
    "**Ejercicio 03**\n",
    "\n",
    "El [producto interno](https://es.wikipedia.org/wiki/Producto_escalar) de dos listas de números es la suma de los productos de los términos correspondientes de ambas.\n",
    "\n",
    "Por ejemplo, si:\n",
    "```\n",
    "a = [5, 1, 6]\n",
    "b = [1, -2, 8]\n",
    "```\n",
    "\n",
    "entonces el producto interno entre $a$ y $b$ es:\n",
    "\n",
    "```\n",
    "(5 * 1) + (1 * -2) + (6 * 8)\n",
    "```\n",
    "\n",
    "1. Escriba una rutina que entregue el producto interno de `a` y `b`:\n",
    "\n",
    "    ```\n",
    "    >>> a = [7, 1, 4, 9, 8]\n",
    "    >>> b = range(5)\n",
    "    El producto interno es 68\n",
    "    ```\n",
    "\n",
    "2. Dos listas de números son [ortogonales](https://es.wikipedia.org/wiki/Producto_escalar#Vectores_ortogonales) si su producto interno es cero. Escriba una rutina que indique si `a` y `b` son ortogonales:\n",
    "\n",
    "    ```\n",
    "    >>> a = [2, 1]\n",
    "    >>> b =  [-3, 6]\n",
    "    Los vectores son ortonormales\n",
    "    ```  "
   ]
  },
  {
   "cell_type": "markdown",
   "id": "2799d91c-b3d1-43b6-8d91-d6473283eab3",
   "metadata": {},
   "source": [
    "**producto interno**"
   ]
  },
  {
   "cell_type": "code",
   "execution_count": 21,
   "id": "93d63a90-a92a-475c-bdcb-b19dbef9090f",
   "metadata": {
    "tags": []
   },
   "outputs": [
    {
     "name": "stdout",
     "output_type": "stream",
     "text": [
      "El producto interno es 68\n"
     ]
    }
   ],
   "source": [
    "# Lista de números 'a'\n",
    "a = [7, 1, 4, 9, 8]\n",
    "\n",
    "# Lista de números 'b'\n",
    "b = list(range(5))\n",
    "\n",
    "# Inicializar la suma del producto interno\n",
    "producto_interno = 0\n",
    "\n",
    "# Calcular el producto interno\n",
    "for i in range(len(a)):\n",
    "    producto_interno += a[i] * b[i]\n",
    "\n",
    "# Imprimir el resultado\n",
    "print(f\"El producto interno es {producto_interno}\")"
   ]
  },
  {
   "cell_type": "markdown",
   "id": "cad3b87e-b635-45e7-9354-9f4ca5ddf562",
   "metadata": {},
   "source": [
    "**vectores ortonormales**"
   ]
  },
  {
   "cell_type": "code",
   "execution_count": 22,
   "id": "f7c41bac-37de-4497-be7b-3f8bf048766b",
   "metadata": {
    "tags": []
   },
   "outputs": [
    {
     "name": "stdout",
     "output_type": "stream",
     "text": [
      "Los vectores son ortogonales\n"
     ]
    }
   ],
   "source": [
    "# Lista de números 'a'\n",
    "a = [2, 1]\n",
    "\n",
    "# Lista de números 'b'\n",
    "b = [-3, 6]\n",
    "\n",
    "# Inicializar la suma del producto interno\n",
    "producto_interno = 0\n",
    "\n",
    "# Calcular el producto interno\n",
    "for i in range(len(a)):\n",
    "    producto_interno += a[i] * b[i]\n",
    "\n",
    "# Verificar si son ortogonales\n",
    "if producto_interno == 0:\n",
    "    print(\"Los vectores son ortogonales\")\n",
    "else:\n",
    "    print(\"Los vectores no son ortogonales\")"
   ]
  },
  {
   "cell_type": "markdown",
   "id": "c082db94-303c-40c7-a826-257d53d15463",
   "metadata": {},
   "source": [
    "### Tuplas\n",
    "\n",
    "**Ejercicio 01**\n",
    "\n",
    "\n",
    "Considere las siguientes asignaciones:\n",
    "\n",
    "```python\n",
    "a = (2, 10, 1991)\n",
    "b = (25, 12, 1990)\n",
    "c = ('Donald', True, b)\n",
    "x, y = ((27, 3), 9)\n",
    "z, w = x\n",
    "v = (x, a)\n",
    "```\n",
    "\n",
    "Sin usar el computador, indique cuál es el resultado y el tipo de las siguientes expresiones. A continuación, verifique sus respuestas en el computador.\n",
    "\n",
    "```python\n",
    "a < b\n",
    "y + w\n",
    "x + a\n",
    "len(v)\n",
    "v[1][1]\n",
    "c[0][0]\n",
    "z, y\n",
    "a + b[1:5]\n",
    "(a + b)[1:5]\n",
    "str(a[2]) + str(b[2])\n",
    "str(a[2] + b[2])\n",
    "str((a + b)[2])\n",
    "str(a + b)[2]\n",
    "```"
   ]
  },
  {
   "cell_type": "markdown",
   "id": "cd652949-f186-4809-97a7-d2426fa4459f",
   "metadata": {},
   "source": [
    "Respuestas y verificaciones en el computador para las expresiones dadas:\n",
    "\n",
    "1. `a < b`: Resultado: `True`, Tipo: `bool`\n",
    "\n",
    "```python\n",
    "a = (2, 10, 1991)\n",
    "b = (25, 12, 1990)\n",
    "a < b  # Resultado: True\n",
    "```\n",
    "\n",
    "2. `y + w`: Resultado: `12`, Tipo: `int`\n",
    "\n",
    "```python\n",
    "x, y = ((27, 3), 9)\n",
    "z, w = x\n",
    "y + w  # Resultado: 12\n",
    "```\n",
    "\n",
    "3. `x + a`: Esto generará un error porque no se pueden sumar una tupla `(x)` y una tupla `(a)`.\n",
    "\n",
    "4. `len(v)`: Resultado: `2`, Tipo: `int`\n",
    "\n",
    "```python\n",
    "v = (x, a)\n",
    "len(v)  # Resultado: 2\n",
    "```\n",
    "\n",
    "5. `v[1][1]`: Esto generará un error porque estás tratando de acceder a un índice en una tupla `(a)` que está dentro de otra tupla `(v)`.\n",
    "\n",
    "6. `c[0][0]`: Resultado: `'D'`, Tipo: `str`\n",
    "\n",
    "```python\n",
    "c = ('Donald', True, b)\n",
    "c[0][0]  # Resultado: 'D'\n",
    "```\n",
    "\n",
    "7. `z, y`: Resultado: `(27, 9)`, Tipo: `tuple`\n",
    "\n",
    "```python\n",
    "x, y = ((27, 3), 9)\n",
    "z, y  # Resultado: (27, 9)\n",
    "```\n",
    "\n",
    "8. `a + b[1:5]`: Resultado: `(2, 10, 1991, 12, 1990)`, Tipo: `tuple`\n",
    "\n",
    "```python\n",
    "a = (2, 10, 1991)\n",
    "b = (25, 12, 1990)\n",
    "a + b[1:5]  # Resultado: (2, 10, 1991, 12, 1990)\n",
    "```\n",
    "\n",
    "9. `(a + b)[1:5]`: Resultado: `(10, 1991, 12, 1990)`, Tipo: `tuple`\n",
    "\n",
    "```python\n",
    "a = (2, 10, 1991)\n",
    "b = (25, 12, 1990)\n",
    "(a + b)[1:5]  # Resultado: (10, 1991, 12, 1990)\n",
    "```\n",
    "\n",
    "10. `str(a[2]) + str(b[2])`: Resultado: `'19911990'`, Tipo: `str`\n",
    "\n",
    "```python\n",
    "a = (2, 10, 1991)\n",
    "b = (25, 12, 1990)\n",
    "str(a[2]) + str(b[2])  # Resultado: '19911990'\n",
    "```\n",
    "\n",
    "11. `str(a[2] + b[2])`: Resultado: `'3981'`, Tipo: `str`\n",
    "\n",
    "```python\n",
    "a = (2, 10, 1991)\n",
    "b = (25, 12, 1990)\n",
    "str(a[2] + b[2])  # Resultado: '3981'\n",
    "```\n",
    "\n",
    "12. `str((a + b)[2])`: Resultado: `'1991'`, Tipo: `str`\n",
    "\n",
    "```python\n",
    "a = (2, 10, 1991)\n",
    "b = (25, 12, 1990)\n",
    "str((a + b)[2])  # Resultado: '1991'\n",
    "```\n",
    "\n",
    "13. `str(a + b)[2]`: Resultado: `'('`, Tipo: `str`\n",
    "\n",
    "```python\n",
    "a = (2, 10, 1991)\n",
    "b = (25, 12, 1990)\n",
    "str(a + b)[2]  # Resultado: '('\n",
    "```"
   ]
  },
  {
   "cell_type": "markdown",
   "id": "23e2a5df-0ca2-47f7-8145-e91b2d760472",
   "metadata": {},
   "source": [
    "### Conjuntos\n",
    "\n",
    "**Ejercicio 01**\n",
    "\n",
    "\n",
    "Considere las siguientes asignaciones:\n",
    "\n",
    "```python\n",
    "a = {5, 2, 3, 9, 4}\n",
    "b = {3, 1}\n",
    "c = {7, 5, 5, 1, 8, 6}\n",
    "d = [6, 2, 4, 5, 5, 3, 1, 3, 7, 8]\n",
    "e = {(2, 3), (3, 4), (4, 5)}\n",
    "f = [{2, 3}, {3, 4}, {4, 5}]\n",
    "```\n",
    "\n",
    "Sin usar el computador, indique cuál es el resultado y el tipo de las siguientes expresiones. A continuación, verifique sus respuestas en el computador.\n",
    "\n",
    "\n",
    "```python\n",
    "len(c)\n",
    "len(set(d))\n",
    "a & (b | c)\n",
    "(a & b) | c\n",
    "c - a\n",
    "max(e)\n",
    "f[0] < a\n",
    "set(range(4)) & a\n",
    "(set(range(4)) & a) in f\n",
    "len(set('perro'))\n",
    "len({'perro'})\n",
    "```"
   ]
  },
  {
   "cell_type": "markdown",
   "id": "535106b0-b324-4e04-8c46-60c55291a802",
   "metadata": {},
   "source": [
    "Respuestas y verificaciones en el computador para las expresiones dadas:\n",
    "\n",
    "1. `len(c)`: Resultado: `5`, Tipo: `int`\n",
    "\n",
    "```python\n",
    "c = {7, 5, 5, 1, 8, 6}\n",
    "len(c)  # Resultado: 5\n",
    "```\n",
    "\n",
    "2. `len(set(d))`: Resultado: `6`, Tipo: `int`\n",
    "\n",
    "```python\n",
    "d = [6, 2, 4, 5, 5, 3, 1, 3, 7, 8]\n",
    "len(set(d))  # Resultado: 6\n",
    "```\n",
    "\n",
    "3. `a & (b | c)`: Resultado: `{1, 3, 5}`, Tipo: `set`\n",
    "\n",
    "```python\n",
    "a = {5, 2, 3, 9, 4}\n",
    "b = {3, 1}\n",
    "c = {7, 5, 5, 1, 8, 6}\n",
    "a & (b | c)  # Resultado: {1, 3, 5}\n",
    "```\n",
    "\n",
    "4. `(a & b) | c`: Resultado: `{1, 2, 3, 4, 5, 6, 7, 8, 9}`, Tipo: `set`\n",
    "\n",
    "```python\n",
    "(a & b) | c  # Resultado: {1, 2, 3, 4, 5, 6, 7, 8, 9}\n",
    "```\n",
    "\n",
    "5. `c - a`: Resultado: `{1, 6, 8, 7}`, Tipo: `set`\n",
    "\n",
    "```python\n",
    "c - a  # Resultado: {1, 6, 8, 7}\n",
    "```\n",
    "\n",
    "6. `max(e)`: Resultado: `(4, 5)`, Tipo: `tuple`\n",
    "\n",
    "```python\n",
    "e = {(2, 3), (3, 4), (4, 5)}\n",
    "max(e)  # Resultado: (4, 5)\n",
    "```\n",
    "\n",
    "7. `f[0] < a`: Resultado: `True`, Tipo: `bool`\n",
    "\n",
    "```python\n",
    "f = [{2, 3}, {3, 4}, {4, 5}]\n",
    "f[0] < a  # Resultado: True\n",
    "```\n",
    "\n",
    "8. `set(range(4)) & a`: Resultado: `{2, 3}`, Tipo: `set`\n",
    "\n",
    "```python\n",
    "set(range(4)) & a  # Resultado: {2, 3}\n",
    "```\n",
    "\n",
    "9. `(set(range(4)) & a) in f`: Resultado: `True`, Tipo: `bool`\n",
    "\n",
    "```python\n",
    "(set(range(4)) & a) in f  # Resultado: True\n",
    "```\n",
    "\n",
    "10. `len(set('perro'))`: Resultado: `4`, Tipo: `int`\n",
    "\n",
    "```python\n",
    "len(set('perro'))  # Resultado: 4\n",
    "```\n",
    "\n",
    "11. `len({'perro'})`: Resultado: `1`, Tipo: `int`\n",
    "\n",
    "```python\n",
    "len({'perro'})  # Resultado: 1\n",
    "```\n"
   ]
  },
  {
   "cell_type": "markdown",
   "id": "c0f4dfdd-a491-4143-b615-ca9c7b1fbee7",
   "metadata": {},
   "source": [
    "### Diccionarios\n",
    "\n",
    "**Ejercicio 01**\n",
    "\n",
    "\n",
    "Considere las siguientes asignaciones:\n",
    "\n",
    "```python\n",
    "a = {'a': 14, 'b': 23, 'c': 88}\n",
    "b = {12: True, 55: False, -2: False}\n",
    "c = dict()\n",
    "d = {1: [2, 3, 4], 5: [6, 7, 8, 9], 10: [11]}\n",
    "e = {2 + 3: 4, 5: 6 + 7, 8: 9, 10: 11 + 12}\n",
    "```\n",
    "\n",
    "Sin usar el computador, indique cuál es el resultado y el tipo de las siguientes expresiones. A continuación, verifique sus respuestas en el computador.\n",
    "\n",
    "```python\n",
    "a['c']\n",
    "a[23]\n",
    "b[-2] or b[55]\n",
    "23 in a\n",
    "'a' in a\n",
    "5 in d[5]\n",
    "sum(b)\n",
    "len(c)\n",
    "len(d)\n",
    "len(d[1])\n",
    "len(b.values())\n",
    "len(e)\n",
    "sum(a.values())\n",
    "max(list(e))\n",
    "d[1] + d[5] + d[10]\n",
    "```"
   ]
  },
  {
   "cell_type": "markdown",
   "id": "e49ea8f1-4a69-46d3-80fd-cdd83e6b1586",
   "metadata": {},
   "source": [
    "Respuestas y verificaciones en el computador para las expresiones dadas:\n",
    "\n",
    "Aquí tienes las respuestas y verificaciones en el computador para las expresiones dadas:\n",
    "\n",
    "1. `a['c']`: Resultado: `88`, Tipo: `int`\n",
    "\n",
    "```python\n",
    "a = {'a': 14, 'b': 23, 'c': 88}\n",
    "a['c']  # Resultado: 88\n",
    "```\n",
    "\n",
    "2. `a[23]`: Resultado: `KeyError`, Tipo: `Error`\n",
    "\n",
    "```python\n",
    "a[23]  # Resultado: KeyError\n",
    "```\n",
    "\n",
    "3. `b[-2] or b[55]`: Resultado: `False`, Tipo: `bool`\n",
    "\n",
    "```python\n",
    "b = {12: True, 55: False, -2: False}\n",
    "b[-2] or b[55]  # Resultado: False\n",
    "```\n",
    "\n",
    "4. `23 in a`: Resultado: `False`, Tipo: `bool`\n",
    "\n",
    "```python\n",
    "23 in a  # Resultado: False\n",
    "```\n",
    "\n",
    "5. `'a' in a`: Resultado: `True`, Tipo: `bool`\n",
    "\n",
    "```python\n",
    "'a' in a  # Resultado: True\n",
    "```\n",
    "\n",
    "6. `5 in d[5]`: Resultado: `True`, Tipo: `bool`\n",
    "\n",
    "```python\n",
    "d = {1: [2, 3, 4], 5: [6, 7, 8, 9], 10: [11]}\n",
    "5 in d[5]  # Resultado: True\n",
    "```\n",
    "\n",
    "7. `sum(b)`: Resultado: `65`, Tipo: `int`\n",
    "\n",
    "```python\n",
    "b = {12: True, 55: False, -2: False}\n",
    "sum(b)  # Resultado: 65\n",
    "```\n",
    "\n",
    "8. `len(c)`: Resultado: `0`, Tipo: `int`\n",
    "\n",
    "```python\n",
    "c = dict()\n",
    "len(c)  # Resultado: 0\n",
    "```\n",
    "\n",
    "9. `len(d)`: Resultado: `3`, Tipo: `int`\n",
    "\n",
    "```python\n",
    "d = {1: [2, 3, 4], 5: [6, 7, 8, 9], 10: [11]}\n",
    "len(d)  # Resultado: 3\n",
    "```\n",
    "\n",
    "10. `len(d[1])`: Resultado: `3`, Tipo: `int`\n",
    "\n",
    "```python\n",
    "len(d[1])  # Resultado: 3\n",
    "```\n",
    "\n",
    "11. `len(b.values())`: Resultado: `3`, Tipo: `int`\n",
    "\n",
    "```python\n",
    "len(b.values())  # Resultado: 3\n",
    "```\n",
    "\n",
    "12. `len(e)`: Resultado: `4`, Tipo: `int`\n",
    "\n",
    "```python\n",
    "e = {2 + 3: 4, 5: 6 + 7, 8: 9, 10: 11 + 12}\n",
    "len(e)  # Resultado: 4\n",
    "```\n",
    "\n",
    "13. `sum(a.values())`: Resultado: `125`, Tipo: `int`\n",
    "\n",
    "```python\n",
    "a = {'a': 14, 'b': 23, 'c': 88}\n",
    "sum(a.values())  # Resultado: 125\n",
    "```\n",
    "\n",
    "14. `max(list(e))`: Resultado: `10`, Tipo: `int`\n",
    "\n",
    "```python\n",
    "max(list(e))  # Resultado: 10\n",
    "```\n",
    "\n",
    "15. `d[1] + d[5] + d[10]`: Resultado: `[2, 3, 4, 6, 7, 8, 9, 11]`, Tipo: `list`\n",
    "\n",
    "```python\n",
    "d[1] + d[5] + d[10]  # Resultado: [2, 3, 4, 6, 7, 8, 9, 11]\n",
    "```\n"
   ]
  },
  {
   "cell_type": "markdown",
   "id": "7c02ee0c-5a59-4fec-af11-5bdc364b1165",
   "metadata": {},
   "source": [
    "## Funciones\n",
    "\n"
   ]
  },
  {
   "cell_type": "markdown",
   "id": "335e246f-afb4-4138-a533-0da7c6f05765",
   "metadata": {},
   "source": [
    "**Ejercicio 01**\n",
    "\n",
    "Escriba una función que se llame `saludar` que reciba como input un string **s** y devuelva como output \"Hola + valor de s\".\n",
    "* **Ejemplo**: *saludar(\"mundo\")* = \"Hola mundo\""
   ]
  },
  {
   "cell_type": "code",
   "execution_count": 23,
   "id": "a5e2141c-1bef-4a75-be5d-894ee316b7d0",
   "metadata": {
    "tags": []
   },
   "outputs": [],
   "source": [
    "def saludar(s):\n",
    "    return \"Hola \" + s"
   ]
  },
  {
   "cell_type": "code",
   "execution_count": 24,
   "id": "9240f38a-a1bc-4798-a2c6-08fbaae80ea5",
   "metadata": {
    "tags": []
   },
   "outputs": [
    {
     "name": "stdout",
     "output_type": "stream",
     "text": [
      "Hola mundo\n"
     ]
    }
   ],
   "source": [
    "mensaje = saludar(\"mundo\")\n",
    "print(mensaje)"
   ]
  },
  {
   "cell_type": "markdown",
   "id": "347a9d9e-d260-4360-a2e3-54778de0e6d4",
   "metadata": {},
   "source": [
    "**Ejercicio 02**\n",
    "\n",
    "Escriba una función que se llame `es_par` que reciba como input un número entero **n** y devuelva como output *True* si el número es par, y *False* en otro caso.\n",
    "\n",
    "* **Ejemplo**: \n",
    "    * *es_par(4)* = True\n",
    "    * *es_par(3)* = False"
   ]
  },
  {
   "cell_type": "code",
   "execution_count": 26,
   "id": "b4f4a128-4384-465b-b631-9627d3698337",
   "metadata": {
    "tags": []
   },
   "outputs": [],
   "source": [
    "def es_par(n):\n",
    "    return n % 2 == 0"
   ]
  },
  {
   "cell_type": "code",
   "execution_count": 27,
   "id": "34da269a-a54e-498c-83c7-7ffbf33dee32",
   "metadata": {
    "tags": []
   },
   "outputs": [
    {
     "name": "stdout",
     "output_type": "stream",
     "text": [
      "True\n",
      "False\n"
     ]
    }
   ],
   "source": [
    "resultado1 = es_par(4)\n",
    "resultado2 = es_par(3)\n",
    "\n",
    "print(resultado1)  # Esto imprimirá True\n",
    "print(resultado2)  # Esto imprimirá False"
   ]
  },
  {
   "cell_type": "markdown",
   "id": "0d9b15d7-b507-4ea4-ab5d-eee66d9002bf",
   "metadata": {},
   "source": [
    "**Ejercicio 03**\n",
    "\n",
    "Escriba la función `invertir_digitos(n)` que reciba un número entero n y entregue como resultado el número `n` con los dígitos en el orden inverso:\n",
    "\n",
    "```terminal\n",
    " >>> invertir_digitos(142)\n",
    "241\n",
    "```\n",
    " \n",
    "A continuación, escriba un programa que indique si el número ingresado es palíndromo o no, usando la función `invertir_digitos`:\n",
    "\n",
    "```terminal\n",
    "Ingrese n: 81418\n",
    "Es palíndromo\n",
    "```\n",
    "\n"
   ]
  },
  {
   "cell_type": "code",
   "execution_count": 28,
   "id": "25a4a554-1973-46c7-b257-147b729e4179",
   "metadata": {
    "tags": []
   },
   "outputs": [],
   "source": [
    "def invertir_digitos(n):\n",
    "    # Convertir el número a cadena para facilitar la inversión\n",
    "    str_n = str(n)\n",
    "    # Invertir la cadena\n",
    "    str_invertida = str_n[::-1]\n",
    "    # Convertir la cadena invertida nuevamente a un número entero\n",
    "    n_invertido = int(str_invertida)\n",
    "    return n_invertido"
   ]
  },
  {
   "cell_type": "code",
   "execution_count": 29,
   "id": "5b95c61a-62ed-4636-9ffd-5f3a73b90da4",
   "metadata": {
    "tags": []
   },
   "outputs": [
    {
     "name": "stdout",
     "output_type": "stream",
     "text": [
      "241\n"
     ]
    }
   ],
   "source": [
    "resultado1 = invertir_digitos(142)\n",
    "print(resultado1)  "
   ]
  },
  {
   "cell_type": "code",
   "execution_count": 31,
   "id": "236eafeb-ba0e-4945-957f-1273d2c87311",
   "metadata": {
    "tags": []
   },
   "outputs": [],
   "source": [
    "def es_palindromo(n):\n",
    "    num_invertido = invertir_digitos(n)\n",
    "    if n == num_invertido:\n",
    "        return \"Es palíndromo\"\n",
    "    else:\n",
    "        return \"No es palíndromo\""
   ]
  },
  {
   "cell_type": "code",
   "execution_count": 32,
   "id": "b5b9c2c4-334f-4ba1-85cf-6907a97f8db1",
   "metadata": {
    "tags": []
   },
   "outputs": [
    {
     "name": "stdout",
     "output_type": "stream",
     "text": [
      "Es palíndromo\n"
     ]
    }
   ],
   "source": [
    "resultado1 = es_palindromo(81418)\n",
    "print(resultado1)  "
   ]
  },
  {
   "cell_type": "markdown",
   "id": "515b1a51-441b-4503-93db-f4e6b59e086e",
   "metadata": {},
   "source": [
    "**Ejercicio 04**\n",
    "\n",
    "\n",
    "\n",
    "Muchos de estos programas sólo tenían pequeñas diferencias entre ellos, por lo que había que repetir mucho código al escribirlos. En este ejercicio, usted deberá implementar algunos de esos programas como funciones, reutilizando componentes para evitar escribir código repetido."
   ]
  },
  {
   "cell_type": "markdown",
   "id": "cfc366a2-5731-443a-af0a-be74f7785477",
   "metadata": {},
   "source": [
    "**Ejercicio 041**\n",
    "\n",
    "Escriba la función `es_divisible(n, d)` que indique si `n` es divisible por `d`:\n",
    "\n",
    "```\n",
    ">>> es_divisible(15, 5)\n",
    "True\n",
    ">>> es_divisible(15, 6)\n",
    "False\n",
    "```"
   ]
  },
  {
   "cell_type": "code",
   "execution_count": 34,
   "id": "6ac9579c-c20c-4361-9c3d-3f63fc2a89b9",
   "metadata": {
    "tags": []
   },
   "outputs": [],
   "source": [
    "def es_divisible(n, d):\n",
    "    return n % d == 0"
   ]
  },
  {
   "cell_type": "code",
   "execution_count": 35,
   "id": "a4d6c764-449e-4fd3-9dbc-e9452c47ed3c",
   "metadata": {
    "tags": []
   },
   "outputs": [
    {
     "name": "stdout",
     "output_type": "stream",
     "text": [
      "True\n",
      "False\n"
     ]
    }
   ],
   "source": [
    "# Ejemplos\n",
    "print(es_divisible(15, 5))  # True\n",
    "print(es_divisible(15, 6))  # False"
   ]
  },
  {
   "cell_type": "markdown",
   "id": "5dedae3b-56a8-484f-9140-30ddc5828e83",
   "metadata": {},
   "source": [
    "**Ejercicio 042**\n",
    "\n",
    "Usando la función es_divisible, escriba una función `es_primo(n)` que determine si un número es primo o no:\n",
    "\n",
    "```\n",
    ">>> es_primo(17)\n",
    "True\n",
    ">>> es_primo(221)\n",
    "False\n",
    "```"
   ]
  },
  {
   "cell_type": "code",
   "execution_count": 36,
   "id": "e713ebd4-90eb-41ec-aa88-748c0b5e14ac",
   "metadata": {
    "tags": []
   },
   "outputs": [],
   "source": [
    "def es_primo(n):\n",
    "    if n <= 1:\n",
    "        return False  # Los números menores o iguales a 1 no son primos\n",
    "    elif n <= 3:\n",
    "        return True  # 2 y 3 son primos\n",
    "    elif n % 2 == 0:\n",
    "        return False  # Los números pares mayores que 2 no son primos\n",
    "    else:\n",
    "        # Verificar divisibilidad hasta la raíz cuadrada de n\n",
    "        for i in range(3, int(n**0.5) + 1, 2):\n",
    "            if es_divisible(n, i):\n",
    "                return False\n",
    "        return True"
   ]
  },
  {
   "cell_type": "code",
   "execution_count": 37,
   "id": "6eac5d9e-0319-4210-95df-ca2a8d0b6c04",
   "metadata": {
    "tags": []
   },
   "outputs": [
    {
     "name": "stdout",
     "output_type": "stream",
     "text": [
      "True\n",
      "False\n"
     ]
    }
   ],
   "source": [
    "# Ejemplos\n",
    "print(es_primo(17))  # True (17 es un número primo)\n",
    "print(es_primo(221))  # False (221 no es un número primo)"
   ]
  },
  {
   "cell_type": "markdown",
   "id": "93495919-9dc7-4875-95bc-4bb6ae87a15f",
   "metadata": {},
   "source": [
    "**Ejercicio 043**\n",
    "\n",
    "Usando la función `es_primo`, escriba la función `i_esimo_primo(i)` que entregue el i-ésimo número primo.\n",
    "\n",
    "```\n",
    ">>> i_esimo_primo(1)\n",
    "2\n",
    ">>> i_esimo_primo(20)\n",
    "71\n",
    "```"
   ]
  },
  {
   "cell_type": "code",
   "execution_count": 38,
   "id": "5335ef83-bc24-4de5-b5d5-41296ccbc050",
   "metadata": {
    "tags": []
   },
   "outputs": [],
   "source": [
    "def i_esimo_primo(i):\n",
    "    if i <= 0:\n",
    "        return None  # Números negativos o cero no tienen un i-ésimo número primo\n",
    "    count = 0\n",
    "    num = 2\n",
    "    while count < i:\n",
    "        if es_primo(num):\n",
    "            count += 1\n",
    "        if count < i:\n",
    "            num += 1\n",
    "    return num"
   ]
  },
  {
   "cell_type": "code",
   "execution_count": 39,
   "id": "b6e439f6-ecc8-4b8e-8e00-00e1aacad70f",
   "metadata": {
    "tags": []
   },
   "outputs": [
    {
     "name": "stdout",
     "output_type": "stream",
     "text": [
      "2\n",
      "71\n"
     ]
    }
   ],
   "source": [
    "# Ejemplos\n",
    "print(i_esimo_primo(1))  # 2 (primer número primo)\n",
    "print(i_esimo_primo(20))  # 71 (vigésimo número primo)"
   ]
  },
  {
   "cell_type": "markdown",
   "id": "0976bd13-e750-4bbe-9f54-5c1326f12515",
   "metadata": {},
   "source": [
    "**Ejercicio 044**\n",
    "\n",
    "Usando las funciones anteriores, escriba la función `primeros_primos(m)` que entregue una lista de los primeros m números primos:\n",
    "\n",
    "```\n",
    ">>> primeros_primos(10)\n",
    "[2, 3, 5, 7, 11, 13, 17, 19, 23, 29]\n",
    "```"
   ]
  },
  {
   "cell_type": "code",
   "execution_count": 40,
   "id": "46b5d0b3-179e-4db5-b52d-e46c172e3872",
   "metadata": {
    "tags": []
   },
   "outputs": [],
   "source": [
    "def primeros_primos(m):\n",
    "    if m <= 0:\n",
    "        return []  # Si m es cero o negativo, no hay primos que encontrar\n",
    "    primes = []\n",
    "    num = 2\n",
    "    while len(primes) < m:\n",
    "        if es_primo(num):\n",
    "            primes.append(num)\n",
    "        num += 1\n",
    "    return primes"
   ]
  },
  {
   "cell_type": "code",
   "execution_count": 41,
   "id": "af8ecce9-a6c2-4446-98cc-c1397f34ee43",
   "metadata": {
    "tags": []
   },
   "outputs": [
    {
     "name": "stdout",
     "output_type": "stream",
     "text": [
      "[2, 3, 5, 7, 11, 13, 17, 19, 23, 29]\n"
     ]
    }
   ],
   "source": [
    "# Ejemplo\n",
    "print(primeros_primos(10))  # [2, 3, 5, 7, 11, 13, 17, 19, 23, 29]"
   ]
  },
  {
   "cell_type": "markdown",
   "id": "7a8aecb9-83f6-4580-8a94-556a8853cad4",
   "metadata": {},
   "source": [
    "**Ejercicio 045**\n",
    "\n",
    "Usando las funciones anteriores, escriba la función `primos_hasta(m)` que entregue una lista de los primos menores o iguales que `m`:\n",
    "\n",
    "```\n",
    ">>> primos_hasta(19)\n",
    "[2, 3, 5, 7, 11, 13, 17, 19]\n",
    "```"
   ]
  },
  {
   "cell_type": "code",
   "execution_count": 42,
   "id": "90ca0f06-3a8d-47ce-aa54-7e930bb724c1",
   "metadata": {
    "tags": []
   },
   "outputs": [],
   "source": [
    "def primos_hasta(m):\n",
    "    if m < 2:\n",
    "        return []  # No hay primos menores o iguales a 1\n",
    "    primes = []\n",
    "    for num in range(2, m + 1):\n",
    "        if es_primo(num):\n",
    "            primes.append(num)\n",
    "    return primes"
   ]
  },
  {
   "cell_type": "code",
   "execution_count": 43,
   "id": "28720a9a-af13-4722-a541-9750a382d2a4",
   "metadata": {
    "tags": []
   },
   "outputs": [
    {
     "name": "stdout",
     "output_type": "stream",
     "text": [
      "[2, 3, 5, 7, 11, 13, 17, 19]\n"
     ]
    }
   ],
   "source": [
    "# Ejemplo\n",
    "print(primos_hasta(19))  # [2, 3, 5, 7, 11, 13, 17, 19]"
   ]
  },
  {
   "cell_type": "markdown",
   "id": "fdd12900-2a44-4cfe-b4a3-975ee04bfc3a",
   "metadata": {},
   "source": [
    "**Ejercicio 046**\n",
    "\n",
    "Un [primo de Mersenne](https://es.wikipedia.org/wiki/N%C3%BAmero_primo_de_Mersenne) es un número primo de la forma $2p−1$. \n",
    "Una propiedad conocida de los primos de Mersenne es que $p$ debe ser también un número primo.\n",
    "\n",
    "Escriba la función `mersenne` que pregunte al usuario un número $n$, y muestre como salida los primeros `n` primos de Mersenne:\n",
    "\n",
    "```\n",
    ">>> mersenne(5)\n",
    "3\n",
    "7\n",
    "31\n",
    "127\n",
    "8191\n",
    "```"
   ]
  },
  {
   "cell_type": "code",
   "execution_count": 52,
   "id": "34274a79-d761-4e65-9528-0bc392fdf15e",
   "metadata": {
    "tags": []
   },
   "outputs": [],
   "source": [
    "def mersenne(n):\n",
    "    count = 0\n",
    "    candidate = 2\n",
    "    while count < n:\n",
    "        if es_primo(candidate):\n",
    "            mersenne_prime = 2 ** candidate - 1\n",
    "            if es_primo(mersenne_prime):\n",
    "                print(mersenne_prime)\n",
    "                count += 1\n",
    "        candidate += 1"
   ]
  },
  {
   "cell_type": "code",
   "execution_count": 53,
   "id": "e0792236-b497-4091-ab63-73d624eb926d",
   "metadata": {
    "tags": []
   },
   "outputs": [
    {
     "name": "stdout",
     "output_type": "stream",
     "text": [
      "3\n",
      "7\n",
      "31\n",
      "127\n",
      "8191\n"
     ]
    }
   ],
   "source": [
    "# Ejemplo\n",
    "mersenne(5)"
   ]
  },
  {
   "cell_type": "markdown",
   "id": "751611f9-b7d9-455c-bc3e-2a35e7210f52",
   "metadata": {},
   "source": [
    "**Ejercicio 05**\n",
    "\n",
    "La suma natural de los primeros **n** números naturales esta dado por:\n",
    "$$\\displaystyle S = \\sum_{k=1}^{n} k = 1 +2 +3 +...+n = \\dfrac{n(n+1)}{2} $$\n",
    "\n",
    "Escriba una función que se llame `suma_numeros_naturales` que reciba como input un número entero **n** y devuelva como output la suma de los primeros **n** números naturales. \n",
    "\n",
    "Para esto:\n",
    "\n",
    "* a) Programe la función ocupando la fórmula manual: $S = 1+2+3+..+n$\n",
    "* b) Programe la función ocupando la fórmula cerrada: $S =\\dfrac{n(n+1)}{2} $\n",
    "\n",
    "**Ejemplo**: \n",
    "   * *suma_numeros_naturales(1)* = 1\n",
    "   * *suma_numeros_naturales(10)* = 55\n",
    "   * *suma_numeros_naturales(100)* = 5050\n",
    "\n"
   ]
  },
  {
   "cell_type": "code",
   "execution_count": 54,
   "id": "12e7ab88-d13a-4e8d-80e5-4db768468b9e",
   "metadata": {
    "tags": []
   },
   "outputs": [],
   "source": [
    "# Usando la fórmula manual:\n",
    "def suma_numeros_naturales_manual(n):\n",
    "    suma = 0\n",
    "    for i in range(1, n + 1):\n",
    "        suma += i\n",
    "    return suma"
   ]
  },
  {
   "cell_type": "code",
   "execution_count": 55,
   "id": "bcdb2fc1-ee07-402a-a116-beba3851f3e0",
   "metadata": {
    "tags": []
   },
   "outputs": [],
   "source": [
    "# Usando la fórmula cerrada:\n",
    "def suma_numeros_naturales_cerrada(n):\n",
    "    suma = (n * (n + 1)) // 2\n",
    "    return suma"
   ]
  },
  {
   "cell_type": "code",
   "execution_count": 60,
   "id": "85a01db4-0117-4fe5-8c51-8b69d4a080bd",
   "metadata": {
    "tags": []
   },
   "outputs": [
    {
     "name": "stdout",
     "output_type": "stream",
     "text": [
      "Usando la fórmula manual:\n",
      "1\n",
      "55\n",
      "5050\n",
      "\n",
      "Usando la fórmula cerrada:\n",
      "1\n",
      "55\n",
      "5050\n"
     ]
    }
   ],
   "source": [
    "print(\"Usando la fórmula manual:\")\n",
    "print(suma_numeros_naturales_manual(1))   # Salida: 1\n",
    "print(suma_numeros_naturales_manual(10))  # Salida: 55\n",
    "print(suma_numeros_naturales_manual(100)) # Salida: 5050\n",
    "print()\n",
    "print(\"Usando la fórmula cerrada:\")\n",
    "print(suma_numeros_naturales_cerrada(1))   # Salida: 1\n",
    "print(suma_numeros_naturales_cerrada(10))  # Salida: 55\n",
    "print(suma_numeros_naturales_cerrada(100)) # Salida: 5050"
   ]
  },
  {
   "cell_type": "markdown",
   "id": "f379197f-8c70-4971-bce3-a7ddb347114f",
   "metadata": {},
   "source": [
    "**Ejercicio 06**\n",
    "\n",
    "En los siglos XVII y XVIII, James Gregory y Gottfried Leibniz descubrieron una serie infinita que sirve para calcular $\\pi$:\n",
    "\n",
    "$$\\displaystyle \\pi = 4 \\sum_{k=1}^{\\infty}\\dfrac{(-1)^{k+1}}{2k-1} = 4(1-\\dfrac{1}{3}+\\dfrac{1}{5}-\\dfrac{1}{7} + ...) $$\n",
    "\n",
    "Desarolle un programa para estimar el valor de $\\pi$ ocupando el método de Leibniz, donde la entrada del programa debe ser un número entero $n$ que indique cuántos términos de la suma se utilizará.\n",
    "\n",
    "\n",
    "* **Ejemplo**: \n",
    "    * *calcular_pi(3)* = 3.466666666666667\n",
    "    * *calcular_pi(1000)* = 3.140592653839794"
   ]
  },
  {
   "cell_type": "code",
   "execution_count": 61,
   "id": "d8d2874b-0c3b-49b7-85e2-a2657edfcb6f",
   "metadata": {
    "tags": []
   },
   "outputs": [],
   "source": [
    "def calcular_pi(n):\n",
    "    suma = 0\n",
    "    for k in range(1, n + 1):\n",
    "        termino = (-1) ** (k + 1) / (2 * k - 1)\n",
    "        suma += termino\n",
    "    pi_estimado = 4 * suma\n",
    "    return pi_estimado"
   ]
  },
  {
   "cell_type": "code",
   "execution_count": 62,
   "id": "2f6f5d26-d12c-4edc-a22a-150583cc7d0f",
   "metadata": {
    "tags": []
   },
   "outputs": [
    {
     "name": "stdout",
     "output_type": "stream",
     "text": [
      "Con 3 términos, el valor estimado de π es 3.466666666666667\n"
     ]
    }
   ],
   "source": [
    "# Ejemplos de uso\n",
    "n1 = 3\n",
    "pi1 = calcular_pi(n1)\n",
    "print(f\"Con {n1} términos, el valor estimado de π es {pi1}\")"
   ]
  },
  {
   "cell_type": "code",
   "execution_count": 63,
   "id": "0ed7cc3e-2442-4ab7-b9fc-50c1ee1594c4",
   "metadata": {
    "tags": []
   },
   "outputs": [
    {
     "name": "stdout",
     "output_type": "stream",
     "text": [
      "Con 1000 términos, el valor estimado de π es 3.140592653839794\n"
     ]
    }
   ],
   "source": [
    "n2 = 1000\n",
    "pi2 = calcular_pi(n2)\n",
    "print(f\"Con {n2} términos, el valor estimado de π es {pi2}\")"
   ]
  },
  {
   "cell_type": "markdown",
   "id": "deb1080b-a3a4-49e7-85bd-23f2e4247cb2",
   "metadata": {},
   "source": [
    "**Ejercicio 07**\n",
    "\n",
    "Euler realizó varios aportes en relación a $e$, pero no fue hasta 1748 cuando publicó su **Introductio in analysin infinitorum** que dio un tratamiento definitivo a las ideas sobre $e$. Allí mostró que:\n",
    "\n",
    "\n",
    "En los siglos XVII y XVIII, James Gregory y Gottfried Leibniz descubrieron una serie infinita que sirve para calcular π:\n",
    "\n",
    "$$\\displaystyle e = \\sum_{k=0}^{\\infty}\\dfrac{1}{k!} = 1+\\dfrac{1}{2!}+\\dfrac{1}{3!}+\\dfrac{1}{4!} + ... $$\n",
    "\n",
    "Desarolle un programa para estimar el valor de $e$ ocupando el método de Euler, donde la entrada del programa debe ser un número entero $n$ que indique cuántos términos de la suma se utilizará. \n",
    "\n",
    "Para esto:\n",
    "\n",
    "* a) Defina la función `factorial`, donde la entrada sea un número natural  $n$ y la salida sea el factorial de dicho número.\n",
    "    * **Ejemplo**: *factorial(3)* =3, *factorial(5)* = 120\n",
    "    \n",
    "    \n",
    "* b) Ocupe la función `factorial` dentro de la función `calcular_e`.     \n",
    "    * **Ejemplo**: *calcular_e(3)* = 2.6666666666666665, *calcular_e(1000)* = 2.7182818284590455"
   ]
  },
  {
   "cell_type": "code",
   "execution_count": 64,
   "id": "50c55ef5-1d63-4251-89fb-1d3d96913c03",
   "metadata": {
    "tags": []
   },
   "outputs": [],
   "source": [
    "def factorial(n):\n",
    "    if n == 0:\n",
    "        return 1\n",
    "    else:\n",
    "        return n * factorial(n - 1)\n",
    "\n",
    "def calcular_e(n):\n",
    "    suma = 0\n",
    "    for k in range(n):\n",
    "        termino = 1 / factorial(k)\n",
    "        suma += termino\n",
    "    return suma"
   ]
  },
  {
   "cell_type": "code",
   "execution_count": 65,
   "id": "908a5f79-10db-4e75-8a00-e86f1414cb32",
   "metadata": {
    "tags": []
   },
   "outputs": [
    {
     "name": "stdout",
     "output_type": "stream",
     "text": [
      "Con 3 términos, el valor estimado de e es 2.5\n"
     ]
    }
   ],
   "source": [
    "# Ejemplos de uso\n",
    "n1 = 3\n",
    "e1 = calcular_e(n1)\n",
    "print(f\"Con {n1} términos, el valor estimado de e es {e1}\")"
   ]
  },
  {
   "cell_type": "code",
   "execution_count": 66,
   "id": "e2f70e91-00db-4af8-b657-c086bf582706",
   "metadata": {
    "tags": []
   },
   "outputs": [
    {
     "name": "stdout",
     "output_type": "stream",
     "text": [
      "Con 1000 términos, el valor estimado de e es 2.7182818284590455\n"
     ]
    }
   ],
   "source": [
    "n2 = 1000\n",
    "e2 = calcular_e(n2)\n",
    "print(f\"Con {n2} términos, el valor estimado de e es {e2}\")"
   ]
  },
  {
   "cell_type": "markdown",
   "id": "6ff7f0e7-b9d0-4cdc-8127-c16d7b7a58a6",
   "metadata": {},
   "source": [
    "**Ejercicio 08**\n",
    "\n",
    "Sea $\\sigma(n)$ definido como la suma de los divisores propios de $n$ (números menores que n que se dividen en $n$).\n",
    "\n",
    "Los [números amigos](https://en.wikipedia.org/wiki/Amicable_numbers) son  enteros positivos $n_1$ y $n_2$ tales que la suma de los divisores propios de uno es igual al otro número y viceversa, es decir, $\\sigma(n_1)=\\sigma(n_2)$ y $\\sigma(n_2)=\\sigma(n_1)$.\n",
    "\n",
    "\n",
    "Por ejemplo, los números 220 y 284 son números amigos.\n",
    "* los divisores propios de 220 son 1, 2, 4, 5, 10, 11, 20, 22, 44, 55 y 110; por lo tanto $\\sigma(220) = 284$. \n",
    "* los divisores propios de 284 son 1, 2, 4, 71 y 142; entonces $\\sigma(284) = 220$.\n",
    "\n",
    "\n",
    "Implemente una función llamada `amigos` cuyo input sean dos números naturales $n_1$ y $n_2$, cuyo output sea verifique si los números son amigos o no. \n",
    "\n",
    "Para esto:\n",
    "\n",
    "* a) Defina la función `divisores_propios`, donde la entrada sea un número natural $n$ y la salida sea una lista con los divisores propios de dicho número.\n",
    "    * **Ejemplo**: *divisores_propios(220)* = [1, 2, 4, 5, 10, 11, 20, 22, 44, 55 y 110], *divisores_propios(284)* = [1, 2, 4, 71 y 142]\n",
    "    \n",
    "    \n",
    "* b) Ocupe la función `divisores_propios` dentro de la función `amigos`.\n",
    "\n",
    "    * **Ejemplo**: *amigos(220,284)* = True, *amigos(6,5)* = False"
   ]
  },
  {
   "cell_type": "code",
   "execution_count": 67,
   "id": "cd1abafc-c145-47e6-91ae-22095792d81b",
   "metadata": {
    "tags": []
   },
   "outputs": [],
   "source": [
    "def divisores_propios(n):\n",
    "    divisores = []\n",
    "    for i in range(1, n):\n",
    "        if n % i == 0:\n",
    "            divisores.append(i)\n",
    "    return divisores"
   ]
  },
  {
   "cell_type": "code",
   "execution_count": 68,
   "id": "494b76d9-9ed1-424d-a608-47adc834d23c",
   "metadata": {
    "tags": []
   },
   "outputs": [
    {
     "name": "stdout",
     "output_type": "stream",
     "text": [
      "Divisores propios de 220: [1, 2, 4, 5, 10, 11, 20, 22, 44, 55, 110]\n",
      "Divisores propios de 284: [1, 2, 4, 71, 142]\n"
     ]
    }
   ],
   "source": [
    "# Ejemplos de uso\n",
    "divisores_220 = divisores_propios(220)\n",
    "divisores_284 = divisores_propios(284)\n",
    "print(f\"Divisores propios de 220: {divisores_220}\")\n",
    "print(f\"Divisores propios de 284: {divisores_284}\")"
   ]
  },
  {
   "cell_type": "code",
   "execution_count": 69,
   "id": "fac25a08-3d90-439d-ae19-fb9bcc7c760e",
   "metadata": {
    "tags": []
   },
   "outputs": [],
   "source": [
    "def amigos(n1, n2):\n",
    "    suma_divisores_n1 = sum(divisores_propios(n1))\n",
    "    suma_divisores_n2 = sum(divisores_propios(n2))\n",
    "    \n",
    "    return suma_divisores_n1 == n2 and suma_divisores_n2 == n1"
   ]
  },
  {
   "cell_type": "code",
   "execution_count": 70,
   "id": "27dcd824-55e1-4209-a901-a3c705522459",
   "metadata": {
    "tags": []
   },
   "outputs": [
    {
     "name": "stdout",
     "output_type": "stream",
     "text": [
      "¿220 y 284 son amigos? True\n",
      "¿6 y 5 son amigos? False\n"
     ]
    }
   ],
   "source": [
    "# Ejemplos de uso\n",
    "n1 = 220\n",
    "n2 = 284\n",
    "resultado1 = amigos(n1, n2)\n",
    "print(f\"¿{n1} y {n2} son amigos? {resultado1}\")\n",
    "\n",
    "n3 = 6\n",
    "n4 = 5\n",
    "resultado2 = amigos(n3, n4)\n",
    "print(f\"¿{n3} y {n4} son amigos? {resultado2}\")"
   ]
  },
  {
   "cell_type": "markdown",
   "id": "f22d1e13-b8c7-4f70-83b6-d1029851b0f0",
   "metadata": {},
   "source": [
    "**Ejercicio 09**\n",
    "\n",
    "La [conjetura de Collatz](https://en.wikipedia.org/wiki/Collatz_conjecture), conocida también como conjetura $3n+1$ o conjetura de Ulam (entre otros nombres), fue enunciada por el matemático Lothar Collatz en 1937, y a la fecha no se ha resuelto.\n",
    "\n",
    "Sea la siguiente operación, aplicable a cualquier número entero positivo:\n",
    "* Si el número es par, se divide entre 2.\n",
    "* Si el número es impar, se multiplica por 3 y se suma 1.\n",
    "\n",
    "La conjetura dice que siempre alcanzaremos el 1 (y por tanto el ciclo 4, 2, 1) para cualquier número con el que comencemos. \n",
    "\n",
    "Implemente una función llamada `collatz` cuyo input sea un número natural positivo $N$ y como output devulva la secuencia de números hasta llegar a 1.\n",
    "\n",
    "* **Ejemplo**: *collatz(9)* = [9, 28, 14, 7, 22, 11, 34, 17, 52, 26, 13, 40, 20, 10, 5, 16, 8, 4, 2, 1]"
   ]
  },
  {
   "cell_type": "code",
   "execution_count": 71,
   "id": "27c48d4a-33e0-483c-80ca-07111e3b80c9",
   "metadata": {
    "tags": []
   },
   "outputs": [],
   "source": [
    "def collatz(n):\n",
    "    secuencia = [n]\n",
    "    while n != 1:\n",
    "        if n % 2 == 0:\n",
    "            n //= 2\n",
    "        else:\n",
    "            n = 3 * n + 1\n",
    "        secuencia.append(n)\n",
    "    return secuencia"
   ]
  },
  {
   "cell_type": "code",
   "execution_count": 72,
   "id": "27b362e7-fb89-4d23-96ff-29eb8bd24e2e",
   "metadata": {
    "tags": []
   },
   "outputs": [
    {
     "name": "stdout",
     "output_type": "stream",
     "text": [
      "[9, 28, 14, 7, 22, 11, 34, 17, 52, 26, 13, 40, 20, 10, 5, 16, 8, 4, 2, 1]\n"
     ]
    }
   ],
   "source": [
    "# Ejemplo de uso\n",
    "numero = 9\n",
    "secuencia_collatz = collatz(numero)\n",
    "print(secuencia_collatz)"
   ]
  },
  {
   "cell_type": "markdown",
   "id": "b6ee19d7-ad9b-4347-8c90-ab3e93fd37e5",
   "metadata": {},
   "source": [
    "**Ejercicio 10**\n",
    "\n",
    "La [conjetura de Goldbach](https://en.wikipedia.org/wiki/Goldbach%27s_conjecture) es uno de los problemas abiertos más antiguos en matemáticas. Concretamente, G.H. Hardy, en 1921, en su famoso discurso pronunciado en la Sociedad Matemática de Copenhague, comentó que probablemente la conjetura de Goldbach no es solo uno de los problemas no resueltos más difíciles de la teoría de números, sino de todas las matemáticas. Su enunciado es el siguiente:\n",
    "\n",
    "> Todo número par mayor que 2 puede escribirse como suma de dos números primos - Christian Goldbach (1742)\n",
    "\n",
    "Implemente una función llamada `goldbach` cuyo input sea un número natural positivo $n$ y como output devuelva la suma de dos primos ($n_1$ y $n_2$) tal que: $n_1+n_2=n$. \n",
    "\n",
    "Para esto:\n",
    "\n",
    "* a) Defina la función `es_primo`, donde la entrada sea un número natural $n$ y la salida sea **True** si el número es primo y **False** en otro caso.\n",
    "    * **Ejemplo**: *es_primo(3)* = True, *es_primo(4)* = False\n",
    "    \n",
    "    \n",
    "* b)  Defina la función `lista_de_primos`, donde la entrada sea un número natural par $n$ mayor que dos y la salida sea una lista con todos los número primos entre 2 y $n$.\n",
    "    * **Ejemplo**: *lista_de_primos(4)* = [2,3], *lista_de_primos(6)* = [2,3,5], *lista_de_primos(8)* = [2,3,5,7]\n",
    "\n",
    "\n",
    "* c) Ocupe la función `lista_de_primos` dentro de la función `goldbash`.\n",
    " * **Ejemplo**: goldbash(4) = (2,2), goldbash(6) = (3,3) , goldbash(8) = (3,5)"
   ]
  },
  {
   "cell_type": "code",
   "execution_count": 74,
   "id": "887dd38a-8b62-4b97-af88-6b581ca2e41d",
   "metadata": {
    "tags": []
   },
   "outputs": [],
   "source": [
    "# a) Función es_primo\n",
    "def es_primo(n):\n",
    "    if n <= 1:\n",
    "        return False\n",
    "    if n <= 3:\n",
    "        return True\n",
    "    if n % 2 == 0 or n % 3 == 0:\n",
    "        return False\n",
    "    i = 5\n",
    "    while i * i <= n:\n",
    "        if n % i == 0 or n % (i + 2) == 0:\n",
    "            return False\n",
    "        i += 6\n",
    "    return True"
   ]
  },
  {
   "cell_type": "code",
   "execution_count": 73,
   "id": "f552c2ce-c95b-455e-a494-34328f488621",
   "metadata": {
    "tags": []
   },
   "outputs": [
    {
     "name": "stdout",
     "output_type": "stream",
     "text": [
      "True\n",
      "False\n"
     ]
    }
   ],
   "source": [
    "# Ejemplos de uso\n",
    "print(es_primo(3))  # True\n",
    "print(es_primo(4))  # False"
   ]
  },
  {
   "cell_type": "code",
   "execution_count": 75,
   "id": "e03aeba4-6f8d-4c7c-beba-bc4168fcd42e",
   "metadata": {
    "tags": []
   },
   "outputs": [],
   "source": [
    "# b) Función lista_de_primos\n",
    "def lista_de_primos(n):\n",
    "    primos = []\n",
    "    for num in range(2, n + 1):\n",
    "        if es_primo(num):\n",
    "            primos.append(num)\n",
    "    return primos"
   ]
  },
  {
   "cell_type": "code",
   "execution_count": 76,
   "id": "c53856dc-b49b-47cc-b08d-52b73d40ec7e",
   "metadata": {
    "tags": []
   },
   "outputs": [
    {
     "name": "stdout",
     "output_type": "stream",
     "text": [
      "[2, 3]\n",
      "[2, 3, 5]\n",
      "[2, 3, 5, 7]\n"
     ]
    }
   ],
   "source": [
    "# Ejemplos de uso\n",
    "print(lista_de_primos(4))  # [2, 3]\n",
    "print(lista_de_primos(6))  # [2, 3, 5]\n",
    "print(lista_de_primos(8))  # [2, 3, 5, 7]"
   ]
  },
  {
   "cell_type": "code",
   "execution_count": 77,
   "id": "7eb8687c-8715-4733-8db0-9a17186f2e4c",
   "metadata": {
    "tags": []
   },
   "outputs": [],
   "source": [
    "# c) Función goldbach\n",
    "def goldbach(n):\n",
    "    primos = lista_de_primos(n)\n",
    "    for primo in primos:\n",
    "        if n - primo in primos:\n",
    "            return (primo, n - primo)"
   ]
  },
  {
   "cell_type": "code",
   "execution_count": 78,
   "id": "824fec4f-bcd5-472e-b5b6-c857fbb9a5c1",
   "metadata": {
    "tags": []
   },
   "outputs": [
    {
     "name": "stdout",
     "output_type": "stream",
     "text": [
      "(2, 2)\n",
      "(3, 3)\n",
      "(3, 5)\n"
     ]
    }
   ],
   "source": [
    "# Ejemplos de uso\n",
    "print(goldbach(4))  # (2, 2)\n",
    "print(goldbach(6))  # (3, 3)\n",
    "print(goldbach(8))  # (3, 5)"
   ]
  },
  {
   "cell_type": "markdown",
   "id": "0ad348ab-f849-4859-819c-de0a514cf2c8",
   "metadata": {},
   "source": [
    "**Ejercicio 11**\n",
    "\n",
    "El [producto interno](https://es.wikipedia.org/wiki/Producto_escalar) de dos listas de números es la suma de los productos de los términos correspondientes de ambas.\n",
    "\n",
    "Por ejemplo, si:\n",
    "```\n",
    "a = [5, 1, 6]\n",
    "b = [1, -2, 8]\n",
    "```\n",
    "\n",
    "entonces el producto interno entre $a$ y $b$ es:\n",
    "\n",
    "```\n",
    "(5 * 1) + (1 * -2) + (6 * 8)\n",
    "```\n",
    "\n",
    "1. Escriba la función `producto_interno(a, b)` que entregue el producto interno de `a` y `b`:\n",
    "\n",
    "    ```\n",
    "    >>> a = [7, 1, 4, 9, 8]\n",
    "    >>> b = range(5)\n",
    "    >>> producto_interno(a, b)\n",
    "    68\n",
    "    ```\n",
    "\n",
    "2. Dos listas de números son [ortogonales](https://es.wikipedia.org/wiki/Producto_escalar#Vectores_ortogonales) si su producto interno es cero. Escriba la función `son_ortogonales(a, b)` que indique si `a` y `b` son ortogonales:\n",
    "\n",
    "    ```\n",
    "    >>> son_ortogonales([2, 1], [-3, 6])\n",
    "    True\n",
    "    ```  \n"
   ]
  },
  {
   "cell_type": "code",
   "execution_count": 79,
   "id": "de12b9c3-409b-4c79-819c-4ab2fbed1643",
   "metadata": {
    "tags": []
   },
   "outputs": [],
   "source": [
    "# 1. Función producto_interno\n",
    "\n",
    "def producto_interno(a, b):\n",
    "    if len(a) != len(b):\n",
    "        return None  # Las listas deben tener la misma longitud\n",
    "    return sum(a_i * b_i for a_i, b_i in zip(a, b))"
   ]
  },
  {
   "cell_type": "code",
   "execution_count": 80,
   "id": "d2624bb9-4f71-44d4-b550-3562765bbb3c",
   "metadata": {
    "tags": []
   },
   "outputs": [
    {
     "name": "stdout",
     "output_type": "stream",
     "text": [
      "68\n"
     ]
    }
   ],
   "source": [
    "# Ejemplo de uso\n",
    "a = [7, 1, 4, 9, 8]\n",
    "b = list(range(5))\n",
    "resultado = producto_interno(a, b)\n",
    "print(resultado)  # Salida: 68"
   ]
  },
  {
   "cell_type": "code",
   "execution_count": 81,
   "id": "f3d17199-64be-4919-bb73-4fe90cd41067",
   "metadata": {
    "tags": []
   },
   "outputs": [],
   "source": [
    "# 2. Función son_ortogonales\n",
    "def son_ortogonales(a, b):\n",
    "    producto = producto_interno(a, b)\n",
    "    return producto == 0"
   ]
  },
  {
   "cell_type": "code",
   "execution_count": 82,
   "id": "51ab869c-c769-435c-95bb-71fe09cb1b5c",
   "metadata": {
    "tags": []
   },
   "outputs": [
    {
     "name": "stdout",
     "output_type": "stream",
     "text": [
      "True\n"
     ]
    }
   ],
   "source": [
    "# Ejemplo de uso\n",
    "resultado = son_ortogonales([2, 1], [-3, 6])\n",
    "print(resultado)  # Salida: True"
   ]
  },
  {
   "cell_type": "markdown",
   "id": "e124ad6e-a04a-409f-9551-7b5e8264971a",
   "metadata": {},
   "source": [
    "**Ejercicio 12**\n",
    "\n",
    "\n",
    "Una fecha puede ser representada como una tupla `(anno, mes, dia)`.\n",
    "\n",
    "1. Escriba la función `dia_siguiente(f)` que reciba como parámetro una fecha `f` y entegue cuál es la fecha siguiente:\n",
    "\n",
    "    ```\n",
    "    >>> dia_siguiente((2011, 4, 11))\n",
    "    (2011, 4, 12)\n",
    "    >>> dia_siguiente((2011, 4, 30))\n",
    "    (2011, 5, 1)\n",
    "    >>> dia_siguiente((2011, 12, 31))\n",
    "    (2012, 1, 1)\n",
    "    ```\n",
    "    \n",
    "    Como recomendación, dentro de su función use una lista con la cantidad de días que tiene cada mes:\n",
    "    \n",
    "    ```\n",
    "    dias_mes = [31, 28, 31, 30,\n",
    "            31, 30, 31, 31,\n",
    "            30, 31, 30, 31]\n",
    "    ```\n",
    "    \n",
    "\n",
    "2. Escriba la función `dias_entre(f1, f2)` que retorne la cantidad de días que han transcurrido entre las fechas `f1` y `f2`:\n",
    "\n",
    "    ```\n",
    "    >>> hoy = (2011, 4, 11)\n",
    "    >>> navidad = (2011, 12, 25)\n",
    "    >>> dias_entre(hoy, navidad)\n",
    "    258\n",
    "    >>> dias_entre(hoy, hoy)\n",
    "    0\n",
    "    ```"
   ]
  },
  {
   "cell_type": "code",
   "execution_count": 84,
   "id": "d5b9d8e1-f68d-4d2c-8c5d-758a448fcf3f",
   "metadata": {
    "tags": []
   },
   "outputs": [],
   "source": [
    "# 1. Función dia_siguiente\n",
    "def dia_siguiente(fecha):\n",
    "    anno, mes, dia = fecha\n",
    "    dias_mes = [31, 28, 31, 30, 31, 30, 31, 31, 30, 31, 30, 31]\n",
    "\n",
    "    # Comprobamos si es un año bisiesto\n",
    "    if (anno % 4 == 0 and anno % 100 != 0) or (anno % 400 == 0):\n",
    "        dias_mes[1] = 29\n",
    "\n",
    "    if dia < dias_mes[mes - 1]:\n",
    "        return (anno, mes, dia + 1)\n",
    "    elif mes < 12:\n",
    "        return (anno, mes + 1, 1)\n",
    "    else:\n",
    "        return (anno + 1, 1, 1)"
   ]
  },
  {
   "cell_type": "code",
   "execution_count": 85,
   "id": "ecc402f8-6d0b-41f2-92c0-fee1e68ebbe1",
   "metadata": {
    "tags": []
   },
   "outputs": [
    {
     "name": "stdout",
     "output_type": "stream",
     "text": [
      "(2011, 4, 12)\n",
      "(2011, 5, 1)\n",
      "(2012, 1, 1)\n"
     ]
    }
   ],
   "source": [
    "# Ejemplos de uso\n",
    "print(dia_siguiente((2011, 4, 11)))  # Salida: (2011, 4, 12)\n",
    "print(dia_siguiente((2011, 4, 30)))  # Salida: (2011, 5, 1)\n",
    "print(dia_siguiente((2011, 12, 31)))  # Salida: (2012, 1, 1)"
   ]
  },
  {
   "cell_type": "code",
   "execution_count": 86,
   "id": "324af7d4-40f0-4972-8f37-1c1c8af2937f",
   "metadata": {
    "tags": []
   },
   "outputs": [],
   "source": [
    "# 2. Función dias_entre\n",
    "def dias_entre(fecha1, fecha2):\n",
    "    from datetime import date\n",
    "\n",
    "    date1 = date(fecha1[0], fecha1[1], fecha1[2])\n",
    "    date2 = date(fecha2[0], fecha2[1], fecha2[2])\n",
    "    \n",
    "    delta = date2 - date1\n",
    "    return delta.days"
   ]
  },
  {
   "cell_type": "code",
   "execution_count": 87,
   "id": "f4dee74e-7709-49d4-ac75-4d6e833f18b7",
   "metadata": {
    "tags": []
   },
   "outputs": [
    {
     "name": "stdout",
     "output_type": "stream",
     "text": [
      "258\n",
      "0\n"
     ]
    }
   ],
   "source": [
    "# Ejemplos de uso\n",
    "hoy = (2011, 4, 11)\n",
    "navidad = (2011, 12, 25)\n",
    "print(dias_entre(hoy, navidad))  # Salida: 258\n",
    "print(dias_entre(hoy, hoy))  # Salida: 0"
   ]
  },
  {
   "cell_type": "markdown",
   "id": "2611cc3a-9a96-4f6c-9811-e505f949def6",
   "metadata": {
    "tags": []
   },
   "source": [
    "**Ejercicio 13**\n",
    "\n",
    "\n",
    "El [conjunto potencia](https://es.wikipedia.org/wiki/Conjunto_potencia) de un conjunto $S$ es el conjunto de todos los subconjuntos de $S$.\n",
    "\n",
    "Por ejemplo, el conjunto potencia de $\\{1,2,3\\}$\n",
    " es:\n",
    "\n",
    "$$\\{\\emptyset,\\{1\\},\\{2\\},\\{3\\},\\{1,2\\},\\{1,3\\},\\{2,3\\},\\{1,2,3\\}\\}$$\n",
    "\n",
    "En Python, un conjunto no puede contener a otros conjuntos, ya que no puede tener elementos mutables, y los conjuntos lo son:\n",
    "\n",
    "\n",
    "```python\n",
    ">>> a = set()\n",
    ">>> a.add({1, 2})        # :(\n",
    "Traceback (most recent call last):\n",
    "  File \"<console>\", line 1, in <module>\n",
    "TypeError: unhashable type: 'set'\n",
    "```\n",
    "\n",
    "Lo que sí podemos crear es una lista de conjuntos:\n",
    "\n",
    "```python\n",
    ">>> l = list()\n",
    ">>> l.append({1, 2})     # :)\n",
    ">>> l\n",
    "[set([1, 2])]\n",
    "```\n",
    "\n",
    "Escriba la `función conjunto_potencia(s)` que reciba como parámetro un conjunto cualquiera `s` y retorne su «lista potencia» (la lista de todos sus subconjuntos):\n",
    "\n",
    "```python\n",
    ">>> conjunto_potencia({6, 1, 4})\n",
    "[set(), set([6]), set([1]), set([4]), set([6, 1]), set([6, 4]), set([1, 4]), set([6, 1, 4])]\n",
    "```"
   ]
  },
  {
   "cell_type": "code",
   "execution_count": 89,
   "id": "d34e1fc3-0876-46fb-87c4-f06682c6bdbd",
   "metadata": {
    "tags": []
   },
   "outputs": [],
   "source": [
    "def conjunto_potencia(s):\n",
    "    # Convierte el conjunto en una lista para poder iterar sobre sus elementos\n",
    "    elementos = list(s)\n",
    "    n = len(elementos)\n",
    "    potencia = []\n",
    "\n",
    "    for i in range(2**n):\n",
    "        subconjunto = set()\n",
    "        for j in range(n):\n",
    "            # Verifica si el j-ésimo bit de i está encendido\n",
    "            if (i >> j) & 1:\n",
    "                subconjunto.add(elementos[j])\n",
    "        potencia.append(subconjunto)\n",
    "\n",
    "    return potencia"
   ]
  },
  {
   "cell_type": "code",
   "execution_count": 90,
   "id": "f7a003dd-7a86-4379-bf38-ed09d269a6e7",
   "metadata": {
    "tags": []
   },
   "outputs": [
    {
     "name": "stdout",
     "output_type": "stream",
     "text": [
      "[set(), {1}, {4}, {1, 4}, {6}, {1, 6}, {4, 6}, {1, 4, 6}]\n"
     ]
    }
   ],
   "source": [
    "# Ejemplo de uso\n",
    "conjunto = {6, 1, 4}\n",
    "resultado = conjunto_potencia(conjunto)\n",
    "print(resultado)"
   ]
  },
  {
   "cell_type": "markdown",
   "id": "cfa62efe-9c04-46c8-82b7-b921c9f1c22b",
   "metadata": {},
   "source": [
    "**Ejercicio 14**\n",
    "\n",
    "Para este ejercicio considere lo siguiente:\n",
    "\n",
    "Para obtener la lista de palabras de la oración, puede usar el método `split` de los strings:\n",
    "\n",
    "```python\n",
    ">>> s = 'el gato y el pato'\n",
    ">>> s.split()\n",
    "['el', 'gato', 'y', 'el', 'pato']\n",
    "```\n",
    "\n",
    "Para obtener un string en minúsculas, puede usar el método lower:\n",
    "\n",
    "```python\n",
    ">>> s = 'Venezuela'\n",
    ">>> s.lower()\n",
    "'venezuela'\n",
    "```\n",
    "\n",
    "1. Escriba la función `contar_letras(oracion)` que retorne un diccionario asociando a cada letra la cantidad de veces que aparece en la oracion:\n",
    "\n",
    "    ```\n",
    "    >>> contar_letras('El elefante avanza hacia Asia')\n",
    "    {'a': 8, 'c': 1, 'e': 4, 'f': 1, 'h': 1, 'i': 2, 'l': 2, 'n': 2, 's': 1, 't': 1, 'v': 1, 'z': 1}\n",
    "    ```\n",
    "\n",
    "    Cada valor del diccionario debe considerar tanto las apariciones en mayúscula como en minúscula de la letra correspondiente. Los espacios deben ser ignorados.\n",
    "\n",
    "2. Escriba la función `contar_vocales(oracion)` que retorne un diccionario asociando a cada vocal la cantidad de veces que aparece en la oracion. Si una vocal no aparece en la oración, de todos modos debe estar en el diccionario asociada al valor 0:\n",
    "\n",
    "    ```\n",
    "    >>> contar_vocales('El elefante avanza hacia Asia')\n",
    "    {'a': 8, 'e': 4, 'i': 2, 'o': 0, 'u': 0}\n",
    "    ```\n",
    "\n",
    "\n",
    "3. Escriba la función `contar_iniciales(oracion)` que retorne un diccionario asociando a cada letra la cantidad de veces que aparece al principio de una palabra:\n",
    "\n",
    "    ```\n",
    "    >>> contar_iniciales('El elefante avanza hacia Asia')\n",
    "    {'e': 2, 'h': 1, 'a': 2}\n",
    "    >>> contar_iniciales('Varias vacas vuelan sobre Venezuela')\n",
    "    {'s': 1', 'v': 4}\n",
    "    ```\n",
    "\n",
    "\n",
    "4. Escriba la función `obtener_largo_palabras(oracion)` que retorne un diccionario asociando a cada palabra su cantidad de letras:\n",
    "\n",
    "    ```\n",
    "    >>> obtener_largo_palabras('el gato y el pato son amigos')\n",
    "    {'el': 2, 'son': 3, 'gato': 4, 'y': 1, 'amigos': 6, 'pato': 4}\n",
    "    ```\n",
    "\n",
    "\n",
    "5. Escriba la función `contar_palabras(oracion)` que retorne un diccionario asociando a cada palabra la cantidad de veces que aparece en la oración:\n",
    "\n",
    "    ```\n",
    "    >>> contar_palabras('El sobre esta sobre el pupitre')\n",
    "    {'sobre': 2, 'pupitre': 1, 'el': 2, 'esta': 1}\n",
    "    ```\n",
    "\n",
    "6. Escriba la función `palabras_repetidas(oracion)` que retorne una lista con las palabras que están repetidas:\n",
    "\n",
    "    ```\n",
    "    >>> palabras_repetidas('El partido termino cero a cero')\n",
    "    ['cero']\n",
    "    >>> palabras_repetidas('El sobre esta sobre el mueble')\n",
    "    ['el', 'sobre']\n",
    "    >>> palabras_repetidas('Ay, ahi no hay pan')\n",
    "    []\n",
    "    ```"
   ]
  },
  {
   "cell_type": "code",
   "execution_count": 91,
   "id": "ea537372-56ae-4802-96e4-bca00d9f41c6",
   "metadata": {
    "tags": []
   },
   "outputs": [],
   "source": [
    "# Función contar_letras:\n",
    "\n",
    "def contar_letras(oracion):\n",
    "    oracion = oracion.lower()\n",
    "    letras = [letra for letra in oracion if letra.isalpha()]\n",
    "    contador = {}\n",
    "    for letra in letras:\n",
    "        if letra in contador:\n",
    "            contador[letra] += 1\n",
    "        else:\n",
    "            contador[letra] = 1\n",
    "    return contador"
   ]
  },
  {
   "cell_type": "code",
   "execution_count": 92,
   "id": "a2c8643e-3485-4ab1-a422-6dcdc4b547cf",
   "metadata": {
    "tags": []
   },
   "outputs": [
    {
     "name": "stdout",
     "output_type": "stream",
     "text": [
      "{'e': 4, 'l': 2, 'f': 1, 'a': 8, 'n': 2, 't': 1, 'v': 1, 'z': 1, 'h': 1, 'c': 1, 'i': 2, 's': 1}\n"
     ]
    }
   ],
   "source": [
    "# Ejemplo de uso\n",
    "oracion = 'El elefante avanza hacia Asia'\n",
    "resultado = contar_letras(oracion)\n",
    "print(resultado)"
   ]
  },
  {
   "cell_type": "code",
   "execution_count": 93,
   "id": "65e40d7f-0a83-4a21-ab45-44bf2c2ec005",
   "metadata": {
    "tags": []
   },
   "outputs": [],
   "source": [
    "# Función contar_vocales:\n",
    "def contar_vocales(oracion):\n",
    "    oracion = oracion.lower()\n",
    "    vocales = 'aeiou'\n",
    "    contador = {vocal: 0 for vocal in vocales}\n",
    "    for letra in oracion:\n",
    "        if letra in contador:\n",
    "            contador[letra] += 1\n",
    "    return contador"
   ]
  },
  {
   "cell_type": "code",
   "execution_count": 94,
   "id": "02952f59-16b8-4d6a-8b5e-20a18d9ccde6",
   "metadata": {
    "tags": []
   },
   "outputs": [
    {
     "name": "stdout",
     "output_type": "stream",
     "text": [
      "{'a': 8, 'e': 4, 'i': 2, 'o': 0, 'u': 0}\n"
     ]
    }
   ],
   "source": [
    "# Ejemplo de uso\n",
    "oracion = 'El elefante avanza hacia Asia'\n",
    "resultado = contar_vocales(oracion)\n",
    "print(resultado)"
   ]
  },
  {
   "cell_type": "code",
   "execution_count": 95,
   "id": "473210a7-31c3-4357-a9a8-3003f996f6d6",
   "metadata": {
    "tags": []
   },
   "outputs": [],
   "source": [
    "# Función contar_iniciales:\n",
    "def contar_iniciales(oracion):\n",
    "    oracion = oracion.lower()\n",
    "    palabras = oracion.split()\n",
    "    contador = {}\n",
    "    for palabra in palabras:\n",
    "        if palabra:\n",
    "            inicial = palabra[0]\n",
    "            if inicial in contador:\n",
    "                contador[inicial] += 1\n",
    "            else:\n",
    "                contador[inicial] = 1\n",
    "    return contador"
   ]
  },
  {
   "cell_type": "code",
   "execution_count": 96,
   "id": "bd3c4357-a3ba-4deb-968e-a052669a1579",
   "metadata": {
    "tags": []
   },
   "outputs": [
    {
     "name": "stdout",
     "output_type": "stream",
     "text": [
      "{'e': 2, 'a': 2, 'h': 1}\n"
     ]
    }
   ],
   "source": [
    "# Ejemplo de uso\n",
    "oracion = 'El elefante avanza hacia Asia'\n",
    "resultado = contar_iniciales(oracion)\n",
    "print(resultado)"
   ]
  },
  {
   "cell_type": "code",
   "execution_count": 97,
   "id": "e88f6f94-f9a6-4f4d-a2f4-25278c04b954",
   "metadata": {
    "tags": []
   },
   "outputs": [],
   "source": [
    "# Función obtener_largo_palabras:\n",
    "def obtener_largo_palabras(oracion):\n",
    "    palabras = oracion.split()\n",
    "    contador = {}\n",
    "    for palabra in palabras:\n",
    "        contador[palabra] = len(palabra)\n",
    "    return contador"
   ]
  },
  {
   "cell_type": "code",
   "execution_count": 98,
   "id": "1b19c158-44b2-4e83-9802-2f9410c6af10",
   "metadata": {
    "tags": []
   },
   "outputs": [
    {
     "name": "stdout",
     "output_type": "stream",
     "text": [
      "{'el': 2, 'gato': 4, 'y': 1, 'pato': 4, 'son': 3, 'amigos': 6}\n"
     ]
    }
   ],
   "source": [
    "# Ejemplo de uso\n",
    "oracion = 'el gato y el pato son amigos'\n",
    "resultado = obtener_largo_palabras(oracion)\n",
    "print(resultado)"
   ]
  },
  {
   "cell_type": "code",
   "execution_count": 99,
   "id": "53896d91-933d-4b9b-966e-379d58d08523",
   "metadata": {
    "tags": []
   },
   "outputs": [],
   "source": [
    "# Función contar_palabras:\n",
    "def contar_palabras(oracion):\n",
    "    oracion = oracion.lower()\n",
    "    palabras = oracion.split()\n",
    "    contador = {}\n",
    "    for palabra in palabras:\n",
    "        if palabra in contador:\n",
    "            contador[palabra] += 1\n",
    "        else:\n",
    "            contador[palabra] = 1\n",
    "    return contador"
   ]
  },
  {
   "cell_type": "code",
   "execution_count": 100,
   "id": "0eaa0c34-39ee-43f0-93ff-c7624981fb2e",
   "metadata": {
    "tags": []
   },
   "outputs": [
    {
     "name": "stdout",
     "output_type": "stream",
     "text": [
      "{'el': 2, 'sobre': 2, 'esta': 1, 'pupitre': 1}\n"
     ]
    }
   ],
   "source": [
    "# Ejemplo de uso\n",
    "oracion = 'El sobre esta sobre el pupitre'\n",
    "resultado = contar_palabras(oracion)\n",
    "print(resultado)"
   ]
  },
  {
   "cell_type": "code",
   "execution_count": 101,
   "id": "23fa349f-a70b-4fca-914a-abfe9af59b27",
   "metadata": {
    "tags": []
   },
   "outputs": [],
   "source": [
    "# Función palabras_repetidas:\n",
    "def palabras_repetidas(oracion):\n",
    "    oracion = oracion.lower()\n",
    "    palabras = oracion.split()\n",
    "    contador = {}\n",
    "    repetidas = []\n",
    "    for palabra in palabras:\n",
    "        if palabra in contador:\n",
    "            contador[palabra] += 1\n",
    "        else:\n",
    "            contador[palabra] = 1\n",
    "    for palabra, cantidad in contador.items():\n",
    "        if cantidad > 1:\n",
    "            repetidas.append(palabra)\n",
    "    return repetidas"
   ]
  },
  {
   "cell_type": "code",
   "execution_count": 102,
   "id": "dbc4e634-bcef-425f-a2fa-bffcafeccdb1",
   "metadata": {
    "tags": []
   },
   "outputs": [
    {
     "name": "stdout",
     "output_type": "stream",
     "text": [
      "['el', 'sobre']\n"
     ]
    }
   ],
   "source": [
    "# Ejemplo de uso\n",
    "oracion = 'El sobre esta sobre el mueble'\n",
    "resultado = palabras_repetidas(oracion)\n",
    "print(resultado)"
   ]
  }
 ],
 "metadata": {
  "colab": {
   "provenance": []
  },
  "kernelspec": {
   "display_name": "Python 3 (ipykernel)",
   "language": "python",
   "name": "python3"
  },
  "language_info": {
   "codemirror_mode": {
    "name": "ipython",
    "version": 3
   },
   "file_extension": ".py",
   "mimetype": "text/x-python",
   "name": "python",
   "nbconvert_exporter": "python",
   "pygments_lexer": "ipython3",
   "version": "3.10.11"
  }
 },
 "nbformat": 4,
 "nbformat_minor": 5
}
