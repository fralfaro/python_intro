{
 "cells": [
  {
   "cell_type": "markdown",
   "id": "91cb8290-6f49-49e6-a435-b0c94c6c5fde",
   "metadata": {
    "id": "91cb8290-6f49-49e6-a435-b0c94c6c5fde"
   },
   "source": [
    "<a href=\"https://colab.research.google.com/github/fralfaro/python_intro/blob/main/docs/solucion.ipynb\" target=\"_parent\"><img src=\"https://colab.research.google.com/assets/colab-badge.svg\" alt=\"Open In Colab\"/></a>\n",
    "\n",
    "#  Solución\n",
    "\n",
    "## Nomenclatura"
   ]
  },
  {
   "cell_type": "markdown",
   "id": "1403d24c-c03c-4d51-bad5-2bb5328957b6",
   "metadata": {
    "id": "1403d24c-c03c-4d51-bad5-2bb5328957b6"
   },
   "source": [
    "**Ejercicio 01**\n",
    "\n",
    "Escriba un programa que pida al usuario que escriba su nombre, y lo salude llamándolo por su nombre.\n",
    "\n",
    "```terminal\n",
    "Ingrese su nombre: Python\n",
    "Hola, Python\n",
    "```"
   ]
  },
  {
   "cell_type": "code",
   "execution_count": 1,
   "id": "a2d0dda2-8463-4e86-8266-3e9e98f8c272",
   "metadata": {
    "id": "a2d0dda2-8463-4e86-8266-3e9e98f8c272",
    "outputId": "82c19774-4615-4a89-90ed-bbcdae507666"
   },
   "outputs": [
    {
     "name": "stdout",
     "output_type": "stream",
     "text": [
      "Hola, Python\n"
     ]
    }
   ],
   "source": [
    "# respuesta\n",
    "\n",
    "nombre = \"Python\"\n",
    "print(f\"Hola, {nombre}\")"
   ]
  },
  {
   "cell_type": "markdown",
   "id": "bea7844f-ed0c-4f17-be3c-85da9329c102",
   "metadata": {
    "id": "bea7844f-ed0c-4f17-be3c-85da9329c102"
   },
   "source": [
    "**Ejercicio 02**\n",
    "\n",
    "Escriba un programa que reciba como entrada el radio de un círculo y entregue como salida su perímetro y su área:\n",
    "```terminal\n",
    "Ingrese el radio: 5\n",
    "Perimetro: 31.4\n",
    "Área: 78.5\n",
    "```"
   ]
  },
  {
   "cell_type": "code",
   "execution_count": 2,
   "id": "33d6fcae-f50e-44ec-8182-5c6411865942",
   "metadata": {
    "id": "33d6fcae-f50e-44ec-8182-5c6411865942",
    "outputId": "ed04c811-244f-4638-920a-46c42dc34eea"
   },
   "outputs": [
    {
     "name": "stdout",
     "output_type": "stream",
     "text": [
      "El area es 78.5\n"
     ]
    }
   ],
   "source": [
    "# respuesta\n",
    "\n",
    "radio = 5\n",
    "pi = 3.14\n",
    "area = pi*radio**2\n",
    "\n",
    "print(f\"El area es {area}\")"
   ]
  },
  {
   "cell_type": "markdown",
   "id": "be2295f7-4858-41c2-aacf-4595db24f058",
   "metadata": {
    "id": "be2295f7-4858-41c2-aacf-4595db24f058"
   },
   "source": [
    "**Ejercicio 03**\n",
    "\n",
    "Escriba un programa que calcule el promedio de 4 notas ingresadas por el usuario:\n",
    "\n",
    "\n",
    "```terminal\n",
    "Primera nota: 55\n",
    "Segunda nota: 71\n",
    "Tercera nota: 46\n",
    "Cuarta nota: 87\n",
    "El promedio es: 64.75\n",
    "```"
   ]
  },
  {
   "cell_type": "code",
   "execution_count": 3,
   "id": "a7279414-0c91-4eb3-a842-e08dabce9a31",
   "metadata": {
    "id": "a7279414-0c91-4eb3-a842-e08dabce9a31",
    "outputId": "eba55ce1-1aa8-4d08-e630-6e4623ac74e6"
   },
   "outputs": [
    {
     "name": "stdout",
     "output_type": "stream",
     "text": [
      "El promedio es 64.75\n"
     ]
    }
   ],
   "source": [
    "# respuesta\n",
    "\n",
    "nota_01 = 55\n",
    "nota_02 = 71\n",
    "nota_03 = 46\n",
    "nota_04 = 87\n",
    "\n",
    "promedio = (nota_01+nota_02+nota_03+nota_04)/4\n",
    "\n",
    "print(f\"El promedio es {promedio}\")"
   ]
  },
  {
   "cell_type": "markdown",
   "id": "03828e10-95d9-44fb-9f06-142d16df470f",
   "metadata": {
    "id": "03828e10-95d9-44fb-9f06-142d16df470f"
   },
   "source": [
    "**Ejercicio 04**\n",
    "\n",
    "Escriba un programa que convierta de centímetros a pulgadas. Una pulgada es igual a 2.54 centímetros.\n",
    "\n",
    "\n",
    "```terminal\n",
    "Ingrese longitud: 45\n",
    "45 cm = 17.7165 in\n",
    "```"
   ]
  },
  {
   "cell_type": "code",
   "execution_count": 4,
   "id": "32df43b6-a7d3-4ff7-9728-7bb6186af5f0",
   "metadata": {
    "id": "32df43b6-a7d3-4ff7-9728-7bb6186af5f0",
    "outputId": "5c0703d6-a8f6-4f1c-ced9-c6578f7c0409"
   },
   "outputs": [
    {
     "name": "stdout",
     "output_type": "stream",
     "text": [
      "45 cm = 17.7165 in\n"
     ]
    }
   ],
   "source": [
    "# respuesta\n",
    "\n",
    "longitud = 45\n",
    "pulgada = round(45/2.54,4)\n",
    "\n",
    "print(f\"{longitud} cm = {pulgada} in\")"
   ]
  },
  {
   "cell_type": "markdown",
   "id": "0bb72fb1-46be-4432-b776-3bf0ebb4f1b1",
   "metadata": {
    "id": "0bb72fb1-46be-4432-b776-3bf0ebb4f1b1"
   },
   "source": [
    "**Ejercicio 05**\n",
    "\n",
    "Escriba un programa que reciba como entrada las longitudes de los dos catetos $a$ y $b$ de un triángulo rectángulo, y que entregue como salida el largo de la hipotenusa $c$ del triangulo, dado por el teorema de Pitágoras: $c^2=a^2+b^2$.\n",
    "\n",
    "```terminal\n",
    "Ingrese cateto a: 7\n",
    "Ingrese cateto b: 5\n",
    "La hipotenusa es 8.6023252670426267\n",
    "```"
   ]
  },
  {
   "cell_type": "code",
   "execution_count": 5,
   "id": "a6a4a0bb-708c-47c3-8dd0-a8edac3da80e",
   "metadata": {
    "id": "a6a4a0bb-708c-47c3-8dd0-a8edac3da80e",
    "outputId": "cbf28a63-f6ce-4622-b6b1-9e01e59ac74f"
   },
   "outputs": [
    {
     "name": "stdout",
     "output_type": "stream",
     "text": [
      "La hipotenusa es 8.602325267042627\n"
     ]
    }
   ],
   "source": [
    "# respuesta\n",
    "\n",
    "cateto_01 = 7\n",
    "cateto_02 = 5\n",
    "\n",
    "hipotenusa = (cateto_01**2+cateto_02**2)**0.5\n",
    "\n",
    "print(f\"La hipotenusa es {hipotenusa}\")"
   ]
  },
  {
   "cell_type": "markdown",
   "id": "2f906313-7c49-4591-9544-080cdf1e87bb",
   "metadata": {
    "id": "2f906313-7c49-4591-9544-080cdf1e87bb"
   },
   "source": [
    "**Ejercicio 06**\n",
    "\n",
    "Escriba un programa que pregunte al usuario la hora actual $t$ del reloj y un número entero de horas $h$, que indique qué hora marcará el reloj dentro de $h$ horas:\n",
    "\n",
    "\n",
    "```terminal\n",
    "Hora actual: 23\n",
    "Cantidad de horas: 5\n",
    "En 5 horas, el reloj marcara las 4\n",
    "```"
   ]
  },
  {
   "cell_type": "code",
   "execution_count": 6,
   "id": "3a7cfa7a-c0d2-4e64-a9f9-ed8e45745a2f",
   "metadata": {
    "id": "3a7cfa7a-c0d2-4e64-a9f9-ed8e45745a2f",
    "outputId": "8be4e2eb-4df2-46b1-eb1c-770d8e43793c"
   },
   "outputs": [
    {
     "name": "stdout",
     "output_type": "stream",
     "text": [
      "En 5 horas, el reloj marcara las 4\n"
     ]
    }
   ],
   "source": [
    "# respuesta\n",
    "\n",
    "hora = 23\n",
    "cantidad = 5\n",
    "\n",
    "resultado = (23+5)%24\n",
    "\n",
    "print(f\"En {cantidad} horas, el reloj marcara las {resultado}\")"
   ]
  },
  {
   "cell_type": "markdown",
   "id": "2503d629-965f-4a85-aae3-b938b858ca61",
   "metadata": {
    "id": "2503d629-965f-4a85-aae3-b938b858ca61"
   },
   "source": [
    "**Ejercicio 07**\n",
    "\n",
    "Un alumno desea saber que nota necesita en el tercer certamen para aprobar un ramo.\n",
    "\n",
    "El promedio del ramo se calcula con la siguiente formula.\n",
    "\n",
    "$$N_C=(C_1+C_2+C_3)/3$$\n",
    "$$ N_F=N_C⋅0.7+N_L⋅0.3$$\n",
    "\n",
    "\n",
    "Donde $N_C$ es el promedio de certámenes, $N_L$ el promedio de laboratorio y $N_F$ la nota final.\n",
    "\n",
    "Escriba un programa que pregunte al usuario las notas de los dos primeros certamen y la nota de laboratorio, y muestre la nota que necesita el alumno para aprobar el ramo con nota final 60.\n",
    "\n",
    "```terminal\n",
    "Ingrese nota certamen 1: 45\n",
    "Ingrese nota certamen 2: 55\n",
    "Ingrese nota laboratorio: 65\n",
    "Necesita nota 74 en el certamen 3\n",
    "```"
   ]
  },
  {
   "cell_type": "code",
   "execution_count": 7,
   "id": "fbafaea4",
   "metadata": {
    "id": "fbafaea4",
    "outputId": "d5ca6f10-5a7f-404e-cce3-29aefccdf1ba"
   },
   "outputs": [
    {
     "name": "stdout",
     "output_type": "stream",
     "text": [
      "Necesita nota 74 en el certamen 3\n"
     ]
    }
   ],
   "source": [
    "# respuesta\n",
    "\n",
    "certamen_1 = 45\n",
    "certamen_2 = 55\n",
    "nota_lab = 65\n",
    "nota_final = 60\n",
    "\n",
    "certamen_3 = 3*((nota_final-0.3*nota_lab)/0.7)-certamen_1-certamen_2\n",
    "certamen_3 = round(certamen_3)\n",
    "\n",
    "print(f\"Necesita nota {certamen_3} en el certamen 3\")"
   ]
  },
  {
   "cell_type": "markdown",
   "id": "91147116-8baf-41e3-a89b-3eb8cec29000",
   "metadata": {
    "id": "91147116-8baf-41e3-a89b-3eb8cec29000"
   },
   "source": [
    "## Control de Flujo"
   ]
  },
  {
   "cell_type": "markdown",
   "id": "9f6131f6-648a-4d41-a98c-0eaa7fb48506",
   "metadata": {
    "id": "9f6131f6-648a-4d41-a98c-0eaa7fb48506"
   },
   "source": [
    "**Ejercicio 01**\n",
    "\n",
    "Escriba un programa que determine si el número entero ingresado por el usuario es par o no.\n",
    "\n",
    "\n",
    "```terminal\n",
    "Ingrese un número: 4\n",
    "Su número es par\n",
    "\n",
    "```\n",
    "\n",
    "```terminal\n",
    "Ingrese un número: 3\n",
    "Su número es impar\n",
    "\n",
    "```"
   ]
  },
  {
   "cell_type": "code",
   "execution_count": 8,
   "id": "8e89681c-653d-40c2-918b-f3e03faa52a2",
   "metadata": {
    "id": "8e89681c-653d-40c2-918b-f3e03faa52a2",
    "outputId": "e1e822cd-6e01-4bc0-8b51-4d3b08f4a781"
   },
   "outputs": [
    {
     "name": "stdout",
     "output_type": "stream",
     "text": [
      "Su número es par\n"
     ]
    }
   ],
   "source": [
    "# respuesta\n",
    "\n",
    "# caso 01\n",
    "numero = 4\n",
    "\n",
    "# caso 02\n",
    "#numero = 3\n",
    "\n",
    "if numero%2==0:\n",
    "    print(\"Su número es par\")\n",
    "else:\n",
    "    print(\"Su número es impar\")"
   ]
  },
  {
   "cell_type": "markdown",
   "id": "ff7570ac-aef7-4827-823e-fae919102de5",
   "metadata": {
    "id": "ff7570ac-aef7-4827-823e-fae919102de5"
   },
   "source": [
    "**Ejercicio 02**\n",
    "\n",
    "Escriba un programa que pida dos números enteros y que calcule la división, indicando si la división es exacta o no.\n",
    "\n",
    "\n",
    "\n",
    "```terminal\n",
    "Dividendo: 14\n",
    "Divisor: 5\n",
    "\n",
    "La división no es exacta.\n",
    "Cociente: 2\n",
    "Resto: 4\n",
    "\n",
    "```\n",
    "\n",
    "```terminal\n",
    "Dividendo: 15\n",
    "Divisor: 5\n",
    "\n",
    "La división es exacta.\n",
    "Cociente: 3\n",
    "Resto: 0\n",
    "\n",
    "```"
   ]
  },
  {
   "cell_type": "code",
   "execution_count": 9,
   "id": "5bff0b31-2963-4624-bdbe-676a2831c043",
   "metadata": {
    "id": "5bff0b31-2963-4624-bdbe-676a2831c043",
    "outputId": "65b8e332-70d7-4920-d0e3-9c51c570e865"
   },
   "outputs": [
    {
     "name": "stdout",
     "output_type": "stream",
     "text": [
      "La división no es exacta.\n",
      "cociente: 2\n",
      "resto: 4\n"
     ]
    }
   ],
   "source": [
    "# respuesta\n",
    "\n",
    "# caso 01\n",
    "dividendo = 14\n",
    "divisor = 5\n",
    "\n",
    "# caso 02\n",
    "#dividendo = 15\n",
    "#divisor = 5\n",
    "\n",
    "\n",
    "cociente = dividendo//divisor\n",
    "resto = dividendo%divisor\n",
    "\n",
    "if resto ==0:\n",
    "    print(\"La división es exacta.\")\n",
    "\n",
    "else:\n",
    "    print(\"La división no es exacta.\")\n",
    "\n",
    "print(f\"cociente: {cociente}\")\n",
    "print(f\"resto: {resto}\")"
   ]
  },
  {
   "cell_type": "markdown",
   "id": "0976a76e-747a-4e31-b47e-8afa7f782e45",
   "metadata": {
    "id": "0976a76e-747a-4e31-b47e-8afa7f782e45"
   },
   "source": [
    "**Ejercicio 03**\n",
    "\n",
    "Escriba un programa que pida al usuario dos palabras, y que indique cuál de ellas es la más larga y por cuántas letras lo es.\n",
    "\n",
    "```terminal\n",
    "Palabra 1: edificio\n",
    "Palabra 2: tren\n",
    "La palabra edificio tiene 4 letras mas que tren.\n",
    "\n",
    "```\n",
    "\n",
    "```terminal\n",
    "Palabra 1: sol\n",
    "Palabra 2: paralelepipedo\n",
    "La palabra paralelepipedo tiene 11 letras mas que sol\n",
    "\n",
    "```\n",
    "\n",
    "```terminal\n",
    "Palabra 1: plancha\n",
    "Palabra 2: lapices\n",
    "Las dos palabras tienen el mismo largo\n",
    "\n",
    "```"
   ]
  },
  {
   "cell_type": "code",
   "execution_count": 10,
   "id": "3f96386c-7513-4532-83a4-af3a003e5146",
   "metadata": {
    "id": "3f96386c-7513-4532-83a4-af3a003e5146",
    "outputId": "1b48acbe-6b0d-47e5-adf8-3689ea860480"
   },
   "outputs": [
    {
     "name": "stdout",
     "output_type": "stream",
     "text": [
      "La palabra edificio tiene 4 letras mas que tren.\n"
     ]
    }
   ],
   "source": [
    "# respuesta\n",
    "\n",
    "# caso 01\n",
    "palabra_01 = \"edificio\"\n",
    "palabra_02 = \"tren\"\n",
    "\n",
    "# caso 02\n",
    "#palabra_01 = \"sol\"\n",
    "#palabra_02 = \"paralelepipedo\"\n",
    "\n",
    "# caso 02\n",
    "#palabra_01 = \"plancha\"\n",
    "#palabra_02 = \"lapices\"\n",
    "\n",
    "largo_p1 = len(palabra_01)\n",
    "largo_p2 = len(palabra_02)\n",
    "diferencia = largo_p1-largo_p2\n",
    "\n",
    "if diferencia>0:\n",
    "    print(f\"La palabra {palabra_01} tiene {diferencia} letras mas que {palabra_02}.\")\n",
    "\n",
    "elif diferencia<0:\n",
    "    print(f\"La palabra {palabra_02} tiene {-diferencia} letras mas que {palabra_01}.\")\n",
    "\n",
    "else:\n",
    "    print(\"Las dos palabras tienen el mismo largo\")"
   ]
  },
  {
   "cell_type": "markdown",
   "id": "a6b21b49-fd0c-4cbb-b190-7548ee749086",
   "metadata": {
    "id": "a6b21b49-fd0c-4cbb-b190-7548ee749086"
   },
   "source": [
    "**Ejercicio 04**\n",
    "\n",
    "Cuando la Tierra completa una órbita alrededor del Sol, no han transcurrido exactamente 365 rotaciones sobre sí misma, sino un poco más. Más precisamente, la diferencia es de más o menos un cuarto de día.\n",
    "\n",
    "Para evitar que las estaciones se desfasen con el calendario, el calendario juliano introdujo la regla de introducir un día adicional en los años divisibles por 4 (llamados [bisiestos](https://es.wikipedia.org/wiki/A%C3%B1o_bisiesto)), para tomar en consideración los cuatro cuartos de día acumulados.\n",
    "\n",
    "Sin embargo, bajo esta regla sigue habiendo un desfase, que es de aproximadamente 3/400 de día.\n",
    "\n",
    "Para corregir este desfase, en el año 1582 el papa Gregorio XIII introdujo un nuevo calendario, en el que el último año de cada siglo dejaba de ser bisiesto, a no ser que fuera divisible por 400.\n",
    "\n",
    "Escriba un programa que indique si un año es bisiesto o no, teniendo en cuenta cuál era el calendario vigente en ese año:\n",
    "\n",
    "```terminal\n",
    "Ingrese un anno: 1988\n",
    "1988 es bisiesto\n",
    "\n",
    "```\n",
    "\n",
    "\n",
    "\n",
    "```terminal\n",
    "Ingrese un anno: 2011\n",
    "2011 no es bisiesto\n",
    "```\n",
    "\n",
    "\n",
    "```terminal\n",
    "Ingrese un anno: 1700\n",
    "1700 no es bisiesto\n",
    "```\n",
    "\n",
    "```terminal\n",
    "Ingrese un anno: 1500\n",
    "1500 es bisiesto\n",
    "\n",
    "```\n",
    "\n",
    "```terminal\n",
    "Ingrese un anno: 2400\n",
    "2400 es bisiesto\n",
    "\n",
    "```"
   ]
  },
  {
   "cell_type": "code",
   "execution_count": 11,
   "id": "00743d95-5d7c-4e11-9467-9a087ae065d3",
   "metadata": {
    "id": "00743d95-5d7c-4e11-9467-9a087ae065d3",
    "outputId": "1b044086-b0d9-4289-fba1-29c2dfe13d42"
   },
   "outputs": [
    {
     "name": "stdout",
     "output_type": "stream",
     "text": [
      "1988 es bisiesto\n"
     ]
    }
   ],
   "source": [
    "# respuesta\n",
    "\n",
    "# caso 01\n",
    "anno = 1988\n",
    "\n",
    "# caso 02\n",
    "#anno = 2011\n",
    "\n",
    "# caso 03\n",
    "#anno = 1700\n",
    "\n",
    "# caso 04\n",
    "#anno = 1500\n",
    "\n",
    "# caso 05\n",
    "#anno = 2400\n",
    "\n",
    "\n",
    "if anno<1582:\n",
    "    if anno%4==0:\n",
    "        print(f\"{anno} es bisiesto\")\n",
    "    else:\n",
    "        print(f\"{anno} no es bisiesto\")\n",
    "\n",
    "else:\n",
    "    if anno%100==0:\n",
    "        if (anno%4==0) and (anno%400==0):\n",
    "            print(f\"{anno} es bisiesto\")\n",
    "        else:\n",
    "            print(f\"{anno} no es bisiesto\")\n",
    "    else:\n",
    "        if anno%4==0:\n",
    "            print(f\"{anno} es bisiesto\")\n",
    "        else:\n",
    "            print(f\"{anno} no es bisiesto\")"
   ]
  },
  {
   "cell_type": "markdown",
   "id": "6e8917e2-0880-462c-abdb-54fe3b5558cf",
   "metadata": {
    "id": "6e8917e2-0880-462c-abdb-54fe3b5558cf"
   },
   "source": [
    "**Ejercicio 05**\n",
    "\n",
    "Los tres lados $a, b$ y $c$ de un triángulo deben satisfacer la [desigualdad triangular](https://es.wikipedia.org/wiki/Desigualdad_triangular): cada uno de los lados no puede ser más largo que la suma de los otros dos.\n",
    "\n",
    "Escriba un programa que reciba como entrada los tres lados de un triángulo, e indique:\n",
    "\n",
    "* si acaso el triángulo es inválido\n",
    "* si el triángulo es válido, qué [tipo de triángulo](https://www.universoformulas.com/matematicas/geometria/tipos-triangulos/) es.\n",
    "\n",
    "```terminal\n",
    "Ingrese a: 3.9\n",
    "Ingrese b: 6.0\n",
    "Ingrese c: 1.2\n",
    "No es un triangulo valido.\n",
    "\n",
    "```\n",
    "\n",
    "```terminal\n",
    "Ingrese a: 1.9\n",
    "Ingrese b: 2\n",
    "Ingrese c: 2\n",
    "El triangulo es isoceles.\n",
    "\n",
    "```\n",
    "\n",
    "```terminal\n",
    "Ingrese a: 3.0\n",
    "Ingrese b: 5.0\n",
    "Ingrese c: 4.0\n",
    "El triangulo es escaleno.\n",
    "\n",
    "```\n",
    "\n",
    "```terminal\n",
    "Ingrese a: 2\n",
    "Ingrese b: 2\n",
    "Ingrese c: 2\n",
    "El triangulo es equilatero.\n",
    "\n",
    "```"
   ]
  },
  {
   "cell_type": "code",
   "execution_count": 12,
   "id": "4cc0e2c3-190c-4350-b6ae-3cbd12c9b9ab",
   "metadata": {
    "id": "4cc0e2c3-190c-4350-b6ae-3cbd12c9b9ab",
    "outputId": "2365b158-e414-4167-e147-f529e2d046bf"
   },
   "outputs": [
    {
     "name": "stdout",
     "output_type": "stream",
     "text": [
      "el triangulo es invalido\n"
     ]
    }
   ],
   "source": [
    "# respuesta\n",
    "\n",
    "# caso_01\n",
    "a = 3.9\n",
    "b = 6.0\n",
    "c = 1.2\n",
    "\n",
    "# caso_02\n",
    "#a = 1.9\n",
    "#b = 2\n",
    "#c = 2\n",
    "\n",
    "# caso_03\n",
    "#a = 3\n",
    "#b = 4\n",
    "#c = 5\n",
    "\n",
    "# caso_04\n",
    "#a = 2\n",
    "#b = 2\n",
    "#c = 2\n",
    "\n",
    "# la suma de los dos lados no puede ser mayor que el tercer lado y que tipo de triangulo es:\n",
    "\n",
    "if (a + b >= c) & (b + c >= a) & (c + a >= b):\n",
    "    print(\"el triangulo es valido\")\n",
    "\n",
    "    if a == b == c:\n",
    "        print(f\"el triangulo es equilatero\")\n",
    "\n",
    "    elif (a == b != c) or (a != b == c) or (b != a == c):\n",
    "        print(f\"el triangulo es escaleno\")\n",
    "\n",
    "    else:\n",
    "        print(f\"el triangulo es isoceles\")\n",
    "\n",
    "else:\n",
    "    print(\"el triangulo es invalido\")"
   ]
  },
  {
   "cell_type": "markdown",
   "id": "5bcbc404-bac1-416c-8c01-34d19873872f",
   "metadata": {
    "id": "5bcbc404-bac1-416c-8c01-34d19873872f"
   },
   "source": [
    "## Estructura de Datos"
   ]
  },
  {
   "cell_type": "markdown",
   "id": "9410a89a-b598-4a84-8c80-40515a7e49d6",
   "metadata": {
    "id": "9410a89a-b598-4a84-8c80-40515a7e49d6"
   },
   "source": [
    "**Ejercicio 01**\n",
    "\n",
    "Escriba un programa que muestre la tabla de multiplicar del 1 al 10 del número ingresado por el usuario:\n",
    "\n",
    "```terminal\n",
    "Ingrese un numero: 9\n",
    "9 x 1 = 9\n",
    "9 x 2 = 18\n",
    "9 x 3 = 27\n",
    "9 x 4 = 36\n",
    "9 x 5 = 45\n",
    "9 x 6 = 54\n",
    "9 x 7 = 63\n",
    "9 x 8 = 72\n",
    "9 x 9 = 81\n",
    "9 x 10 = 90\n",
    "```"
   ]
  },
  {
   "cell_type": "code",
   "execution_count": 13,
   "id": "4c4e6df2-f45e-4f75-b79e-30c549f5ceee",
   "metadata": {
    "id": "4c4e6df2-f45e-4f75-b79e-30c549f5ceee",
    "outputId": "e81076f2-2188-4188-bbf8-fc29b8c25588"
   },
   "outputs": [
    {
     "name": "stdout",
     "output_type": "stream",
     "text": [
      "9 x 1 = 9\n",
      "9 x 2 = 18\n",
      "9 x 3 = 27\n",
      "9 x 4 = 36\n",
      "9 x 5 = 45\n",
      "9 x 6 = 54\n",
      "9 x 7 = 63\n",
      "9 x 8 = 72\n",
      "9 x 9 = 81\n",
      "9 x 10 = 90\n"
     ]
    }
   ],
   "source": [
    "# respuesta\n",
    "\n",
    "# ingrese numero\n",
    "\n",
    "n = 9\n",
    "\n",
    "# tabla de multiplicar\n",
    "\n",
    "valores = [1,2,3,4,5,6,7,8,9,10]\n",
    "\n",
    "for i in valores:\n",
    "    print(f\"{n} x {i} = {i*n}\" )"
   ]
  },
  {
   "cell_type": "markdown",
   "id": "5362970d-b11c-4ebf-8f41-e6c894cab0c9",
   "metadata": {
    "id": "5362970d-b11c-4ebf-8f41-e6c894cab0c9"
   },
   "source": [
    "**Ejercicio 02**\n",
    "\n",
    "Escriba un programa que genere todas las potencias de 2, desde la 0-ésima hasta la ingresada por el usuario:\n",
    "\n",
    "\n",
    "```terminal\n",
    "Ingrese num: 10\n",
    "1 2 4 8 16 32 64 128 256 512 1024\n",
    "```"
   ]
  },
  {
   "cell_type": "code",
   "execution_count": 14,
   "id": "d3e63552-80fb-4f49-b04e-9733eaa870b6",
   "metadata": {
    "id": "d3e63552-80fb-4f49-b04e-9733eaa870b6",
    "outputId": "c7c25c84-45ee-4401-bcb2-17d9ca4c80fa"
   },
   "outputs": [
    {
     "name": "stdout",
     "output_type": "stream",
     "text": [
      "1\n",
      "2\n",
      "4\n",
      "8\n",
      "16\n",
      "32\n",
      "64\n",
      "128\n",
      "256\n",
      "512\n",
      "1024\n"
     ]
    }
   ],
   "source": [
    "# respuesta\n",
    "\n",
    "# generar potencias de 2\n",
    "\n",
    "lista = [0,1,2,3,4,5,6,7,8,9,10]\n",
    "\n",
    "for x in lista:\n",
    "    print(2**x)"
   ]
  },
  {
   "cell_type": "markdown",
   "id": "30042a1a-708a-417e-9a53-a946b1d9d9ae",
   "metadata": {
    "id": "30042a1a-708a-417e-9a53-a946b1d9d9ae"
   },
   "source": [
    "**Ejercicio 03**\n",
    "\n",
    "Escribir un programa que almacene las asignaturas de un curso (por ejemplo Matemáticas, Física, Química, Historia y Lengua) en una lista y la muestre por pantalla el mensaje `Yo estudio <asignatura>`, donde `<asignatura>` es cada una de las asignaturas de la lista.\n",
    "    \n"
   ]
  },
  {
   "cell_type": "code",
   "execution_count": 15,
   "id": "3396c8cc-fc9d-4cb5-ad79-da0ccd3db6de",
   "metadata": {
    "id": "3396c8cc-fc9d-4cb5-ad79-da0ccd3db6de",
    "outputId": "a10393ec-c826-4f0a-dcf1-480ecddc74f5"
   },
   "outputs": [
    {
     "name": "stdout",
     "output_type": "stream",
     "text": [
      "yo estudio matematicas\n",
      "yo estudio fisica\n",
      "yo estudio quimica\n",
      "yo estudio historia\n",
      "yo estudio lenguaje\n"
     ]
    }
   ],
   "source": [
    "# respuesta\n",
    "\n",
    "# insertar lista de asignaturas\n",
    "\n",
    "lista = [\"matematicas\", \"fisica\", \"quimica\", \"historia\", \"lenguaje\"]\n",
    "\n",
    "for i in lista:\n",
    "    print(f\"yo estudio {i}\")"
   ]
  },
  {
   "cell_type": "markdown",
   "id": "7f2d9632-1443-4cec-b693-353b3b68d1e9",
   "metadata": {
    "id": "7f2d9632-1443-4cec-b693-353b3b68d1e9"
   },
   "source": [
    "**Ejercicio 04**\n",
    "\n",
    "Un número natural es un [palíndromo](https://es.wikipedia.org/wiki/Pal%C3%ADndromo) si se lee igual de izquierda a derecha y de derecha a izquierda.\n",
    "\n",
    "Por ejemplo, $14941$ es un palíndromo, mientras que $81924$ no lo es.\n",
    "\n",
    "Escriba un programa que indique si el número ingresado es o no palíndromo:\n",
    "\n",
    "```terminal\n",
    "Ingrese un numero: 14941\n",
    "14941 es palindromo\n",
    "```\n",
    "\n",
    "```terminal\n",
    "Ingrese un numero: 81924\n",
    "81924 no es palindromo\n",
    "\n",
    "```"
   ]
  },
  {
   "cell_type": "code",
   "execution_count": 16,
   "id": "0019ac21-1e39-4c13-a7c3-f2c6f745b902",
   "metadata": {
    "id": "0019ac21-1e39-4c13-a7c3-f2c6f745b902",
    "outputId": "9d9e200b-059a-4a96-b0c0-0d32dda2df77"
   },
   "outputs": [
    {
     "name": "stdout",
     "output_type": "stream",
     "text": [
      "el numero 123454321 es palindromo\n"
     ]
    }
   ],
   "source": [
    "# respuesta\n",
    "\n",
    "# ingresar numero\n",
    "num = 123454321\n",
    "#num = 81924\n",
    "\n",
    "num = str(num)\n",
    "\n",
    "# identificar si es palindromo\n",
    "\n",
    "if num==num[::-1]:\n",
    "    print(f\"el numero {num} es palindromo\")\n",
    "\n",
    "else:\n",
    "    print(f\"el numero {num} no es palindromo\")"
   ]
  },
  {
   "cell_type": "markdown",
   "id": "0419bbe7-4611-4017-9b0a-bcb4d38a5ccd",
   "metadata": {
    "id": "0419bbe7-4611-4017-9b0a-bcb4d38a5ccd"
   },
   "source": [
    "**Ejercicio 05**\n",
    "\n",
    "Escribir una función que reciba una lista de tuplas, y que devuelva un diccionario en donde las claves sean los primeros elementos de las tuplas, y los valores una lista con los segundos.\n",
    "\n",
    "Por ejemplo, dado una lista:\n",
    "```python\n",
    "l = [ ('Nola', 'don Pepito'), ('Nola', 'don Jose'), ('Buenos', 'días') ]\n",
    "```\n",
    "\n",
    "Deberá mostrar: `{ 'Nola': ['don Pepito', 'don Jose'], 'Buenos': ['días'] }`\n",
    "\n"
   ]
  },
  {
   "cell_type": "code",
   "execution_count": 17,
   "id": "a6e375f5",
   "metadata": {
    "id": "a6e375f5",
    "outputId": "ca541727-93d9-4c88-b71a-db99a5fd44ef"
   },
   "outputs": [
    {
     "name": "stdout",
     "output_type": "stream",
     "text": [
      "{'Nola': ['don Pepito', 'don Jose'], 'Buenos': ['días']}\n"
     ]
    }
   ],
   "source": [
    "# ingresar lista\n",
    "\n",
    "l = [ ('Nola', 'don Pepito'), ('Nola', 'don Jose'), ('Buenos', 'días') ]\n",
    "\n",
    "# devolver diccionario\n",
    "diccionario = dict()\n",
    "\n",
    "l1 = {x[0] for x in l }\n",
    "l2 = [x[1] for x in l]\n",
    "\n",
    "for x in l1:\n",
    "    l_temp = []\n",
    "    for y in l:\n",
    "        if x==y[0]:\n",
    "            l_temp.append(y[1])\n",
    "    diccionario[x] = l_temp\n",
    "\n",
    "print(diccionario)"
   ]
  },
  {
   "cell_type": "markdown",
   "id": "49eb8238-6547-4d7c-a794-aeb40b7063aa",
   "metadata": {
    "id": "49eb8238-6547-4d7c-a794-aeb40b7063aa"
   },
   "source": [
    "## Funciones"
   ]
  },
  {
   "cell_type": "markdown",
   "id": "211ce5fe-5a9e-4564-866b-af134e307516",
   "metadata": {
    "id": "211ce5fe-5a9e-4564-866b-af134e307516"
   },
   "source": [
    "**Ejercicio 01**\n",
    "\n",
    "Escriba una función que se llame `saludar` que reciba como input un string **s** y devuelva como output \"Hola + valor de s\".\n",
    "* **Ejemplo**: *saludar(\"mundo\")* = \"Hola mundo\""
   ]
  },
  {
   "cell_type": "code",
   "execution_count": 18,
   "id": "adc5e015-3284-4915-a56d-54272563d90c",
   "metadata": {
    "id": "adc5e015-3284-4915-a56d-54272563d90c"
   },
   "outputs": [],
   "source": [
    "# respuesta\n",
    "\n",
    "def saludar(s):\n",
    "    resultado = \"Hola \" + s\n",
    "    return resultado"
   ]
  },
  {
   "cell_type": "code",
   "execution_count": 19,
   "id": "4fea0441",
   "metadata": {
    "id": "4fea0441",
    "outputId": "e416bc94-a54d-4434-8083-fe85e35b6378"
   },
   "outputs": [
    {
     "data": {
      "text/plain": [
       "'Hola mundo'"
      ]
     },
     "execution_count": 19,
     "metadata": {},
     "output_type": "execute_result"
    }
   ],
   "source": [
    "saludar(\"mundo\")"
   ]
  },
  {
   "cell_type": "markdown",
   "id": "91458c3b-1077-4bab-be1f-766fd9b391ba",
   "metadata": {
    "id": "91458c3b-1077-4bab-be1f-766fd9b391ba"
   },
   "source": [
    "**Ejercicio 02**\n",
    "\n",
    "Escriba una función que se llame `es_par` que reciba como input un número entero **n** y devuelva como output *True* si el número es par, y *False* en otro caso.\n",
    "\n",
    "* **Ejemplo**:\n",
    "    * *es_par(4)* = True\n",
    "    * *es_par(3)* = False"
   ]
  },
  {
   "cell_type": "code",
   "execution_count": 20,
   "id": "f271a851-9d7f-468d-be7e-bd062f517b67",
   "metadata": {
    "id": "f271a851-9d7f-468d-be7e-bd062f517b67"
   },
   "outputs": [],
   "source": [
    "# respuesta\n",
    "\n",
    "def es_par(n):\n",
    "    if n%2 == 0:\n",
    "        return True\n",
    "    else:\n",
    "        return False"
   ]
  },
  {
   "cell_type": "code",
   "execution_count": 21,
   "id": "e656496f",
   "metadata": {
    "id": "e656496f",
    "outputId": "89a1c9f4-279c-4ecb-aa03-adcf03fa9308"
   },
   "outputs": [
    {
     "data": {
      "text/plain": [
       "True"
      ]
     },
     "execution_count": 21,
     "metadata": {},
     "output_type": "execute_result"
    }
   ],
   "source": [
    "# caso_01\n",
    "es_par(4)"
   ]
  },
  {
   "cell_type": "code",
   "execution_count": 22,
   "id": "fb55b52c",
   "metadata": {
    "id": "fb55b52c",
    "outputId": "cef45c9d-778a-4f81-b822-c6327aca4ccf"
   },
   "outputs": [
    {
     "data": {
      "text/plain": [
       "False"
      ]
     },
     "execution_count": 22,
     "metadata": {},
     "output_type": "execute_result"
    }
   ],
   "source": [
    "# caso_02\n",
    "es_par(3)"
   ]
  },
  {
   "cell_type": "markdown",
   "id": "3c03cddd-1527-4bb6-9f14-78dca26995ab",
   "metadata": {
    "id": "3c03cddd-1527-4bb6-9f14-78dca26995ab"
   },
   "source": [
    "**Ejercicio 03**\n",
    "\n",
    "Escriba una función que se llame `es_primo` que reciba como input un número entero **n** y devuelva como output *True* si el número es primo, y *False* en otro caso.\n",
    "\n",
    "* **Ejemplo**:\n",
    "    * *es_primo(1)* = False\n",
    "    * *es_primo(2)* = True\n",
    "    * *es_primo(3)* = True\n",
    "    * *es_primo(4)* = False\n"
   ]
  },
  {
   "cell_type": "code",
   "execution_count": 23,
   "id": "4ee6ccb6-f8e0-426d-af34-e270ed39c3fe",
   "metadata": {
    "id": "4ee6ccb6-f8e0-426d-af34-e270ed39c3fe"
   },
   "outputs": [],
   "source": [
    "# respuesta\n",
    "\n",
    "def es_primo(n):\n",
    "    if n == 1:\n",
    "        return False\n",
    "\n",
    "    elif n == 2:\n",
    "        return True\n",
    "\n",
    "    else:\n",
    "        for x in range(2,n):\n",
    "            if n % x == 0:\n",
    "                return False\n",
    "                break\n",
    "    return True"
   ]
  },
  {
   "cell_type": "code",
   "execution_count": 24,
   "id": "d7a27510",
   "metadata": {
    "id": "d7a27510",
    "outputId": "b34f467a-24d5-46b0-a568-9e02c2a8d5f1"
   },
   "outputs": [
    {
     "data": {
      "text/plain": [
       "False"
      ]
     },
     "execution_count": 24,
     "metadata": {},
     "output_type": "execute_result"
    }
   ],
   "source": [
    "# caso_01\n",
    "es_primo(1)"
   ]
  },
  {
   "cell_type": "code",
   "execution_count": 25,
   "id": "e64560d5",
   "metadata": {
    "id": "e64560d5",
    "outputId": "da04efc7-8d74-4a57-d8ff-ea16ce5f8e4d"
   },
   "outputs": [
    {
     "data": {
      "text/plain": [
       "True"
      ]
     },
     "execution_count": 25,
     "metadata": {},
     "output_type": "execute_result"
    }
   ],
   "source": [
    "# caso_02\n",
    "es_primo(2)"
   ]
  },
  {
   "cell_type": "code",
   "execution_count": 26,
   "id": "f5b65e06",
   "metadata": {
    "id": "f5b65e06",
    "outputId": "5b4dcc65-78f8-441e-fe57-ced0312bf611"
   },
   "outputs": [
    {
     "data": {
      "text/plain": [
       "True"
      ]
     },
     "execution_count": 26,
     "metadata": {},
     "output_type": "execute_result"
    }
   ],
   "source": [
    "# caso_03\n",
    "es_primo(3)"
   ]
  },
  {
   "cell_type": "code",
   "execution_count": 27,
   "id": "7173e9c1",
   "metadata": {
    "id": "7173e9c1",
    "outputId": "0eded1d3-561c-472c-e40d-ae2f3e0d9215"
   },
   "outputs": [
    {
     "data": {
      "text/plain": [
       "False"
      ]
     },
     "execution_count": 27,
     "metadata": {},
     "output_type": "execute_result"
    }
   ],
   "source": [
    "# caso_04\n",
    "es_primo(4)"
   ]
  },
  {
   "cell_type": "markdown",
   "id": "f2a747aa-a79a-4db0-ab6e-2958baf82a55",
   "metadata": {
    "id": "f2a747aa-a79a-4db0-ab6e-2958baf82a55"
   },
   "source": [
    "**Ejercicio 04**\n",
    "\n",
    "La suma natural de los primeros **n** números naturales esta dado por:\n",
    "$$\\displaystyle S = \\sum_{k=1}^{n} k = 1 +2 +3 +...+n = \\dfrac{n(n+1)}{2} $$\n",
    "\n",
    "Escriba una función que se llame `suma_numeros_naturales` que reciba como input un número entero **n** y devuelva como output la suma de los primeros **n** números naturales.\n",
    "\n",
    "Para esto:\n",
    "\n",
    "* a) Programe la función ocupando la fórmula manual: $S = 1+2+3+..+n$\n",
    "* b) Programe la función ocupando la fórmula cerrada: $S =\\dfrac{n(n+1)}{2} $\n",
    "\n",
    "**Ejemplo**:\n",
    "   * *suma_numeros_naturales(1)* = 1\n",
    "   * *suma_numeros_naturales(10)* = 55\n",
    "   * *suma_numeros_naturales(100)* = 5050\n",
    "\n"
   ]
  },
  {
   "cell_type": "code",
   "execution_count": 28,
   "id": "367576ae-83af-4b85-939e-b7a50bf128eb",
   "metadata": {
    "id": "367576ae-83af-4b85-939e-b7a50bf128eb"
   },
   "outputs": [],
   "source": [
    "# respuesta\n",
    "\n",
    "def suma_numeros_naturales_directa(n):\n",
    "    resultado = 0\n",
    "    for k in range(1,n+1):\n",
    "        suma = k\n",
    "        resultado = resultado + suma\n",
    "    return resultado\n",
    "\n",
    "def suma_numeros_naturales_cerrada(n):\n",
    "    return int(n*(n+1)/2)"
   ]
  },
  {
   "cell_type": "code",
   "execution_count": 29,
   "id": "7893f231",
   "metadata": {
    "id": "7893f231",
    "outputId": "9b2001c2-c958-4c3e-daf4-781ee3052e74"
   },
   "outputs": [
    {
     "data": {
      "text/plain": [
       "(1, 1)"
      ]
     },
     "execution_count": 29,
     "metadata": {},
     "output_type": "execute_result"
    }
   ],
   "source": [
    "# caso 01\n",
    "suma_numeros_naturales_directa(1),suma_numeros_naturales_cerrada(1)"
   ]
  },
  {
   "cell_type": "code",
   "execution_count": 30,
   "id": "9bbe6baf",
   "metadata": {
    "id": "9bbe6baf",
    "outputId": "0d495426-f36e-4947-9592-19eb35609bab"
   },
   "outputs": [
    {
     "data": {
      "text/plain": [
       "(55, 55)"
      ]
     },
     "execution_count": 30,
     "metadata": {},
     "output_type": "execute_result"
    }
   ],
   "source": [
    "# caso 02\n",
    "suma_numeros_naturales_directa(10),suma_numeros_naturales_cerrada(10)"
   ]
  },
  {
   "cell_type": "code",
   "execution_count": 31,
   "id": "60ccb6f8",
   "metadata": {
    "id": "60ccb6f8",
    "outputId": "91fe39ed-b442-46b6-f2fa-e54bbe1da618"
   },
   "outputs": [
    {
     "data": {
      "text/plain": [
       "(5050, 5050)"
      ]
     },
     "execution_count": 31,
     "metadata": {},
     "output_type": "execute_result"
    }
   ],
   "source": [
    "# caso 03\n",
    "suma_numeros_naturales_directa(100),suma_numeros_naturales_cerrada(100)"
   ]
  },
  {
   "cell_type": "markdown",
   "id": "bc1bae54-91a1-46a7-931d-ca0bb19eaf32",
   "metadata": {
    "id": "bc1bae54-91a1-46a7-931d-ca0bb19eaf32"
   },
   "source": [
    "**Ejercicio 05**\n",
    "\n",
    "En los siglos XVII y XVIII, James Gregory y Gottfried Leibniz descubrieron una serie infinita que sirve para calcular $\\pi$:\n",
    "\n",
    "$$\\displaystyle \\pi = 4 \\sum_{k=1}^{\\infty}\\dfrac{(-1)^{k+1}}{2k-1} = 4(1-\\dfrac{1}{3}+\\dfrac{1}{5}-\\dfrac{1}{7} + ...) $$\n",
    "\n",
    "Desarolle un programa para estimar el valor de $\\pi$ ocupando el método de Leibniz, donde la entrada del programa debe ser un número entero $n$ que indique cuántos términos de la suma se utilizará.\n",
    "\n",
    "\n",
    "* **Ejemplo**:\n",
    "    * *calcular_pi(3)* = 3.466666666666667\n",
    "    * *calcular_pi(1000)* = 3.140592653839794"
   ]
  },
  {
   "cell_type": "code",
   "execution_count": 32,
   "id": "9499cdcc-b8b3-4d01-8c75-f358772acb28",
   "metadata": {
    "id": "9499cdcc-b8b3-4d01-8c75-f358772acb28"
   },
   "outputs": [],
   "source": [
    "# respuesta\n",
    "\n",
    "def calcular_pi(n):\n",
    "    resultado = 0\n",
    "\n",
    "    for k in range(1,n+1):\n",
    "        suma = 4*((-1)**(k+1)/(2*k-1))\n",
    "        resultado = resultado + suma\n",
    "    return resultado"
   ]
  },
  {
   "cell_type": "code",
   "execution_count": 33,
   "id": "2c150665",
   "metadata": {
    "id": "2c150665",
    "outputId": "a48a0134-bf9a-4def-91ba-abb18ae473c1"
   },
   "outputs": [
    {
     "data": {
      "text/plain": [
       "3.466666666666667"
      ]
     },
     "execution_count": 33,
     "metadata": {},
     "output_type": "execute_result"
    }
   ],
   "source": [
    "# caso_01\n",
    "calcular_pi(3)"
   ]
  },
  {
   "cell_type": "code",
   "execution_count": 34,
   "id": "052de9ba",
   "metadata": {
    "id": "052de9ba",
    "outputId": "c1848d2b-3c50-4edc-eb5f-bae4330cf246"
   },
   "outputs": [
    {
     "data": {
      "text/plain": [
       "3.140592653839794"
      ]
     },
     "execution_count": 34,
     "metadata": {},
     "output_type": "execute_result"
    }
   ],
   "source": [
    "# caso_02\n",
    "calcular_pi(1000)"
   ]
  },
  {
   "cell_type": "markdown",
   "id": "6f70139b-c0a8-4b4d-88bb-1512075ea571",
   "metadata": {
    "id": "6f70139b-c0a8-4b4d-88bb-1512075ea571"
   },
   "source": [
    "**Ejercicio 06**\n",
    "\n",
    "Euler realizó varios aportes en relación a $e$, pero no fue hasta 1748 cuando publicó su **Introductio in analysin infinitorum** que dio un tratamiento definitivo a las ideas sobre $e$. Allí mostró que:\n",
    "\n",
    "\n",
    "En los siglos XVII y XVIII, James Gregory y Gottfried Leibniz descubrieron una serie infinita que sirve para calcular π:\n",
    "\n",
    "$$\\displaystyle e = \\sum_{k=0}^{\\infty}\\dfrac{1}{k!} = 1+\\dfrac{1}{2!}+\\dfrac{1}{3!}+\\dfrac{1}{4!} + ... $$\n",
    "\n",
    "Desarolle un programa para estimar el valor de $e$ ocupando el método de Euler, donde la entrada del programa debe ser un número entero $n$ que indique cuántos términos de la suma se utilizará.\n",
    "\n",
    "Para esto:\n",
    "\n",
    "* a) Defina la función `factorial`, donde la entrada sea un número natural  $n$ y la salida sea el factorial de dicho número.\n",
    "    * **Ejemplo**: *factorial(3)* =3, *factorial(5)* = 120\n",
    "    \n",
    "    \n",
    "* b) Ocupe la función `factorial` dentro de la función `calcular_e`.     \n",
    "    * **Ejemplo**: *calcular_e(3)* = 2.6666666666666665, *calcular_e(1000)* = 2.7182818284590455"
   ]
  },
  {
   "cell_type": "code",
   "execution_count": 35,
   "id": "59fa8422-87bd-4974-bc2c-44feef618f60",
   "metadata": {
    "id": "59fa8422-87bd-4974-bc2c-44feef618f60"
   },
   "outputs": [],
   "source": [
    "# respuesta\n",
    "\n",
    "def factorial(n):\n",
    "    if n ==0:\n",
    "        return 1\n",
    "\n",
    "    else:\n",
    "        f = 1\n",
    "        for i in range(1, n + 1):\n",
    "                f *= i\n",
    "        return f"
   ]
  },
  {
   "cell_type": "code",
   "execution_count": 36,
   "id": "59c5d3cc",
   "metadata": {
    "id": "59c5d3cc"
   },
   "outputs": [],
   "source": [
    "def calcular_e (n):\n",
    "    resultado = 0\n",
    "    for k in range(0,n+1):\n",
    "        suma = 1/factorial(k)\n",
    "        resultado = resultado + suma\n",
    "    return resultado"
   ]
  },
  {
   "cell_type": "code",
   "execution_count": 37,
   "id": "dc32d2da",
   "metadata": {
    "id": "dc32d2da",
    "outputId": "b4b1b05a-f971-4666-b866-7a07b69dff43"
   },
   "outputs": [
    {
     "data": {
      "text/plain": [
       "2.6666666666666665"
      ]
     },
     "execution_count": 37,
     "metadata": {},
     "output_type": "execute_result"
    }
   ],
   "source": [
    "# caso_01\n",
    "calcular_e(3)"
   ]
  },
  {
   "cell_type": "code",
   "execution_count": 38,
   "id": "4b1cfd9d",
   "metadata": {
    "id": "4b1cfd9d",
    "outputId": "b27352af-74bb-4423-c7cc-df9dc84571a8"
   },
   "outputs": [
    {
     "data": {
      "text/plain": [
       "2.7182818284590455"
      ]
     },
     "execution_count": 38,
     "metadata": {},
     "output_type": "execute_result"
    }
   ],
   "source": [
    "# caso_02\n",
    "calcular_e(1000)"
   ]
  },
  {
   "cell_type": "markdown",
   "id": "5baf4a01-82c0-4655-9312-936d65ce8285",
   "metadata": {
    "id": "5baf4a01-82c0-4655-9312-936d65ce8285"
   },
   "source": [
    "**Ejercicio 07**\n",
    "\n",
    "Sea $\\sigma(n)$ definido como la suma de los divisores propios de $n$ (números menores que n que se dividen en $n$).\n",
    "\n",
    "Los [números amigos](https://en.wikipedia.org/wiki/Amicable_numbers) son  enteros positivos $n_1$ y $n_2$ tales que la suma de los divisores propios de uno es igual al otro número y viceversa, es decir, $\\sigma(n_1)=\\sigma(n_2)$ y $\\sigma(n_2)=\\sigma(n_1)$.\n",
    "\n",
    "\n",
    "Por ejemplo, los números 220 y 284 son números amigos.\n",
    "* los divisores propios de 220 son 1, 2, 4, 5, 10, 11, 20, 22, 44, 55 y 110; por lo tanto $\\sigma(220) = 284$.\n",
    "* los divisores propios de 284 son 1, 2, 4, 71 y 142; entonces $\\sigma(284) = 220$.\n",
    "\n",
    "\n",
    "Implemente una función llamada `amigos` cuyo input sean dos números naturales $n_1$ y $n_2$, cuyo output sea verifique si los números son amigos o no.\n",
    "\n",
    "Para esto:\n",
    "\n",
    "* a) Defina la función `divisores_propios`, donde la entrada sea un número natural $n$ y la salida sea una lista con los divisores propios de dicho número.\n",
    "    * **Ejemplo**: *divisores_propios(220)* = [1, 2, 4, 5, 10, 11, 20, 22, 44, 55 y 110], *divisores_propios(284)* = [1, 2, 4, 71 y 142]\n",
    "    \n",
    "    \n",
    "* b) Ocupe la función `divisores_propios` dentro de la función `amigos`.\n",
    "\n",
    "    * **Ejemplo**: *amigos(220,284)* = True, *amigos(6,5)* = False"
   ]
  },
  {
   "cell_type": "code",
   "execution_count": 39,
   "id": "ee787ac5-21a7-45e0-bd92-3cd5a42eb040",
   "metadata": {
    "id": "ee787ac5-21a7-45e0-bd92-3cd5a42eb040"
   },
   "outputs": [],
   "source": [
    "# respuesta\n",
    "\n",
    "def divisores_propios(n):\n",
    "    lista = []\n",
    "\n",
    "    for x in range(1,n):\n",
    "        if n % x == 0:\n",
    "            lista.append(x)\n",
    "\n",
    "    return lista"
   ]
  },
  {
   "cell_type": "code",
   "execution_count": 40,
   "id": "b65909af",
   "metadata": {
    "id": "b65909af",
    "outputId": "e5befad7-79ef-45fa-e4c3-2256eff02512"
   },
   "outputs": [
    {
     "data": {
      "text/plain": [
       "[1, 2, 4, 5, 10, 11, 20, 22, 44, 55, 110]"
      ]
     },
     "execution_count": 40,
     "metadata": {},
     "output_type": "execute_result"
    }
   ],
   "source": [
    "# caso_01\n",
    "divisores_propios(220)"
   ]
  },
  {
   "cell_type": "code",
   "execution_count": 41,
   "id": "292e7136",
   "metadata": {
    "id": "292e7136",
    "outputId": "85faad6d-bca1-4b70-ba00-3b303b8c9da4"
   },
   "outputs": [
    {
     "data": {
      "text/plain": [
       "[1, 2, 4, 71, 142]"
      ]
     },
     "execution_count": 41,
     "metadata": {},
     "output_type": "execute_result"
    }
   ],
   "source": [
    "# caso_02\n",
    "divisores_propios(284)"
   ]
  },
  {
   "cell_type": "code",
   "execution_count": 42,
   "id": "14551565",
   "metadata": {
    "id": "14551565"
   },
   "outputs": [],
   "source": [
    "def amigos(n1,n2):\n",
    "    if (sum(divisores_propios(n1)) == n2) & (sum(divisores_propios(n2)) == n1):\n",
    "        return True\n",
    "\n",
    "    else:\n",
    "        return False"
   ]
  },
  {
   "cell_type": "code",
   "execution_count": 43,
   "id": "1009eb19",
   "metadata": {
    "id": "1009eb19",
    "outputId": "1de6ea41-457c-4d5d-c3ed-035edfefb212"
   },
   "outputs": [
    {
     "data": {
      "text/plain": [
       "True"
      ]
     },
     "execution_count": 43,
     "metadata": {},
     "output_type": "execute_result"
    }
   ],
   "source": [
    "# caso_01\n",
    "amigos(220,284)"
   ]
  },
  {
   "cell_type": "code",
   "execution_count": 44,
   "id": "8de256d7",
   "metadata": {
    "id": "8de256d7",
    "outputId": "022d8898-e210-4f95-ecd1-245335029d61"
   },
   "outputs": [
    {
     "data": {
      "text/plain": [
       "False"
      ]
     },
     "execution_count": 44,
     "metadata": {},
     "output_type": "execute_result"
    }
   ],
   "source": [
    "# caso_02\n",
    "amigos(5,6)"
   ]
  },
  {
   "cell_type": "markdown",
   "id": "9f2633a6-dbb3-4019-84e3-ce5df4c7cb8e",
   "metadata": {
    "id": "9f2633a6-dbb3-4019-84e3-ce5df4c7cb8e"
   },
   "source": [
    "**Ejercicio 08**\n",
    "\n",
    "La [conjetura de Collatz](https://en.wikipedia.org/wiki/Collatz_conjecture), conocida también como conjetura $3n+1$ o conjetura de Ulam (entre otros nombres), fue enunciada por el matemático Lothar Collatz en 1937, y a la fecha no se ha resuelto.\n",
    "\n",
    "Sea la siguiente operación, aplicable a cualquier número entero positivo:\n",
    "* Si el número es par, se divide entre 2.\n",
    "* Si el número es impar, se multiplica por 3 y se suma 1.\n",
    "\n",
    "La conjetura dice que siempre alcanzaremos el 1 (y por tanto el ciclo 4, 2, 1) para cualquier número con el que comencemos.\n",
    "\n",
    "Implemente una función llamada `collatz` cuyo input sea un número natural positivo $N$ y como output devulva la secuencia de números hasta llegar a 1.\n",
    "\n",
    "* **Ejemplo**: *collatz(9)* = [9, 28, 14, 7, 22, 11, 34, 17, 52, 26, 13, 40, 20, 10, 5, 16, 8, 4, 2, 1]"
   ]
  },
  {
   "cell_type": "code",
   "execution_count": 45,
   "id": "70ffba1f-3fa9-4aa7-8786-c4e46d1d8fd7",
   "metadata": {
    "id": "70ffba1f-3fa9-4aa7-8786-c4e46d1d8fd7"
   },
   "outputs": [],
   "source": [
    "# respuesta\n",
    "\n",
    "def divisible_por_dos(n):\n",
    "    if n%2 == 0:\n",
    "        resultado_1 = n/2\n",
    "        return int(resultado_1)\n",
    "    else:\n",
    "        resultado_2 = 3*n + 1\n",
    "        return int(resultado_2)"
   ]
  },
  {
   "cell_type": "code",
   "execution_count": 46,
   "id": "5c67ac9e",
   "metadata": {
    "id": "5c67ac9e"
   },
   "outputs": [],
   "source": [
    "def collatz(n):\n",
    "    lista = []\n",
    "    lista.append(n)\n",
    "\n",
    "    while n != 1:\n",
    "        n = divisible_por_dos(n)\n",
    "        lista.append(n)\n",
    "    return lista"
   ]
  },
  {
   "cell_type": "code",
   "execution_count": 47,
   "id": "6ac83a3f",
   "metadata": {
    "id": "6ac83a3f",
    "outputId": "46fb9cbb-b611-4ace-a0f1-f6f01fde5590"
   },
   "outputs": [
    {
     "data": {
      "text/plain": [
       "[11, 34, 17, 52, 26, 13, 40, 20, 10, 5, 16, 8, 4, 2, 1]"
      ]
     },
     "execution_count": 47,
     "metadata": {},
     "output_type": "execute_result"
    }
   ],
   "source": [
    "collatz(11)"
   ]
  },
  {
   "cell_type": "markdown",
   "id": "90a0abfc-0f55-45ee-978f-5af087f113f2",
   "metadata": {
    "id": "90a0abfc-0f55-45ee-978f-5af087f113f2"
   },
   "source": [
    "**Ejercicio 09**\n",
    "\n",
    "La [conjetura de Goldbach](https://en.wikipedia.org/wiki/Goldbach%27s_conjecture) es uno de los problemas abiertos más antiguos en matemáticas. Concretamente, G.H. Hardy, en 1921, en su famoso discurso pronunciado en la Sociedad Matemática de Copenhague, comentó que probablemente la conjetura de Goldbach no es solo uno de los problemas no resueltos más difíciles de la teoría de números, sino de todas las matemáticas. Su enunciado es el siguiente:\n",
    "\n",
    "> Todo número par mayor que 2 puede escribirse como suma de dos números primos - Christian Goldbach (1742)\n",
    "\n",
    "Implemente una función llamada `goldbach` cuyo input sea un número natural positivo $n$ y como output devuelva la suma de dos primos ($n_1$ y $n_2$) tal que: $n_1+n_2=n$.\n",
    "\n",
    "Para esto:\n",
    "\n",
    "* a) Defina la función `es_primo`, donde la entrada sea un número natural $n$ y la salida sea **True** si el número es primo y **False** en otro caso.\n",
    "    * **Ejemplo**: *es_primo(3)* = True, *es_primo(4)* = False\n",
    "    \n",
    "    \n",
    "* b)  Defina la función `lista_de_primos`, donde la entrada sea un número natural par $n$ mayor que dos y la salida sea una lista con todos los número primos entre 2 y $n$.\n",
    "    * **Ejemplo**: *lista_de_primos(4)* = [2,3], *lista_de_primos(6)* = [2,3,5], *lista_de_primos(8)* = [2,3,5,7]\n",
    "\n",
    "\n",
    "* c) Ocupe la función `lista_de_primos` dentro de la función `goldbash`.\n",
    " * **Ejemplo**: goldbash(4) = (2,2), goldbash(6) = (3,3) , goldbash(8) = (3,5)"
   ]
  },
  {
   "cell_type": "code",
   "execution_count": 48,
   "id": "15e52f77",
   "metadata": {
    "id": "15e52f77"
   },
   "outputs": [],
   "source": [
    "# respuesta\n",
    "\n",
    "def lista_primos(n):\n",
    "    lista = []\n",
    "\n",
    "    for x in range(2,n):\n",
    "        if es_primo(x):\n",
    "            lista.append(x)\n",
    "    return lista"
   ]
  },
  {
   "cell_type": "code",
   "execution_count": 49,
   "id": "5e5f2442",
   "metadata": {
    "id": "5e5f2442"
   },
   "outputs": [],
   "source": [
    "def goldbash(n):\n",
    "    lista = lista_primos(n)\n",
    "\n",
    "    for n1 in lista:\n",
    "        for n2 in lista:\n",
    "            if n1 + n2 == n:\n",
    "                return (n1,n2)\n",
    "                break"
   ]
  },
  {
   "cell_type": "code",
   "execution_count": 50,
   "id": "5450d979-7b2b-40ce-adda-134c2ebc4934",
   "metadata": {
    "id": "5450d979-7b2b-40ce-adda-134c2ebc4934",
    "outputId": "846923de-11fd-4189-ebec-91c98a4bdabb"
   },
   "outputs": [
    {
     "data": {
      "text/plain": [
       "(2, 2)"
      ]
     },
     "execution_count": 50,
     "metadata": {},
     "output_type": "execute_result"
    }
   ],
   "source": [
    "# caso_01\n",
    "goldbash(4)"
   ]
  },
  {
   "cell_type": "code",
   "execution_count": 51,
   "id": "d19afa59",
   "metadata": {
    "id": "d19afa59",
    "outputId": "a3a74c21-1170-49bf-d091-9187da53a525"
   },
   "outputs": [
    {
     "data": {
      "text/plain": [
       "(3, 3)"
      ]
     },
     "execution_count": 51,
     "metadata": {},
     "output_type": "execute_result"
    }
   ],
   "source": [
    "# caso_02\n",
    "goldbash(6)"
   ]
  },
  {
   "cell_type": "code",
   "execution_count": 52,
   "id": "fadde98f",
   "metadata": {
    "id": "fadde98f",
    "outputId": "99fedf5a-a5ae-42cb-e3ec-c0ca61f4e532"
   },
   "outputs": [
    {
     "data": {
      "text/plain": [
       "(3, 5)"
      ]
     },
     "execution_count": 52,
     "metadata": {},
     "output_type": "execute_result"
    }
   ],
   "source": [
    "# caso_03\n",
    "goldbash(8)"
   ]
  },
  {
   "cell_type": "code",
   "execution_count": 53,
   "id": "d6f21c89",
   "metadata": {
    "id": "d6f21c89",
    "outputId": "fe84da6f-94d6-4fe4-b0c7-00b992c39825"
   },
   "outputs": [
    {
     "data": {
      "text/plain": [
       "(3, 7)"
      ]
     },
     "execution_count": 53,
     "metadata": {},
     "output_type": "execute_result"
    }
   ],
   "source": [
    "# caso_04\n",
    "goldbash(10)"
   ]
  }
 ],
 "metadata": {
  "colab": {
   "provenance": []
  },
  "kernelspec": {
   "display_name": "Python 3 (ipykernel)",
   "language": "python",
   "name": "python3"
  },
  "language_info": {
   "codemirror_mode": {
    "name": "ipython",
    "version": 3
   },
   "file_extension": ".py",
   "mimetype": "text/x-python",
   "name": "python",
   "nbconvert_exporter": "python",
   "pygments_lexer": "ipython3",
   "version": "3.9.13"
  }
 },
 "nbformat": 4,
 "nbformat_minor": 5
}
