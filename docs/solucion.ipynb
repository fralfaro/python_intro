{
 "cells": [
  {
   "cell_type": "markdown",
   "id": "91cb8290-6f49-49e6-a435-b0c94c6c5fde",
   "metadata": {
    "id": "91cb8290-6f49-49e6-a435-b0c94c6c5fde"
   },
   "source": [
    "<a href=\"https://colab.research.google.com/github/fralfaro/python_intro/blob/main/docs/solucion.ipynb\" target=\"_parent\"><img src=\"https://colab.research.google.com/assets/colab-badge.svg\" alt=\"Open In Colab\"/></a>\n",
    "\n",
    "#  Solución Ejercicios\n",
    "\n",
    "## Nomenclatura"
   ]
  },
  {
   "cell_type": "markdown",
   "id": "1403d24c-c03c-4d51-bad5-2bb5328957b6",
   "metadata": {
    "id": "1403d24c-c03c-4d51-bad5-2bb5328957b6"
   },
   "source": [
    "**Ejercicio 01**\n",
    "\n",
    "Escriba un programa que pida al usuario que escriba su nombre, y lo salude llamándolo por su nombre.\n",
    "\n",
    "```terminal\n",
    "Ingrese su nombre: Python\n",
    "Hola, Python\n",
    "```"
   ]
  },
  {
   "cell_type": "code",
   "execution_count": 1,
   "id": "a2d0dda2-8463-4e86-8266-3e9e98f8c272",
   "metadata": {
    "id": "a2d0dda2-8463-4e86-8266-3e9e98f8c272",
    "outputId": "82c19774-4615-4a89-90ed-bbcdae507666",
    "tags": []
   },
   "outputs": [
    {
     "name": "stdout",
     "output_type": "stream",
     "text": [
      "Hola, Python!\n"
     ]
    }
   ],
   "source": [
    "# Solicita al usuario que ingrese su nombre y lo almacena en la variable \"nombre\"\n",
    "nombre = \"Python\"\n",
    "\n",
    "# Imprime un saludo personalizado utilizando el nombre ingresado por el usuario\n",
    "print(f\"Hola, {nombre}!\")"
   ]
  },
  {
   "cell_type": "markdown",
   "id": "bea7844f-ed0c-4f17-be3c-85da9329c102",
   "metadata": {
    "id": "bea7844f-ed0c-4f17-be3c-85da9329c102"
   },
   "source": [
    "**Ejercicio 02**\n",
    "\n",
    "Escriba un programa que reciba como entrada el radio de un círculo y entregue como salida su perímetro y su área:\n",
    "```terminal\n",
    "Ingrese el radio: 5\n",
    "Perimetro: 31.4\n",
    "Área: 78.5\n",
    "```"
   ]
  },
  {
   "cell_type": "code",
   "execution_count": 2,
   "id": "33d6fcae-f50e-44ec-8182-5c6411865942",
   "metadata": {
    "id": "33d6fcae-f50e-44ec-8182-5c6411865942",
    "outputId": "ed04c811-244f-4638-920a-46c42dc34eea",
    "tags": []
   },
   "outputs": [
    {
     "name": "stdout",
     "output_type": "stream",
     "text": [
      "Perímetro: 31.4\n",
      "Área: 78.5\n"
     ]
    }
   ],
   "source": [
    "# Solicitar al usuario que ingrese el radio del círculo\n",
    "radio = 5\n",
    "\n",
    "# Definir la variable para el valor de Pi\n",
    "pi = 3.14159265359\n",
    "\n",
    "# Calcular el perímetro y el área del círculo\n",
    "perimetro = 2 * pi * radio\n",
    "area = pi * radio ** 2\n",
    "\n",
    "# Imprimir el resultado con un formato más claro\n",
    "print(f\"Perímetro: {perimetro:.1f}\")\n",
    "print(f\"Área: {area:.1f}\")"
   ]
  },
  {
   "cell_type": "markdown",
   "id": "be2295f7-4858-41c2-aacf-4595db24f058",
   "metadata": {
    "id": "be2295f7-4858-41c2-aacf-4595db24f058"
   },
   "source": [
    "**Ejercicio 03**\n",
    "\n",
    "Escriba un programa que calcule el promedio de 4 notas ingresadas por el usuario:\n",
    "\n",
    "\n",
    "```terminal\n",
    "Primera nota: 55\n",
    "Segunda nota: 71\n",
    "Tercera nota: 46\n",
    "Cuarta nota: 87\n",
    "El promedio es: 64.75\n",
    "```"
   ]
  },
  {
   "cell_type": "code",
   "execution_count": 4,
   "id": "a7279414-0c91-4eb3-a842-e08dabce9a31",
   "metadata": {
    "id": "a7279414-0c91-4eb3-a842-e08dabce9a31",
    "outputId": "eba55ce1-1aa8-4d08-e630-6e4623ac74e6",
    "tags": []
   },
   "outputs": [
    {
     "name": "stdout",
     "output_type": "stream",
     "text": [
      "El promedio es: 64.75\n"
     ]
    }
   ],
   "source": [
    "# Solicitar al usuario que ingrese las 4 notas\n",
    "nota1 = 55\n",
    "nota2 = 71\n",
    "nota3 = 46\n",
    "nota4 = 87\n",
    "\n",
    "# Calcular el promedio\n",
    "promedio = (nota1 + nota2 + nota3 + nota4) / 4\n",
    "\n",
    "# Imprimir el resultado\n",
    "print(f\"El promedio es: {promedio:.2f}\")"
   ]
  },
  {
   "cell_type": "markdown",
   "id": "03828e10-95d9-44fb-9f06-142d16df470f",
   "metadata": {
    "id": "03828e10-95d9-44fb-9f06-142d16df470f"
   },
   "source": [
    "**Ejercicio 04**\n",
    "\n",
    "Escriba un programa que convierta de centímetros a pulgadas. Una pulgada es igual a 2.54 centímetros.\n",
    "\n",
    "\n",
    "```terminal\n",
    "Ingrese longitud: 45\n",
    "45 cm = 17.7165 in\n",
    "```"
   ]
  },
  {
   "cell_type": "code",
   "execution_count": 5,
   "id": "32df43b6-a7d3-4ff7-9728-7bb6186af5f0",
   "metadata": {
    "id": "32df43b6-a7d3-4ff7-9728-7bb6186af5f0",
    "outputId": "5c0703d6-a8f6-4f1c-ced9-c6578f7c0409",
    "tags": []
   },
   "outputs": [
    {
     "name": "stdout",
     "output_type": "stream",
     "text": [
      "45 cm = 17.7165 in\n"
     ]
    }
   ],
   "source": [
    "# Solicitar al usuario que ingrese la longitud en centímetros\n",
    "longitud_cm = 45\n",
    "\n",
    "# Realizar la conversión a pulgadas\n",
    "longitud_in = longitud_cm / 2.54\n",
    "\n",
    "# Imprimir el resultado\n",
    "print(f\"{longitud_cm} cm = {longitud_in:.4f} in\")"
   ]
  },
  {
   "cell_type": "markdown",
   "id": "0bb72fb1-46be-4432-b776-3bf0ebb4f1b1",
   "metadata": {
    "id": "0bb72fb1-46be-4432-b776-3bf0ebb4f1b1"
   },
   "source": [
    "**Ejercicio 05**\n",
    "\n",
    "Escriba un programa que reciba como entrada las longitudes de los dos catetos $a$ y $b$ de un triángulo rectángulo, y que entregue como salida el largo de la hipotenusa $c$ del triangulo, dado por el teorema de Pitágoras: $c^2=a^2+b^2$.\n",
    "\n",
    "```terminal\n",
    "Ingrese cateto a: 7\n",
    "Ingrese cateto b: 5\n",
    "La hipotenusa es 8.6023252670426267\n",
    "```"
   ]
  },
  {
   "cell_type": "code",
   "execution_count": 6,
   "id": "a6a4a0bb-708c-47c3-8dd0-a8edac3da80e",
   "metadata": {
    "id": "a6a4a0bb-708c-47c3-8dd0-a8edac3da80e",
    "outputId": "cbf28a63-f6ce-4622-b6b1-9e01e59ac74f",
    "tags": []
   },
   "outputs": [
    {
     "name": "stdout",
     "output_type": "stream",
     "text": [
      "La hipotenusa es 8.602325267042627\n"
     ]
    }
   ],
   "source": [
    "# Solicitar al usuario que ingrese la longitud de los catetos\n",
    "cateto_a = 7\n",
    "cateto_b = 5\n",
    "\n",
    "# Calcular la hipotenusa utilizando el teorema de Pitágoras\n",
    "hipotenusa = (cateto_a ** 2 + cateto_b ** 2) ** 0.5\n",
    "\n",
    "# Imprimir el resultado\n",
    "print(f\"La hipotenusa es {hipotenusa}\")"
   ]
  },
  {
   "cell_type": "markdown",
   "id": "2f906313-7c49-4591-9544-080cdf1e87bb",
   "metadata": {
    "id": "2f906313-7c49-4591-9544-080cdf1e87bb"
   },
   "source": [
    "**Ejercicio 06**\n",
    "\n",
    "Escriba un programa que pregunte al usuario la hora actual $t$ del reloj y un número entero de horas $h$, que indique qué hora marcará el reloj dentro de $h$ horas:\n",
    "\n",
    "\n",
    "```terminal\n",
    "Hora actual: 23\n",
    "Cantidad de horas: 5\n",
    "En 5 horas, el reloj marcara las 4\n",
    "```"
   ]
  },
  {
   "cell_type": "code",
   "execution_count": 8,
   "id": "3a7cfa7a-c0d2-4e64-a9f9-ed8e45745a2f",
   "metadata": {
    "id": "3a7cfa7a-c0d2-4e64-a9f9-ed8e45745a2f",
    "outputId": "8be4e2eb-4df2-46b1-eb1c-770d8e43793c",
    "tags": []
   },
   "outputs": [
    {
     "name": "stdout",
     "output_type": "stream",
     "text": [
      "En 5 horas, el reloj marcará las 4\n"
     ]
    }
   ],
   "source": [
    "# Solicitar al usuario la hora actual y la cantidad de horas\n",
    "hora_actual = 23\n",
    "horas_pasadas = 5\n",
    "\n",
    "# Calcular la nueva hora\n",
    "nueva_hora = (hora_actual + horas_pasadas) % 24\n",
    "\n",
    "# Imprimir el resultado\n",
    "print(f\"En {horas_pasadas} horas, el reloj marcará las {nueva_hora}\")"
   ]
  },
  {
   "cell_type": "markdown",
   "id": "2503d629-965f-4a85-aae3-b938b858ca61",
   "metadata": {
    "id": "2503d629-965f-4a85-aae3-b938b858ca61"
   },
   "source": [
    "**Ejercicio 07**\n",
    "\n",
    "Un alumno desea saber que nota necesita en el tercer certamen para aprobar un ramo.\n",
    "\n",
    "El promedio del ramo se calcula con la siguiente formula.\n",
    "\n",
    "$$N_C=(C_1+C_2+C_3)/3$$\n",
    "$$ N_F=N_C⋅0.7+N_L⋅0.3$$\n",
    "\n",
    "\n",
    "Donde $N_C$ es el promedio de certámenes, $N_L$ el promedio de laboratorio y $N_F$ la nota final.\n",
    "\n",
    "Escriba un programa que pregunte al usuario las notas de los dos primeros certamen y la nota de laboratorio, y muestre la nota que necesita el alumno para aprobar el ramo con nota final 60.\n",
    "\n",
    "```terminal\n",
    "Ingrese nota certamen 1: 45\n",
    "Ingrese nota certamen 2: 55\n",
    "Ingrese nota laboratorio: 65\n",
    "Necesita nota 74 en el certamen 3\n",
    "```"
   ]
  },
  {
   "cell_type": "code",
   "execution_count": 14,
   "id": "fbafaea4",
   "metadata": {
    "id": "fbafaea4",
    "outputId": "d5ca6f10-5a7f-404e-cce3-29aefccdf1ba",
    "tags": []
   },
   "outputs": [
    {
     "name": "stdout",
     "output_type": "stream",
     "text": [
      "Necesita nota 74 en el certamen 3\n"
     ]
    }
   ],
   "source": [
    "# Solicitar al usuario las notas de los dos primeros certámenes y la nota de laboratorio\n",
    "certamen1 = 45\n",
    "certamen2 = 55\n",
    "laboratorio = 65\n",
    "\n",
    "\n",
    "# Calcular la nota necesaria en el tercer certamen para aprobar con nota final 60\n",
    "nota_necesaria = 3*((60-0.3*laboratorio)/0.7)-certamen1-certamen2\n",
    "\n",
    "# Imprimir la nota necesaria en el tercer certamen\n",
    "print(f\"Necesita nota {nota_necesaria:.0f} en el certamen 3\")"
   ]
  },
  {
   "cell_type": "markdown",
   "id": "787b2864-3425-4d92-abeb-037c370f3a66",
   "metadata": {},
   "source": [
    "**Ejercicio 08**\n",
    "\n",
    "Realice un programa que calcule el área de un triángulo a partir de las longitudes de sus lados.\n",
    "\n",
    "Para calcularlo puede utilizar la fórmula de Herón:\n",
    "\n",
    "$$\n",
    "    A = \\sqrt{s\\,(s-a)(s-b)(s-c)},\n",
    "$$\n",
    "donde $a$, $b$ y $c$ son las longitudes de cada lado y $s=\\dfrac{a+b+c}{2}$ es el semiperímetro.\n",
    "\n",
    "\n",
    "```terminal\n",
    "Ingrese longitud de lado 1: 3\n",
    "Ingrese longitud de lado 2: 4\n",
    "Ingrese longitud de lado 3: 5\n",
    "El área del triángulo es 6.0\n",
    "```"
   ]
  },
  {
   "cell_type": "code",
   "execution_count": 15,
   "id": "e79cd3cf-b534-44b0-bb1e-523e83ecb52d",
   "metadata": {
    "tags": []
   },
   "outputs": [
    {
     "name": "stdout",
     "output_type": "stream",
     "text": [
      "El área del triángulo es 6.0\n"
     ]
    }
   ],
   "source": [
    "import math\n",
    "\n",
    "# Solicitar al usuario las longitudes de los lados del triángulo\n",
    "lado1 = 3\n",
    "lado2 = 4\n",
    "lado3 = 5\n",
    "\n",
    "# Calcular el semiperímetro\n",
    "s = (lado1 + lado2 + lado3) / 2\n",
    "\n",
    "# Calcular el área utilizando la fórmula de Herón\n",
    "area = math.sqrt(s * (s - lado1) * (s - lado2) * (s - lado3))\n",
    "\n",
    "# Imprimir el resultado\n",
    "print(f\"El área del triángulo es {area:.1f}\")"
   ]
  },
  {
   "cell_type": "markdown",
   "id": "91147116-8baf-41e3-a89b-3eb8cec29000",
   "metadata": {
    "id": "91147116-8baf-41e3-a89b-3eb8cec29000"
   },
   "source": [
    "## Control de Flujo"
   ]
  },
  {
   "cell_type": "markdown",
   "id": "9f6131f6-648a-4d41-a98c-0eaa7fb48506",
   "metadata": {
    "id": "9f6131f6-648a-4d41-a98c-0eaa7fb48506"
   },
   "source": [
    "### if-elif-else\n",
    "\n",
    "**Ejercicio 01**\n",
    "\n",
    "Escriba un programa que determine si el número entero ingresado por el usuario es par o no.\n",
    "\n",
    "\n",
    "```terminal\n",
    "Ingrese un número: 4\n",
    "Su número es par\n",
    "```\n",
    "\n",
    "```terminal\n",
    "Ingrese un número: 3\n",
    "Su número es impar\n",
    "```"
   ]
  },
  {
   "cell_type": "code",
   "execution_count": 17,
   "id": "8e89681c-653d-40c2-918b-f3e03faa52a2",
   "metadata": {
    "id": "8e89681c-653d-40c2-918b-f3e03faa52a2",
    "outputId": "e1e822cd-6e01-4bc0-8b51-4d3b08f4a781",
    "tags": []
   },
   "outputs": [
    {
     "name": "stdout",
     "output_type": "stream",
     "text": [
      "Su número es par\n"
     ]
    }
   ],
   "source": [
    "# Solicitar al usuario que ingrese un número entero\n",
    "\n",
    "# Caso 01\n",
    "numero = 4 \n",
    "\n",
    "# Caso 02\n",
    "#numero = 3\n",
    "\n",
    "# Verificar si el número es par o impar\n",
    "if numero % 2 == 0:\n",
    "    print(\"Su número es par\")\n",
    "else:\n",
    "    print(\"Su número es impar\")"
   ]
  },
  {
   "cell_type": "markdown",
   "id": "7992405a-8643-4ee3-bf52-301c4520aec9",
   "metadata": {},
   "source": [
    "**Ejercicio 02**\n",
    "\n",
    "Escriba un programa que pida dos números enteros y que calcule la división, indicando si la división es exacta o no.\n",
    "\n",
    "\n",
    "\n",
    "```terminal\n",
    "Dividendo: 14\n",
    "Divisor: 5\n",
    "\n",
    "La división no es exacta.\n",
    "Cociente: 2\n",
    "Resto: 4\n",
    "```\n",
    "\n",
    "```python\n",
    "Dividendo: 100\n",
    "Divisor: 10\n",
    "\n",
    "La división es exacta.\n",
    "Cociente: 10\n",
    "Resto: 0\n",
    "```"
   ]
  },
  {
   "cell_type": "code",
   "execution_count": 20,
   "id": "b6c39e23-db31-4202-be99-eeec93aa5df2",
   "metadata": {
    "tags": []
   },
   "outputs": [
    {
     "name": "stdout",
     "output_type": "stream",
     "text": [
      "La división no es exacta.\n",
      "Cociente: 2\n",
      "Resto: 4\n"
     ]
    }
   ],
   "source": [
    "# Solicitar al usuario que ingrese el dividendo y el divisor\n",
    "\n",
    "# Caso 01\n",
    "dividendo = 14\n",
    "divisor = 5\n",
    "\n",
    "# Caso 02\n",
    "#dividendo = 100\n",
    "#divisor = 10\n",
    "\n",
    "# Calcular el cociente y el resto de la división\n",
    "cociente = dividendo // divisor\n",
    "resto = dividendo % divisor\n",
    "\n",
    "# Verificar si la división es exacta\n",
    "if resto == 0:\n",
    "    print(\"La división es exacta.\")\n",
    "else:\n",
    "    print(\"La división no es exacta.\")\n",
    "\n",
    "# Imprimir el cociente y el resto\n",
    "print(f\"Cociente: {cociente}\")\n",
    "print(f\"Resto: {resto}\")"
   ]
  },
  {
   "cell_type": "markdown",
   "id": "8403a470-c59f-4411-a031-7cf96e27eaad",
   "metadata": {},
   "source": [
    "**Ejercicio 03**\n",
    "\n",
    "Escriba un programa que pida al usuario dos palabras, y que indique cuál de ellas es la más larga y por cuántas letras lo es.\n",
    "\n",
    "```terminal\n",
    "Palabra 1: edificio\n",
    "Palabra 2: tren\n",
    "La palabra edificio tiene 4 letras mas que tren.\n",
    "```\n",
    "\n",
    "```terminal\n",
    "Palabra 1: sol\n",
    "Palabra 2: paralelepipedo\n",
    "La palabra paralelepipedo tiene 11 letras mas que sol\n",
    "```\n",
    "\n",
    "```terminal\n",
    "Palabra 1: plancha\n",
    "Palabra 2: lapices\n",
    "Las dos palabras tienen el mismo largo\n",
    "```"
   ]
  },
  {
   "cell_type": "code",
   "execution_count": 22,
   "id": "8729b645-fbda-4cdb-80f2-7cccef0cafde",
   "metadata": {
    "tags": []
   },
   "outputs": [
    {
     "name": "stdout",
     "output_type": "stream",
     "text": [
      "La palabra edificio tiene 4 letras más que tren.\n"
     ]
    }
   ],
   "source": [
    "# Solicitar al usuario que ingrese las dos palabras\n",
    "\n",
    "# Caso 01\n",
    "palabra1 = 'edificio'\n",
    "palabra2 = 'tren'\n",
    "\n",
    "# Caso 02\n",
    "#palabra1 = 'sol'\n",
    "#palabra2 = 'paralelepipedo'\n",
    "\n",
    "# Caso 03\n",
    "#palabra1 = 'plancha'\n",
    "#palabra2 = 'lapices'\n",
    "\n",
    "# Calcular la diferencia en la longitud de las palabras\n",
    "diferencia = abs(len(palabra1) - len(palabra2))\n",
    "\n",
    "# Determinar cuál palabra es más larga y construir el mensaje\n",
    "if len(palabra1) > len(palabra2):\n",
    "    mensaje = f\"La palabra {palabra1} tiene {diferencia} letras más que {palabra2}.\"\n",
    "elif len(palabra1) < len(palabra2):\n",
    "    mensaje = f\"La palabra {palabra2} tiene {diferencia} letras más que {palabra1}.\"\n",
    "else:\n",
    "    mensaje = \"Las dos palabras tienen el mismo largo.\"\n",
    "\n",
    "# Imprimir el resultado\n",
    "print(mensaje)"
   ]
  },
  {
   "cell_type": "markdown",
   "id": "76627e67-dc3a-4cdb-98c4-8d86dc072bde",
   "metadata": {},
   "source": [
    "**Ejercicio 04**\n",
    "\n",
    "Un año es [bisiesto](https://es.wikipedia.org/wiki/A%C3%B1o_bisiesto) si es divisible por $4$, excepto si es divisible por $100$ y no por $400$. \n",
    " Escriba un programa que reciba un año como entrada e indique `True` si un año es bisiesto o `False` si no lo es.\n",
    "\n",
    "```terminal\n",
    "Ingrese un anno: 1988\n",
    "1988 es bisiesto\n",
    "```\n",
    "\n",
    "\n",
    "\n",
    "```terminal\n",
    "Ingrese un anno: 2011\n",
    "2011 no es bisiesto\n",
    "```\n",
    "\n",
    "\n",
    "```terminal\n",
    "Ingrese un anno: 1700\n",
    "1700 no es bisiesto\n",
    "```\n",
    "\n",
    "\n",
    "```terminal\n",
    "Ingrese un anno: 2400\n",
    "2400 es bisiesto\n",
    "```"
   ]
  },
  {
   "cell_type": "code",
   "execution_count": 25,
   "id": "9df51c14-9e16-4046-88e2-5ea4176f8193",
   "metadata": {
    "tags": []
   },
   "outputs": [
    {
     "name": "stdout",
     "output_type": "stream",
     "text": [
      "1988 es bisiesto\n"
     ]
    }
   ],
   "source": [
    "# Solicitar al usuario que ingrese un año\n",
    "\n",
    "# Caso 01\n",
    "anno = 1988\n",
    "\n",
    "# Caso 02\n",
    "#anno = 2011\n",
    "\n",
    "# Caso 03\n",
    "#anno = 1700\n",
    "\n",
    "# Caso 04\n",
    "#anno = 2400\n",
    "\n",
    "# Verificar si el año es bisiesto\n",
    "if (anno % 4 == 0 and anno % 100 != 0) or anno % 400 == 0:\n",
    "    print(f\"{anno} es bisiesto\")\n",
    "else:\n",
    "    print(f\"{anno} no es bisiesto\")"
   ]
  },
  {
   "cell_type": "markdown",
   "id": "f40907fa-41af-4bab-845b-8240906b9a4c",
   "metadata": {},
   "source": [
    "**Ejercicio 05**\n",
    "\n",
    "Los tres lados $a, b$ y $c$ de un triángulo deben satisfacer la [desigualdad triangular](https://es.wikipedia.org/wiki/Desigualdad_triangular): cada uno de los lados no puede ser más largo que la suma de los otros dos.\n",
    "\n",
    "Escriba un programa que reciba como entrada los tres lados de un triángulo, e indique:\n",
    "\n",
    "* si acaso el triángulo es inválido\n",
    "* si el triángulo es válido, qué [tipo de triángulo](https://www.universoformulas.com/matematicas/geometria/tipos-triangulos/) es.\n",
    "\n",
    "```terminal\n",
    "Ingrese a: 3.9\n",
    "Ingrese b: 6.0\n",
    "Ingrese c: 1.2\n",
    "No es un triangulo valido.\n",
    "```\n",
    "\n",
    "```terminal\n",
    "Ingrese a: 1.9\n",
    "Ingrese b: 2\n",
    "Ingrese c: 2\n",
    "El triangulo es isoceles.\n",
    "```\n",
    "\n",
    "```terminal\n",
    "Ingrese a: 3.0\n",
    "Ingrese b: 5.0\n",
    "Ingrese c: 4.0\n",
    "El triangulo es escaleno.\n",
    "```\n",
    "\n",
    "```terminal\n",
    "Ingrese a: 2\n",
    "Ingrese b: 2\n",
    "Ingrese c: 2\n",
    "El triangulo es equilatero.\n",
    "```"
   ]
  },
  {
   "cell_type": "code",
   "execution_count": 31,
   "id": "d30e089e-74d6-467b-9e4f-549faaec3d3f",
   "metadata": {
    "tags": []
   },
   "outputs": [
    {
     "name": "stdout",
     "output_type": "stream",
     "text": [
      "No es un triángulo válido.\n"
     ]
    }
   ],
   "source": [
    "# Solicitar al usuario que ingrese los lados del triángulo\n",
    "\n",
    "# Caso 01\n",
    "a = 3.9\n",
    "b = 6.0\n",
    "c = 1.2\n",
    "\n",
    "# Caso 02\n",
    "#a = 1.9\n",
    "#b = 1.9\n",
    "#c = 2.0\n",
    "\n",
    "# Caso 03\n",
    "#a = 3.0\n",
    "#b = 5.0\n",
    "#c = 4.0\n",
    "\n",
    "# Caso 04\n",
    "#a = 2.0\n",
    "#b = 2.0\n",
    "#c = 2.0\n",
    "\n",
    "# Verificar si es un triángulo válido\n",
    "if a + b > c and a + c > b and b + c > a:\n",
    "    if a == b == c:\n",
    "        print(\"El triángulo es equilátero.\")\n",
    "    elif a == b or a == c or b == c:\n",
    "        print(\"El triángulo es isósceles.\")\n",
    "    else:\n",
    "        print(\"El triángulo es escaleno.\")\n",
    "else:\n",
    "    print(\"No es un triángulo válido.\")"
   ]
  },
  {
   "cell_type": "markdown",
   "id": "1408b9b3-76b3-45e0-a78b-ee91aecca683",
   "metadata": {},
   "source": [
    "**Ejercicio 06**\n",
    "\n",
    "El riesgo de que una persona sufra enfermedades coronarias depende de su edad y su índice de masa corporal:\n",
    "\n",
    "\n",
    "|            | edad < 45 | edad ≥ 45 |\n",
    "|------------|-----------|-----------|\n",
    "| IMC < 22.0 | bajo      | medio     |\n",
    "| IMC ≥ 22.0 | medio     | alto      |\n",
    "\n",
    "El índice de masa corporal es el cuociente entre el peso del individuo en kilos y el cuadrado de su estatura en metros ($IMC = \\dfrac{peso}{estatura^2} $).\n",
    "\n",
    "Escriba un programa que reciba como entrada la estatura, el peso y la edad de una persona, y le entregue su condición de riesgo."
   ]
  },
  {
   "cell_type": "code",
   "execution_count": 35,
   "id": "ac18543e-8cf8-4584-a791-15ed0b41435d",
   "metadata": {
    "tags": []
   },
   "outputs": [
    {
     "name": "stdout",
     "output_type": "stream",
     "text": [
      "La condición de riesgo es: alto\n"
     ]
    }
   ],
   "source": [
    "# Solicitar al usuario que ingrese la estatura, peso y edad\n",
    "estatura = 1.65\n",
    "peso = 180\n",
    "edad = 45\n",
    "\n",
    "# Calcular el índice de masa corporal (IMC)\n",
    "imc = peso / (estatura ** 2)\n",
    "\n",
    "# Determinar la condición de riesgo\n",
    "if edad < 45:\n",
    "    if imc < 22.0:\n",
    "        riesgo = \"bajo\"\n",
    "    else:\n",
    "        riesgo = \"medio\"\n",
    "else:\n",
    "    if imc < 22.0:\n",
    "        riesgo = \"medio\"\n",
    "    else:\n",
    "        riesgo = \"alto\"\n",
    "\n",
    "# Imprimir la condición de riesgo\n",
    "print(f\"La condición de riesgo es: {riesgo}\")"
   ]
  },
  {
   "cell_type": "markdown",
   "id": "56636fea-46c1-4fd8-8b6b-a27f6eb30b7b",
   "metadata": {},
   "source": [
    "**Ejercicio 07**\n",
    "\n",
    "Un número natural es un [palíndromo](https://es.wikipedia.org/wiki/Pal%C3%ADndromo) si se lee igual de izquierda a derecha y de derecha a izquierda.\n",
    "\n",
    "Por ejemplo, $14941$ es un palíndromo, mientras que $81924$ no lo es.\n",
    "\n",
    "Escriba un programa que indique si el número ingresado es o no palíndromo:\n",
    "\n",
    "```terminal\n",
    "Ingrese un numero: 14941\n",
    "14941 es palindromo\n",
    "```\n",
    "\n",
    "```terminal\n",
    "Ingrese un numero: 81924\n",
    "81924 no es palindromo\n",
    "```\n",
    "\n",
    "> **Hint**: Para encontrar el inverso de un string en Python, puedes utilizar la técnica de `texto[::-1]`. "
   ]
  },
  {
   "cell_type": "code",
   "execution_count": 40,
   "id": "cff15792-052b-4abe-a49a-f77d7fed3fd9",
   "metadata": {
    "tags": []
   },
   "outputs": [
    {
     "name": "stdout",
     "output_type": "stream",
     "text": [
      "14941 es un palíndromo\n"
     ]
    }
   ],
   "source": [
    "# Solicitar al usuario que ingrese un número\n",
    "\n",
    "# Caso 01\n",
    "numero = '14941'\n",
    "\n",
    "# Caso 02\n",
    "#numero = '81924'\n",
    "\n",
    "\n",
    "# Obtener el número en su versión invertida\n",
    "numero_invertido = numero[::-1]\n",
    "\n",
    "# Verificar si el número y su versión invertida son iguales\n",
    "if numero == numero_invertido:\n",
    "    print(f\"{numero} es un palíndromo\")\n",
    "else:\n",
    "    print(f\"{numero} no es un palíndromo\")"
   ]
  },
  {
   "cell_type": "markdown",
   "id": "dfcd7413-16b1-4df9-a367-a6cabdd68288",
   "metadata": {},
   "source": [
    "### While\n",
    "\n",
    "**Ejercicio 01**\n",
    "\n",
    "Solicita al usuario un número y muestra un contador regresivo desde ese número hasta 1.\n",
    "\n",
    "```\n",
    "Ingrese un número: 5\n",
    "Contador regresivo desde 5 hasta 1:\n",
    "5\n",
    "4\n",
    "3\n",
    "2\n",
    "1\n",
    "```"
   ]
  },
  {
   "cell_type": "code",
   "execution_count": 41,
   "id": "ef07f7e6-8e0e-4dd2-b02c-85d81ae16e3d",
   "metadata": {
    "tags": []
   },
   "outputs": [
    {
     "name": "stdout",
     "output_type": "stream",
     "text": [
      "Contador regresivo desde 5 hasta 1:\n",
      "5\n",
      "4\n",
      "3\n",
      "2\n",
      "1\n"
     ]
    }
   ],
   "source": [
    "# Solicitar al usuario que ingrese un número\n",
    "numero = 5\n",
    "\n",
    "# Mostrar un contador regresivo desde el número ingresado hasta 1\n",
    "print(\"Contador regresivo desde\", numero, \"hasta 1:\")\n",
    "while numero >= 1:\n",
    "    print(numero)\n",
    "    numero -= 1"
   ]
  },
  {
   "cell_type": "markdown",
   "id": "b7f8d373-d7e4-4e7e-8460-509708e86fb9",
   "metadata": {},
   "source": [
    "**Ejercicio 02**\n",
    "\n",
    "Solicita al usuario un número y calcula la suma de todos los números pares desde 2 hasta ese número.\n",
    "\n",
    "```\n",
    "Ingrese un número: 10\n",
    "La suma de números pares desde 2 hasta 10 es 30\n",
    "```"
   ]
  },
  {
   "cell_type": "code",
   "execution_count": 42,
   "id": "98972543-8354-4c25-974e-cf738f7cd346",
   "metadata": {
    "tags": []
   },
   "outputs": [
    {
     "name": "stdout",
     "output_type": "stream",
     "text": [
      "La suma de números pares desde 2 hasta 10 es 30\n"
     ]
    }
   ],
   "source": [
    "# Solicitar al usuario que ingrese un número\n",
    "numero = 10\n",
    "\n",
    "# Inicializar la suma y el contador\n",
    "suma = 0\n",
    "contador = 2\n",
    "\n",
    "# Calcular la suma de números pares desde 2 hasta el número ingresado\n",
    "while contador <= numero:\n",
    "    suma += contador\n",
    "    contador += 2  # Avanzar al siguiente número par\n",
    "\n",
    "# Imprimir el resultado\n",
    "print(f\"La suma de números pares desde 2 hasta {numero} es {suma}\")"
   ]
  },
  {
   "cell_type": "markdown",
   "id": "0943fc21-047a-4155-9f39-a3846014b89f",
   "metadata": {},
   "source": [
    "**Ejercicio 03**\n",
    "\n",
    "Solicita al usuario un número entero y suma todos sus dígitos.\n",
    "\n",
    "```\n",
    "Ingrese un número entero: 12345\n",
    "La suma de los dígitos es 15\n",
    "```"
   ]
  },
  {
   "cell_type": "code",
   "execution_count": 43,
   "id": "6cafcdf7-691d-49a8-bdcd-1d109327eb58",
   "metadata": {
    "tags": []
   },
   "outputs": [
    {
     "name": "stdout",
     "output_type": "stream",
     "text": [
      "La suma de los dígitos es 15\n"
     ]
    }
   ],
   "source": [
    "# Solicitar al usuario que ingrese un número entero\n",
    "numero = 12345\n",
    "\n",
    "# Inicializar la suma y el contador\n",
    "suma_digitos = 0\n",
    "\n",
    "# Calcular la suma de los dígitos\n",
    "while numero > 0:\n",
    "    # Obtener el último dígito y sumarlo\n",
    "    digito = numero % 10\n",
    "    suma_digitos += digito\n",
    "    \n",
    "    # Eliminar el último dígito\n",
    "    numero //= 10\n",
    "\n",
    "# Imprimir el resultado\n",
    "print(f\"La suma de los dígitos es {suma_digitos}\")"
   ]
  },
  {
   "cell_type": "markdown",
   "id": "2fb396b6-7be9-4640-a82c-e6cdf47e2e8e",
   "metadata": {},
   "source": []
  },
  {
   "cell_type": "code",
   "execution_count": null,
   "id": "9d7a806f-ed67-4185-bf1a-f86333121722",
   "metadata": {},
   "outputs": [],
   "source": []
  },
  {
   "cell_type": "markdown",
   "id": "9d004854-ae27-446c-ac13-9b75cb53cfd7",
   "metadata": {},
   "source": []
  },
  {
   "cell_type": "code",
   "execution_count": null,
   "id": "97d3a0e3-1922-4e3e-8a90-419778fc2081",
   "metadata": {},
   "outputs": [],
   "source": []
  },
  {
   "cell_type": "markdown",
   "id": "9e4fd82e-e300-451b-adb6-1c2c6ce61b8b",
   "metadata": {},
   "source": []
  },
  {
   "cell_type": "code",
   "execution_count": null,
   "id": "fe8ea9e6-bf3c-4284-9555-fae6bcfadef4",
   "metadata": {},
   "outputs": [],
   "source": []
  },
  {
   "cell_type": "markdown",
   "id": "dd40b7af-5c6a-456c-a60b-2a49fd7a3f10",
   "metadata": {},
   "source": []
  },
  {
   "cell_type": "code",
   "execution_count": null,
   "id": "82817b13-2755-40e6-b30e-c036be444c11",
   "metadata": {},
   "outputs": [],
   "source": []
  },
  {
   "cell_type": "markdown",
   "id": "ecf676be-998d-4d69-ab12-9af4d545946f",
   "metadata": {},
   "source": []
  },
  {
   "cell_type": "code",
   "execution_count": null,
   "id": "c8a7e0ae-7c36-439f-be5c-79117a46b7a8",
   "metadata": {},
   "outputs": [],
   "source": []
  },
  {
   "cell_type": "markdown",
   "id": "cbfec486-7f2f-4429-91ec-28090c183f63",
   "metadata": {},
   "source": []
  },
  {
   "cell_type": "code",
   "execution_count": null,
   "id": "4daaab15-446b-48b5-9e0d-69b155e5f680",
   "metadata": {},
   "outputs": [],
   "source": []
  },
  {
   "cell_type": "markdown",
   "id": "c1d2999d-20ef-4c61-9993-055fcf23438a",
   "metadata": {},
   "source": []
  },
  {
   "cell_type": "code",
   "execution_count": null,
   "id": "e60c7cb3-2042-4970-a84f-51b47142eeb4",
   "metadata": {},
   "outputs": [],
   "source": []
  },
  {
   "cell_type": "markdown",
   "id": "ef019812-69cb-45e4-a45e-a92cb55a89ff",
   "metadata": {},
   "source": []
  },
  {
   "cell_type": "code",
   "execution_count": null,
   "id": "a1f1414d-0215-4880-90b5-a951aab8cc4b",
   "metadata": {},
   "outputs": [],
   "source": []
  },
  {
   "cell_type": "markdown",
   "id": "c53f810b-d431-4159-b68e-bec63d3719a6",
   "metadata": {},
   "source": []
  },
  {
   "cell_type": "code",
   "execution_count": null,
   "id": "1bceaef3-2881-4677-8fe2-b8238fc5d617",
   "metadata": {},
   "outputs": [],
   "source": []
  },
  {
   "cell_type": "markdown",
   "id": "7632fe6c-4ade-4ce9-b441-9f7bfd025734",
   "metadata": {},
   "source": []
  },
  {
   "cell_type": "code",
   "execution_count": null,
   "id": "81967075-b4c4-422b-96d4-196cee4fdd8e",
   "metadata": {},
   "outputs": [],
   "source": []
  },
  {
   "cell_type": "markdown",
   "id": "131e5d2b-461d-4cea-9e6b-3de994fb6687",
   "metadata": {},
   "source": []
  },
  {
   "cell_type": "code",
   "execution_count": null,
   "id": "8c9537c7-f982-410d-9676-c46573a16d60",
   "metadata": {},
   "outputs": [],
   "source": []
  },
  {
   "cell_type": "markdown",
   "id": "c9605aff-d865-45ba-babb-6bded850c867",
   "metadata": {},
   "source": []
  },
  {
   "cell_type": "code",
   "execution_count": null,
   "id": "8097cdba-08c5-4e59-a76e-2650a0113970",
   "metadata": {},
   "outputs": [],
   "source": []
  },
  {
   "cell_type": "markdown",
   "id": "705856d9-3b65-401d-90a4-3755b8c570cf",
   "metadata": {},
   "source": []
  }
 ],
 "metadata": {
  "colab": {
   "provenance": []
  },
  "kernelspec": {
   "display_name": "Python 3 (ipykernel)",
   "language": "python",
   "name": "python3"
  },
  "language_info": {
   "codemirror_mode": {
    "name": "ipython",
    "version": 3
   },
   "file_extension": ".py",
   "mimetype": "text/x-python",
   "name": "python",
   "nbconvert_exporter": "python",
   "pygments_lexer": "ipython3",
   "version": "3.8.10"
  }
 },
 "nbformat": 4,
 "nbformat_minor": 5
}
