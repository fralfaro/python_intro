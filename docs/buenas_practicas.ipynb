{
 "cells": [
  {
   "cell_type": "markdown",
   "metadata": {},
   "source": [
    "<a href=\"https://colab.research.google.com/github/fralfaro/python_intro/blob/main/docs/buenas_practicas.ipynb\" target=\"_parent\"><img src=\"https://colab.research.google.com/assets/colab-badge.svg\" alt=\"Open In Colab\"/></a>"
   ]
  },
  {
   "cell_type": "markdown",
   "metadata": {},
   "source": [
    "# Buenas prácticas"
   ]
  },
  {
   "cell_type": "markdown",
   "metadata": {},
   "source": [
    "<a id='c1'></a>\n",
    "## Estilo de codificación\n",
    "\n",
    "\n",
    "<img src=\"https://raw.githubusercontent.com/fralfaro/python_intro/main/docs/images/pep8.png\" width=\"240\" height=\"240\" align=\"center\"/>"
   ]
  },
  {
   "cell_type": "markdown",
   "metadata": {},
   "source": [
    "Además de una correcta y ordenada estructura general que deben tener los programa, es conveniente mantener ciertas buenas prácticas de codificación y el estilo de codificación recomendado. Estas normas no son obligatorias, como lo es la propia sintaxis del lenguaje, pero conviene [seguir las recomendaciones](https://legacy.python.org/dev/peps/pep-0008/) de los desarrolladores de Python para facilitar la lectura del programa y ayudar a encontrar posibles errores.\n",
    "\n",
    "A continuación, se presentan algunas buenas prácticas relacionadas con es estilo de codificación:"
   ]
  },
  {
   "cell_type": "markdown",
   "metadata": {},
   "source": [
    "### Variables\n",
    "Cuando sea posible, define variables con nombres que tengan algún sentido o que puedas identificar fácilmente, no importa que sean más largas. Por ejemplo, en un programa podríamos escribir:"
   ]
  },
  {
   "cell_type": "code",
   "execution_count": 1,
   "metadata": {},
   "outputs": [
    {
     "name": "stdout",
     "output_type": "stream",
     "text": [
      "El volumen es 35.0\n"
     ]
    }
   ],
   "source": [
    "a = 10.  \n",
    "b = 3.5 \n",
    "print(\"El volumen es %.1f\" % (a*b))"
   ]
  },
  {
   "cell_type": "markdown",
   "metadata": {},
   "source": [
    "pero, ¿qué significan `a` y  `b`? lo sabemos por el comentario (bien hecho), pero si más adelante nos encontramos con esas variables, tendremos que recordar cual es cual. Es mejor usar nombres con significado:"
   ]
  },
  {
   "cell_type": "code",
   "execution_count": 1,
   "metadata": {},
   "outputs": [
    {
     "name": "stdout",
     "output_type": "stream",
     "text": [
      "El volumen es 35.0\n"
     ]
    }
   ],
   "source": [
    "altura = 10.\n",
    "base = 3.5\n",
    "print(\"El volumen es %.1f\" % (altura*base))"
   ]
  },
  {
   "cell_type": "markdown",
   "metadata": {},
   "source": [
    "### Lineas de códigos"
   ]
  },
  {
   "cell_type": "markdown",
   "metadata": {},
   "source": [
    "Las líneas de codigo no deben ser muy largas, como mucho 72 caracteres. Si se tiene una línea larga, se puede cortar con una barra invertida (`\\`) y continuar en la siguiente línea:"
   ]
  },
  {
   "cell_type": "code",
   "execution_count": 4,
   "metadata": {
    "scrolled": true
   },
   "outputs": [
    {
     "name": "stdout",
     "output_type": "stream",
     "text": [
      "Esta es una frase muy larga, se puede cortar con una        y seguir en la línea inferior.\n"
     ]
    }
   ],
   "source": [
    "print(\"Esta es una frase muy larga, se puede cortar con una \\\n",
    "       y seguir en la línea inferior.\")"
   ]
  },
  {
   "cell_type": "markdown",
   "metadata": {},
   "source": [
    "### Comentarios\n",
    "\n",
    "Los comentarios son muy importantes al escribir un programa. Describen lo que está sucediendo dentro de un programa, para que una persona que mira el código fuente no tenga dificultades para descifrarlo.\n"
   ]
  },
  {
   "cell_type": "code",
   "execution_count": 5,
   "metadata": {},
   "outputs": [
    {
     "name": "stdout",
     "output_type": "stream",
     "text": [
      "Hola\n"
     ]
    }
   ],
   "source": [
    "# esto es un comentario\n",
    "print('Hola')"
   ]
  },
  {
   "cell_type": "markdown",
   "metadata": {},
   "source": [
    "También podemos tener comentarios multilíneas:"
   ]
  },
  {
   "cell_type": "code",
   "execution_count": 6,
   "metadata": {},
   "outputs": [],
   "source": [
    "# Este es un comentario largo\n",
    "# y se extiende\n",
    "# a varias líneas"
   ]
  },
  {
   "cell_type": "markdown",
   "metadata": {},
   "source": [
    "### Identación"
   ]
  },
  {
   "cell_type": "markdown",
   "metadata": {},
   "source": [
    "Dentro de paréntesis, corchetes o llaves, no dejar espacios inmediatamente dentro de ellos:"
   ]
  },
  {
   "cell_type": "code",
   "execution_count": 7,
   "metadata": {},
   "outputs": [],
   "source": [
    "# no:  \n",
    "lista_01 = [1, 2, 3,4, 5, 6,7, 8, 9,]"
   ]
  },
  {
   "cell_type": "code",
   "execution_count": 8,
   "metadata": {},
   "outputs": [],
   "source": [
    "# si \n",
    "lista_01 = [\n",
    "    1, 2, 3,\n",
    "    4, 5, 6,\n",
    "    7, 8, 9, \n",
    "]"
   ]
  },
  {
   "cell_type": "markdown",
   "metadata": {},
   "source": [
    "Aunque en Python se pueden hacer varias declaraciones en una línea, se recomienda hacer sólo una en cada línea:\n",
    "\n"
   ]
  },
  {
   "cell_type": "code",
   "execution_count": 9,
   "metadata": {},
   "outputs": [],
   "source": [
    "# no\n",
    "a = 10; b = 20"
   ]
  },
  {
   "cell_type": "code",
   "execution_count": 10,
   "metadata": {},
   "outputs": [],
   "source": [
    "# si\n",
    "a = 10\n",
    "b = 20    "
   ]
  },
  {
   "cell_type": "markdown",
   "metadata": {},
   "source": [
    "Cuando se trabaja con lista, conjuntos y/o tuplas se recomienda poner en cada línea sus argumentos.\n"
   ]
  },
  {
   "cell_type": "code",
   "execution_count": 11,
   "metadata": {},
   "outputs": [],
   "source": [
    "# no\n",
    "lista = [(1, 'hola'),(2, 'mundo'),]  "
   ]
  },
  {
   "cell_type": "code",
   "execution_count": 12,
   "metadata": {},
   "outputs": [],
   "source": [
    "# si\n",
    "lista = [\n",
    "    (1, 'hola'),\n",
    "    (2, 'mundo'),\n",
    "]"
   ]
  },
  {
   "cell_type": "markdown",
   "metadata": {},
   "source": [
    "Lo anterior se puede extender para funciones con muchos argumentos"
   ]
  },
  {
   "cell_type": "code",
   "execution_count": 13,
   "metadata": {},
   "outputs": [],
   "source": [
    "# no\n",
    "def funcion_01(x1,x2,x3,x4):\n",
    "    print(x1,x2,x3,x4)\n",
    "    \n",
    "def funcion_02(\n",
    "    x1,x2,x3,x4):\n",
    "    print(x1,x2,x3,x4)"
   ]
  },
  {
   "cell_type": "code",
   "execution_count": 14,
   "metadata": {},
   "outputs": [],
   "source": [
    "# si\n",
    "def funcion_01(x1,x2,\n",
    "               x3,x4):\n",
    "    \n",
    "    print(x1,x2,x3,x4)\n",
    "    \n",
    "def funcion_02(\n",
    "        x1,x2,\n",
    "        x3,x4):\n",
    "    \n",
    "    print(x1,x2,x3,x4)"
   ]
  },
  {
   "cell_type": "markdown",
   "metadata": {},
   "source": [
    "### Manipulación de listas\n",
    "\n",
    "Aunque combinar iterables con elementos de control de flujo para manipular listas es muy sencillo con Python, hay métodos específicos más eficientes para hacer lo mismo. Pensemos el fitrado de datos de una lista:"
   ]
  },
  {
   "cell_type": "code",
   "execution_count": 15,
   "metadata": {},
   "outputs": [
    {
     "name": "stdout",
     "output_type": "stream",
     "text": [
      "positivos: [2, 1, 7]\n"
     ]
    }
   ],
   "source": [
    "# Seleccionar los números positivos\n",
    "numeros = [-3, 2, 1, -8, -2, 7]\n",
    "positivos = []\n",
    "for i in numeros:\n",
    "    if i > 0:\n",
    "        positivos.append(i)\n",
    "        \n",
    "print(f\"positivos: {positivos}\")"
   ]
  },
  {
   "cell_type": "markdown",
   "metadata": {},
   "source": [
    "Aunque técnicamente es correcto, es más eficiente hacer **List Comprehension**:\n",
    "\n"
   ]
  },
  {
   "cell_type": "code",
   "execution_count": 16,
   "metadata": {},
   "outputs": [
    {
     "name": "stdout",
     "output_type": "stream",
     "text": [
      "positivos: [2, 1, 7]\n"
     ]
    }
   ],
   "source": [
    "# comprension de lista\n",
    "numeros = [-3, 2, 1, -8, -2, 7]\n",
    "positivos = [i for i in numeros if i > 0] # List Comprehension\n",
    "print(f\"positivos: {positivos}\")"
   ]
  },
  {
   "cell_type": "markdown",
   "metadata": {},
   "source": [
    "### Especificar tipo de error\n",
    "\n",
    "Cuando se ocupa `try/except`, es necesario especificar el tipo de error que se está cometiendo."
   ]
  },
  {
   "cell_type": "code",
   "execution_count": 17,
   "metadata": {},
   "outputs": [],
   "source": [
    "# importar librerias\n",
    "import sys"
   ]
  },
  {
   "cell_type": "code",
   "execution_count": 18,
   "metadata": {},
   "outputs": [
    {
     "name": "stdout",
     "output_type": "stream",
     "text": [
      "Oops! ocurrio un <class 'ZeroDivisionError'>\n"
     ]
    }
   ],
   "source": [
    "# no\n",
    "try:\n",
    "    r = 1/0\n",
    "except:\n",
    "    print(\"Oops! ocurrio un\",sys.exc_info()[0])"
   ]
  },
  {
   "cell_type": "code",
   "execution_count": 19,
   "metadata": {},
   "outputs": [
    {
     "name": "stdout",
     "output_type": "stream",
     "text": [
      "Oops! ocurrio un <class 'ZeroDivisionError'>\n"
     ]
    }
   ],
   "source": [
    "# si\n",
    "try:\n",
    "    r = 1/0\n",
    "except ZeroDivisionError:\n",
    "    print(\"Oops! ocurrio un\",sys.exc_info()[0])"
   ]
  },
  {
   "cell_type": "markdown",
   "metadata": {},
   "source": [
    "### Explicitar dependencias de una función\n",
    "\n",
    "Siempre es mejor definir las variables dentro de una función y no dejar variables globales."
   ]
  },
  {
   "cell_type": "code",
   "execution_count": 20,
   "metadata": {},
   "outputs": [],
   "source": [
    "# no\n",
    "valor = 5\n",
    "\n",
    "def funcion_01(variable):\n",
    "    return 2*variable + valor"
   ]
  },
  {
   "cell_type": "code",
   "execution_count": 21,
   "metadata": {},
   "outputs": [
    {
     "data": {
      "text/plain": [
       "9"
      ]
     },
     "execution_count": 21,
     "metadata": {},
     "output_type": "execute_result"
    }
   ],
   "source": [
    "funcion_01(2)"
   ]
  },
  {
   "cell_type": "code",
   "execution_count": 22,
   "metadata": {},
   "outputs": [],
   "source": [
    "# si\n",
    "def funcion_01(variable,valor):\n",
    "    return 2*variable + valor"
   ]
  },
  {
   "cell_type": "code",
   "execution_count": 23,
   "metadata": {},
   "outputs": [
    {
     "data": {
      "text/plain": [
       "9"
      ]
     },
     "execution_count": 23,
     "metadata": {},
     "output_type": "execute_result"
    }
   ],
   "source": [
    "funcion_01(2,5)"
   ]
  },
  {
   "cell_type": "markdown",
   "metadata": {},
   "source": [
    "### Escritura dinámica y estática\n",
    "\n",
    "Con Python 3 se puede especificar el tipo de parámetro y el tipo de retorno de una función. Se definen dos conceptos claves:\n",
    "\n",
    "* **Escritura  dinámica**: no se especifican los atributos de los inputs ni de los ouputs\n",
    "* **Escritura  estática**: se especifican los atributos de los inputs y los ouputs"
   ]
  },
  {
   "cell_type": "code",
   "execution_count": 24,
   "metadata": {},
   "outputs": [],
   "source": [
    "# escritura dinámica\n",
    "def suma(x,y):\n",
    "    return x+y"
   ]
  },
  {
   "cell_type": "code",
   "execution_count": 25,
   "metadata": {},
   "outputs": [
    {
     "name": "stdout",
     "output_type": "stream",
     "text": [
      "3\n"
     ]
    }
   ],
   "source": [
    "print(suma(1,2))"
   ]
  },
  {
   "cell_type": "code",
   "execution_count": 26,
   "metadata": {},
   "outputs": [],
   "source": [
    "# escritura estatica\n",
    "def suma(x:float,\n",
    "         y:float)->float:\n",
    "    return x+y"
   ]
  },
  {
   "cell_type": "code",
   "execution_count": 27,
   "metadata": {},
   "outputs": [
    {
     "name": "stdout",
     "output_type": "stream",
     "text": [
      "3\n"
     ]
    }
   ],
   "source": [
    "print(suma(1,2))"
   ]
  },
  {
   "cell_type": "markdown",
   "metadata": {},
   "source": [
    "Para la escritura estática, si bien se especifica el tipo de atributo (tanto de los inputs o outputs), la función puede recibir otros tipos de atributos."
   ]
  },
  {
   "cell_type": "code",
   "execution_count": 28,
   "metadata": {},
   "outputs": [
    {
     "name": "stdout",
     "output_type": "stream",
     "text": [
      "hola mundo\n"
     ]
    }
   ],
   "source": [
    "print(suma(\"hola\",\" mundo\"))"
   ]
  },
  {
   "cell_type": "markdown",
   "metadata": {},
   "source": [
    "Para validar los tipos de datos son los correctos, se deben ocupar librerías especializadas en la validación de datos (por ejemplo `pydantic`)."
   ]
  },
  {
   "cell_type": "markdown",
   "metadata": {},
   "source": [
    "### Documentación de código\n",
    "\n",
    "Casi tan importante como la escritura de código, es su correcta documentación, una parte fundamental de cualquier programa que a menudo se infravalora o simplemente se ignora. Aparte de los comentarios entre el código explicando cómo funciona, el elemento básico de documentación de Python es el Docstring o cadena de documentación, que ya hemos visto. Simplemente es una cadena de texto con triple comillas que se coloca justo después de la definición de función o clase que sirve de documentación a ese elemento."
   ]
  },
  {
   "cell_type": "code",
   "execution_count": 29,
   "metadata": {},
   "outputs": [],
   "source": [
    "def potencia(x, y):\n",
    "    \"\"\"\n",
    "    Calcula la potencia arbitraria de un numero\n",
    "    \"\"\"\n",
    "    return x**y"
   ]
  },
  {
   "cell_type": "code",
   "execution_count": 30,
   "metadata": {},
   "outputs": [
    {
     "data": {
      "text/plain": [
       "'\\n    Calcula la potencia arbitraria de un numero\\n    '"
      ]
     },
     "execution_count": 30,
     "metadata": {},
     "output_type": "execute_result"
    }
   ],
   "source": [
    "# Acceso a la documentación\n",
    "potencia.__doc__"
   ]
  },
  {
   "cell_type": "code",
   "execution_count": 31,
   "metadata": {},
   "outputs": [
    {
     "name": "stdout",
     "output_type": "stream",
     "text": [
      "Help on function potencia in module __main__:\n",
      "\n",
      "potencia(x, y)\n",
      "    Calcula la potencia arbitraria de un numero\n",
      "\n"
     ]
    }
   ],
   "source": [
    "# Acceso a la documentación\n",
    "help(potencia)"
   ]
  },
  {
   "cell_type": "markdown",
   "metadata": {},
   "source": [
    "Lo correcto es detallar lo mejor posible en el *Docstring* qué hace y cómo se usa la función o clase y los parámetros que necesita. Se recomienda usar el estilo de documentación del software de documentación [sphinx](https://www.sphinx-doc.org/en/master/), que emplea [reStructuredText](https://docutils.sourceforge.io/rst.html) como lenguaje de marcado.\n",
    "\n",
    "Veamos un ejemplo de una función bien documentada:"
   ]
  },
  {
   "cell_type": "code",
   "execution_count": 32,
   "metadata": {},
   "outputs": [],
   "source": [
    "def potencia(x, y):\n",
    "    \"\"\"\n",
    "    Calcula la potencia arbitraria de un numero\n",
    "\n",
    "    :param x: base\n",
    "    :param y: exponente\n",
    "    :return:  potencia de un numero\n",
    "    :ejemplos:\n",
    "    \n",
    "    >>> potencia(2, 1)\n",
    "    2\n",
    "    >>> potencia(3, 2)\n",
    "    9\n",
    "    \"\"\"\n",
    "\n",
    "    return x**y"
   ]
  },
  {
   "cell_type": "code",
   "execution_count": 33,
   "metadata": {},
   "outputs": [
    {
     "data": {
      "text/plain": [
       "'\\n    Calcula la potencia arbitraria de un numero\\n\\n    :param x: base\\n    :param y: exponente\\n    :return:  potencia de un numero\\n    :ejemplos:\\n    \\n    >>> potencia(2, 1)\\n    2\\n    >>> potencia(3, 2)\\n    9\\n    '"
      ]
     },
     "execution_count": 33,
     "metadata": {},
     "output_type": "execute_result"
    }
   ],
   "source": [
    "# Acceso a la documentación\n",
    "potencia.__doc__"
   ]
  },
  {
   "cell_type": "code",
   "execution_count": 34,
   "metadata": {},
   "outputs": [
    {
     "name": "stdout",
     "output_type": "stream",
     "text": [
      "Help on function potencia in module __main__:\n",
      "\n",
      "potencia(x, y)\n",
      "    Calcula la potencia arbitraria de un numero\n",
      "    \n",
      "    :param x: base\n",
      "    :param y: exponente\n",
      "    :return:  potencia de un numero\n",
      "    :ejemplos:\n",
      "    \n",
      "    >>> potencia(2, 1)\n",
      "    2\n",
      "    >>> potencia(3, 2)\n",
      "    9\n",
      "\n"
     ]
    }
   ],
   "source": [
    "# Acceso a la documentación\n",
    "help(potencia)"
   ]
  },
  {
   "cell_type": "markdown",
   "metadata": {},
   "source": [
    "**Tipos de Docstring**\n",
    "\n",
    "Existen varias formas de documentar tus funciones, las principales encontradas en la literatura son:\n",
    "  * [Google docstrings](https://github.com/google/styleguide/blob/gh-pages/pyguide.md#38-comments-and-docstrings):Google’s recommended form of documentation.\n",
    "  * [reStructured Text](http://docutils.sourceforge.net/rst.html):Official Python documentation standard; Not beginner friendly but feature rich.\n",
    "  * [NumPy/SciPy docstrings](https://numpydoc.readthedocs.io/en/latest/format.html):NumPy’s combination of reStructured and Google Docstrings.\n",
    "  * [Epytext](http://epydoc.sourceforge.net/epytext.html)A Python adaptation of Epydoc; Great for Java developer.\""
   ]
  },
  {
   "cell_type": "markdown",
   "metadata": {},
   "source": [
    "<a id='c2'></a>\n",
    "## Zen de python\n",
    "\n",
    "<img src=\"https://raw.githubusercontent.com/fralfaro/python_intro/main/docs/images/zen.jpg\" width=\"480\" height=\"240\" align=\"center\"/>\n",
    "\n",
    "El **Zen** de Python te dará la guía para decidir sobre que hacer con tu código, no te dice como lo debes escribir, sino como debes pensar si estas programando en Python.\n",
    "\n",
    "Principios importantes:\n",
    "\n",
    "* **Explícito es mejor que implícito**: Que no se asuma nada, asegúrate que las cosas sean.\n",
    "* **Simple es mejor que complejo**: Evita código complejo, código espagueti o que hace mas cosas para poder hacer una simple tarea.\n",
    "* **Plano es mejor que anidado**: Si tu código tiene mas de 3 niveles de identación, deberías mover parte de ese código a una función.\n",
    "* **Los errores nunca deberían pasar silenciosamente**: No uses un Try/Except sin definir que tipo de error vas a cachar, viene de la mano con Explicito es mejor que implícito.\n",
    "* **Si la implementación es difícil de explicar, es mala idea**.\n"
   ]
  },
  {
   "cell_type": "markdown",
   "metadata": {},
   "source": [
    "También, podemos ver el mensaje original del zen de python, ejecutando la siguiente linea de comando."
   ]
  },
  {
   "cell_type": "code",
   "execution_count": 35,
   "metadata": {},
   "outputs": [
    {
     "name": "stdout",
     "output_type": "stream",
     "text": [
      "The Zen of Python, by Tim Peters\n",
      "\n",
      "Beautiful is better than ugly.\n",
      "Explicit is better than implicit.\n",
      "Simple is better than complex.\n",
      "Complex is better than complicated.\n",
      "Flat is better than nested.\n",
      "Sparse is better than dense.\n",
      "Readability counts.\n",
      "Special cases aren't special enough to break the rules.\n",
      "Although practicality beats purity.\n",
      "Errors should never pass silently.\n",
      "Unless explicitly silenced.\n",
      "In the face of ambiguity, refuse the temptation to guess.\n",
      "There should be one-- and preferably only one --obvious way to do it.\n",
      "Although that way may not be obvious at first unless you're Dutch.\n",
      "Now is better than never.\n",
      "Although never is often better than *right* now.\n",
      "If the implementation is hard to explain, it's a bad idea.\n",
      "If the implementation is easy to explain, it may be a good idea.\n",
      "Namespaces are one honking great idea -- let's do more of those!\n"
     ]
    }
   ],
   "source": [
    "import this"
   ]
  },
  {
   "cell_type": "markdown",
   "metadata": {},
   "source": [
    "## Más consejos\n",
    "\n",
    "Los consejos que se presentan son de mucha utilidad si usted quiere llevar sus conociminetos de programación al siguiente nivel, sin embargo, el contenido de cada uno amerita un curso por si solo. Se deja recomienda al lector seguir profundizando en estos temas.\n",
    "\n",
    "### Entender programación multiparadigma\n",
    "\n",
    "Python al ser multiparadigma, nos da una amplia gama de posibilidades de diseñar nuestros códigos. Dentro de estos se destacan:\n",
    " \n",
    "* Programación orientada a objetos (OOP)\n",
    "* Programación funcional\n",
    "\n",
    "Cuándo ocupar uno o la otra, va a depender de cómo queremos abordar una determinada problemática, puesto que en la mayoría de los casos, se puede pasar de un paradigma a o otro (incluso mezclarlos de ser necesario).\n",
    "\n",
    "### Principio S.O.L.I.D\n",
    "\n",
    "En ingeniería de software, SOLID (Single responsibility, Open-closed, Liskov substitution, Interface segregation and Dependency inversion) es un acrónimo mnemónico introducido por **Robert C. Martin** a comienzos de la década del 2000 que representa cinco principios básicos de la programación orientada a objetos y el diseño. Cuando estos principios se aplican en conjunto es más probable que un desarrollador cree un sistema que sea fácil de mantener y ampliar con el tiempo.\n",
    "\n",
    "En el siguiente [link](https://medium.com/@vubon.roy/solid-principles-with-python-examples-10e1f3d91259) se deja una guía para poder entender estos conceptos en python.\n",
    "\n",
    "### Patrones de diseño\n",
    "\n",
    "Los patrones de diseño son la base para la búsqueda de soluciones a problemas comunes en el desarrollo de software y otros ámbitos referentes al diseño de interacción o interfaces.\n",
    "\n",
    "> Un patrón de diseño es una solución a un problema de diseño.\n",
    "\n",
    "\n",
    "Se destacan tres tipos de patrones de diseños:\n",
    "\n",
    "* **Comportamiento**\n",
    "* **Creacionales**\n",
    "* **Estructurales**\n",
    "\n",
    "\n",
    "En el siguiente [link](https://refactoring.guru/design-patterns/python) se deja una guía para poder entender estos conceptos en python.\n",
    "\n",
    "### Lecturas recomendadas\n",
    "\n",
    "  * **Clean Code: A Handbook of Agile Software** - *Robert C. Martin* (2009): Habla sobre las buenas prácticas que debe seguir todo buen programador al momento de escribir su código. Si bien el lenguaje de programación emepleado es `Java`, la lógica se extiende a cualquier lenguaje de programación.\n",
    "  \n",
    "  \n",
    "  * **The Clean Coder: A Code Of Conduct For Professional Programmers** *Robert C. Martin* (2011): Habla sobre las conductas que debe seguir todo programador. Además de hablar aspectos técnicos como estimación, diseño de código, refactorización y testeos, también nos habla sobre la actitud que un programador debe tener en distintas situaciones laborales.\n",
    " \n",
    " "
   ]
  },
  {
   "cell_type": "markdown",
   "metadata": {},
   "source": [
    "## Referencias\n",
    "\n",
    "1. [clean-code-python](https://github.com/zedr/clean-code-python)\n",
    "1. [Documenting Python Code: A Complete Guide](https://realpython.com/documenting-python-code/)\n"
   ]
  }
 ],
 "metadata": {
  "kernelspec": {
   "display_name": "Python 3 (ipykernel)",
   "language": "python",
   "name": "python3"
  },
  "language_info": {
   "codemirror_mode": {
    "name": "ipython",
    "version": 3
   },
   "file_extension": ".py",
   "mimetype": "text/x-python",
   "name": "python",
   "nbconvert_exporter": "python",
   "pygments_lexer": "ipython3",
   "version": "3.8.10"
  }
 },
 "nbformat": 4,
 "nbformat_minor": 4
}
