{
 "cells": [
  {
   "cell_type": "markdown",
   "metadata": {},
   "source": [
    "<a href=\"https://colab.research.google.com/github/fralfaro/python_intro/blob/main/docs/flujo.ipynb\" target=\"_parent\"><img src=\"https://colab.research.google.com/assets/colab-badge.svg\" alt=\"Open In Colab\"/></a>"
   ]
  },
  {
   "cell_type": "markdown",
   "metadata": {},
   "source": [
    "# Control de Flujo\n",
    "\n",
    "EL control de flujo o sentencias de control permiten modificar el flujo del programa introduciendo **ciclos** y **condicionales**.\n",
    "\n",
    "* Un **condicional** es un conjunto de sentencias que pueden o no ejecutarse, dependiendo del resultado de una condición.\n",
    "\n",
    "* Un **ciclo** es un conjunto de sentencias que son ejecutadas varias veces, hasta que una condición de término es satisfecha.\n",
    "\n",
    "Tanto los condicionales como los ciclos contienen a otras sentencias. Para indicar esta relación se utiliza la **indentación**: las sentencias contenidas no se escriben en la misma columna que la sentencia de control, sino un poco más a la derecha."
   ]
  },
  {
   "cell_type": "code",
   "execution_count": 1,
   "metadata": {},
   "outputs": [
    {
     "name": "stdout",
     "output_type": "stream",
     "text": [
      "10 5\n"
     ]
    }
   ],
   "source": [
    "# definir variables\n",
    "n = 5\n",
    "m = 10\n",
    "\n",
    "# inicializar flujo\n",
    "if m < n:\n",
    "    t = m\n",
    "    m = n\n",
    "    n = t\n",
    "\n",
    "# sentencia despues del flujo\n",
    "print(m, n)"
   ]
  },
  {
   "cell_type": "markdown",
   "metadata": {},
   "source": [
    "## Condicional if-elif-else \n",
    "\n",
    "### Condicional if\n",
    "\n",
    "La sentencia `if` («si») ejecuta las instrucciones sólo si se cumple una condición. Si la condición es falsa, no se hace nada:\n",
    "\n",
    "La sintaxis es la siguiente:\n",
    "\n",
    "<img src=\"https://progra-utfsm.github.io/material/images/if.png\"  align=\"center\" width=\"300\" />\n",
    "\n",
    "```python\n",
    "if condición:\n",
    "    sentencias\n",
    "```\n",
    "\n",
    "**Ejemplos**"
   ]
  },
  {
   "cell_type": "code",
   "execution_count": 2,
   "metadata": {
    "tags": []
   },
   "outputs": [
    {
     "name": "stdout",
     "output_type": "stream",
     "text": [
      "Ingrese su nota: 60\n",
      "Felicitaciones!!!\n"
     ]
    }
   ],
   "source": [
    "nota = 60\n",
    "print(f\"Ingrese su nota: {nota}\")\n",
    "\n",
    "if nota >= 55:\n",
    "    print(\"Felicitaciones!!!\")"
   ]
  },
  {
   "cell_type": "code",
   "execution_count": 3,
   "metadata": {
    "tags": []
   },
   "outputs": [
    {
     "name": "stdout",
     "output_type": "stream",
     "text": [
      "Ingrese su nota: 40\n",
      "Lamentablemente Ud. ha reprobado.\n"
     ]
    }
   ],
   "source": [
    "nota = 40\n",
    "print(f\"Ingrese su nota: {nota}\")\n",
    "\n",
    "if nota < 55:\n",
    "    print(\"Lamentablemente Ud. ha reprobado.\")"
   ]
  },
  {
   "cell_type": "markdown",
   "metadata": {},
   "source": [
    "### Condicional if-else\n",
    "\n",
    "La sentencia `if-else` («si-o-si-no») decide qué instrucciones ejecutar dependiendo si una condición es verdadera o falsa:\n",
    "\n",
    "<img src=\"https://progra-utfsm.github.io/material/images/if-else.png\"  align=\"center\" width=\"300\" />\n",
    "\n",
    "```python\n",
    "if condición:\n",
    "    qué hacer cuando la condición es verdadera\n",
    "else\n",
    "    qué hacer cuando la condición es falsa\n",
    "```\n",
    "\n"
   ]
  },
  {
   "cell_type": "markdown",
   "metadata": {},
   "source": [
    "**ejemplo 01**"
   ]
  },
  {
   "cell_type": "code",
   "execution_count": 4,
   "metadata": {
    "tags": []
   },
   "outputs": [
    {
     "name": "stdout",
     "output_type": "stream",
     "text": [
      "Ingrese su edad: 20\n",
      "Usted es adulto\n"
     ]
    }
   ],
   "source": [
    "edad = 20\n",
    "print(f\"Ingrese su edad: {edad}\")\n",
    "\n",
    "if edad < 18:\n",
    "    print(\"Usted es menor de edad\")\n",
    "else:\n",
    "    print(\"Usted es adulto\")"
   ]
  },
  {
   "cell_type": "code",
   "execution_count": 5,
   "metadata": {
    "tags": []
   },
   "outputs": [
    {
     "name": "stdout",
     "output_type": "stream",
     "text": [
      "Ingrese su edad: 10\n",
      "Usted es menor de edad\n"
     ]
    }
   ],
   "source": [
    "edad = 10\n",
    "print(f\"Ingrese su edad: {edad}\")\n",
    "\n",
    "if edad < 18:\n",
    "    print(\"Usted es menor de edad\")\n",
    "else:\n",
    "    print(\"Usted es adulto\")"
   ]
  },
  {
   "cell_type": "markdown",
   "metadata": {},
   "source": [
    "**ejemplo 02**"
   ]
  },
  {
   "cell_type": "code",
   "execution_count": 6,
   "metadata": {
    "tags": []
   },
   "outputs": [
    {
     "name": "stdout",
     "output_type": "stream",
     "text": [
      "Ingrese su numero: 15\n",
      "El numero es impar\n",
      "El sucesor del numero es 16\n",
      "Fin\n"
     ]
    }
   ],
   "source": [
    "n = 15\n",
    "print(f\"Ingrese su numero: {n}\")\n",
    "\n",
    "if n % 2 == 0:\n",
    "    print(\"El numero es par\")\n",
    "    print(\"La mitad del numero es\", n / 2)\n",
    "else:\n",
    "    print(\"El numero es impar\")\n",
    "    print(\"El sucesor del numero es\", n + 1)\n",
    "print(\"Fin\")"
   ]
  },
  {
   "cell_type": "code",
   "execution_count": 7,
   "metadata": {
    "tags": []
   },
   "outputs": [
    {
     "name": "stdout",
     "output_type": "stream",
     "text": [
      "Ingrese su numero: 20\n",
      "El numero es par\n",
      "La mitad del numero es 10.0\n",
      "Fin\n"
     ]
    }
   ],
   "source": [
    "n = 20\n",
    "print(f\"Ingrese su numero: {n}\")\n",
    "\n",
    "if n % 2 == 0:\n",
    "    print(\"El numero es par\")\n",
    "    print(\"La mitad del numero es\", n / 2)\n",
    "else:\n",
    "    print(\"El numero es impar\")\n",
    "    print(\"El sucesor del numero es\", n + 1)\n",
    "print(\"Fin\")"
   ]
  },
  {
   "cell_type": "markdown",
   "metadata": {},
   "source": [
    "### Condicional if-elif-else\n",
    "\n",
    "La sentencia `if-elif-else` depende de dos o más condiciones, que son evaluadas en orden. La primera que es verdadera determina qué instrucciones serán ejecutadas:\n",
    "\n",
    "<img src=\"https://raw.githubusercontent.com/fralfaro/python_intro/main/docs/images/if_else.png\"  align=\"center\" width=\"300\" />\n",
    "\n",
    "La sintaxis es la siguiente:\n",
    "\n",
    "``` python\n",
    "if condición1:\n",
    "    qué hacer si condición1 es verdadera\n",
    "elif condición2:\n",
    "    qué hacer si condición2 es verdadera\n",
    "...\n",
    "else:\n",
    "    qué hacer cuando ninguna de las\n",
    "    condiciones anteriores es verdadera\n",
    "```"
   ]
  },
  {
   "cell_type": "markdown",
   "metadata": {},
   "source": [
    "Existen tres formas de ocupar esta condicional.\n",
    "\n",
    "* **Estructura if**: La estructura if se utiliza para tomar decisiones en función de una condición. Si la condición es verdadera, el bloque de código dentro del if se ejecutará.\n",
    "\n",
    "* **Estructura if-else**: La estructura if-else se utiliza para tomar decisiones y ejecutar un bloque de código si la condición es verdadera y otro bloque de código si la condición es falsa.\n",
    "\n",
    "* **Estructura if-elif-else**: La estructura if-elif-else se utiliza para tomar decisiones y ejecutar diferentes bloques de código según diferentes condiciones. Se evalúan las condiciones en orden, y si alguna es verdadera, se ejecutará el bloque de código correspondiente. Si ninguna de las condiciones es verdadera, se ejecutará el bloque de código en la cláusula else.\n",
    "\n",
    "Es decir, puede no existir o pueden existir varios  `elif`. Por otro lado, el `else` es opcional dependiendo del caso.\n"
   ]
  },
  {
   "cell_type": "markdown",
   "metadata": {},
   "source": [
    "**ejemplo 01**\n",
    "\n",
    "Escriba un programa que califique el rendimiento del alumno en una asignatura según la nota obtenida."
   ]
  },
  {
   "cell_type": "code",
   "execution_count": 8,
   "metadata": {
    "tags": []
   },
   "outputs": [
    {
     "name": "stdout",
     "output_type": "stream",
     "text": [
      "Ingrese su nota: 90\n",
      "Usted es un alumno destacado.\n"
     ]
    }
   ],
   "source": [
    "nota = 90\n",
    "print(f\"Ingrese su nota: {nota}\")\n",
    "\n",
    "if nota >= 80:\n",
    "    print(\"Usted es un alumno destacado.\")\n",
    "elif nota >= 65:\n",
    "    print(\"Usted ha aprobado.\")\n",
    "elif nota >= 55:\n",
    "    print(\"Usted aprobó con algunas dificultades.\")\n",
    "elif nota >= 45:\n",
    "    print(\"Con un poco mas de empeño hubiese aprobado.\")\n",
    "else:\n",
    "    print(\"Nos vemos el próximo semestre.\")"
   ]
  },
  {
   "cell_type": "markdown",
   "metadata": {},
   "source": [
    "**ejemplo 02**\n",
    "\n",
    "Considerar la siguiente tabla que muestra la tasa de impuesto a pagar por una persona según su sueldo.\n",
    "\n",
    "| Sueldo               | Tasa de impuesto |\n",
    "|----------------------|------------------|\n",
    "| menos de 1000        | 0%               |\n",
    "| 1000 ≤ sueldo < 2000 | 5%               |\n",
    "| 2000 ≤ sueldo < 4000 | 10%              |\n",
    "| 4000 o más           | 12%              |\n",
    "\n",
    "Un ejemplo de como se calcula el impuesto sería el siguiente:\n",
    "\n"
   ]
  },
  {
   "cell_type": "code",
   "execution_count": 9,
   "metadata": {
    "tags": []
   },
   "outputs": [
    {
     "name": "stdout",
     "output_type": "stream",
     "text": [
      "Ingrese su sueldo: 2000\n",
      "caso 3\n",
      "Usted debe pagar 200 de impuesto.\n"
     ]
    }
   ],
   "source": [
    "sueldo = 2000\n",
    "print(f\"Ingrese su sueldo: {sueldo}\")\n",
    "\n",
    "if sueldo < 1000:\n",
    "    print(\"caso 1\")\n",
    "    tasa = 0.00\n",
    "elif sueldo < 2000: # 1000 <= sueldo < 2000?\n",
    "    print(\"caso 2\")\n",
    "    tasa = 0.05\n",
    "elif sueldo < 4000: # 2000 <= sueldo < 4000\n",
    "    print(\"caso 3\")\n",
    "    tasa = 0.10\n",
    "else:\n",
    "    print(\"caso falso\")\n",
    "    tasa = 0.12\n",
    "print(\"Usted debe pagar\", int(tasa*sueldo), \"de impuesto.\")"
   ]
  },
  {
   "cell_type": "markdown",
   "metadata": {},
   "source": [
    "Otra forma de calcular el impuesto es la siguiente:\n",
    "\n"
   ]
  },
  {
   "cell_type": "code",
   "execution_count": 10,
   "metadata": {
    "tags": []
   },
   "outputs": [
    {
     "name": "stdout",
     "output_type": "stream",
     "text": [
      "caso 3\n",
      "Usted debe pagar 200 de impuesto.\n"
     ]
    }
   ],
   "source": [
    "sueldo = 2000\n",
    "if sueldo < 1000: #1000 > sueldo:\n",
    "    print(\"caso 1\")\n",
    "    tasa = 0.00\n",
    "if sueldo >= 1000 and sueldo < 2000: #if 1000 <= sueldo < 2000:\n",
    "    print(\"caso 2\")\n",
    "    tasa = 0.05\n",
    "if 2000 <= sueldo < 4000:\n",
    "    print(\"caso 3\")\n",
    "    tasa = 0.10\n",
    "if 4000 <= sueldo: #sueldo>= 4000\n",
    "    print(\"caso falso\")\n",
    "    tasa = 0.12\n",
    "print(\"Usted debe pagar\", int(tasa*sueldo), \"de impuesto.\")"
   ]
  },
  {
   "cell_type": "markdown",
   "metadata": {},
   "source": [
    "¿En qué se diferencian los dos programas anteriores?\n",
    "\n",
    "**Solución**:\n",
    "\n",
    "1. **Diferencia en la forma de expresar las condiciones**:\n",
    "   En el primer programa, se utilizan operadores de desigualdad (`<`) para expresar las condiciones, mientras que en el segundo programa, se utilizan operadores de igualdad (`>=`) y (`<=`) para expresar las mismas condiciones.\n",
    "\n",
    "2. **Diferencia en el resultado impreso**:\n",
    "   En el primer programa, se imprime el caso correspondiente (por ejemplo, \"caso 1\", \"caso 2\", etc.) antes de calcular la tasa de impuesto, mientras que en el segundo programa, se calcula la tasa de impuesto sin imprimir el caso correspondiente.\n"
   ]
  },
  {
   "cell_type": "markdown",
   "metadata": {},
   "source": [
    "## While Loop\n",
    "\n",
    "El ciclo while («mientras») ejecuta una secuencia de instrucciones mientras una condición sea verdadera:\n",
    "\n",
    "\n",
    "Cada una de las veces que el cuerpo del ciclo es ejecutado se llama iteración.\n",
    "\n",
    "La condición es evaluada antes de cada iteración. Si la condición es inicialmente falsa, el ciclo no se ejecutará ninguna vez.\n",
    "\n",
    "<img src=\"https://raw.githubusercontent.com/fralfaro/python_intro/main/docs/images/while.png\"  align=\"center\" width=\"300\"/>\n",
    "\n",
    "\n",
    "La sintaxis es la siguiente:\n",
    "\n",
    "```python\n",
    "while condición:\n",
    "    sentencias\n",
    "```\n",
    "\n",
    "**Notas adicionales**:\n",
    "\n",
    "* A una ejecución de las instrucciones que componen el ciclo se le llama **iteración**.\n",
    "* La condición de un while es evaluada antes de cada iteración.\n",
    "* Por lo anterior, es posible que un `while` **no ejecute** ninguna iteración, si la condición es False al inicio."
   ]
  },
  {
   "cell_type": "markdown",
   "metadata": {},
   "source": [
    "Por ejemplo, el siguiente programa multiplica dos números enteros sin usar el operador `*`:\n",
    "\n"
   ]
  },
  {
   "cell_type": "code",
   "execution_count": 11,
   "metadata": {
    "tags": []
   },
   "outputs": [
    {
     "name": "stdout",
     "output_type": "stream",
     "text": [
      "El producto de 'm' y 'n' es 28\n"
     ]
    }
   ],
   "source": [
    "m = 4\n",
    "n = 7\n",
    "p = 0\n",
    "\n",
    "while m > 0:\n",
    "    m = m - 1\n",
    "    p = p + n\n",
    "    \n",
    "print(f\"El producto de 'm' y 'n' es {p}\")"
   ]
  },
  {
   "cell_type": "markdown",
   "metadata": {},
   "source": [
    "Para ver cómo funciona este programa, hagamos un ruteo con la entrada $m = 4$ y $n = 7$:\n",
    "\n",
    "| p  | m | n |\n",
    "|----|---|---|\n",
    "|    | 4 |   |\n",
    "|    |   | 7 |\n",
    "| 0  |   |   |\n",
    "|    | 3 |   |\n",
    "| 7  |   |   |\n",
    "|    | 2 |   |\n",
    "| 14 |   |   |\n",
    "|    | 1 |   |\n",
    "| 21 |   |   |\n",
    "|    | 0 |   |\n",
    "| 28 |   |   |"
   ]
  },
  {
   "cell_type": "markdown",
   "metadata": {},
   "source": [
    "El proceso funciona de la siguiente manera:\n",
    "\n",
    "1. Se inician las variables `m` con el valor 4, `n` con el valor 7 y `p` con el valor 0.\n",
    "2. Se entra en un bucle `while` con la condición `m > 0`, lo que significa que el bucle se ejecutará mientras `m` sea mayor que 0.\n",
    "3. En cada iteración del bucle, el valor de `m` se reduce en 1 (usando `m = m - 1`) y el valor de `n` se suma al valor actual de `p` (usando `p = p + n`).\n",
    "4. El bucle continúa ejecutándose hasta que `m` sea igual a 0. Cuando `m` alcanza 0, la condición `m > 0` se vuelve falsa, y el bucle se detiene.\n",
    "5. Después de que el bucle se detiene, se imprime el resultado, que es el producto acumulado de `m` y `n` en la variable `p`.\n",
    "\n",
    "La razón por la que estamos seguros de que el ciclo terminará en algún momento es que la condición del bucle `while` se verifica en cada iteración, y `m` se reduce en 1 en cada iteración. Dado que `m` se inicializa con el valor 4, y en cada iteración se reduce en 1, eventualmente alcanzará el valor 0 después de 4 iteraciones, lo que hará que la condición `m > 0` sea falsa y el ciclo se detendrá. Por lo tanto, podemos estar seguros de que el ciclo terminará."
   ]
  },
  {
   "cell_type": "markdown",
   "metadata": {},
   "source": [
    "### Patrones Comunes\n",
    "\n",
    "Un patrón es una solución que puede ser aplicada a distintos problemas o situaciones, con ligeros cambios.\n",
    "\n",
    "1. **Patrón de acumulación con suma.**\n",
    "2. **Patrón de acumulación con multiplicación.**\n",
    "3. **Patrón de conteo.**\n",
    "4. **Patrón de encontrar el mayor (máximo).**\n",
    "5. **Patrón de encontrar el menor (mínimo).**"
   ]
  },
  {
   "cell_type": "markdown",
   "metadata": {},
   "source": [
    "#### Patrón de acumulación con suma\n",
    "\n",
    "Escriba un programa que reciba como entrada un número entero. El programa debe mostrar el resultado de la suma de los números al cuadrado desde el $1$ hasta el valor ingresado.\n",
    "$$\n",
    "1^2+2^2+\\ldots+(n-1)^2+n^2\n",
    "$$"
   ]
  },
  {
   "cell_type": "code",
   "execution_count": 8,
   "metadata": {
    "tags": []
   },
   "outputs": [
    {
     "name": "stdout",
     "output_type": "stream",
     "text": [
      "La suma de los cuadrados desde 1 hasta 10 es 385\n"
     ]
    }
   ],
   "source": [
    "# Solicita al usuario ingresar un número entero\n",
    "numero = 10\n",
    "\n",
    "# Inicializa la variable para la suma\n",
    "suma = 0\n",
    "\n",
    "# Inicializa un contador\n",
    "i = 1\n",
    "\n",
    "# Utiliza un ciclo while para calcular la suma de los cuadrados\n",
    "while i <= numero:\n",
    "    suma += i ** 2\n",
    "    i += 1\n",
    "\n",
    "# Muestra el resultado\n",
    "print(f\"La suma de los cuadrados desde 1 hasta {numero} es {suma}\")"
   ]
  },
  {
   "cell_type": "markdown",
   "metadata": {},
   "source": [
    "**Estructura del patrón de acumulación con suma**\n",
    "\n",
    "```Python\n",
    "suma = 0\n",
    "while (condición_del_ciclo):\n",
    "    n = ... #calcular lo que se quiere acumular\n",
    "    suma = suma + n\n",
    "```"
   ]
  },
  {
   "cell_type": "markdown",
   "metadata": {},
   "source": [
    "#### Patrón de acumulación con multiplicación\n",
    "\n",
    "Escriba una programa que calcule el factorial de un número $n$ ingresada como entrada:\n",
    "$3! = 1\\cdot 2 \\cdot 3$"
   ]
  },
  {
   "cell_type": "code",
   "execution_count": 9,
   "metadata": {
    "tags": []
   },
   "outputs": [
    {
     "name": "stdout",
     "output_type": "stream",
     "text": [
      "10! = 3628800\n"
     ]
    }
   ],
   "source": [
    "# Solicita al usuario ingresar un número entero\n",
    "n = 10\n",
    "\n",
    "# Inicializa el valor del factorial a 1\n",
    "factorial = 1\n",
    "\n",
    "# Inicializa un contador\n",
    "i = 1\n",
    "\n",
    "# Utiliza un ciclo while para calcular el factorial\n",
    "while i <= n:\n",
    "    factorial *= i\n",
    "    i += 1\n",
    "\n",
    "# Muestra el resultado\n",
    "print(f\"{n}! = {factorial}\")"
   ]
  },
  {
   "cell_type": "markdown",
   "metadata": {},
   "source": [
    "**Estructura del patrón de acumulación con multiplicación**\n",
    "\n",
    "```Python\n",
    "producto = 1\n",
    "while (condición_del_ciclo):\n",
    "    n = ... #calcular lo que se quiere acumular\n",
    "    producto = producto * n\n",
    "```"
   ]
  },
  {
   "cell_type": "markdown",
   "metadata": {},
   "source": [
    "#### Patrón de conteo\n",
    "\n",
    "Escriba un programa que solicite un número entero y calcule cuantos números son divisibles por 3 o 5."
   ]
  },
  {
   "cell_type": "code",
   "execution_count": 7,
   "metadata": {
    "tags": []
   },
   "outputs": [
    {
     "name": "stdout",
     "output_type": "stream",
     "text": [
      "En el rango de 1 a 35, hay 16 números divisibles por 3 o 5.\n"
     ]
    }
   ],
   "source": [
    "# Solicita al usuario ingresar un número entero\n",
    "numero = 35\n",
    "\n",
    "# Inicializa un contador de números divisibles por 3 o 5\n",
    "contador = 0\n",
    "\n",
    "# Inicializa un valor para contar\n",
    "i = 1\n",
    "\n",
    "# Utiliza un ciclo while para contar números divisibles por 3 o 5\n",
    "while i <= numero:\n",
    "    if i % 3 == 0 or i % 5 == 0:\n",
    "        contador += 1\n",
    "    i += 1\n",
    "\n",
    "# Muestra la cantidad de números divisibles por 3 o 5\n",
    "print(f\"En el rango de 1 a {numero}, hay {contador} números divisibles por 3 o 5.\")"
   ]
  },
  {
   "cell_type": "markdown",
   "metadata": {},
   "source": [
    "**Estructura del patrón de conteo**\n",
    "\n",
    "```Python\n",
    "contador = 0\n",
    "while (condición_del_ciclo):\n",
    "    if (condición_para_contar):\n",
    "        contador = contador + 1\n",
    "```"
   ]
  },
  {
   "cell_type": "markdown",
   "metadata": {},
   "source": [
    "#### Patrón de encontrar el mayor (máximo)\n",
    "\n"
   ]
  },
  {
   "cell_type": "code",
   "execution_count": 1,
   "metadata": {},
   "outputs": [
    {
     "name": "stdout",
     "output_type": "stream",
     "text": [
      "El valor máximo en el rango de 1 a 10 es: 10\n"
     ]
    }
   ],
   "source": [
    "# Definir el rango de números\n",
    "inicio = 1\n",
    "fin = 10  # Cambia esto según el rango que desees\n",
    "\n",
    "# Inicializar el valor máximo\n",
    "maximo = inicio\n",
    "\n",
    "# Inicializar el contador\n",
    "i = inicio\n",
    "\n",
    "# Utilizar un ciclo while con range\n",
    "while i <= fin:\n",
    "    if i > maximo:\n",
    "        maximo = i\n",
    "    i += 1\n",
    "\n",
    "# Mostrar el valor máximo\n",
    "print(f\"El valor máximo en el rango de {inicio} a {fin} es: {maximo}\")\n"
   ]
  },
  {
   "cell_type": "markdown",
   "metadata": {},
   "source": [
    "**Estructura del patrón de encontrar el mayor**\n",
    "```Python\n",
    "mayor = numero_muy_chico\n",
    "while (condición_del_ciclo):\n",
    "    n = ... #determinar lo que se quiere comparar\n",
    "    if n > mayor:\n",
    "        mayor = n\n",
    "```"
   ]
  },
  {
   "cell_type": "markdown",
   "metadata": {},
   "source": [
    "#### Patrón de encontrar el menor (mínimo)  "
   ]
  },
  {
   "cell_type": "code",
   "execution_count": 2,
   "metadata": {},
   "outputs": [
    {
     "name": "stdout",
     "output_type": "stream",
     "text": [
      "El valor mínimo en el rango de 1 a 10 es 1\n"
     ]
    }
   ],
   "source": [
    "# Definir el rango (por ejemplo, de 1 a 10)\n",
    "inicio = 1\n",
    "fin = 10\n",
    "\n",
    "# Inicializar el valor mínimo con el primer número del rango\n",
    "minimo = inicio\n",
    "\n",
    "# Inicializar el contador para recorrer el rango\n",
    "i = inicio + 1\n",
    "\n",
    "# Utilizar un ciclo while para encontrar el valor mínimo\n",
    "while i <= fin:\n",
    "    numero = i  # Valor actual\n",
    "    if numero < minimo:\n",
    "        minimo = numero\n",
    "    i += 1\n",
    "\n",
    "# Mostrar el valor mínimo\n",
    "print(f\"El valor mínimo en el rango de {inicio} a {fin} es {minimo}\")"
   ]
  },
  {
   "cell_type": "markdown",
   "metadata": {},
   "source": [
    "**Estructura del patrón de encontrar el menor**\n",
    "```Python\n",
    "menor = numero_muy_grande\n",
    "while (condición_del_ciclo):\n",
    "    n = ... #determinar lo que se quiere comparar\n",
    "    if n < menor:\n",
    "        menor = n\n",
    "```"
   ]
  },
  {
   "cell_type": "markdown",
   "metadata": {},
   "source": [
    "## Ciclo for con rango\n",
    "\n",
    "\n",
    "El ciclo **for con rango** ejecuta una secuencia de sentencias una cantidad fija de veces.\n",
    "\n",
    "Para llevar la cuenta, utiliza una **variable de control** que toma valores distintos en cada iteración.\n",
    "\n",
    "Una de las sintaxis para usar un for con rango es la siguiente:\n",
    "\n",
    "```python\n",
    "for variable in range(fin):\n",
    "    qué hacer para cada valor de la variable de control\n",
    "```\n",
    "\n",
    "En la primera iteración, la variable de control toma el valor 0. Al final de cada iteración, el valor de la variable aumenta automáticamente. El ciclo termina justo antes que la variable tome el valor fin.\n",
    "\n",
    "Por ejemplo, el siguiente programa muestra los cubos de los números del 0 al 20:"
   ]
  },
  {
   "cell_type": "code",
   "execution_count": 12,
   "metadata": {
    "tags": []
   },
   "outputs": [
    {
     "name": "stdout",
     "output_type": "stream",
     "text": [
      "Número: 0, Cubo: 0\n",
      "Número: 1, Cubo: 1\n",
      "Número: 2, Cubo: 8\n",
      "Número: 3, Cubo: 27\n",
      "Número: 4, Cubo: 64\n",
      "Número: 5, Cubo: 125\n",
      "Número: 6, Cubo: 216\n",
      "Número: 7, Cubo: 343\n",
      "Número: 8, Cubo: 512\n",
      "Número: 9, Cubo: 729\n",
      "Número: 10, Cubo: 1000\n",
      "Número: 11, Cubo: 1331\n",
      "Número: 12, Cubo: 1728\n",
      "Número: 13, Cubo: 2197\n",
      "Número: 14, Cubo: 2744\n",
      "Número: 15, Cubo: 3375\n",
      "Número: 16, Cubo: 4096\n",
      "Número: 17, Cubo: 4913\n",
      "Número: 18, Cubo: 5832\n",
      "Número: 19, Cubo: 6859\n",
      "Número: 20, Cubo: 8000\n"
     ]
    }
   ],
   "source": [
    "# Imprimir los números del 0 al 20 y sus cubos\n",
    "for i in range(21):\n",
    "    print(f\"Número: {i}, Cubo: {i**3}\")"
   ]
  },
  {
   "cell_type": "markdown",
   "metadata": {},
   "source": [
    "Un **rango** es una sucesión de números enteros equiespaciados. Incluyendo la presentada más arriba, hay tres maneras de definir un rango:\n",
    "\n",
    "```python\n",
    "range(final)\n",
    "range(inicial, final)\n",
    "range(inicial, final, incremento)\n",
    "```\n",
    "\n",
    "El valor inicial siempre es parte del rango. El valor final nunca es parte del rango. El incremento indica la diferencia entre dos valores consecutivos del rango.\n",
    "\n",
    "Si el valor inicial es omitido, se supone que es 0. Si el incremento es omitido, se supone que es 1.\n",
    "\n",
    "Con algunos ejemplos quedará más claro:\n",
    "\n",
    "| sentencia          | resultado                       |\n",
    "|--------------------|---------------------------------|\n",
    "| `range(9)`         | 0, 1, 2, 3, 4, 5, 6, 7, 8       |\n",
    "| `range(3, 13)`     | 3, 4, 5, 6, 7, 8, 9, 10, 11, 12 |\n",
    "| `range(3, 13, 2)`  | 3, 5, 7, 9, 11                  |\n",
    "| `range(11, 4)`     | ningún valor                    |\n",
    "| `range(11, 4, -1)` | 11, 10, 9, 8, 7, 6, 5           |"
   ]
  },
  {
   "cell_type": "code",
   "execution_count": 2,
   "metadata": {
    "tags": []
   },
   "outputs": [
    {
     "name": "stdout",
     "output_type": "stream",
     "text": [
      "[0, 1, 2, 3, 4, 5, 6, 7, 8]\n",
      "[3, 4, 5, 6, 7, 8, 9, 10, 11, 12]\n",
      "[3, 5, 7, 9, 11]\n",
      "[]\n",
      "[11, 10, 9, 8, 7, 6, 5]\n"
     ]
    }
   ],
   "source": [
    "# Imprimir los valores de los objetos range\n",
    "\n",
    "print(list(range(9)))            \n",
    "print(list(range(3, 13)))        \n",
    "print(list(range(3, 13, 2)))     \n",
    "print(list(range(11, 4)))        \n",
    "print(list(range(11, 4, -1)))  "
   ]
  },
  {
   "cell_type": "markdown",
   "metadata": {},
   "source": [
    "Usando un incremento negativo, es posible hacer ciclos que van hacia atrás:"
   ]
  },
  {
   "cell_type": "code",
   "execution_count": 13,
   "metadata": {
    "tags": []
   },
   "outputs": [
    {
     "name": "stdout",
     "output_type": "stream",
     "text": [
      "10\n",
      "9\n",
      "8\n",
      "7\n",
      "6\n",
      "5\n",
      "4\n",
      "3\n",
      "2\n",
      "1\n",
      "¡Feliz Año Nuevo!\n"
     ]
    }
   ],
   "source": [
    "# Cuenta regresiva para el Año Nuevo\n",
    "for i in range(10, 0, -1):\n",
    "    print(i)\n",
    "\n",
    "print('¡Feliz Año Nuevo!')"
   ]
  },
  {
   "cell_type": "markdown",
   "metadata": {},
   "source": [
    "## Salir o continuar un ciclo\n"
   ]
  },
  {
   "cell_type": "markdown",
   "metadata": {},
   "source": [
    "###  Break\n",
    "Además de las condiciones de término propias de los ciclos `while` y `for`, siempre es posible salir de un ciclo en medio de una iteración usando la sentencia `break`. Lo lógico es que sea usada dentro de un `if`, para evitar que el ciclo termine prematuramente en la primera iteración:\n",
    "\n",
    "<img src=\"https://raw.githubusercontent.com/fralfaro/python_intro/main/docs/images/break.png\"  align=\"center\" width=\"300\"/>\n"
   ]
  },
  {
   "cell_type": "markdown",
   "metadata": {},
   "source": [
    "Veamos el siguiente ejemplo:"
   ]
  },
  {
   "cell_type": "code",
   "execution_count": 14,
   "metadata": {},
   "outputs": [
    {
     "name": "stdout",
     "output_type": "stream",
     "text": [
      "1\n",
      "2\n",
      "3\n",
      "4\n",
      "5\n",
      "6\n",
      "--Fin--\n"
     ]
    }
   ],
   "source": [
    "for n in range(1, 21):\n",
    "    if n % 7 == 0:\n",
    "        break  # Se rompe el ciclo en esta iteración\n",
    "    print(n)\n",
    "\n",
    "print(\"--Fin--\")"
   ]
  },
  {
   "cell_type": "markdown",
   "metadata": {},
   "source": [
    "Este código es un bucle `for` en Python que itera a través de los números del 1 al 20. El objetivo del bucle es imprimir los números en cada iteración hasta que se encuentre un número divisible por 7. Aquí está lo que hace paso a paso:\n",
    "\n",
    "1. Inicia un bucle `for` que utiliza la variable `n` para recorrer los números del 1 al 20 (inclusive) con la función `range(1, 21)`.\n",
    "\n",
    "2. En cada iteración del bucle, se verifica si el número `n` es divisible por 7 utilizando la expresión `n % 7 == 0`. Esto se hace con el operador de módulo (`%`) para comprobar si el residuo de la división de `n` por 7 es igual a 0. Si esta condición es verdadera, significa que `n` es divisible por 7.\n",
    "\n",
    "3. Si se encuentra un número que es divisible por 7, se utiliza la instrucción `break` para salir inmediatamente del bucle `for`, lo que significa que el bucle se interrumpe en esa iteración.\n",
    "\n",
    "4. Si el bucle no se rompe con `break`, se imprime el número `n` en esa iteración.\n",
    "\n",
    "5. Después de que se complete el bucle `for`, se imprime \"--Fin--\" una vez para marcar el final del programa.\n",
    "\n"
   ]
  },
  {
   "cell_type": "markdown",
   "metadata": {},
   "source": [
    "### Continue\n",
    "\n",
    "La sentencia `continue` se usa para saltar a la iteración siguiente sin llegar al final de la que está en curso.\n",
    "\n",
    "<img src=\"https://raw.githubusercontent.com/fralfaro/python_intro/main/docs/images/continue.png\"  align=\"center\" width=\"300\"  />\n"
   ]
  },
  {
   "cell_type": "markdown",
   "metadata": {},
   "source": [
    "Veamos el siguiente ejemplo:"
   ]
  },
  {
   "cell_type": "code",
   "execution_count": 15,
   "metadata": {},
   "outputs": [
    {
     "name": "stdout",
     "output_type": "stream",
     "text": [
      "1\n",
      "2\n",
      "3\n",
      "4\n",
      "5\n",
      "6\n",
      "8\n",
      "9\n",
      "10\n",
      "11\n",
      "12\n",
      "13\n",
      "15\n",
      "16\n",
      "17\n",
      "18\n",
      "19\n",
      "20\n",
      "--Fin--\n"
     ]
    }
   ],
   "source": [
    "for n in range(1, 21):\n",
    "    if n % 7 == 0:\n",
    "        continue # continua el ciclo ignorando esta iteracion\n",
    "    print(n)\n",
    "\n",
    "print(\"--Fin--\")"
   ]
  },
  {
   "cell_type": "markdown",
   "metadata": {},
   "source": [
    "El código que proporcionaste es un bucle `for` en Python que itera a través de los números del 1 al 20 utilizando la función `range(1, 21)`. El bucle imprime todos los números excepto aquellos que son divisibles por 7. A continuación, se explica paso a paso lo que hace el código:\n",
    "\n",
    "1. El bucle `for` se inicia y la variable `n` toma valores del 1 al 20 en cada iteración.\n",
    "\n",
    "2. En cada iteración del bucle, se verifica si el número `n` es divisible por 7 utilizando la expresión `n % 7 == 0`. El operador de módulo (`%`) se utiliza para calcular el residuo de la división de `n` por 7. Si el residuo es igual a 0, significa que `n` es divisible por 7.\n",
    "\n",
    "3. Si la condición `n % 7 == 0` es verdadera, se ejecuta la instrucción `continue`, que salta el resto del código en esa iteración y pasa a la siguiente iteración del bucle. Esto significa que cuando se encuentra un número divisible por 7, no se imprime y el bucle continúa con el siguiente número.\n",
    "\n",
    "4. Si la condición `n % 7 == 0` no es verdadera (es decir, si `n` no es divisible por 7), se ejecuta la instrucción `print(n)`, que imprime el valor de `n` en la consola.\n",
    "\n",
    "5. Después de que se complete el bucle `for`, se imprime \"--Fin--\" una vez para marcar el final del programa."
   ]
  },
  {
   "cell_type": "markdown",
   "metadata": {},
   "source": [
    "## Ejercicios\n",
    "\n",
    "### if-elif-else"
   ]
  },
  {
   "cell_type": "markdown",
   "metadata": {},
   "source": [
    "**Ejercicio 01**\n",
    "\n",
    "Escriba un programa que determine si el número entero ingresado por el usuario es par o no.\n",
    "\n",
    "\n",
    "```terminal\n",
    "Ingrese un número: 4\n",
    "Su número es par\n",
    "```\n",
    "\n",
    "```terminal\n",
    "Ingrese un número: 3\n",
    "Su número es impar\n",
    "```"
   ]
  },
  {
   "cell_type": "code",
   "execution_count": 16,
   "metadata": {},
   "outputs": [],
   "source": [
    "# respuesta"
   ]
  },
  {
   "cell_type": "markdown",
   "metadata": {},
   "source": [
    "**Ejercicio 02**\n",
    "\n",
    "Escriba un programa que pida dos números enteros y que calcule la división, indicando si la división es exacta o no.\n",
    "\n",
    "\n",
    "\n",
    "```terminal\n",
    "Dividendo: 14\n",
    "Divisor: 5\n",
    "\n",
    "La división no es exacta.\n",
    "Cociente: 2\n",
    "Resto: 4\n",
    "```"
   ]
  },
  {
   "cell_type": "markdown",
   "metadata": {},
   "source": [
    "```python\n",
    "Dividendo: 100\n",
    "Divisor: 10\n",
    "\n",
    "La división es exacta.\n",
    "Cociente: 10\n",
    "Resto: 0\n",
    "```"
   ]
  },
  {
   "cell_type": "code",
   "execution_count": 17,
   "metadata": {},
   "outputs": [],
   "source": [
    "# respuesta"
   ]
  },
  {
   "cell_type": "markdown",
   "metadata": {},
   "source": [
    "**Ejercicio 03**\n",
    "\n",
    "Escriba un programa que pida al usuario dos palabras, y que indique cuál de ellas es la más larga y por cuántas letras lo es.\n",
    "\n",
    "```terminal\n",
    "Palabra 1: edificio\n",
    "Palabra 2: tren\n",
    "La palabra edificio tiene 4 letras mas que tren.\n",
    "```\n",
    "\n",
    "```terminal\n",
    "Palabra 1: sol\n",
    "Palabra 2: paralelepipedo\n",
    "La palabra paralelepipedo tiene 11 letras mas que sol\n",
    "```\n",
    "\n",
    "```terminal\n",
    "Palabra 1: plancha\n",
    "Palabra 2: lapices\n",
    "Las dos palabras tienen el mismo largo\n",
    "```"
   ]
  },
  {
   "cell_type": "code",
   "execution_count": 18,
   "metadata": {},
   "outputs": [],
   "source": [
    "# respuesta"
   ]
  },
  {
   "cell_type": "markdown",
   "metadata": {},
   "source": [
    "**Ejercicio 04**\n",
    "\n",
    "Un año es [bisiesto](https://es.wikipedia.org/wiki/A%C3%B1o_bisiesto) si es divisible por $4$, excepto si es divisible por $100$ y no por $400$. \n",
    " Escriba un programa que reciba un año como entrada e indique `True` si un año es bisiesto o `False` si no lo es.\n",
    "\n",
    "```terminal\n",
    "Ingrese un anno: 1988\n",
    "1988 es bisiesto\n",
    "```\n",
    "\n",
    "\n",
    "\n",
    "```terminal\n",
    "Ingrese un anno: 2011\n",
    "2011 no es bisiesto\n",
    "```\n",
    "\n",
    "\n",
    "```terminal\n",
    "Ingrese un anno: 1700\n",
    "1700 no es bisiesto\n",
    "```\n",
    "\n",
    "\n",
    "```terminal\n",
    "Ingrese un anno: 2400\n",
    "2400 es bisiesto\n",
    "```"
   ]
  },
  {
   "cell_type": "code",
   "execution_count": 19,
   "metadata": {},
   "outputs": [],
   "source": [
    "# respuesta"
   ]
  },
  {
   "cell_type": "markdown",
   "metadata": {},
   "source": [
    "**Ejercicio 05**\n",
    "\n",
    "Los tres lados $a, b$ y $c$ de un triángulo deben satisfacer la [desigualdad triangular](https://es.wikipedia.org/wiki/Desigualdad_triangular): cada uno de los lados no puede ser más largo que la suma de los otros dos.\n",
    "\n",
    "Escriba un programa que reciba como entrada los tres lados de un triángulo, e indique:\n",
    "\n",
    "* si acaso el triángulo es inválido\n",
    "* si el triángulo es válido, qué [tipo de triángulo](https://www.universoformulas.com/matematicas/geometria/tipos-triangulos/) es.\n",
    "\n",
    "```terminal\n",
    "Ingrese a: 3.9\n",
    "Ingrese b: 6.0\n",
    "Ingrese c: 1.2\n",
    "No es un triangulo valido.\n",
    "```\n",
    "\n",
    "```terminal\n",
    "Ingrese a: 1.9\n",
    "Ingrese b: 2\n",
    "Ingrese c: 2\n",
    "El triangulo es isoceles.\n",
    "```\n",
    "\n",
    "```terminal\n",
    "Ingrese a: 3.0\n",
    "Ingrese b: 5.0\n",
    "Ingrese c: 4.0\n",
    "El triangulo es escaleno.\n",
    "```\n",
    "\n",
    "```terminal\n",
    "Ingrese a: 2\n",
    "Ingrese b: 2\n",
    "Ingrese c: 2\n",
    "El triangulo es equilatero.\n",
    "```"
   ]
  },
  {
   "cell_type": "code",
   "execution_count": 20,
   "metadata": {},
   "outputs": [],
   "source": [
    "# respuesta"
   ]
  },
  {
   "cell_type": "markdown",
   "metadata": {},
   "source": [
    "**Ejercicio 06**\n",
    "\n",
    "El riesgo de que una persona sufra enfermedades coronarias depende de su edad y su índice de masa corporal:\n",
    "\n",
    "\n",
    "|            | edad < 45 | edad ≥ 45 |\n",
    "|------------|-----------|-----------|\n",
    "| IMC < 22.0 | bajo      | medio     |\n",
    "| IMC ≥ 22.0 | medio     | alto      |\n",
    "\n",
    "El índice de masa corporal es el cuociente entre el peso del individuo en kilos y el cuadrado de su estatura en metros ($IMC = \\dfrac{peso}{estatura^2} $).\n",
    "\n",
    "Escriba un programa que reciba como entrada la estatura, el peso y la edad de una persona, y le entregue su condición de riesgo.\n",
    "\n"
   ]
  },
  {
   "cell_type": "code",
   "execution_count": 21,
   "metadata": {},
   "outputs": [],
   "source": [
    "# respuesta"
   ]
  },
  {
   "cell_type": "markdown",
   "metadata": {},
   "source": [
    "**Ejercicio 07**\n",
    "\n",
    "Un número natural es un [palíndromo](https://es.wikipedia.org/wiki/Pal%C3%ADndromo) si se lee igual de izquierda a derecha y de derecha a izquierda.\n",
    "\n",
    "Por ejemplo, $14941$ es un palíndromo, mientras que $81924$ no lo es.\n",
    "\n",
    "Escriba un programa que indique si el número ingresado es o no palíndromo:\n",
    "\n",
    "```terminal\n",
    "Ingrese un numero: 14941\n",
    "14941 es palindromo\n",
    "```\n",
    "\n",
    "```terminal\n",
    "Ingrese un numero: 81924\n",
    "81924 no es palindromo\n",
    "\n",
    "```\n",
    "\n",
    "> **Hint**: Para encontrar el inverso de un string en Python, puedes utilizar la técnica de `texto[::-1]`. "
   ]
  },
  {
   "cell_type": "code",
   "execution_count": null,
   "metadata": {},
   "outputs": [],
   "source": [
    "# respuesta"
   ]
  },
  {
   "cell_type": "markdown",
   "metadata": {},
   "source": [
    "### While"
   ]
  },
  {
   "cell_type": "markdown",
   "metadata": {},
   "source": [
    "**Ejercicio 01**\n",
    "\n",
    "Solicita al usuario un número y muestra un contador regresivo desde ese número hasta 1.\n",
    "\n",
    "```\n",
    "Ingrese un número: 5\n",
    "Contador regresivo desde 5 hasta 1:\n",
    "5\n",
    "4\n",
    "3\n",
    "2\n",
    "1\n",
    "```"
   ]
  },
  {
   "cell_type": "code",
   "execution_count": 22,
   "metadata": {},
   "outputs": [],
   "source": [
    "# respuesta"
   ]
  },
  {
   "cell_type": "markdown",
   "metadata": {},
   "source": [
    "**Ejercicio 02**\n",
    "\n",
    "Solicita al usuario un número y calcula la suma de todos los números pares desde 2 hasta ese número.\n",
    "\n",
    "```\n",
    "Ingrese un número: 10\n",
    "La suma de números pares desde 2 hasta 10 es 30\n",
    "```"
   ]
  },
  {
   "cell_type": "code",
   "execution_count": 23,
   "metadata": {},
   "outputs": [],
   "source": [
    "# respuesta"
   ]
  },
  {
   "cell_type": "markdown",
   "metadata": {},
   "source": [
    "**Ejercicio 03**\n",
    "\n",
    "Solicita al usuario un número entero y suma todos sus dígitos.\n",
    "\n",
    "```\n",
    "Ingrese un número entero: 12345\n",
    "La suma de los dígitos es 15\n",
    "```"
   ]
  },
  {
   "cell_type": "code",
   "execution_count": 23,
   "metadata": {},
   "outputs": [],
   "source": [
    "# respuesta"
   ]
  },
  {
   "cell_type": "markdown",
   "metadata": {},
   "source": [
    "**Ejercicio 04**\n",
    "\n",
    "Pide al usuario un número y cuenta cuántos de sus dígitos son pares.\n",
    "\n",
    "```\n",
    "Ingrese un número: 123456\n",
    "El número tiene 3 dígitos pares.\n",
    "```"
   ]
  },
  {
   "cell_type": "code",
   "execution_count": 23,
   "metadata": {},
   "outputs": [],
   "source": [
    "# respuesta"
   ]
  },
  {
   "cell_type": "markdown",
   "metadata": {},
   "source": [
    "**Ejercicio 05**\n",
    "\n",
    "Solicita al usuario un número y cuenta cuántos números en el rango de 1 a ese número son divisibles por 7.\n",
    "\n",
    "```\n",
    "Ingrese un número: 20\n",
    "Hay 2 números divisibles por 7 en el rango de 1 a 20.\n",
    "```"
   ]
  },
  {
   "cell_type": "code",
   "execution_count": 3,
   "metadata": {
    "tags": []
   },
   "outputs": [],
   "source": [
    "# respuesta"
   ]
  },
  {
   "cell_type": "markdown",
   "metadata": {},
   "source": [
    "**Ejercicio 06**\n",
    "\n",
    "Solicita al usuario un número y cuenta cuántos de sus dígitos son impares.\n",
    "\n",
    "```\n",
    "Ingrese un número: 7654321\n",
    "El número tiene 4 dígitos impares.\n",
    "```"
   ]
  },
  {
   "cell_type": "code",
   "execution_count": null,
   "metadata": {},
   "outputs": [],
   "source": [
    "# respuesta"
   ]
  },
  {
   "cell_type": "markdown",
   "metadata": {
    "tags": []
   },
   "source": [
    "### Range"
   ]
  },
  {
   "cell_type": "markdown",
   "metadata": {},
   "source": [
    "**Ejercicio 01**\n",
    "\n",
    "Calcula la suma de todos los números pares desde 1 hasta un número dado ($n$).\n",
    "\n",
    "```\n",
    "Ingrese un número: 10\n",
    "La suma de números pares desde 1 hasta 10 es 30\n",
    "```"
   ]
  },
  {
   "cell_type": "code",
   "execution_count": null,
   "metadata": {},
   "outputs": [],
   "source": [
    "# respuesta"
   ]
  },
  {
   "cell_type": "markdown",
   "metadata": {},
   "source": [
    "**Ejercicio 02**\n",
    "\n",
    "Muestra un contador regresivo desde un número ($n$) dado hasta 1.\n",
    "\n",
    "```\n",
    "Ingrese un número: 5\n",
    "Contador regresivo desde 5 hasta 1:\n",
    "5\n",
    "4\n",
    "3\n",
    "2\n",
    "1\n",
    "```"
   ]
  },
  {
   "cell_type": "code",
   "execution_count": null,
   "metadata": {},
   "outputs": [],
   "source": [
    "# respuesta"
   ]
  },
  {
   "cell_type": "markdown",
   "metadata": {},
   "source": [
    "**Ejercicio 03**\n",
    "\n",
    "Muestra la tabla de multiplicar de un número dado.\n",
    "\n",
    "```\n",
    "Ingrese un número: 7\n",
    "Tabla de multiplicar del 7:\n",
    "7 x 1 = 7\n",
    "7 x 2 = 14\n",
    "7 x 3 = 21\n",
    "7 x 4 = 28\n",
    "7 x 5 = 35\n",
    "7 x 6 = 42\n",
    "7 x 7 = 49\n",
    "7 x 8 = 56\n",
    "7 x 9 = 63\n",
    "7 x 10 = 70\n",
    "```"
   ]
  },
  {
   "cell_type": "code",
   "execution_count": null,
   "metadata": {},
   "outputs": [],
   "source": [
    "# respuesta"
   ]
  },
  {
   "cell_type": "markdown",
   "metadata": {},
   "source": [
    "**Ejercicio 04**\n",
    "\n",
    "Calcula la suma de los cuadrados de los números en un rango dado.\n",
    "\n"
   ]
  },
  {
   "cell_type": "code",
   "execution_count": null,
   "metadata": {},
   "outputs": [],
   "source": [
    "# respuesta"
   ]
  },
  {
   "cell_type": "markdown",
   "metadata": {},
   "source": [
    "**Ejercicio 05**\n",
    "\n",
    "Calcula la suma de los cuadrados de los números en un rango dado.\n",
    "\n",
    "```\n",
    "Ingrese un número: 123456\n",
    "El número tiene 3 dígitos pares.\n",
    "```\n"
   ]
  },
  {
   "cell_type": "code",
   "execution_count": null,
   "metadata": {},
   "outputs": [],
   "source": [
    "# respuesta"
   ]
  },
  {
   "cell_type": "markdown",
   "metadata": {},
   "source": [
    "### Break & Continue"
   ]
  },
  {
   "cell_type": "markdown",
   "metadata": {},
   "source": [
    "**Ejercicio 01**\n",
    "\n",
    "Solicita al usuario un número y cuenta cuántos de sus dígitos son pares. Utiliza la declaración `continue` para omitir los dígitos impares.\n",
    "\n",
    "```\n",
    "Ingrese un número: 123456\n",
    "El número tiene 3 dígitos pares.\n",
    "```"
   ]
  },
  {
   "cell_type": "code",
   "execution_count": null,
   "metadata": {},
   "outputs": [],
   "source": [
    "# respuesta"
   ]
  },
  {
   "cell_type": "markdown",
   "metadata": {},
   "source": [
    "**Ejercicio 02**\n",
    "\n",
    "Calcula la suma de los números en un rango dado (por ejemplo, de 1 a 10), pero omite los múltiplos de 3 utilizando la declaración `continue`.\n",
    "\n",
    "```\n",
    "Ingrese un número: 10\n",
    "La suma de los números no divisibles por 3 en el rango de 1 a 10 es 38\n",
    "```"
   ]
  },
  {
   "cell_type": "code",
   "execution_count": null,
   "metadata": {},
   "outputs": [],
   "source": [
    "# respuesta"
   ]
  },
  {
   "cell_type": "markdown",
   "metadata": {},
   "source": [
    "**Ejercicio 03**\n",
    "\n",
    "Solicita al usuario un número y suma los dígitos pares, pero utiliza la declaración `break` para salir del ciclo cuando se encuentra un dígito impar.\n",
    "\n",
    "```\n",
    "Ingrese un número: 246813\n",
    "La suma de los dígitos pares es 12\n",
    "```"
   ]
  },
  {
   "cell_type": "code",
   "execution_count": null,
   "metadata": {},
   "outputs": [],
   "source": [
    "# respuesta"
   ]
  },
  {
   "cell_type": "markdown",
   "metadata": {},
   "source": [
    "**Ejercicio 04**\n",
    "\n",
    "Solicita al usuario un número y cuenta cuántos de sus dígitos son impares, pero utiliza la declaración `break` para salir del ciclo cuando se encuentra un dígito par.\n",
    "\n",
    "```\n",
    "Ingrese un número: 374268\n",
    "El número tiene 3 dígitos impares.\n",
    "```"
   ]
  },
  {
   "cell_type": "code",
   "execution_count": null,
   "metadata": {},
   "outputs": [],
   "source": [
    "# respuesta"
   ]
  }
 ],
 "metadata": {
  "kernelspec": {
   "display_name": "Python 3 (ipykernel)",
   "language": "python",
   "name": "python3"
  },
  "language_info": {
   "codemirror_mode": {
    "name": "ipython",
    "version": 3
   },
   "file_extension": ".py",
   "mimetype": "text/x-python",
   "name": "python",
   "nbconvert_exporter": "python",
   "pygments_lexer": "ipython3",
   "version": "3.8.10"
  }
 },
 "nbformat": 4,
 "nbformat_minor": 4
}
