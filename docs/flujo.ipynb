{
 "cells": [
  {
   "cell_type": "markdown",
   "metadata": {},
   "source": [
    "# Control de Flujo\n",
    "\n",
    "EL control de flujo o sentencias de control permiten modificar el flujo del programa introduciendo **ciclos** y **condicionales**.\n",
    "\n",
    "* Un **condicional** es un conjunto de sentencias que pueden o no ejecutarse, dependiendo del resultado de una condición.\n",
    "\n",
    "* Un **ciclo** es un conjunto de sentencias que son ejecutadas varias veces, hasta que una condición de término es satisfecha.\n",
    "\n",
    "Tanto los condicionales como los ciclos contienen a otras sentencias. Para indicar esta relación se utiliza la **indentación**: las sentencias contenidas no se escriben en la misma columna que la sentencia de control, sino un poco más a la derecha."
   ]
  },
  {
   "cell_type": "code",
   "execution_count": 1,
   "metadata": {},
   "outputs": [
    {
     "name": "stdout",
     "output_type": "stream",
     "text": [
      "10 5\n"
     ]
    }
   ],
   "source": [
    "# definir variables\n",
    "n = 5\n",
    "m = 10\n",
    "\n",
    "# inicializar flujo\n",
    "if m < n:\n",
    "    t = m\n",
    "    m = n\n",
    "    n = t\n",
    "\n",
    "# sentencia despues del flujo\n",
    "print(m, n)"
   ]
  },
  {
   "cell_type": "markdown",
   "metadata": {},
   "source": [
    "## Condicional if-elif-else \n",
    "\n",
    "La sentencia `if-elif-else` depende de dos o más condiciones, que son evaluadas en orden. La primera que es verdadera determina qué instrucciones serán ejecutadas:\n",
    "\n",
    "<img src=\"./images/if_else.png\"  align=\"center\" width=\"300\" height=\"500\" />\n"
   ]
  },
  {
   "cell_type": "markdown",
   "metadata": {},
   "source": [
    "La sintaxis es la siguiente:\n",
    "\n",
    "``` python\n",
    "if condición1:\n",
    "    qué hacer si condición1 es verdadera\n",
    "elif condición2:\n",
    "    qué hacer si condición2 es verdadera\n",
    "...\n",
    "else:\n",
    "    qué hacer cuando ninguna de las\n",
    "    condiciones anteriores es verdadera\n",
    "```"
   ]
  },
  {
   "cell_type": "code",
   "execution_count": 2,
   "metadata": {},
   "outputs": [
    {
     "name": "stdout",
     "output_type": "stream",
     "text": [
      "numero negativo\n"
     ]
    }
   ],
   "source": [
    "num = -1\n",
    "\n",
    "if num > 0:\n",
    "    print(\"numero positivo\")\n",
    "elif num == 0:\n",
    "    print(\"cero\")\n",
    "else:\n",
    "    print(\"numero negativo\")\n",
    "    \n",
    "# Output: numero negativo"
   ]
  },
  {
   "cell_type": "markdown",
   "metadata": {},
   "source": [
    "Puede haber cero o más partes `elif`, y la parte `else` es opcional. La mayoría de los lenguajes de programación usan `{}` para especificar el bloque de código. Python usa sangría.\n",
    "\n",
    "Un bloque de código comienza con sangría y termina con la primera línea sin sangría. La cantidad de sangría depende de usted, pero debe ser consistente a lo largo de ese bloque. En general, se utilizan cuatro espacios en blanco para la sangría y se prefieren a las pestañas.\n",
    "\n",
    "Probemos con otro ejemplo:"
   ]
  },
  {
   "cell_type": "code",
   "execution_count": null,
   "metadata": {},
   "outputs": [],
   "source": [
    "if False:\n",
    "    print(\"Hola\")\n",
    "    print(\"mundo\")\n",
    "print(\"!!!\")\n",
    "\n",
    "# Output: !!!"
   ]
  },
  {
   "cell_type": "markdown",
   "metadata": {},
   "source": [
    "## While Loop\n",
    "\n",
    "El ciclo while («mientras») ejecuta una secuencia de instrucciones mientras una condición sea verdadera:\n",
    "\n",
    "\n",
    "Cada una de las veces que el cuerpo del ciclo es ejecutado se llama iteración.\n",
    "\n",
    "La condición es evaluada antes de cada iteración. Si la condición es inicialmente falsa, el ciclo no se ejecutará ninguna vez.\n",
    "\n",
    "<img src=\"./images/while.png\"  align=\"center\" width=\"300\" height=\"500\" />\n",
    "\n",
    "\n",
    "La sintaxis es la siguiente:\n",
    "\n",
    "```python\n",
    "while condición:\n",
    "    sentencias\n",
    "```"
   ]
  },
  {
   "cell_type": "code",
   "execution_count": 1,
   "metadata": {},
   "outputs": [
    {
     "name": "stdout",
     "output_type": "stream",
     "text": [
      "La suma es 5050\n"
     ]
    }
   ],
   "source": [
    "# definir limite\n",
    "n = 100\n",
    "\n",
    "# inicializar contador\n",
    "suma = 0\n",
    "i = 1\n",
    "\n",
    "while i <= n:\n",
    "    suma = suma + i\n",
    "    i = i+1    # actualizar contador\n",
    "\n",
    "print(f\"La suma es {suma}\")\n",
    "\n",
    "# Output: La suma es"
   ]
  },
  {
   "cell_type": "markdown",
   "metadata": {},
   "source": [
    "##  CIclo For\n",
    "\n",
    "Los ciclos for permiten ejecutar una o varias instrucciones de forma iterativa, una vez por cada elemento en la colección.\n",
    "\n",
    "Las colecciones pueden ser de varios tipos, el `for` puede recibir una colección predefinida o directamente de la salida de una función."
   ]
  },
  {
   "cell_type": "code",
   "execution_count": 2,
   "metadata": {},
   "outputs": [
    {
     "name": "stdout",
     "output_type": "stream",
     "text": [
      "La suma es 28\n"
     ]
    }
   ],
   "source": [
    "numbers = [6, 5, 3, 8, 4, 2] # lista de elementos\n",
    "\n",
    "suma = 0\n",
    "\n",
    "# iterar sobre la lista\n",
    "for val in numbers:\n",
    "    suma = suma+val\n",
    "\n",
    "print(f\"La suma es {suma}\") # Output: La suma es 28"
   ]
  },
  {
   "cell_type": "markdown",
   "metadata": {},
   "source": [
    "## Salir o continuar un ciclo\n"
   ]
  },
  {
   "cell_type": "markdown",
   "metadata": {},
   "source": [
    "###  Break\n",
    "Además de las condiciones de término propias de los ciclos `while` y `for`, siempre es posible salir de un ciclo en medio de una iteración usando la sentencia `break`. Lo lógico es que sea usada dentro de un `if`, para evitar que el ciclo termine prematuramente en la primera iteración:\n",
    "\n",
    "<img src=\"./images/break.png\"  align=\"center\" width=\"300\" height=\"500\" />\n"
   ]
  },
  {
   "cell_type": "code",
   "execution_count": 6,
   "metadata": {},
   "outputs": [
    {
     "name": "stdout",
     "output_type": "stream",
     "text": [
      "1\n",
      "2\n",
      "Fin\n"
     ]
    }
   ],
   "source": [
    "numbers = [1,2,3,4,5,6,7,8,9]\n",
    "for n in numbers:\n",
    "    if n%3==0:\n",
    "        break\n",
    "    print(n)\n",
    "\n",
    "print(\"Fin\")"
   ]
  },
  {
   "cell_type": "markdown",
   "metadata": {},
   "source": [
    "### Continue\n",
    "\n",
    "La sentencia `continue` se usa para saltar a la iteración siguiente sin llegar al final de la que está en curso.\n",
    "\n",
    "<img src=\"./images/continue.png\"  align=\"center\" width=\"300\" height=\"500\" />\n"
   ]
  },
  {
   "cell_type": "code",
   "execution_count": 7,
   "metadata": {},
   "outputs": [
    {
     "name": "stdout",
     "output_type": "stream",
     "text": [
      "1\n",
      "2\n",
      "4\n",
      "5\n",
      "7\n",
      "8\n",
      "Fin\n"
     ]
    }
   ],
   "source": [
    "numbers = [1,2,3,4,5,6,7,8,9]\n",
    "for n in numbers:\n",
    "    if n%3==0:\n",
    "        continue\n",
    "    print(n)\n",
    "\n",
    "print(\"Fin\")"
   ]
  },
  {
   "cell_type": "markdown",
   "metadata": {},
   "source": [
    "**Observación:** \n",
    "\n",
    "Supongamos que tiene un bucle o una función que aún no está implementada, pero desea implementarla en el futuro. No pueden tener un cuerpo vacío. El intérprete se quejaría. Por lo tanto, utiliza la instrucción `pass` para construir un cuerpo que no hace nada."
   ]
  },
  {
   "cell_type": "code",
   "execution_count": 9,
   "metadata": {},
   "outputs": [],
   "source": [
    "sequence = {'p', 'a', 's', 's'}\n",
    "for val in sequence:\n",
    "    pass"
   ]
  },
  {
   "cell_type": "markdown",
   "metadata": {},
   "source": [
    "La diferencia entre `continue` y `pass` es que `continue` termina la iteración actual, pero continua con el ciclo, volviendo al inicio del bucle en la siguiente iteración. En cambio `pass` simplemente no hace nada y pasa a la siguiente instrucción."
   ]
  },
  {
   "cell_type": "markdown",
   "metadata": {},
   "source": [
    "## Ejercicios"
   ]
  },
  {
   "cell_type": "markdown",
   "metadata": {},
   "source": [
    "### Ejercicio 01\n",
    "\n",
    "Escriba un programa que determine si el número entero ingresado por el usuario es par o no.\n",
    "\n",
    "\n",
    "```terminal\n",
    "Ingrese un número: 4\n",
    "Su número es par\n",
    "\n",
    "```\n",
    "\n",
    "```terminal\n",
    "Ingrese un número: 3\n",
    "Su número es impar\n",
    "\n",
    "```"
   ]
  },
  {
   "cell_type": "code",
   "execution_count": null,
   "metadata": {},
   "outputs": [],
   "source": []
  },
  {
   "cell_type": "markdown",
   "metadata": {},
   "source": [
    "### Ejercicio 02\n",
    "\n",
    "Escriba un programa que pida dos números enteros y que calcule la división, indicando si la división es exacta o no.\n",
    "\n",
    "\n",
    "\n",
    "```terminal\n",
    "Dividendo: 14\n",
    "Divisor: 5\n",
    "\n",
    "La división no es exacta.\n",
    "Cociente: 2\n",
    "Resto: 4\n",
    "\n",
    "```"
   ]
  },
  {
   "cell_type": "markdown",
   "metadata": {},
   "source": [
    "```python\n",
    "Dividendo: 100\n",
    "Divisor: 10\n",
    "\n",
    "La división es exacta.\n",
    "Cociente: 10\n",
    "Resto: 0\n",
    "\n",
    "```"
   ]
  },
  {
   "cell_type": "code",
   "execution_count": null,
   "metadata": {},
   "outputs": [],
   "source": []
  },
  {
   "cell_type": "markdown",
   "metadata": {},
   "source": [
    "### Ejercicio 03\n",
    "\n",
    "Escriba un programa que pida al usuario dos palabras, y que indique cuál de ellas es la más larga y por cuántas letras lo es.\n",
    "\n",
    "```terminal\n",
    "Palabra 1: edificio\n",
    "Palabra 2: tren\n",
    "La palabra edificio tiene 4 letras mas que tren.\n",
    "\n",
    "```\n",
    "\n",
    "```terminal\n",
    "Palabra 1: sol\n",
    "Palabra 2: paralelepipedo\n",
    "La palabra paralelepipedo tiene 11 letras mas que sol\n",
    "\n",
    "```\n",
    "\n",
    "```terminal\n",
    "Palabra 1: plancha\n",
    "Palabra 2: lapices\n",
    "Las dos palabras tienen el mismo largo\n",
    "\n",
    "```"
   ]
  },
  {
   "cell_type": "code",
   "execution_count": null,
   "metadata": {},
   "outputs": [],
   "source": []
  },
  {
   "cell_type": "markdown",
   "metadata": {},
   "source": [
    "### Ejercicio 04\n",
    "\n",
    "Cuando la Tierra completa una órbita alrededor del Sol, no han transcurrido exactamente 365 rotaciones sobre sí misma, sino un poco más. Más precisamente, la diferencia es de más o menos un cuarto de día.\n",
    "\n",
    "Para evitar que las estaciones se desfasen con el calendario, el calendario juliano introdujo la regla de introducir un día adicional en los años divisibles por 4 (llamados [bisiestos](https://es.wikipedia.org/wiki/A%C3%B1o_bisiesto)), para tomar en consideración los cuatro cuartos de día acumulados.\n",
    "\n",
    "Sin embargo, bajo esta regla sigue habiendo un desfase, que es de aproximadamente 3/400 de día.\n",
    "\n",
    "Para corregir este desfase, en el año 1582 el papa Gregorio XIII introdujo un nuevo calendario, en el que el último año de cada siglo dejaba de ser bisiesto, a no ser que fuera divisible por 400.\n",
    "\n",
    "Escriba un programa que indique si un año es bisiesto o no, teniendo en cuenta cuál era el calendario vigente en ese año:\n",
    "\n",
    "```terminal\n",
    "Ingrese un anno: 1988\n",
    "1988 es bisiesto\n",
    "\n",
    "```\n",
    "\n",
    "\n",
    "\n",
    "```terminal\n",
    "Ingrese un anno: 2011\n",
    "2011 no es bisiesto\n",
    "```\n",
    "\n",
    "\n",
    "```terminal\n",
    "Ingrese un anno: 1700\n",
    "1700 no es bisiesto\n",
    "```\n",
    "\n",
    "```terminal\n",
    "Ingrese un anno: 1500\n",
    "1500 es bisiesto\n",
    "\n",
    "```\n",
    "\n",
    "```terminal\n",
    "Ingrese un anno: 2400\n",
    "2400 es bisiesto\n",
    "\n",
    "```"
   ]
  },
  {
   "cell_type": "code",
   "execution_count": null,
   "metadata": {},
   "outputs": [],
   "source": []
  },
  {
   "cell_type": "markdown",
   "metadata": {},
   "source": [
    "### Ejercicio 05\n",
    "\n",
    "Los tres lados $a, b$ y $c$ de un triángulo deben satisfacer la [desigualdad triangular](https://es.wikipedia.org/wiki/Desigualdad_triangular): cada uno de los lados no puede ser más largo que la suma de los otros dos.\n",
    "\n",
    "Escriba un programa que reciba como entrada los tres lados de un triángulo, e indique:\n",
    "\n",
    "* si acaso el triángulo es inválido\n",
    "* si el triángulo es válido, qué [tipo de triángulo](https://www.universoformulas.com/matematicas/geometria/tipos-triangulos/) es.\n",
    "\n",
    "```terminal\n",
    "Ingrese a: 3.9\n",
    "Ingrese b: 6.0\n",
    "Ingrese c: 1.2\n",
    "No es un triangulo valido.\n",
    "\n",
    "```\n",
    "\n",
    "```terminal\n",
    "Ingrese a: 1.9\n",
    "Ingrese b: 2\n",
    "Ingrese c: 2\n",
    "El triangulo es isoceles.\n",
    "\n",
    "```\n",
    "\n",
    "```terminal\n",
    "Ingrese a: 3.0\n",
    "Ingrese b: 5.0\n",
    "Ingrese c: 4.0\n",
    "El triangulo es escaleno.\n",
    "\n",
    "```\n",
    "\n",
    "```terminal\n",
    "Ingrese a: 2\n",
    "Ingrese b: 2\n",
    "Ingrese c: 2\n",
    "El triangulo es equilatero.\n",
    "\n",
    "```"
   ]
  },
  {
   "cell_type": "code",
   "execution_count": null,
   "metadata": {},
   "outputs": [],
   "source": []
  },
  {
   "cell_type": "markdown",
   "metadata": {},
   "source": [
    "### Ejercicio 06\n",
    "\n",
    "El riesgo de que una persona sufra enfermedades coronarias depende de su edad y su índice de masa corporal:\n",
    "\n",
    "\n",
    "|            | edad < 45 | edad ≥ 45 |\n",
    "|------------|-----------|-----------|\n",
    "| IMC < 22.0 | bajo      | medio     |\n",
    "| IMC ≥ 22.0 | medio     | alto      |\n",
    "\n",
    "El índice de masa corporal es el cuociente entre el peso del individuo en kilos y el cuadrado de su estatura en metros ($IMC = \\dfrac{peso}{estatura^2} $).\n",
    "\n",
    "Escriba un programa que reciba como entrada la estatura, el peso y la edad de una persona, y le entregue su condición de riesgo.\n",
    "\n"
   ]
  },
  {
   "cell_type": "code",
   "execution_count": null,
   "metadata": {},
   "outputs": [],
   "source": []
  },
  {
   "cell_type": "markdown",
   "metadata": {},
   "source": [
    "### Ejercicio 07\n",
    "\n",
    "Escriba un programa que pida dos números enteros. El programa pedirá de nuevo el segundo número mientras no sea mayor que el primero. El programa terminará escribiendo los dos números.\n",
    "\n",
    "\n",
    "```terminal\n",
    "Escriba un número: 6\n",
    "Escriba un número mayor que 6: 6\n",
    "6 no es mayor que 6. Inténtelo de nuevo: 1\n",
    "1 no es mayor que 6. Inténtelo de nuevo: 8\n",
    "\n",
    "Los números que ha escrito son 6 y 8.\n",
    "\n",
    "```"
   ]
  },
  {
   "cell_type": "code",
   "execution_count": null,
   "metadata": {},
   "outputs": [],
   "source": []
  },
  {
   "cell_type": "markdown",
   "metadata": {},
   "source": [
    "### Ejercicio 08\n",
    "\n",
    "Escriba un programa que pida números mientras no se escriba un número negativo. El programa terminará escribiendo la suma de los números introducidos.\n",
    "\n",
    "\n",
    "\n",
    "```terminal\n",
    "Escriba un número: -4\n",
    "\n",
    "La suma de los números positivos introducidos es 0.\n",
    "\n",
    "```\n",
    "\n",
    "\n",
    "\n",
    "```terminal\n",
    "Escriba un número: 12\n",
    "Escriba otro número: 3\n",
    "Escriba otro número: 0\n",
    "Escriba otro número: 7\n",
    "Escriba otro número: -1\n",
    "\n",
    "La suma de los números positivos introducidos es 22.\n",
    "\n",
    "```"
   ]
  },
  {
   "cell_type": "code",
   "execution_count": null,
   "metadata": {},
   "outputs": [],
   "source": []
  }
 ],
 "metadata": {
  "kernelspec": {
   "display_name": "Python 3",
   "language": "python",
   "name": "python3"
  },
  "language_info": {
   "codemirror_mode": {
    "name": "ipython",
    "version": 3
   },
   "file_extension": ".py",
   "mimetype": "text/x-python",
   "name": "python",
   "nbconvert_exporter": "python",
   "pygments_lexer": "ipython3",
   "version": "3.8.5"
  }
 },
 "nbformat": 4,
 "nbformat_minor": 4
}
