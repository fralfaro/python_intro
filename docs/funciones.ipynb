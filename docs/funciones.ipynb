{
 "cells": [
  {
   "cell_type": "markdown",
   "metadata": {},
   "source": [
    "<a href=\"https://colab.research.google.com/github/fralfaro/python_intro/blob/main/docs/funciones.ipynb\" target=\"_parent\"><img src=\"https://colab.research.google.com/assets/colab-badge.svg\" alt=\"Open In Colab\"/></a>"
   ]
  },
  {
   "cell_type": "markdown",
   "metadata": {},
   "source": [
    "# Funciones y módulos\n",
    "\n",
    "## Funciones en python\n",
    "En programación, una **función** es una sección de un programa que calcula un valor de manera independiente al resto del programa.\n",
    "\n",
    "Una función tiene tres componentes importantes:\n",
    "\n",
    "* los **parámetros**, que son los valores que recibe la función como entrada;\n",
    "* el **código de la función**, que son las operaciones que hace la función; y\n",
    "* el **resultado** (o valor de retorno), que es el valor final que entrega la función.\n",
    "\n",
    "En esencia, una función es un mini programa. Sus tres componentes son análogos a la entrada, el proceso y la salida de un programa."
   ]
  },
  {
   "cell_type": "markdown",
   "metadata": {},
   "source": [
    "**Definición de funciones**\n",
    "\n",
    "Las funciones en Python son creadas mediante la sentencia `def`:\n",
    "\n",
    "```python\n",
    "def nombre(parametro_1,...,parametro_n):\n",
    "    \"\"\"\n",
    "    Descripcion de la funcion (opcional)\n",
    "    \"\"\"\n",
    "    # código de la función\n",
    "    resultado = operacion(parametro_1,...,parametro_n)\n",
    "    return resultado # output de la funcion\n",
    "    \n",
    "    \n",
    "```\n",
    "Los parámetros son variables en las que quedan almacenados los valores de entrada. La función contiene código igual al de cualquier programa. La diferencia es que, al terminar, debe entregar su resultado usando la sentencia `return`.\n",
    "\n",
    "Veamos algunos ejemplos:\n",
    "\n"
   ]
  },
  {
   "cell_type": "code",
   "execution_count": 1,
   "metadata": {},
   "outputs": [],
   "source": [
    "# ejemplo: funcion suma\n",
    "\n",
    "def suma(x,y):\n",
    "    \"\"\"\n",
    "    Sumar dos numeros\n",
    "    \"\"\"\n",
    "    \n",
    "    resultado = x+y\n",
    "    return resultado"
   ]
  },
  {
   "cell_type": "markdown",
   "metadata": {},
   "source": [
    "La función creada se llama `suma` y cumple el objetivo de sumar dos números. Para instancia la función, se ejecuta la siguiente sentencia:\n",
    "\n"
   ]
  },
  {
   "cell_type": "code",
   "execution_count": 2,
   "metadata": {},
   "outputs": [
    {
     "name": "stdout",
     "output_type": "stream",
     "text": [
      "El valor de la suma de 2 y 3 es 5 \n"
     ]
    }
   ],
   "source": [
    "n1=2\n",
    "n2=3\n",
    "valor_suma = suma(n1,n2)\n",
    "print(f\"El valor de la suma de {n1} y {n2} es {valor_suma} \")"
   ]
  },
  {
   "cell_type": "markdown",
   "metadata": {},
   "source": [
    "Por otro lado, dado que no se especifica el tipo de datos, podemos sumar dos `strings`"
   ]
  },
  {
   "cell_type": "code",
   "execution_count": 3,
   "metadata": {},
   "outputs": [
    {
     "name": "stdout",
     "output_type": "stream",
     "text": [
      "El valor de la suma de Hola y Mundo es Hola Mundo \n"
     ]
    }
   ],
   "source": [
    "n1=\"Hola \"\n",
    "n2=\"Mundo\"\n",
    "valor_suma = suma(n1,n2)\n",
    "print(f\"El valor de la suma de {n1}y {n2} es {valor_suma} \")"
   ]
  },
  {
   "cell_type": "markdown",
   "metadata": {},
   "source": [
    "Por lo que se debe tener cuidado tanto con el nombre de la función (se espera que pueda resumir la funcion en una o dos palabras) y el tipo de argumentos que queremos que reciba."
   ]
  },
  {
   "cell_type": "markdown",
   "metadata": {},
   "source": [
    "A continuación, se creará la función `factorial`, la cual entregará el [factorial](https://es.wikipedia.org/wiki/Factorial#:~:text=7%20Enlaces%20externos-,Definici%C3%B3n%20por%20producto%20e%20inducci%C3%B3n,menores%20o%20iguales%20que%20n.) de un número entero no negativo."
   ]
  },
  {
   "cell_type": "code",
   "execution_count": 4,
   "metadata": {},
   "outputs": [],
   "source": [
    "def factorial(n):\n",
    "    \"\"\"\n",
    "    factorial de un numero entero no negativo\n",
    "    \"\"\"\n",
    "    f = 1\n",
    "    for i in range(1, n + 1):\n",
    "        f *= i\n",
    "    return f"
   ]
  },
  {
   "cell_type": "markdown",
   "metadata": {},
   "source": [
    "En este ejemplo, el resultado que entrega una llamada a la función es el valor que tiene la variable `f` al llegar a la última línea de la función.\n",
    "\n",
    "Una vez creada, la función puede ser usada como cualquier otra, todas las veces que sea necesario:"
   ]
  },
  {
   "cell_type": "code",
   "execution_count": 5,
   "metadata": {},
   "outputs": [
    {
     "data": {
      "text/plain": [
       "1"
      ]
     },
     "execution_count": 5,
     "metadata": {},
     "output_type": "execute_result"
    }
   ],
   "source": [
    "factorial(0)"
   ]
  },
  {
   "cell_type": "code",
   "execution_count": 6,
   "metadata": {},
   "outputs": [
    {
     "data": {
      "text/plain": [
       "122"
      ]
     },
     "execution_count": 6,
     "metadata": {},
     "output_type": "execute_result"
    }
   ],
   "source": [
    "factorial(2) + factorial(5)"
   ]
  },
  {
   "cell_type": "markdown",
   "metadata": {},
   "source": [
    "Las variables que son creadas dentro de la función (incluyendo los parámetros y el resultado) se llaman **variables locales**, y sólo son visibles dentro de la función, no desde el resto del programa.\n",
    "\n",
    "Por otra parte, las variables creadas fuera de alguna función se llaman **variables globales**, y son visibles desde cualquier parte del programa. Sin embargo, su valor no puede ser modificado, ya que una asignación crearía una variable local del mismo nombre.\n",
    "\n",
    "\n"
   ]
  },
  {
   "cell_type": "code",
   "execution_count": 7,
   "metadata": {},
   "outputs": [],
   "source": [
    "# ejemplo variable global\n",
    "\n",
    "valor = 10 # variable global\n",
    "\n",
    "def funcion_01(x):\n",
    "    return valor*x"
   ]
  },
  {
   "cell_type": "code",
   "execution_count": 8,
   "metadata": {},
   "outputs": [
    {
     "data": {
      "text/plain": [
       "50"
      ]
     },
     "execution_count": 8,
     "metadata": {},
     "output_type": "execute_result"
    }
   ],
   "source": [
    "funcion_01(5)"
   ]
  },
  {
   "cell_type": "code",
   "execution_count": 9,
   "metadata": {},
   "outputs": [],
   "source": [
    "# ejemplo variable local\n",
    "\n",
    "def funcion_02(x,valor):\n",
    "    \n",
    "    resultado = valor*x\n",
    "    \n",
    "    return resultado"
   ]
  },
  {
   "cell_type": "code",
   "execution_count": 10,
   "metadata": {},
   "outputs": [
    {
     "data": {
      "text/plain": [
       "10"
      ]
     },
     "execution_count": 10,
     "metadata": {},
     "output_type": "execute_result"
    }
   ],
   "source": [
    "funcion_02(5,2)"
   ]
  },
  {
   "cell_type": "markdown",
   "metadata": {},
   "source": [
    "> **Nota**: Dependiendo del uso que le dé a su código es que ocupará variables globales o no, sin embargo, es preferible definir su función **solo con variables locales**, puesto que esto deja explícita la dependencia de dicha variable dentro de su función objetivo."
   ]
  },
  {
   "cell_type": "markdown",
   "metadata": {},
   "source": [
    "Por otro lado, existen funciones que **no necesariamente** reciben argumentos."
   ]
  },
  {
   "cell_type": "code",
   "execution_count": 11,
   "metadata": {},
   "outputs": [],
   "source": [
    "def imprimir_pantalla():\n",
    "    return \"Mensaje random\""
   ]
  },
  {
   "cell_type": "code",
   "execution_count": 12,
   "metadata": {},
   "outputs": [
    {
     "data": {
      "text/plain": [
       "'Mensaje random'"
      ]
     },
     "execution_count": 12,
     "metadata": {},
     "output_type": "execute_result"
    }
   ],
   "source": [
    "imprimir_pantalla()"
   ]
  },
  {
   "cell_type": "markdown",
   "metadata": {},
   "source": [
    "También, existen funciones que **no retornan valores**:"
   ]
  },
  {
   "cell_type": "code",
   "execution_count": 13,
   "metadata": {},
   "outputs": [],
   "source": [
    "def imprimir_nombre(nombre):\n",
    "    print(nombre)"
   ]
  },
  {
   "cell_type": "code",
   "execution_count": 14,
   "metadata": {},
   "outputs": [
    {
     "name": "stdout",
     "output_type": "stream",
     "text": [
      "nombre_01\n"
     ]
    }
   ],
   "source": [
    "imprimir_nombre(\"nombre_01\")"
   ]
  },
  {
   "cell_type": "markdown",
   "metadata": {},
   "source": [
    "## Formas de escribir una función"
   ]
  },
  {
   "cell_type": "markdown",
   "metadata": {},
   "source": [
    "### Recursion\n",
    "\n",
    "\n",
    "\n",
    "Una función que se llama a sí misma se conoce como función recursiva y este proceso se llama **recursividad**. Cada función recursiva debe tener una condición base que detenga la recursividad o, de lo contrario, la función se llama a sí misma infinitamente."
   ]
  },
  {
   "cell_type": "code",
   "execution_count": 15,
   "metadata": {},
   "outputs": [],
   "source": [
    "# funcion factorial (recursivo)\n",
    "\n",
    "def factorial(n):\n",
    "    \"\"\"\n",
    "    Funcion factorial de manera recursiva\n",
    "    \"\"\"\n",
    "    if n == 1:\n",
    "        return 1\n",
    "    else:\n",
    "        return (n * factorial(n-1))    "
   ]
  },
  {
   "cell_type": "markdown",
   "metadata": {},
   "source": [
    "Analicemos recursivamente el factorial del número $3$."
   ]
  },
  {
   "cell_type": "markdown",
   "metadata": {},
   "source": [
    "\n",
    "\n",
    "<img src=\"https://raw.githubusercontent.com/fralfaro/python_intro/main/docs/images/fact.png\"  align=\"center\" width=\"300\" height=\"500\" />\n"
   ]
  },
  {
   "cell_type": "code",
   "execution_count": 16,
   "metadata": {},
   "outputs": [
    {
     "name": "stdout",
     "output_type": "stream",
     "text": [
      "El factorial de 3 es 6\n"
     ]
    }
   ],
   "source": [
    "num = 3\n",
    "print(f\"El factorial de {num} es {factorial(num)}\") "
   ]
  },
  {
   "cell_type": "markdown",
   "metadata": {},
   "source": [
    "### Lambda \n",
    "\n",
    "En Python, puede definir funciones sin nombre. Estas funciones se denominan `lambda` o función anónima. Para crear una función *lambda*, se utiliza la palabra clave *lambda*."
   ]
  },
  {
   "cell_type": "code",
   "execution_count": 17,
   "metadata": {},
   "outputs": [
    {
     "name": "stdout",
     "output_type": "stream",
     "text": [
      "25\n"
     ]
    }
   ],
   "source": [
    "# de manera normal\n",
    "def cuadrado_normal(x):\n",
    "    \"\"\"\n",
    "    Funcion que eleva al cuadrado un numero\n",
    "    \"\"\"\n",
    "    return x**2\n",
    "\n",
    "# instanciar funcion\n",
    "print(cuadrado_normal(5))"
   ]
  },
  {
   "cell_type": "code",
   "execution_count": 18,
   "metadata": {},
   "outputs": [
    {
     "name": "stdout",
     "output_type": "stream",
     "text": [
      "25\n"
     ]
    }
   ],
   "source": [
    "# funcion lambda\n",
    "cuadrado = lambda x: x ** 2\n",
    "print(cuadrado(5))"
   ]
  },
  {
   "cell_type": "markdown",
   "metadata": {},
   "source": [
    "### Ocupando args  & kwargs\n",
    "\n",
    "Lo primero de todo es que en realidad no tienes porque usar los nombres `args` o `kwargs`, ya que se trata de una mera convención entre programadores. Definamos estos conceptos:\n",
    "\n",
    "* `*args`: es una lista de argumentos, como argumentos posicionales.\n",
    " \n",
    "* `**kwargs`: es un diccionario cuyas claves se convierten en parámetros y sus valores en los argumentos de los parámetros."
   ]
  },
  {
   "cell_type": "code",
   "execution_count": 19,
   "metadata": {},
   "outputs": [],
   "source": [
    "# args\n",
    "def read_list_args(*args):\n",
    "    for count, arg in enumerate(args):\n",
    "        print(f'{count} - {arg}')"
   ]
  },
  {
   "cell_type": "code",
   "execution_count": 20,
   "metadata": {},
   "outputs": [
    {
     "name": "stdout",
     "output_type": "stream",
     "text": [
      "0 - Ricardo\n",
      "1 - 23\n",
      "2 - Ramon\n",
      "3 - [1, 2, 3]\n",
      "4 - jarroba.com\n"
     ]
    }
   ],
   "source": [
    "# instanciar funcion\n",
    "read_list_args('Ricardo', 23, 'Ramon', [1, 2, 3], 'jarroba.com')"
   ]
  },
  {
   "cell_type": "code",
   "execution_count": 21,
   "metadata": {},
   "outputs": [],
   "source": [
    "# kwargs\n",
    "def read_dict_args(**kwargs):\n",
    "    for key, value in kwargs.items():\n",
    "        print (f'{key} - {value}')        "
   ]
  },
  {
   "cell_type": "code",
   "execution_count": 22,
   "metadata": {},
   "outputs": [
    {
     "name": "stdout",
     "output_type": "stream",
     "text": [
      "Team - FC Barcelona\n",
      "player - Iniesta\n",
      "demarcation - Right winger\n",
      "number - 8\n"
     ]
    }
   ],
   "source": [
    "# instanciar funcion\n",
    "read_dict_args(Team='FC Barcelona', player='Iniesta', demarcation='Right winger', number=8)"
   ]
  },
  {
   "cell_type": "markdown",
   "metadata": {},
   "source": [
    "\n",
    "Esto es una forma práctica de trabajar, sin embargo, siempre (o en la mayoría de los casos), es mejor ser explícito con las variables."
   ]
  },
  {
   "cell_type": "markdown",
   "metadata": {},
   "source": [
    "### Decoradores\n",
    "Python tiene una característica interesante llamada decoradores para agregar funcionalidad a un código existente.\n",
    "Esto también se llama metaprogramación ya que una parte del programa intenta modificar otra parte del programa en tiempo de compilación.\n",
    "\n"
   ]
  },
  {
   "cell_type": "code",
   "execution_count": 23,
   "metadata": {},
   "outputs": [
    {
     "name": "stdout",
     "output_type": "stream",
     "text": [
      "La funcion Sumar es llamada!!!\n",
      "12\n"
     ]
    }
   ],
   "source": [
    "def debug(f):\n",
    "    def nueva_funcion(a, b):\n",
    "        print(\"La funcion Sumar es llamada!!!\")\n",
    "        return f(a, b)\n",
    "    return nueva_funcion\n",
    "\n",
    "\n",
    "@debug # decorador\n",
    "def Sumar(a, b):\n",
    "    return a + b\n",
    "print(Sumar(7, 5))"
   ]
  },
  {
   "cell_type": "markdown",
   "metadata": {},
   "source": [
    "## Módulos\n",
    "\n",
    "Si sales del intérprete de Python y vuelves a entrar, las definiciones que habías hecho (funciones y variables) se pierden. Por lo tanto, si quieres escribir un programa más o menos largo, es mejor que utilices un editor de texto para preparar la entrada para el intérprete y ejecutarlo con ese archivo como entrada. Esto se conoce como crear un `script`. A medida que tu programa crezca, quizás quieras separarlo en varios archivos para que el mantenimiento sea más sencillo. Quizás también quieras usar una función útil que has escrito en distintos programas sin copiar su definición en cada programa.\n",
    "\n",
    "Un **módulo** (o biblioteca o librería) es una colección de definiciones de variables, funciones y tipos (entre otras cosas) que pueden ser importadas para ser usadas desde cualquier programa.\n",
    "\n",
    "Veamos un ejemplo, lo primero es crear y guardar nuestro módulo `modulo_01.py`."
   ]
  },
  {
   "cell_type": "code",
   "execution_count": 24,
   "metadata": {},
   "outputs": [
    {
     "name": "stdout",
     "output_type": "stream",
     "text": [
      "Overwriting modulo_01.py\n"
     ]
    }
   ],
   "source": [
    "%%writefile modulo_01.py\n",
    "def sumar(a, b):\n",
    "    return a + b"
   ]
  },
  {
   "cell_type": "markdown",
   "metadata": {},
   "source": [
    "Para usar este módulo, usamos la palabra clave `import`."
   ]
  },
  {
   "cell_type": "code",
   "execution_count": 25,
   "metadata": {},
   "outputs": [],
   "source": [
    "# importar modulo \n",
    "import modulo_01 "
   ]
  },
  {
   "cell_type": "code",
   "execution_count": 26,
   "metadata": {},
   "outputs": [
    {
     "data": {
      "text/plain": [
       "9.5"
      ]
     },
     "execution_count": 26,
     "metadata": {},
     "output_type": "execute_result"
    }
   ],
   "source": [
    "# acceder a las funciones del modulo\n",
    "modulo_01.sumar(4, 5.5) "
   ]
  },
  {
   "cell_type": "markdown",
   "metadata": {},
   "source": [
    "Python viene con una biblioteca de **módulos estándar**, descrita en un documento separado, la Referencia de la Biblioteca de Python . Algunos módulos se integran en el intérprete; estos proveen acceso a operaciones que no son parte del núcleo del lenguaje pero que sin embargo están integrados, tanto por eficiencia como para proveer acceso a primitivas del sistema operativo, como llamadas al sistema."
   ]
  },
  {
   "cell_type": "code",
   "execution_count": 27,
   "metadata": {},
   "outputs": [
    {
     "name": "stdout",
     "output_type": "stream",
     "text": [
      "2.321928094887362\n"
     ]
    }
   ],
   "source": [
    "import math\n",
    "\n",
    "resultado = math.log2(5) # retorna logaritmo base 2\n",
    "print(resultado) # Output: 2.321928094887362"
   ]
  },
  {
   "cell_type": "markdown",
   "metadata": {},
   "source": [
    "Python tiene una tonelada de módulos estándar fácilmente disponibles para su uso. En el siguiente [link](https://docs.python.org/3/library/) se deja la documentación oficial de las librerías nativas de Python."
   ]
  },
  {
   "cell_type": "markdown",
   "metadata": {},
   "source": [
    "## Ejercicios"
   ]
  },
  {
   "cell_type": "markdown",
   "metadata": {},
   "source": [
    "**Ejercicio 01**\n",
    "\n",
    "Escriba una función que se llame `saludar` que reciba como input un string **s** y devuelva como output \"Hola + valor de s\".\n",
    "* **Ejemplo**: *saludar(\"mundo\")* = \"Hola mundo\""
   ]
  },
  {
   "cell_type": "code",
   "execution_count": 28,
   "metadata": {},
   "outputs": [],
   "source": [
    "# respuesta\n"
   ]
  },
  {
   "cell_type": "markdown",
   "metadata": {},
   "source": [
    "**Ejercicio 02**\n",
    "\n",
    "Escriba una función que se llame `es_par` que reciba como input un número entero **n** y devuelva como output *True* si el número es par, y *False* en otro caso.\n",
    "\n",
    "* **Ejemplo**: \n",
    "    * *es_par(4)* = True\n",
    "    * *es_par(3)* = False"
   ]
  },
  {
   "cell_type": "code",
   "execution_count": 29,
   "metadata": {},
   "outputs": [],
   "source": [
    "# respuesta"
   ]
  },
  {
   "cell_type": "markdown",
   "metadata": {},
   "source": [
    "**Ejercicio 03**\n",
    "\n",
    "Escriba una función que se llame `es_primo` que reciba como input un número entero **n** y devuelva como output *True* si el número es primo, y *False* en otro caso.\n",
    "\n",
    "* **Ejemplo**: \n",
    "    * *es_primo(1)* = False\n",
    "    * *es_primo(2)* = True\n",
    "    * *es_primo(3)* = True\n",
    "    * *es_primo(4)* = False\n"
   ]
  },
  {
   "cell_type": "code",
   "execution_count": 30,
   "metadata": {},
   "outputs": [],
   "source": [
    "# respuesta"
   ]
  },
  {
   "cell_type": "markdown",
   "metadata": {},
   "source": [
    "**Ejercicio 04**\n",
    "\n",
    "La suma natural de los primeros **n** números naturales esta dado por:\n",
    "$$\\displaystyle S = \\sum_{k=1}^{n} k = 1 +2 +3 +...+n = \\dfrac{n(n+1)}{2} $$\n",
    "\n",
    "Escriba una función que se llame `suma_numeros_naturales` que reciba como input un número entero **n** y devuelva como output la suma de los primeros **n** números naturales. \n",
    "\n",
    "Para esto:\n",
    "\n",
    "* a) Programe la función ocupando la fórmula manual: $S = 1+2+3+..+n$\n",
    "* b) Programe la función ocupando la fórmula cerrada: $S =\\dfrac{n(n+1)}{2} $\n",
    "\n",
    "**Ejemplo**: \n",
    "   * *suma_numeros_naturales(1)* = 1\n",
    "   * *suma_numeros_naturales(10)* = 55\n",
    "   * *suma_numeros_naturales(100)* = 5050\n",
    "\n"
   ]
  },
  {
   "cell_type": "code",
   "execution_count": 31,
   "metadata": {},
   "outputs": [],
   "source": [
    "# respuesta\n"
   ]
  },
  {
   "cell_type": "markdown",
   "metadata": {},
   "source": [
    "**Ejercicio 05**\n",
    "\n",
    "En los siglos XVII y XVIII, James Gregory y Gottfried Leibniz descubrieron una serie infinita que sirve para calcular $\\pi$:\n",
    "\n",
    "$$\\displaystyle \\pi = 4 \\sum_{k=1}^{\\infty}\\dfrac{(-1)^{k+1}}{2k-1} = 4(1-\\dfrac{1}{3}+\\dfrac{1}{5}-\\dfrac{1}{7} + ...) $$\n",
    "\n",
    "Desarolle un programa para estimar el valor de $\\pi$ ocupando el método de Leibniz, donde la entrada del programa debe ser un número entero $n$ que indique cuántos términos de la suma se utilizará.\n",
    "\n",
    "\n",
    "* **Ejemplo**: \n",
    "    * *calcular_pi(3)* = 3.466666666666667\n",
    "    * *calcular_pi(1000)* = 3.140592653839794"
   ]
  },
  {
   "cell_type": "code",
   "execution_count": 32,
   "metadata": {},
   "outputs": [],
   "source": [
    "# respuesta"
   ]
  },
  {
   "cell_type": "markdown",
   "metadata": {},
   "source": [
    "**Ejercicio 06**\n",
    "\n",
    "Euler realizó varios aportes en relación a $e$, pero no fue hasta 1748 cuando publicó su **Introductio in analysin infinitorum** que dio un tratamiento definitivo a las ideas sobre $e$. Allí mostró que:\n",
    "\n",
    "\n",
    "En los siglos XVII y XVIII, James Gregory y Gottfried Leibniz descubrieron una serie infinita que sirve para calcular π:\n",
    "\n",
    "$$\\displaystyle e = \\sum_{k=0}^{\\infty}\\dfrac{1}{k!} = 1+\\dfrac{1}{2!}+\\dfrac{1}{3!}+\\dfrac{1}{4!} + ... $$\n",
    "\n",
    "Desarolle un programa para estimar el valor de $e$ ocupando el método de Euler, donde la entrada del programa debe ser un número entero $n$ que indique cuántos términos de la suma se utilizará. \n",
    "\n",
    "Para esto:\n",
    "\n",
    "* a) Defina la función `factorial`, donde la entrada sea un número natural  $n$ y la salida sea el factorial de dicho número.\n",
    "    * **Ejemplo**: *factorial(3)* =3, *factorial(5)* = 120\n",
    "    \n",
    "    \n",
    "* b) Ocupe la función `factorial` dentro de la función `calcular_e`.     \n",
    "    * **Ejemplo**: *calcular_e(3)* = 2.6666666666666665, *calcular_e(1000)* = 2.7182818284590455"
   ]
  },
  {
   "cell_type": "code",
   "execution_count": 33,
   "metadata": {},
   "outputs": [],
   "source": [
    "# respuesta\n"
   ]
  },
  {
   "cell_type": "markdown",
   "metadata": {},
   "source": [
    "**Ejercicio 07**\n",
    "\n",
    "Sea $\\sigma(n)$ definido como la suma de los divisores propios de $n$ (números menores que n que se dividen en $n$).\n",
    "\n",
    "Los [números amigos](https://en.wikipedia.org/wiki/Amicable_numbers) son  enteros positivos $n_1$ y $n_2$ tales que la suma de los divisores propios de uno es igual al otro número y viceversa, es decir, $\\sigma(n_1)=\\sigma(n_2)$ y $\\sigma(n_2)=\\sigma(n_1)$.\n",
    "\n",
    "\n",
    "Por ejemplo, los números 220 y 284 son números amigos.\n",
    "* los divisores propios de 220 son 1, 2, 4, 5, 10, 11, 20, 22, 44, 55 y 110; por lo tanto $\\sigma(220) = 284$. \n",
    "* los divisores propios de 284 son 1, 2, 4, 71 y 142; entonces $\\sigma(284) = 220$.\n",
    "\n",
    "\n",
    "Implemente una función llamada `amigos` cuyo input sean dos números naturales $n_1$ y $n_2$, cuyo output sea verifique si los números son amigos o no. \n",
    "\n",
    "Para esto:\n",
    "\n",
    "* a) Defina la función `divisores_propios`, donde la entrada sea un número natural $n$ y la salida sea una lista con los divisores propios de dicho número.\n",
    "    * **Ejemplo**: *divisores_propios(220)* = [1, 2, 4, 5, 10, 11, 20, 22, 44, 55 y 110], *divisores_propios(284)* = [1, 2, 4, 71 y 142]\n",
    "    \n",
    "    \n",
    "* b) Ocupe la función `divisores_propios` dentro de la función `amigos`.\n",
    "\n",
    "    * **Ejemplo**: *amigos(220,284)* = True, *amigos(6,5)* = False"
   ]
  },
  {
   "cell_type": "code",
   "execution_count": 34,
   "metadata": {},
   "outputs": [],
   "source": [
    "# respuesta"
   ]
  },
  {
   "cell_type": "markdown",
   "metadata": {},
   "source": [
    "**Ejercicio 08**\n",
    "\n",
    "La [conjetura de Collatz](https://en.wikipedia.org/wiki/Collatz_conjecture), conocida también como conjetura $3n+1$ o conjetura de Ulam (entre otros nombres), fue enunciada por el matemático Lothar Collatz en 1937, y a la fecha no se ha resuelto.\n",
    "\n",
    "Sea la siguiente operación, aplicable a cualquier número entero positivo:\n",
    "* Si el número es par, se divide entre 2.\n",
    "* Si el número es impar, se multiplica por 3 y se suma 1.\n",
    "\n",
    "La conjetura dice que siempre alcanzaremos el 1 (y por tanto el ciclo 4, 2, 1) para cualquier número con el que comencemos. \n",
    "\n",
    "Implemente una función llamada `collatz` cuyo input sea un número natural positivo $N$ y como output devulva la secuencia de números hasta llegar a 1.\n",
    "\n",
    "* **Ejemplo**: *collatz(9)* = [9, 28, 14, 7, 22, 11, 34, 17, 52, 26, 13, 40, 20, 10, 5, 16, 8, 4, 2, 1]"
   ]
  },
  {
   "cell_type": "code",
   "execution_count": 35,
   "metadata": {},
   "outputs": [],
   "source": [
    "# respuesta"
   ]
  },
  {
   "cell_type": "markdown",
   "metadata": {},
   "source": [
    "**Ejercicio 05**\n",
    "\n",
    "La [conjetura de Goldbach](https://en.wikipedia.org/wiki/Goldbach%27s_conjecture) es uno de los problemas abiertos más antiguos en matemáticas. Concretamente, G.H. Hardy, en 1921, en su famoso discurso pronunciado en la Sociedad Matemática de Copenhague, comentó que probablemente la conjetura de Goldbach no es solo uno de los problemas no resueltos más difíciles de la teoría de números, sino de todas las matemáticas. Su enunciado es el siguiente:\n",
    "\n",
    "> Todo número par mayor que 2 puede escribirse como suma de dos números primos - Christian Goldbach (1742)\n",
    "\n",
    "Implemente una función llamada `goldbach` cuyo input sea un número natural positivo $n$ y como output devuelva la suma de dos primos ($n_1$ y $n_2$) tal que: $n_1+n_2=n$. \n",
    "\n",
    "Para esto:\n",
    "\n",
    "* a) Defina la función `es_primo`, donde la entrada sea un número natural $n$ y la salida sea **True** si el número es primo y **False** en otro caso.\n",
    "    * **Ejemplo**: *es_primo(3)* = True, *es_primo(4)* = False\n",
    "    \n",
    "    \n",
    "* b)  Defina la función `lista_de_primos`, donde la entrada sea un número natural par $n$ mayor que dos y la salida sea una lista con todos los número primos entre 2 y $n$.\n",
    "    * **Ejemplo**: *lista_de_primos(4)* = [2,3], *lista_de_primos(6)* = [2,3,5], *lista_de_primos(8)* = [2,3,5,7]\n",
    "\n",
    "\n",
    "* c) Ocupe la función `lista_de_primos` dentro de la función `goldbash`.\n",
    " * **Ejemplo**: goldbash(4) = (2,2), goldbash(6) = (3,3) , goldbash(8) = (3,5)"
   ]
  },
  {
   "cell_type": "code",
   "execution_count": 36,
   "metadata": {},
   "outputs": [],
   "source": [
    "# respuesta"
   ]
  }
 ],
 "metadata": {
  "kernelspec": {
   "display_name": "Python 3",
   "language": "python",
   "name": "python3"
  },
  "language_info": {
   "codemirror_mode": {
    "name": "ipython",
    "version": 3
   },
   "file_extension": ".py",
   "mimetype": "text/x-python",
   "name": "python",
   "nbconvert_exporter": "python",
   "pygments_lexer": "ipython3",
   "version": "3.8.10"
  }
 },
 "nbformat": 4,
 "nbformat_minor": 4
}
