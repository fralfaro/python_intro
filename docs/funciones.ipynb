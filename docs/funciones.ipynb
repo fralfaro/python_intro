{
 "cells": [
  {
   "cell_type": "markdown",
   "metadata": {},
   "source": [
    "<a href=\"https://colab.research.google.com/github/fralfaro/python_intro/blob/main/docs/funciones.ipynb\" target=\"_parent\"><img src=\"https://colab.research.google.com/assets/colab-badge.svg\" alt=\"Open In Colab\"/></a>"
   ]
  },
  {
   "cell_type": "markdown",
   "metadata": {},
   "source": [
    "# Funciones \n",
    "\n",
    "## Introducción\n",
    "\n",
    "Las funciones en Python son bloques de código que pueden ser llamados en cualquier momento del programa. Estos bloques de código reciben uno o varios argumentos y pueden devolver un valor. Las funciones son muy útiles porque te permiten escribir código una vez y reutilizarlo en distintas partes del programa, lo que puede ahorrar mucho tiempo y esfuerzo.\n",
    "\n",
    "Formalmente, una función tiene tres componentes importantes:\n",
    "\n",
    "* los **parámetros**, que son los valores que recibe la función como entrada;\n",
    "* el **código de la función**, que son las operaciones que hace la función; y\n",
    "* el **resultado** (o valor de retorno), que es el valor final que entrega la función.\n",
    "\n",
    "En esencia, una función es un mini programa. Sus tres componentes son análogos a la entrada, el proceso y la salida de un programa.\n",
    "\n",
    "**Definición de funciones**\n",
    "\n",
    "Las funciones en Python lucen de la siguiente forma:\n",
    "\n",
    "```python\n",
    "def nombre(parametro_1,...,parametro_n):\n",
    "    \"\"\"\n",
    "    Descripcion de la funcion (opcional)\n",
    "    \"\"\"\n",
    "    # código de la función\n",
    "    resultado = operacion(parametro_1,...,parametro_n)\n",
    "    return resultado # output de la funcion\n",
    "```\n",
    "\n",
    "Se utiliza la palabra clave `def` seguida del nombre de la función, los parámetros que recibe entre paréntesis y dos puntos `:`. El cuerpo de la función va indentado y puede contener cualquier código que se quiera ejecutar. Para devolver un valor se utiliza la palabra clave `return`.\n"
   ]
  },
  {
   "cell_type": "code",
   "execution_count": 1,
   "metadata": {},
   "outputs": [
    {
     "name": "stdout",
     "output_type": "stream",
     "text": [
      "8\n"
     ]
    }
   ],
   "source": [
    "def suma(a, b):\n",
    "    return a + b\n",
    "\n",
    "resultado = suma(3, 5)\n",
    "print(resultado)"
   ]
  },
  {
   "cell_type": "markdown",
   "metadata": {},
   "source": [
    "En este ejemplo se define una función llamada `suma` que recibe dos parámetros `a` y `b` y devuelve la suma de ambos. Se llama a la función con los valores `3` y `5` y se almacena el resultado en una variable llamada `resultado`. Finalmente, se imprime el valor de `resultado`."
   ]
  },
  {
   "cell_type": "markdown",
   "metadata": {},
   "source": [
    "Por otro lado, dado que no se especifica el tipo de datos, podemos sumar dos `strings`"
   ]
  },
  {
   "cell_type": "code",
   "execution_count": 3,
   "metadata": {},
   "outputs": [
    {
     "name": "stdout",
     "output_type": "stream",
     "text": [
      "Hola Mundo\n"
     ]
    }
   ],
   "source": [
    "resultado = suma(\"Hola \",\"Mundo\")\n",
    "print(resultado)"
   ]
  },
  {
   "cell_type": "markdown",
   "metadata": {},
   "source": [
    "Por lo que se debe tener cuidado tanto con el nombre de la función (se espera que pueda resumir la funcion en una o dos palabras) y el tipo de argumentos que queremos que reciba."
   ]
  },
  {
   "cell_type": "markdown",
   "metadata": {},
   "source": [
    "Las funciones también pueden tener argumentos opcionales que tienen un valor por defecto. Para definir un argumento opcional se utiliza el operador `=` para asignarle un valor por defecto. El valor por defecto se utiliza si el argumento no es especificado al llamar a la función."
   ]
  },
  {
   "cell_type": "code",
   "execution_count": 4,
   "metadata": {},
   "outputs": [
    {
     "name": "stdout",
     "output_type": "stream",
     "text": [
      "Hola Pedro\n",
      "Buenos días Maria\n"
     ]
    }
   ],
   "source": [
    "def saludo(nombre, saludo=\"Hola\"):\n",
    "    print(saludo, nombre)\n",
    "\n",
    "saludo(\"Pedro\")\n",
    "saludo(\"Maria\", \"Buenos días\")"
   ]
  },
  {
   "cell_type": "markdown",
   "metadata": {},
   "source": [
    "En este ejemplo se define una función llamada `saludo` que recibe dos argumentos, `nombre` y `saludo`. El argumento saludo tiene un valor por defecto de `\"Hola\"`. La función imprime el mensaje de saludo utilizando los valores de `saludo` y `nombre`. Se llama a la función con diferentes valores de argumentos."
   ]
  },
  {
   "cell_type": "markdown",
   "metadata": {},
   "source": [
    "A continuación, se creará la función `factorial`, la cual entregará el [factorial](https://es.wikipedia.org/wiki/Factorial#:~:text=7%20Enlaces%20externos-,Definici%C3%B3n%20por%20producto%20e%20inducci%C3%B3n,menores%20o%20iguales%20que%20n.) de un número entero no negativo."
   ]
  },
  {
   "cell_type": "code",
   "execution_count": 5,
   "metadata": {},
   "outputs": [],
   "source": [
    "def factorial(n):\n",
    "    \"\"\"\n",
    "    factorial de un numero entero no negativo\n",
    "    \"\"\"\n",
    "    f = 1\n",
    "    for i in range(1, n + 1):\n",
    "        f *= i\n",
    "    return f"
   ]
  },
  {
   "cell_type": "markdown",
   "metadata": {},
   "source": [
    "En este ejemplo, el resultado que entrega una llamada a la función es el valor que tiene la variable `f` al llegar a la última línea de la función.\n",
    "\n",
    "Una vez creada, la función puede ser usada como cualquier otra, todas las veces que sea necesario:"
   ]
  },
  {
   "cell_type": "code",
   "execution_count": 6,
   "metadata": {},
   "outputs": [
    {
     "name": "stdout",
     "output_type": "stream",
     "text": [
      "1\n"
     ]
    }
   ],
   "source": [
    "print(factorial(0))"
   ]
  },
  {
   "cell_type": "code",
   "execution_count": 7,
   "metadata": {},
   "outputs": [
    {
     "name": "stdout",
     "output_type": "stream",
     "text": [
      "122\n"
     ]
    }
   ],
   "source": [
    "print(factorial(2) + factorial(5))"
   ]
  },
  {
   "cell_type": "markdown",
   "metadata": {},
   "source": [
    "Las variables que son creadas dentro de la función (incluyendo los parámetros y el resultado) se llaman **variables locales**, y sólo son visibles dentro de la función, no desde el resto del programa.\n",
    "\n",
    "Por otra parte, las variables creadas fuera de alguna función se llaman **variables globales**, y son visibles desde cualquier parte del programa. Sin embargo, su valor no puede ser modificado, ya que una asignación crearía una variable local del mismo nombre.\n",
    "\n",
    "\n"
   ]
  },
  {
   "cell_type": "code",
   "execution_count": 8,
   "metadata": {},
   "outputs": [],
   "source": [
    "# ejemplo variable global\n",
    "\n",
    "valor = 10 # variable global\n",
    "\n",
    "def funcion_01(x):\n",
    "    return valor*x"
   ]
  },
  {
   "cell_type": "code",
   "execution_count": 27,
   "metadata": {},
   "outputs": [
    {
     "name": "stdout",
     "output_type": "stream",
     "text": [
      "50\n"
     ]
    }
   ],
   "source": [
    "print(funcion_01(5))"
   ]
  },
  {
   "cell_type": "code",
   "execution_count": 10,
   "metadata": {},
   "outputs": [],
   "source": [
    "# ejemplo variable local\n",
    "\n",
    "def funcion_02(x,valor):\n",
    "    \n",
    "    resultado = valor*x\n",
    "    \n",
    "    return resultado"
   ]
  },
  {
   "cell_type": "code",
   "execution_count": 28,
   "metadata": {},
   "outputs": [
    {
     "name": "stdout",
     "output_type": "stream",
     "text": [
      "10\n"
     ]
    }
   ],
   "source": [
    "print(funcion_02(5,2))"
   ]
  },
  {
   "cell_type": "markdown",
   "metadata": {},
   "source": [
    "> **Nota**: Dependiendo del uso que le dé a su código es que ocupará variables globales o no, sin embargo, es preferible definir su función **solo con variables locales**, puesto que esto deja explícita la dependencia de dicha variable dentro de su función objetivo."
   ]
  },
  {
   "cell_type": "markdown",
   "metadata": {},
   "source": [
    "Por otro lado, existen funciones que **no necesariamente** reciben argumentos."
   ]
  },
  {
   "cell_type": "code",
   "execution_count": 12,
   "metadata": {},
   "outputs": [],
   "source": [
    "def imprimir_pantalla():\n",
    "    return \"Mensaje random\""
   ]
  },
  {
   "cell_type": "code",
   "execution_count": 13,
   "metadata": {},
   "outputs": [
    {
     "data": {
      "text/plain": [
       "'Mensaje random'"
      ]
     },
     "execution_count": 13,
     "metadata": {},
     "output_type": "execute_result"
    }
   ],
   "source": [
    "imprimir_pantalla()"
   ]
  },
  {
   "cell_type": "markdown",
   "metadata": {},
   "source": [
    "También, existen funciones que **no retornan valores**:"
   ]
  },
  {
   "cell_type": "code",
   "execution_count": 14,
   "metadata": {},
   "outputs": [],
   "source": [
    "def imprimir_nombre(nombre):\n",
    "    print(nombre)"
   ]
  },
  {
   "cell_type": "code",
   "execution_count": 15,
   "metadata": {},
   "outputs": [
    {
     "name": "stdout",
     "output_type": "stream",
     "text": [
      "nombre_01\n"
     ]
    }
   ],
   "source": [
    "imprimir_nombre(\"nombre_01\")"
   ]
  },
  {
   "cell_type": "markdown",
   "metadata": {},
   "source": [
    "## Formas de escribir una función"
   ]
  },
  {
   "cell_type": "markdown",
   "metadata": {},
   "source": [
    "### Recursion\n",
    "\n",
    "\n",
    "\n",
    "Una función que se llama a sí misma se conoce como función recursiva y este proceso se llama **recursividad**. Cada función recursiva debe tener una condición base que detenga la recursividad o, de lo contrario, la función se llama a sí misma infinitamente."
   ]
  },
  {
   "cell_type": "code",
   "execution_count": 16,
   "metadata": {},
   "outputs": [],
   "source": [
    "# funcion factorial (recursivo)\n",
    "\n",
    "def factorial(n):\n",
    "    \"\"\"\n",
    "    Funcion factorial de manera recursiva\n",
    "    \"\"\"\n",
    "    if n == 1:\n",
    "        return 1\n",
    "    else:\n",
    "        return (n * factorial(n-1))    "
   ]
  },
  {
   "cell_type": "markdown",
   "metadata": {},
   "source": [
    "Analicemos recursivamente el factorial del número $3$."
   ]
  },
  {
   "cell_type": "markdown",
   "metadata": {},
   "source": [
    "\n",
    "\n",
    "<img src=\"https://raw.githubusercontent.com/fralfaro/python_intro/main/docs/images/fact.png\"  align=\"center\" width=\"400\" /> <br>\n"
   ]
  },
  {
   "cell_type": "code",
   "execution_count": 17,
   "metadata": {},
   "outputs": [
    {
     "name": "stdout",
     "output_type": "stream",
     "text": [
      "El factorial de 3 es 6\n"
     ]
    }
   ],
   "source": [
    "num = 3\n",
    "print(f\"El factorial de {num} es {factorial(num)}\") "
   ]
  },
  {
   "cell_type": "markdown",
   "metadata": {
    "tags": []
   },
   "source": [
    "### Lambda\n",
    "\n",
    "En Python, puedes definir funciones sin nombre utilizando funciones lambda o, como también se les conoce, funciones anónimas. Estas funciones son útiles para realizar operaciones simples en una sola línea de código. Para crear una función lambda, se utiliza la palabra clave `lambda`. A continuación, te presento una comparación entre una función definida de manera convencional y una función lambda:"
   ]
  },
  {
   "cell_type": "markdown",
   "metadata": {
    "tags": []
   },
   "source": [
    "**Función Definida de Manera Convencional:**"
   ]
  },
  {
   "cell_type": "code",
   "execution_count": 1,
   "metadata": {
    "tags": []
   },
   "outputs": [
    {
     "name": "stdout",
     "output_type": "stream",
     "text": [
      "25\n"
     ]
    }
   ],
   "source": [
    "def cuadrado_normal(x):\n",
    "    \"\"\"\n",
    "    Función que eleva al cuadrado un número.\n",
    "    \"\"\"\n",
    "    return x ** 2\n",
    "\n",
    "# Llamamos a la función convencional\n",
    "resultado_normal = cuadrado_normal(5)\n",
    "print(resultado_normal)"
   ]
  },
  {
   "cell_type": "markdown",
   "metadata": {
    "tags": []
   },
   "source": [
    "**Función Lambda:**"
   ]
  },
  {
   "cell_type": "code",
   "execution_count": 2,
   "metadata": {
    "tags": []
   },
   "outputs": [
    {
     "name": "stdout",
     "output_type": "stream",
     "text": [
      "25\n"
     ]
    }
   ],
   "source": [
    "# Definimos una función lambda para elevar al cuadrado un número\n",
    "cuadrado = lambda x: x ** 2\n",
    "\n",
    "# Llamamos a la función lambda\n",
    "resultado_lambda = cuadrado(5)\n",
    "print(resultado_lambda)"
   ]
  },
  {
   "cell_type": "markdown",
   "metadata": {
    "tags": []
   },
   "source": [
    "**Explicación:**\n",
    "\n",
    "- En el primer ejemplo, se define una función convencional llamada `cuadrado_normal` que toma un argumento `x` y devuelve el cuadrado de `x` utilizando la declaración `return`.\n",
    "\n",
    "- En el segundo ejemplo, se crea una función lambda que realiza la misma operación. La función lambda se define como `lambda x: x ** 2`, donde `x` es el argumento de entrada y `x ** 2` es la expresión que se evalúa y devuelve.\n",
    "\n",
    "- Luego, llamamos tanto a la función convencional como a la función lambda con un valor de `5` como argumento, y guardamos los resultados en las variables `resultado_normal` y `resultado_lambda`, respectivamente.\n",
    "\n",
    "- Finalmente, imprimimos los resultados, que serán `25` tanto para la función convencional como para la función lambda, ya que ambas calculan el cuadrado de `5`."
   ]
  },
  {
   "cell_type": "markdown",
   "metadata": {
    "tags": []
   },
   "source": [
    "### Utilizando `*args` y `**kwargs`\n",
    "\n",
    "En Python, puedes utilizar `*args` y `**kwargs` para manejar un número variable de argumentos en una función. Estos nombres, `args` y `kwargs`, son convenciones comunes, pero en realidad puedes nombrarlos como desees. Ahora, profundicemos en estos conceptos:\n",
    "\n",
    "* `*args`: Es una convención para indicar que se acepta un número variable de argumentos no nombrados (posicionales). Los argumentos se almacenan en una tupla.\n",
    "\n",
    "* `**kwargs`: Es una convención para indicar que se acepta un número variable de argumentos con nombre. Los argumentos se almacenan en un diccionario, donde las claves se convierten en los nombres de los parámetros y los valores son los argumentos asociados.\n",
    "\n",
    "**Usando `*args`:**"
   ]
  },
  {
   "cell_type": "code",
   "execution_count": 3,
   "metadata": {
    "tags": []
   },
   "outputs": [
    {
     "name": "stdout",
     "output_type": "stream",
     "text": [
      "10\n"
     ]
    }
   ],
   "source": [
    "def sumar_numeros(*numeros):\n",
    "    suma = 0\n",
    "    for numero in numeros:\n",
    "        suma += numero\n",
    "    return suma\n",
    "\n",
    "resultado = sumar_numeros(1, 2, 3, 4)\n",
    "print(resultado)"
   ]
  },
  {
   "cell_type": "markdown",
   "metadata": {
    "tags": []
   },
   "source": [
    "En el primer ejemplo, se define la función `sumar_numeros`, que toma un número variable de argumentos no nombrados. La función suma todos los argumentos recibidos y devuelve el resultado. En este caso, llamamos a la función con los números `1, 2, 3, 4`, y la suma se almacena en `resultado`.\n",
    "\n",
    "**Usando `**kwargs`:**"
   ]
  },
  {
   "cell_type": "code",
   "execution_count": 4,
   "metadata": {
    "tags": []
   },
   "outputs": [
    {
     "name": "stdout",
     "output_type": "stream",
     "text": [
      "nombre : Juan\n",
      "edad : 25\n",
      "ciudad : Lima\n"
     ]
    }
   ],
   "source": [
    "def imprimir_datos(**datos):\n",
    "    for llave, valor in datos.items():\n",
    "        print(llave, \":\", valor)\n",
    "\n",
    "imprimir_datos(nombre=\"Juan\", edad=25, ciudad=\"Lima\")"
   ]
  },
  {
   "cell_type": "markdown",
   "metadata": {
    "tags": []
   },
   "source": [
    "En el segundo ejemplo, se define la función `imprimir_datos`, que toma un número variable de argumentos con nombre. La función itera a través del diccionario `datos` y muestra las claves y sus valores asociados. Llamamos a la función con argumentos con nombre, como \"nombre\", \"edad\" y \"ciudad\", y se imprime la información correspondiente.\n",
    "\n",
    "> **Nota**: Es importante recordar que aunque `*args` y `**kwargs` son útiles, se recomienda ser explícito en la definición de tus funciones siempre que sea posible para hacer el código más legible y mantenible."
   ]
  },
  {
   "cell_type": "markdown",
   "metadata": {},
   "source": [
    "## Ejercicios"
   ]
  },
  {
   "cell_type": "markdown",
   "metadata": {},
   "source": [
    "**Ejercicio 01**\n",
    "\n",
    "Escriba una función que se llame `saludar` que reciba como input un string **s** y devuelva como output \"Hola + valor de s\".\n",
    "* **Ejemplo**: *saludar(\"mundo\")* = \"Hola mundo\""
   ]
  },
  {
   "cell_type": "code",
   "execution_count": null,
   "metadata": {},
   "outputs": [],
   "source": [
    "# respuesta\n"
   ]
  },
  {
   "cell_type": "markdown",
   "metadata": {},
   "source": [
    "**Ejercicio 02**\n",
    "\n",
    "Escriba una función que se llame `es_par` que reciba como input un número entero **n** y devuelva como output *True* si el número es par, y *False* en otro caso.\n",
    "\n",
    "* **Ejemplo**: \n",
    "    * *es_par(4)* = True\n",
    "    * *es_par(3)* = False"
   ]
  },
  {
   "cell_type": "code",
   "execution_count": null,
   "metadata": {},
   "outputs": [],
   "source": [
    "# respuesta"
   ]
  },
  {
   "cell_type": "markdown",
   "metadata": {},
   "source": [
    "**Ejercicio 03**\n",
    "\n",
    "Escriba la función `invertir_digitos(n)` que reciba un número entero n y entregue como resultado el número `n` con los dígitos en el orden inverso:\n",
    "\n",
    "```terminal\n",
    " >>> invertir_digitos(142)\n",
    "241\n",
    "```\n",
    " \n",
    "A continuación, escriba un programa que indique si el número ingresado es palíndromo o no, usando la función `invertir_digitos`:\n",
    "\n",
    "```terminal\n",
    "Ingrese n: 81418\n",
    "Es palíndromo\n",
    "```\n",
    "\n"
   ]
  },
  {
   "cell_type": "code",
   "execution_count": null,
   "metadata": {},
   "outputs": [],
   "source": [
    "# respuesta"
   ]
  },
  {
   "cell_type": "markdown",
   "metadata": {},
   "source": [
    "**Ejercicio 04**\n",
    "\n",
    "\n",
    "\n",
    "Muchos de estos programas sólo tenían pequeñas diferencias entre ellos, por lo que había que repetir mucho código al escribirlos. En este ejercicio, usted deberá implementar algunos de esos programas como funciones, reutilizando componentes para evitar escribir código repetido.\n",
    "\n",
    "\n",
    "**Ejercicio 041**\n",
    "\n",
    "Escriba la función `es_divisible(n, d)` que indique si `n` es divisible por `d`:\n",
    "\n",
    "```\n",
    ">>> es_divisible(15, 5)\n",
    "True\n",
    ">>> es_divisible(15, 6)\n",
    "False\n",
    "```\n",
    "\n",
    "**Ejercicio 042**\n",
    "\n",
    "Usando la función es_divisible, escriba una función `es_primo(n)` que determine si un número es primo o no:\n",
    "\n",
    "```\n",
    ">>> es_primo(17)\n",
    "True\n",
    ">>> es_primo(221)\n",
    "False\n",
    "```\n",
    "\n",
    "**Ejercicio 043**\n",
    "\n",
    "Usando la función `es_primo`, escriba la función `i_esimo_primo(i)` que entregue el i-ésimo número primo.\n",
    "\n",
    "```\n",
    ">>> i_esimo_primo(1)\n",
    "2\n",
    ">>> i_esimo_primo(20)\n",
    "71\n",
    "```\n",
    "\n",
    "**Ejercicio 044**\n",
    "\n",
    "Usando las funciones anteriores, escriba la función `primeros_primos(m)` que entregue una lista de los primeros m números primos:\n",
    "\n",
    "```\n",
    ">>> primeros_primos(10)\n",
    "[2, 3, 5, 7, 11, 13, 17, 19, 23, 29]\n",
    "```\n",
    "\n",
    "**Ejercicio 045**\n",
    "\n",
    "Usando las funciones anteriores, escriba la función `primos_hasta(m)` que entregue una lista de los primos menores o iguales que `m`:\n",
    "\n",
    "```\n",
    ">>> primos_hasta(19)\n",
    "[2, 3, 5, 7, 11, 13, 17, 19]\n",
    "```\n",
    "\n",
    "**Ejercicio 046**\n",
    "\n",
    "Un [primo de Mersenne](https://es.wikipedia.org/wiki/N%C3%BAmero_primo_de_Mersenne) es un número primo de la forma $2p−1$. \n",
    "Una propiedad conocida de los primos de Mersenne es que $p$ debe ser también un número primo.\n",
    "\n",
    "Escriba la función `mersenne` que pregunte al usuario un número $n$, y muestre como salida los primeros `n` primos de Mersenne:\n",
    "\n",
    "```\n",
    ">>> mersenne(5)\n",
    "3\n",
    "7\n",
    "31\n",
    "127\n",
    "8191\n",
    "```"
   ]
  },
  {
   "cell_type": "code",
   "execution_count": null,
   "metadata": {},
   "outputs": [],
   "source": [
    "# respuesta"
   ]
  },
  {
   "cell_type": "markdown",
   "metadata": {},
   "source": [
    "**Ejercicio 05**\n",
    "\n",
    "La suma natural de los primeros **n** números naturales esta dado por:\n",
    "$$\\displaystyle S = \\sum_{k=1}^{n} k = 1 +2 +3 +...+n = \\dfrac{n(n+1)}{2} $$\n",
    "\n",
    "Escriba una función que se llame `suma_numeros_naturales` que reciba como input un número entero **n** y devuelva como output la suma de los primeros **n** números naturales. \n",
    "\n",
    "Para esto:\n",
    "\n",
    "* a) Programe la función ocupando la fórmula manual: $S = 1+2+3+..+n$\n",
    "* b) Programe la función ocupando la fórmula cerrada: $S =\\dfrac{n(n+1)}{2} $\n",
    "\n",
    "**Ejemplo**: \n",
    "   * *suma_numeros_naturales(1)* = 1\n",
    "   * *suma_numeros_naturales(10)* = 55\n",
    "   * *suma_numeros_naturales(100)* = 5050\n",
    "\n"
   ]
  },
  {
   "cell_type": "code",
   "execution_count": null,
   "metadata": {},
   "outputs": [],
   "source": [
    "# respuesta\n"
   ]
  },
  {
   "cell_type": "markdown",
   "metadata": {},
   "source": [
    "**Ejercicio 06**\n",
    "\n",
    "En los siglos XVII y XVIII, James Gregory y Gottfried Leibniz descubrieron una serie infinita que sirve para calcular $\\pi$:\n",
    "\n",
    "$$\\displaystyle \\pi = 4 \\sum_{k=1}^{\\infty}\\dfrac{(-1)^{k+1}}{2k-1} = 4(1-\\dfrac{1}{3}+\\dfrac{1}{5}-\\dfrac{1}{7} + ...) $$\n",
    "\n",
    "Desarolle un programa para estimar el valor de $\\pi$ ocupando el método de Leibniz, donde la entrada del programa debe ser un número entero $n$ que indique cuántos términos de la suma se utilizará.\n",
    "\n",
    "\n",
    "* **Ejemplo**: \n",
    "    * *calcular_pi(3)* = 3.466666666666667\n",
    "    * *calcular_pi(1000)* = 3.140592653839794"
   ]
  },
  {
   "cell_type": "code",
   "execution_count": null,
   "metadata": {},
   "outputs": [],
   "source": [
    "# respuesta"
   ]
  },
  {
   "cell_type": "markdown",
   "metadata": {},
   "source": [
    "**Ejercicio 07**\n",
    "\n",
    "Euler realizó varios aportes en relación a $e$, pero no fue hasta 1748 cuando publicó su **Introductio in analysin infinitorum** que dio un tratamiento definitivo a las ideas sobre $e$. Allí mostró que:\n",
    "\n",
    "\n",
    "En los siglos XVII y XVIII, James Gregory y Gottfried Leibniz descubrieron una serie infinita que sirve para calcular π:\n",
    "\n",
    "$$\\displaystyle e = \\sum_{k=0}^{\\infty}\\dfrac{1}{k!} = 1+\\dfrac{1}{2!}+\\dfrac{1}{3!}+\\dfrac{1}{4!} + ... $$\n",
    "\n",
    "Desarolle un programa para estimar el valor de $e$ ocupando el método de Euler, donde la entrada del programa debe ser un número entero $n$ que indique cuántos términos de la suma se utilizará. \n",
    "\n",
    "Para esto:\n",
    "\n",
    "* a) Defina la función `factorial`, donde la entrada sea un número natural  $n$ y la salida sea el factorial de dicho número.\n",
    "    * **Ejemplo**: *factorial(3)* =3, *factorial(5)* = 120\n",
    "    \n",
    "    \n",
    "* b) Ocupe la función `factorial` dentro de la función `calcular_e`.     \n",
    "    * **Ejemplo**: *calcular_e(3)* = 2.6666666666666665, *calcular_e(1000)* = 2.7182818284590455"
   ]
  },
  {
   "cell_type": "code",
   "execution_count": null,
   "metadata": {},
   "outputs": [],
   "source": [
    "# respuesta\n"
   ]
  },
  {
   "cell_type": "markdown",
   "metadata": {},
   "source": [
    "**Ejercicio 08**\n",
    "\n",
    "Sea $\\sigma(n)$ definido como la suma de los divisores propios de $n$ (números menores que n que se dividen en $n$).\n",
    "\n",
    "Los [números amigos](https://en.wikipedia.org/wiki/Amicable_numbers) son  enteros positivos $n_1$ y $n_2$ tales que la suma de los divisores propios de uno es igual al otro número y viceversa, es decir, $\\sigma(n_1)=\\sigma(n_2)$ y $\\sigma(n_2)=\\sigma(n_1)$.\n",
    "\n",
    "\n",
    "Por ejemplo, los números 220 y 284 son números amigos.\n",
    "* los divisores propios de 220 son 1, 2, 4, 5, 10, 11, 20, 22, 44, 55 y 110; por lo tanto $\\sigma(220) = 284$. \n",
    "* los divisores propios de 284 son 1, 2, 4, 71 y 142; entonces $\\sigma(284) = 220$.\n",
    "\n",
    "\n",
    "Implemente una función llamada `amigos` cuyo input sean dos números naturales $n_1$ y $n_2$, cuyo output sea verifique si los números son amigos o no. \n",
    "\n",
    "Para esto:\n",
    "\n",
    "* a) Defina la función `divisores_propios`, donde la entrada sea un número natural $n$ y la salida sea una lista con los divisores propios de dicho número.\n",
    "    * **Ejemplo**: *divisores_propios(220)* = [1, 2, 4, 5, 10, 11, 20, 22, 44, 55 y 110], *divisores_propios(284)* = [1, 2, 4, 71 y 142]\n",
    "    \n",
    "    \n",
    "* b) Ocupe la función `divisores_propios` dentro de la función `amigos`.\n",
    "\n",
    "    * **Ejemplo**: *amigos(220,284)* = True, *amigos(6,5)* = False"
   ]
  },
  {
   "cell_type": "code",
   "execution_count": null,
   "metadata": {},
   "outputs": [],
   "source": [
    "# respuesta"
   ]
  },
  {
   "cell_type": "markdown",
   "metadata": {},
   "source": [
    "**Ejercicio 09**\n",
    "\n",
    "La [conjetura de Collatz](https://en.wikipedia.org/wiki/Collatz_conjecture), conocida también como conjetura $3n+1$ o conjetura de Ulam (entre otros nombres), fue enunciada por el matemático Lothar Collatz en 1937, y a la fecha no se ha resuelto.\n",
    "\n",
    "Sea la siguiente operación, aplicable a cualquier número entero positivo:\n",
    "* Si el número es par, se divide entre 2.\n",
    "* Si el número es impar, se multiplica por 3 y se suma 1.\n",
    "\n",
    "La conjetura dice que siempre alcanzaremos el 1 (y por tanto el ciclo 4, 2, 1) para cualquier número con el que comencemos. \n",
    "\n",
    "Implemente una función llamada `collatz` cuyo input sea un número natural positivo $N$ y como output devulva la secuencia de números hasta llegar a 1.\n",
    "\n",
    "* **Ejemplo**: *collatz(9)* = [9, 28, 14, 7, 22, 11, 34, 17, 52, 26, 13, 40, 20, 10, 5, 16, 8, 4, 2, 1]"
   ]
  },
  {
   "cell_type": "code",
   "execution_count": null,
   "metadata": {},
   "outputs": [],
   "source": [
    "# respuesta"
   ]
  },
  {
   "cell_type": "markdown",
   "metadata": {},
   "source": [
    "**Ejercicio 10**\n",
    "\n",
    "La [conjetura de Goldbach](https://en.wikipedia.org/wiki/Goldbach%27s_conjecture) es uno de los problemas abiertos más antiguos en matemáticas. Concretamente, G.H. Hardy, en 1921, en su famoso discurso pronunciado en la Sociedad Matemática de Copenhague, comentó que probablemente la conjetura de Goldbach no es solo uno de los problemas no resueltos más difíciles de la teoría de números, sino de todas las matemáticas. Su enunciado es el siguiente:\n",
    "\n",
    "> Todo número par mayor que 2 puede escribirse como suma de dos números primos - Christian Goldbach (1742)\n",
    "\n",
    "Implemente una función llamada `goldbach` cuyo input sea un número natural positivo $n$ y como output devuelva la suma de dos primos ($n_1$ y $n_2$) tal que: $n_1+n_2=n$. \n",
    "\n",
    "Para esto:\n",
    "\n",
    "* a) Defina la función `es_primo`, donde la entrada sea un número natural $n$ y la salida sea **True** si el número es primo y **False** en otro caso.\n",
    "    * **Ejemplo**: *es_primo(3)* = True, *es_primo(4)* = False\n",
    "    \n",
    "    \n",
    "* b)  Defina la función `lista_de_primos`, donde la entrada sea un número natural par $n$ mayor que dos y la salida sea una lista con todos los número primos entre 2 y $n$.\n",
    "    * **Ejemplo**: *lista_de_primos(4)* = [2,3], *lista_de_primos(6)* = [2,3,5], *lista_de_primos(8)* = [2,3,5,7]\n",
    "\n",
    "\n",
    "* c) Ocupe la función `lista_de_primos` dentro de la función `goldbash`.\n",
    " * **Ejemplo**: goldbash(4) = (2,2), goldbash(6) = (3,3) , goldbash(8) = (3,5)"
   ]
  },
  {
   "cell_type": "code",
   "execution_count": null,
   "metadata": {},
   "outputs": [],
   "source": [
    "# respuesta"
   ]
  }
 ],
 "metadata": {
  "kernelspec": {
   "display_name": "Python 3 (ipykernel)",
   "language": "python",
   "name": "python3"
  },
  "language_info": {
   "codemirror_mode": {
    "name": "ipython",
    "version": 3
   },
   "file_extension": ".py",
   "mimetype": "text/x-python",
   "name": "python",
   "nbconvert_exporter": "python",
   "pygments_lexer": "ipython3",
   "version": "3.8.10"
  }
 },
 "nbformat": 4,
 "nbformat_minor": 4
}
