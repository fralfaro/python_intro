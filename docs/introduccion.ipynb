{
 "cells": [
  {
   "cell_type": "markdown",
   "id": "ba9c606f",
   "metadata": {},
   "source": [
    "# Motivación\n",
    "\n",
    "[Python](https://www.python.org/) es un lenguaje de programación interpretado de alto nivel, diseñado para ser fácil de leer y escribir. Fue creado a finales de la década de 1980 por [Guido van Rossum](https://en.wikipedia.org/wiki/Guido_van_Rossum) y se ha convertido en uno de los lenguajes de programación más populares en la actualidad. Python es un lenguaje versátil que se puede utilizar para una variedad de tareas, desde el desarrollo web y la ciencia de datos hasta la automatización de tareas y la programación de sistemas.\n",
    "\n",
    "Algunas características de Python:\n",
    "\n",
    "* **sintaxis clara y concisa**: fácil de aprender y de entender para los programadores novatos. Además, cuenta con una amplia biblioteca estándar que proporciona una gran cantidad de herramientas y módulos para realizar tareas comunes.\n",
    "\n",
    "* **lenguaje interpretado**: el código se ejecuta línea por línea, en lugar de ser compilado de antemano. Esto lo hace muy flexible y adecuado para prototipos rápidos y experimentación.\n",
    "\n",
    "* **código abierto**: el código fuente está disponible públicamente y se puede modificar y distribuir libremente. Hay una gran comunidad de desarrolladores de Python que contribuyen con módulos y herramientas útiles, y que brindan soporte y ayuda a otros usuarios.\n",
    "\n",
    "\n"
   ]
  },
  {
   "cell_type": "markdown",
   "id": "9c9c1c19",
   "metadata": {},
   "source": [
    "## Popularidad \n",
    "\n",
    "Python es uno de los lenguajes de programación más populares y ampliamente utilizados en la actualidad. Según los índices de popularidad de lenguajes de programación, Python ha estado en constante aumento en popularidad en los últimos años.\n",
    "\n",
    "El índice [TIOBE](https://www.tiobe.com/tiobe-index/), que mide la popularidad de los lenguajes de programación según la frecuencia con la que se buscan en los motores de búsqueda, ha situado a Python entre los tres lenguajes de programación más populares en los últimos años, después de Java y C.\n",
    "\n",
    "Además, en la encuesta anual [Stack Overflow Developer Survey 2021](https://insights.stackoverflow.com/survey/2021), Python fue el tercer lenguaje de programación más popular, después de JavaScript y HTML/CSS. También se ha convertido en uno de los lenguajes más populares para la ciencia de datos y el aprendizaje automático.\n",
    "\n",
    "\n",
    "<img src=\"https://raw.githubusercontent.com/fralfaro/python_intro/main/docs/images/survey_2021.png\" alt=\"\" align=\"center\" />"
   ]
  },
  {
   "cell_type": "markdown",
   "id": "9c14998e",
   "metadata": {},
   "source": [
    "**¿Es buena la popularidad de Python?**\n",
    "\n",
    "Sí, la popularidad de Python es una señal de su relevancia en el mundo de la programación y puede tener varias ventajas para los usuarios y la comunidad en general.\n",
    "\n",
    "En primer lugar, una mayor popularidad significa que hay una amplia comunidad de desarrolladores y usuarios de Python en todo el mundo, lo que hace que sea más fácil encontrar recursos, soporte y ayuda en línea. Además, una gran comunidad de usuarios también implica que hay una gran cantidad de bibliotecas y módulos disponibles, lo que permite a los usuarios aprovechar el código existente y acelerar el desarrollo.\n",
    "\n",
    "En segundo lugar, la popularidad de Python lo convierte en una habilidad valiosa en el mercado laboral, con una amplia gama de oportunidades de carrera en diferentes sectores, incluyendo la ciencia de datos, la inteligencia artificial, el desarrollo web, la automatización y la programación de sistemas.\n",
    "\n",
    "Por último, la popularidad de Python también puede significar que hay una gran inversión en su desarrollo y mejora continua, lo que resulta en una mayor calidad y eficiencia del lenguaje de programación.\n",
    "\n",
    "En general, la popularidad de Python es una buena señal y es una de las razones por las que se ha convertido en un lenguaje de programación tan popular y utilizado en todo el mundo."
   ]
  },
  {
   "cell_type": "markdown",
   "id": "e38bef8d",
   "metadata": {},
   "source": [
    "## Librerías y frameworks\n",
    "\n",
    "<img src=\"https://raw.githubusercontent.com/fralfaro/python_intro/main/docs/images/librerias.png\" alt=\"\" align=\"center\" />"
   ]
  },
  {
   "cell_type": "markdown",
   "id": "7082f40b",
   "metadata": {},
   "source": [
    "Una gran ventaja de Python es la amplia selección de **librerías** y **frameworks** que ofrece. \n",
    "\n",
    "Hay librerías para distintos tópicos:\n",
    "\n",
    "* Manipulación de datos \n",
    "* Visualización de datos \n",
    "* Aprendizaje automático\n",
    "* Ciencia de los datos\n",
    "* Procesamiento natural del lenguaje\n",
    "* Big Data\n",
    "\n",
    "Lo mismo es cierto para los `frameworks`, que ayudan a despegar su proyecto y le ahorran tiempo y esfuerzo. Hay una variedad de marcos para elegir, dependiendo de sus necesidades, por ejemplo, para el desarrollo web tenemos:\n",
    "\n",
    "* **Django**: Es un framework de Python que se utiliza para el desarrollo de aplicaciones web. Ofrece una arquitectura de modelo-vista-controlador (MVC) y herramientas para la administración de bases de datos, la autenticación y la seguridad.\n",
    "\n",
    "* **Flask**: Es un framework de Python que se utiliza para el desarrollo de aplicaciones web de menor escala y más simples. Ofrece una amplia gama de herramientas y extensiones para la creación de aplicaciones web."
   ]
  },
  {
   "cell_type": "markdown",
   "id": "707e41b1",
   "metadata": {},
   "source": [
    "## Performance\n",
    "\n",
    "<img src=\"https://raw.githubusercontent.com/fralfaro/python_intro/main/docs/images/tuning-performance.jpg\" alt=\"\" align=\"center\" />"
   ]
  },
  {
   "cell_type": "markdown",
   "id": "2ed06595",
   "metadata": {},
   "source": [
    "Python es un lenguaje de programación interpretado de alto nivel, lo que significa que su rendimiento puede ser más lento que otros lenguajes de programación de menor nivel, como C o C++. Sin embargo, Python ofrece varias técnicas y herramientas para mejorar el rendimiento y la eficiencia de sus programas. Aquí hay algunas de ellas:\n",
    "\n",
    "* **Compilación JIT**: Python ofrece la opción de utilizar un compilador Just-In-Time (JIT), como PyPy, que puede mejorar significativamente el rendimiento de los programas al compilar el código en tiempo de ejecución.\n",
    "\n",
    "* **CPython**: Python también se puede ejecutar en una implementación de C llamada CPython, lo que puede mejorar el rendimiento de algunos programas.\n",
    "\n",
    "* **Uso de bibliotecas nativas**: Python ofrece la capacidad de usar bibliotecas nativas, como NumPy, que están escritas en lenguajes de bajo nivel como C y Fortran para realizar operaciones numéricas de manera más eficiente.\n",
    "\n",
    "* **Uso de estructuras de datos eficientes**: Python ofrece varias estructuras de datos, como las listas y los diccionarios, que se pueden usar de manera eficiente para mejorar el rendimiento de los programas.\n",
    "\n",
    "* **Uso de algoritmos eficientes**: El uso de algoritmos eficientes también puede mejorar significativamente el rendimiento de los programas en Python.\n",
    "\n",
    "En general, Python puede ofrecer un buen rendimiento en comparación con otros lenguajes de programación interpretados, y hay varias técnicas y herramientas disponibles para mejorar aún más su rendimiento y eficiencia. Sin embargo, es importante recordar que el rendimiento dependerá en gran medida del uso que se le dé al lenguaje y de cómo se escriban los programas."
   ]
  },
  {
   "cell_type": "markdown",
   "id": "cbf9e292",
   "metadata": {},
   "source": [
    "## Referencia\n",
    "\n",
    "1. [Tutorial de Python 3.8 documentation](https://docs.python.org/es/3.8/tutorial/index.html)"
   ]
  }
 ],
 "metadata": {
  "jupytext": {
   "cell_metadata_filter": "-all",
   "main_language": "python",
   "notebook_metadata_filter": "-all"
  },
  "kernelspec": {
   "display_name": "Python 3 (ipykernel)",
   "language": "python",
   "name": "python3"
  },
  "language_info": {
   "codemirror_mode": {
    "name": "ipython",
    "version": 3
   },
   "file_extension": ".py",
   "mimetype": "text/x-python",
   "name": "python",
   "nbconvert_exporter": "python",
   "pygments_lexer": "ipython3",
   "version": "3.8.10"
  }
 },
 "nbformat": 4,
 "nbformat_minor": 5
}
