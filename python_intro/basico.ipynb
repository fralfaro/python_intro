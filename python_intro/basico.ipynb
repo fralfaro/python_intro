{
 "cells": [
  {
   "cell_type": "markdown",
   "metadata": {},
   "source": [
    "# Nomenclatura \n",
    "\n",
    "## Sintaxis\n",
    "\n",
    "### Hola mundo!\n",
    "\n",
    "Escribamos nuestro primer programa de Python, \"¡Hola, mundo!\". Es un programa simple que imprime Hello World! en el dispositivo de salida estándar (pantalla). Para eso se ocupa el comando `print()`.\n"
   ]
  },
  {
   "cell_type": "code",
   "execution_count": 1,
   "metadata": {},
   "outputs": [
    {
     "name": "stdout",
     "output_type": "stream",
     "text": [
      "Hola Mundo!\n"
     ]
    }
   ],
   "source": [
    "# imprimir \"Hola Mundo!\"\n",
    "print(\"Hola Mundo!\");"
   ]
  },
  {
   "cell_type": "markdown",
   "metadata": {},
   "source": [
    "### Variables\n",
    "\n",
    "Una **variable** es una ubicación con nombre utilizada para almacenar datos en la memoria. Una **asignación** es una sentencia que asocia un nombre al resultado de una expresión. "
   ]
  },
  {
   "cell_type": "code",
   "execution_count": 1,
   "metadata": {},
   "outputs": [
    {
     "name": "stdout",
     "output_type": "stream",
     "text": [
      "a = 5\n"
     ]
    }
   ],
   "source": [
    "# asignar e imprimir variables (numericas)\n",
    "a = 5\n",
    "print(\"a =\", 5)"
   ]
  },
  {
   "cell_type": "code",
   "execution_count": 2,
   "metadata": {},
   "outputs": [
    {
     "name": "stdout",
     "output_type": "stream",
     "text": [
      "a = cinco\n"
     ]
    }
   ],
   "source": [
    "# asignar e imprimir variables (texto)\n",
    "a = \"cinco\"\n",
    "print(\"a =\", a)"
   ]
  },
  {
   "cell_type": "markdown",
   "metadata": {},
   "source": [
    "### Imprimir mensajes y variables\n",
    "\n",
    "La formula para imprimir mensajes y variables es:\n",
    "\n",
    "```python\n",
    "print(\"mensaje_01\",variable_01,\"mensaje_02\",variable_02,...)\n",
    "```"
   ]
  },
  {
   "cell_type": "code",
   "execution_count": 5,
   "metadata": {},
   "outputs": [
    {
     "name": "stdout",
     "output_type": "stream",
     "text": [
      "La suma de 5 con 4 es igual a 9\n"
     ]
    }
   ],
   "source": [
    "# Ejemplo\n",
    "\n",
    "x = 5\n",
    "y = 4\n",
    "suma = x+y\n",
    "\n",
    "print(\"La suma de\", x, \"con\", y, \"es igual a\", suma)"
   ]
  },
  {
   "cell_type": "markdown",
   "metadata": {},
   "source": [
    "Existen varias formas de imprimir variables y strings, sin embargo, la que más se destaca es la forma **Literal String Interpolation** (o también conocido como **f-string**). La formula es la siguiente:\n",
    "\n",
    "```python\n",
    "print(f\"mensaje_01 {variable_01} mensaje_02 {variable_02} ...\")\n",
    "```"
   ]
  },
  {
   "cell_type": "code",
   "execution_count": 6,
   "metadata": {},
   "outputs": [
    {
     "name": "stdout",
     "output_type": "stream",
     "text": [
      "La suma de 5 con 4 es igual a igual a 9\n"
     ]
    }
   ],
   "source": [
    "# ejemplo f-string\n",
    "print(f\"La suma de {x} con {y} es igual a igual a {suma}\")"
   ]
  },
  {
   "cell_type": "markdown",
   "metadata": {},
   "source": [
    "> **Observación**: Se tratara de trabajar siempre con la forma **f-string** para ser consistente."
   ]
  },
  {
   "cell_type": "markdown",
   "metadata": {},
   "source": [
    "### Inputs por el usuario\n",
    "\n",
    "En Python, puede usar la función `input()` para tomar la entrada del usuario. Por ejemplo:\n"
   ]
  },
  {
   "cell_type": "markdown",
   "metadata": {
    "pycharm": {
     "name": "#%% md\n"
    }
   },
   "source": [
    "```python\n",
    "# inputs por el usuario\n",
    "inputString = input('Escriba una oracion:')\n",
    "print(f'Su oracion es: {inputString}')\n",
    "```"
   ]
  },
  {
   "cell_type": "markdown",
   "metadata": {},
   "source": [
    "## Python tipos \n",
    "\n",
    "### Enteros, flotantes y números complejos"
   ]
  },
  {
   "cell_type": "markdown",
   "metadata": {},
   "source": [
    "Python admite enteros, números de coma flotante y números complejos. Se definen como `int`, `float` y `complex` en Python."
   ]
  },
  {
   "cell_type": "code",
   "execution_count": 3,
   "metadata": {},
   "outputs": [
    {
     "name": "stdout",
     "output_type": "stream",
     "text": [
      "<class 'int'>\n"
     ]
    }
   ],
   "source": [
    "# entero \n",
    "a = 5\n",
    "print(type(a))"
   ]
  },
  {
   "cell_type": "code",
   "execution_count": 4,
   "metadata": {},
   "outputs": [
    {
     "name": "stdout",
     "output_type": "stream",
     "text": [
      "<class 'float'>\n"
     ]
    }
   ],
   "source": [
    "# flotante \n",
    "b = 1.5\n",
    "print(type(b))"
   ]
  },
  {
   "cell_type": "code",
   "execution_count": 5,
   "metadata": {},
   "outputs": [
    {
     "name": "stdout",
     "output_type": "stream",
     "text": [
      "<class 'complex'>\n"
     ]
    }
   ],
   "source": [
    "# complejo \n",
    "c = 5 + 3j\n",
    "print(type(c))"
   ]
  },
  {
   "cell_type": "markdown",
   "metadata": {},
   "source": [
    "### Valores lógicos\n",
    "\n",
    "Los valores lógicos `True` y `False` (verdadero y falso) son de tipo `bool`, que representa valores lógicos.\n",
    "\n",
    "El nombre bool viene del matemático **George Boole**, quien creó un sistema algebraico para la lógica binaria. Por lo mismo, a `True` y `False` también se les llama **valores booleanos**. El nombre no es muy intuitivo, pero es el que se usa en informática, así que hay que conocerlo."
   ]
  },
  {
   "cell_type": "code",
   "execution_count": 6,
   "metadata": {},
   "outputs": [
    {
     "name": "stdout",
     "output_type": "stream",
     "text": [
      "<class 'bool'>\n"
     ]
    }
   ],
   "source": [
    "a = True\n",
    "print(type(a))"
   ]
  },
  {
   "cell_type": "code",
   "execution_count": 7,
   "metadata": {},
   "outputs": [
    {
     "name": "stdout",
     "output_type": "stream",
     "text": [
      "<class 'bool'>\n"
     ]
    }
   ],
   "source": [
    "b = False\n",
    "print(type(b))"
   ]
  },
  {
   "cell_type": "markdown",
   "metadata": {},
   "source": [
    "### Texto\n",
    "A los valores que representan texto se les llama `strings`, y tienen el tipo `str`.\n",
    "\n",
    "Los strings literales pueden ser representados con texto entre comillas simples o comillas dobles:"
   ]
  },
  {
   "cell_type": "code",
   "execution_count": 8,
   "metadata": {},
   "outputs": [
    {
     "name": "stdout",
     "output_type": "stream",
     "text": [
      "<class 'str'>\n"
     ]
    }
   ],
   "source": [
    "# comillas simples\n",
    "a = 'hola mundo'\n",
    "print(type(a))"
   ]
  },
  {
   "cell_type": "code",
   "execution_count": 9,
   "metadata": {},
   "outputs": [
    {
     "name": "stdout",
     "output_type": "stream",
     "text": [
      "<class 'str'>\n"
     ]
    }
   ],
   "source": [
    "# comillas complejas\n",
    "b = \"hola mundo\"\n",
    "print(type(b))"
   ]
  },
  {
   "cell_type": "markdown",
   "metadata": {},
   "source": [
    "#### Métodos "
   ]
  },
  {
   "cell_type": "markdown",
   "metadata": {},
   "source": [
    "Existe algunas métodos aplicable a los `strings`:"
   ]
  },
  {
   "cell_type": "code",
   "execution_count": 4,
   "metadata": {},
   "outputs": [
    {
     "name": "stdout",
     "output_type": "stream",
     "text": [
      "hola mundo\n"
     ]
    }
   ],
   "source": [
    "# lower\n",
    "texto = \"HOLA MUNDO\"\n",
    "print(texto.lower())"
   ]
  },
  {
   "cell_type": "code",
   "execution_count": 5,
   "metadata": {},
   "outputs": [
    {
     "name": "stdout",
     "output_type": "stream",
     "text": [
      "HOLA MUNDO\n"
     ]
    }
   ],
   "source": [
    "# upper\n",
    "texto = \"hola mundo\"\n",
    "print(texto.upper())"
   ]
  },
  {
   "cell_type": "code",
   "execution_count": 7,
   "metadata": {},
   "outputs": [
    {
     "name": "stdout",
     "output_type": "stream",
     "text": [
      "hola mundo\n"
     ]
    }
   ],
   "source": [
    "# strip\n",
    "texto = \" hola mundo \"\n",
    "print(texto.strip())"
   ]
  },
  {
   "cell_type": "code",
   "execution_count": 8,
   "metadata": {},
   "outputs": [
    {
     "name": "stdout",
     "output_type": "stream",
     "text": [
      " hola universo \n"
     ]
    }
   ],
   "source": [
    "# replace\n",
    "texto = \" hola mundo \"\n",
    "cambiar = \"universo\"\n",
    "print(texto.replace(\"mundo\",\"universo\"))"
   ]
  },
  {
   "cell_type": "markdown",
   "metadata": {},
   "source": [
    "#### Indexaciones\n",
    "\n",
    "Cada uno de los caracteres de un string (incluidos los espacios) tiene asignado un índice. Este indice nos permite seleccionar su carácter asociado haciendo referencia a él entre corchetes (`[]`) en el nombre de la variable que almacena la cadena.\n",
    "\n",
    "<img src=\"./images/index.png\"  align=\"center\"  />\n"
   ]
  },
  {
   "cell_type": "code",
   "execution_count": 25,
   "metadata": {},
   "outputs": [
    {
     "name": "stdout",
     "output_type": "stream",
     "text": [
      "P\n"
     ]
    }
   ],
   "source": [
    "# seleccion primer elemento \n",
    "texto = \"Python\"\n",
    "print(texto[0])"
   ]
  },
  {
   "cell_type": "code",
   "execution_count": 26,
   "metadata": {},
   "outputs": [
    {
     "name": "stdout",
     "output_type": "stream",
     "text": [
      "n\n"
     ]
    }
   ],
   "source": [
    "# seleccion ultimo elemento \n",
    "print(texto[-1])"
   ]
  },
  {
   "cell_type": "markdown",
   "metadata": {},
   "source": [
    "Otra operación que podemos realizar a una cadena es seleccionar solamente una parte de ella. Para ello se usa la notación `[inicio:fin:paso]` también en el nombre de la variable que almacena la cadena, donde:\n",
    "\n",
    "* **Inicio**: es el índice del primer carácter de la porción de la cadena que queremos seleccionar.\n",
    "* **Fin**: es el índice del último carácter no incluido de la porción de la cadena que queremos seleccionar.\n",
    "* **Paso**: indica cada cuantos caracteres seleccionamos entre las posiciones de inicio y fin."
   ]
  },
  {
   "cell_type": "code",
   "execution_count": 17,
   "metadata": {},
   "outputs": [],
   "source": [
    "texto = \"Programa en Python\""
   ]
  },
  {
   "cell_type": "code",
   "execution_count": 18,
   "metadata": {},
   "outputs": [
    {
     "name": "stdout",
     "output_type": "stream",
     "text": [
      "Programa\n"
     ]
    }
   ],
   "source": [
    "# seleccionar los elementos del primero al noveno en pasos de uno\n",
    "print(texto[0:8:1])"
   ]
  },
  {
   "cell_type": "code",
   "execution_count": 21,
   "metadata": {},
   "outputs": [
    {
     "name": "stdout",
     "output_type": "stream",
     "text": [
      "Programa\n"
     ]
    }
   ],
   "source": [
    "# seleccionar los elementos del primero al noveno\n",
    "print(texto[:8])"
   ]
  },
  {
   "cell_type": "code",
   "execution_count": 23,
   "metadata": {},
   "outputs": [
    {
     "name": "stdout",
     "output_type": "stream",
     "text": [
      "Python\n"
     ]
    }
   ],
   "source": [
    "# seleccionar los elementos del treceavo en adelante\n",
    "print(texto[12:])"
   ]
  },
  {
   "cell_type": "markdown",
   "metadata": {},
   "source": [
    "**Observación**: Para imprimir el largo de un texto, puede usar el comando `len`."
   ]
  },
  {
   "cell_type": "code",
   "execution_count": 2,
   "metadata": {},
   "outputs": [
    {
     "name": "stdout",
     "output_type": "stream",
     "text": [
      "El texto tiene 18 letras\n"
     ]
    }
   ],
   "source": [
    "texto = \"Programa en Python\"\n",
    "largo = len(texto)\n",
    "\n",
    "print(f\"El texto tiene {largo} letras\")"
   ]
  },
  {
   "cell_type": "markdown",
   "metadata": {},
   "source": [
    "### Nulo\n",
    "Existe un valor llamado `None` (en inglés, «ninguno») que es utilizado para representar casos en que ningún valor es válido, o para indicar que una variable todavía no tiene un valor que tenga sentido.\n",
    "\n",
    "El valor None tiene su propio tipo, llamado `NoneType`, que es diferente al de todos los demás valores."
   ]
  },
  {
   "cell_type": "code",
   "execution_count": 10,
   "metadata": {},
   "outputs": [
    {
     "name": "stdout",
     "output_type": "stream",
     "text": [
      "<class 'NoneType'>\n"
     ]
    }
   ],
   "source": [
    "a = None\n",
    "print(type(a))"
   ]
  },
  {
   "cell_type": "markdown",
   "metadata": {},
   "source": [
    "### Conversión de tipo\n",
    "\n",
    "El proceso de convertir el valor de un tipo de datos (entero, cadena, flotante, etc.) en otro se llama conversión de tipo. Python tiene dos tipos de conversión de tipos.\n",
    "\n",
    "**a) Implícita**"
   ]
  },
  {
   "cell_type": "code",
   "execution_count": 17,
   "metadata": {},
   "outputs": [
    {
     "name": "stdout",
     "output_type": "stream",
     "text": [
      "Valor de num_new: 124.23\n",
      "tipo de datos de  num_new: <class 'float'>\n"
     ]
    }
   ],
   "source": [
    "# correcto (numerico  + numerico)\n",
    "\n",
    "num_int = 123  # integer type\n",
    "num_flo = 1.23 # float type\n",
    "\n",
    "num_new = num_int + num_flo\n",
    "\n",
    "print(f\"Valor de num_new: {num_new}\")\n",
    "print(f\"tipo de datos de  num_new: {type(num_new)}\")"
   ]
  },
  {
   "cell_type": "code",
   "execution_count": 8,
   "metadata": {},
   "outputs": [
    {
     "ename": "TypeError",
     "evalue": "unsupported operand type(s) for +: 'int' and 'str'",
     "output_type": "error",
     "traceback": [
      "\u001b[1;31m---------------------------------------------------------------------------\u001b[0m",
      "\u001b[1;31mTypeError\u001b[0m                                 Traceback (most recent call last)",
      "\u001b[1;32m<ipython-input-8-9704f11297d8>\u001b[0m in \u001b[0;36m<module>\u001b[1;34m\u001b[0m\n\u001b[0;32m      3\u001b[0m \u001b[0mnum_str\u001b[0m \u001b[1;33m=\u001b[0m \u001b[1;34m\"456\"\u001b[0m   \u001b[1;31m# str type\u001b[0m\u001b[1;33m\u001b[0m\u001b[1;33m\u001b[0m\u001b[0m\n\u001b[0;32m      4\u001b[0m \u001b[1;33m\u001b[0m\u001b[0m\n\u001b[1;32m----> 5\u001b[1;33m \u001b[0mprint\u001b[0m\u001b[1;33m(\u001b[0m\u001b[0mnum_int\u001b[0m\u001b[1;33m+\u001b[0m\u001b[0mnum_str\u001b[0m\u001b[1;33m)\u001b[0m\u001b[1;33m\u001b[0m\u001b[1;33m\u001b[0m\u001b[0m\n\u001b[0m",
      "\u001b[1;31mTypeError\u001b[0m: unsupported operand type(s) for +: 'int' and 'str'"
     ]
    }
   ],
   "source": [
    "# incorrecto (string  + numerico)\n",
    "num_int = 123     # int type\n",
    "num_str = \"456\"   # str type\n",
    "\n",
    "print(num_int+num_str)"
   ]
  },
  {
   "cell_type": "markdown",
   "metadata": {},
   "source": [
    "**b) Explícito**"
   ]
  },
  {
   "cell_type": "code",
   "execution_count": 13,
   "metadata": {},
   "outputs": [
    {
     "name": "stdout",
     "output_type": "stream",
     "text": [
      "579\n"
     ]
    }
   ],
   "source": [
    "num_int = 123  # int type\n",
    "num_str = \"456\" # str type\n",
    "\n",
    "# cambiar string a numerico\n",
    "num_str = int(num_str) \n",
    "\n",
    "print(num_int+num_str)"
   ]
  },
  {
   "cell_type": "markdown",
   "metadata": {},
   "source": [
    "**Observación**: el proceso de transformar `string` a `numeric` es correcto cuando lo que está escrito en el `string` es un número, en caso contrario, nos dará error. "
   ]
  },
  {
   "cell_type": "markdown",
   "metadata": {},
   "source": [
    "## Operaciones\n",
    "### Operadores aritméticos\n",
    "\n",
    "Los operadores son símbolos especiales que realizan operaciones en operandos (variables y valores). Hablemos de operadores aritméticos y de asignación en esta parte."
   ]
  },
  {
   "cell_type": "code",
   "execution_count": 21,
   "metadata": {},
   "outputs": [
    {
     "name": "stdout",
     "output_type": "stream",
     "text": [
      "x + y = 18\n",
      "x - y = 10\n",
      "x * y = 56\n",
      "x / y = 3.5\n",
      "x // y = 3\n"
     ]
    }
   ],
   "source": [
    "# operaciones basicas \n",
    "\n",
    "x = 14\n",
    "y = 4\n",
    "\n",
    "# suma\n",
    "print(f'x + y = {x+y}') # Output: x + y = 18\n",
    "\n",
    "# resta\n",
    "print(f'x - y = {x-y}') # Output: x - y = 10\n",
    "\n",
    "# multiplicacion\n",
    "print(f'x * y = {x*y}') # Output: x * y = 56\n",
    "\n",
    "# division\n",
    "print(f'x / y = {x/y}') # Output: x / y = 3.5\n",
    "\n",
    "# cuociente o division entera\n",
    "print(f'x // y = {x//y}') # Output: x // y = 3"
   ]
  },
  {
   "cell_type": "markdown",
   "metadata": {},
   "source": [
    "### Otros operadores arítmeticos\n",
    "\n",
    "#### Potencia\n",
    "\n",
    "La función [potencia](https://es.wikipedia.org/wiki/Potenciaci%C3%B3n) de un número entero corresponde a multiplicar $n$ veces el mismo número. Por ejemplo\n",
    "\n",
    "$$4^3 = 4*4*4 = 64$$\n",
    "\n",
    "Cuando el exponente es fracionario, hablamos de raíces. Por ejemplo:\n",
    "\n",
    "$$4^{1/2} = \\sqrt{4} = 2$$"
   ]
  },
  {
   "cell_type": "code",
   "execution_count": 28,
   "metadata": {},
   "outputs": [
    {
     "name": "stdout",
     "output_type": "stream",
     "text": [
      "potencia entera:           x ** y = 64\n",
      "potencia fraccionaria:     x ** z = 2.0\n"
     ]
    }
   ],
   "source": [
    "# operacion potencia\n",
    "x = 4\n",
    "y=3\n",
    "z=0.5\n",
    "\n",
    "print(f'potencia entera:           x ** y = {x**y}' ) \n",
    "print(f'potencia fraccionaria:     x ** z = {x**z}') "
   ]
  },
  {
   "cell_type": "markdown",
   "metadata": {},
   "source": [
    "#### Módulo\n",
    "\n",
    "Cuando dividimos dos enteros, tenemos una ecuación que se ve como lo siguiente:\n",
    "$$\\dfrac{A}{B} = Q \\text{ residuo } R,$$\n",
    "donde:\n",
    "* $A$ es el dividendo\n",
    "* $B$ es el divisor\n",
    "* $Q$ es el cociente\n",
    "* $R$ es el residuo\n",
    "\n",
    "A veces, solo estamos interesados en cuánto es el residuo cuando dividimos $A$ entre $B$. Para estos casos hay un operador llamado el operador [módulo](https://es.khanacademy.org/computing/computer-science/cryptography/modarithmetic/a/what-is-modular-arithmetic) (abreviado como mod). \n",
    "\n",
    "Al usar los mismos $A$, $B$, $Q$ y $R$ que arriba, tendríamos: $A \\text{ mod } B = R$ (notación). Por ejemplo:\n",
    "\n",
    "\n",
    "$$\\dfrac{13}{4} = 3 \\text{ residuo } 1 \\textrm{, es equivalente a: } 13 \\textrm{ mod } 4 = 1 $$\n"
   ]
  },
  {
   "cell_type": "code",
   "execution_count": 24,
   "metadata": {},
   "outputs": [
    {
     "name": "stdout",
     "output_type": "stream",
     "text": [
      "x % y = 1\n"
     ]
    }
   ],
   "source": [
    "# modulo\n",
    "x = 13\n",
    "y = 4\n",
    "print(f'x % y = {x%y}')"
   ]
  },
  {
   "cell_type": "markdown",
   "metadata": {},
   "source": [
    "#### Redondear \n",
    "La función incorporada `round()` toma como argumento un número de coma flotante y retorna un número entero según las reglas del redondeo."
   ]
  },
  {
   "cell_type": "code",
   "execution_count": 12,
   "metadata": {},
   "outputs": [],
   "source": [
    "x = 3.94987545322"
   ]
  },
  {
   "cell_type": "code",
   "execution_count": 13,
   "metadata": {},
   "outputs": [
    {
     "name": "stdout",
     "output_type": "stream",
     "text": [
      "4\n"
     ]
    }
   ],
   "source": [
    "# cero decimales\n",
    "print(round(x))"
   ]
  },
  {
   "cell_type": "code",
   "execution_count": 16,
   "metadata": {},
   "outputs": [
    {
     "name": "stdout",
     "output_type": "stream",
     "text": [
      "3.9\n"
     ]
    }
   ],
   "source": [
    "# un decimal\n",
    "print(round(x,1))"
   ]
  },
  {
   "cell_type": "code",
   "execution_count": 17,
   "metadata": {},
   "outputs": [
    {
     "name": "stdout",
     "output_type": "stream",
     "text": [
      "3.95\n"
     ]
    }
   ],
   "source": [
    "# dos decimales\n",
    "print(round(x,2))"
   ]
  },
  {
   "cell_type": "markdown",
   "metadata": {},
   "source": [
    "### Operadores de asignación\n",
    "\n",
    "Los operadores de asignación se utilizan para asignar valores a las variables. Probemos algunos operadores de asignación más comunes."
   ]
  },
  {
   "cell_type": "code",
   "execution_count": 30,
   "metadata": {},
   "outputs": [],
   "source": [
    "# operadores de asignacion\n",
    "\n",
    "x = 5"
   ]
  },
  {
   "cell_type": "code",
   "execution_count": 31,
   "metadata": {},
   "outputs": [
    {
     "name": "stdout",
     "output_type": "stream",
     "text": [
      "10\n"
     ]
    }
   ],
   "source": [
    "# x += 5 ----> x = x + 5\n",
    "x +=5\n",
    "print(x) # Output: 10"
   ]
  },
  {
   "cell_type": "code",
   "execution_count": 15,
   "metadata": {},
   "outputs": [
    {
     "name": "stdout",
     "output_type": "stream",
     "text": [
      "10\n",
      "2.0\n"
     ]
    }
   ],
   "source": [
    "# x /= 5 ----> x = x / 5\n",
    "x /= 5\n",
    "print(x) # Output: 2.0"
   ]
  },
  {
   "cell_type": "markdown",
   "metadata": {},
   "source": [
    "### Operadores de String\n",
    "\n",
    "Los operadores de string sirven para poder operar variables tipo `str`."
   ]
  },
  {
   "cell_type": "code",
   "execution_count": 9,
   "metadata": {},
   "outputs": [
    {
     "name": "stdout",
     "output_type": "stream",
     "text": [
      "hola mundo\n"
     ]
    }
   ],
   "source": [
    "# suma\n",
    "texto_01 = \"hola \"\n",
    "texto_02 = \"mundo\"\n",
    "print(texto_01+texto_02)"
   ]
  },
  {
   "cell_type": "code",
   "execution_count": 10,
   "metadata": {},
   "outputs": [
    {
     "name": "stdout",
     "output_type": "stream",
     "text": [
      "hola mundo hola mundo hola mundo hola mundo \n"
     ]
    }
   ],
   "source": [
    "# multiplicacion\n",
    "texto = \"hola mundo \"\n",
    "print(4*texto)"
   ]
  },
  {
   "cell_type": "markdown",
   "metadata": {},
   "source": [
    "### Operadores relacionales\n",
    "\n",
    "\n",
    "Los operadores relacionales sirven para comparar valores. Sus operandos son cualquier cosa que pueda ser comparada, y sus resultados siempre son valores lógicos.\n",
    "\n",
    "####  Operadores relacionales (numéricos)"
   ]
  },
  {
   "cell_type": "code",
   "execution_count": 38,
   "metadata": {
    "pycharm": {
     "name": "#%%\n"
    }
   },
   "outputs": [
    {
     "name": "stdout",
     "output_type": "stream",
     "text": [
      "x = y  False\n",
      "x != y True\n",
      "x > y  True\n",
      "x >= y True\n",
      "x < y  False\n",
      "x <= y False\n"
     ]
    }
   ],
   "source": [
    "# operadores relacionales (numericos)\n",
    "\n",
    "x = 14\n",
    "y = 4\n",
    "\n",
    "# igual a\n",
    "print(f'x = y  {x==y}') \n",
    "\n",
    "# distinto\n",
    "print(f'x != y {x!=y}')\n",
    "\n",
    "# mayor que\n",
    "print(f'x > y  {x>y}')\n",
    "\n",
    "# mayor o igualque\n",
    "print(f'x >= y {x>=y}') \n",
    "\n",
    "# menor  que\n",
    "print(f'x < y  {x<y}') \n",
    "\n",
    "# menor o igual que\n",
    "print(f'x <= y {x<=y}') "
   ]
  },
  {
   "cell_type": "markdown",
   "metadata": {},
   "source": [
    "####  Operadores relacionales ( string )"
   ]
  },
  {
   "cell_type": "code",
   "execution_count": 50,
   "metadata": {},
   "outputs": [],
   "source": [
    "# operadores relacionales ( string )\n",
    "texto = \"Python\"\n",
    "otro_texto = \"programa\""
   ]
  },
  {
   "cell_type": "code",
   "execution_count": 51,
   "metadata": {},
   "outputs": [
    {
     "name": "stdout",
     "output_type": "stream",
     "text": [
      "False\n"
     ]
    }
   ],
   "source": [
    "# igualdad \n",
    "print(texto == otro_texto)"
   ]
  },
  {
   "cell_type": "code",
   "execution_count": 52,
   "metadata": {},
   "outputs": [
    {
     "name": "stdout",
     "output_type": "stream",
     "text": [
      "True\n"
     ]
    }
   ],
   "source": [
    "# desigualdad \n",
    "print(texto != otro_texto)"
   ]
  },
  {
   "cell_type": "code",
   "execution_count": 53,
   "metadata": {},
   "outputs": [
    {
     "name": "stdout",
     "output_type": "stream",
     "text": [
      "True\n"
     ]
    }
   ],
   "source": [
    "# un string esta en un texto\n",
    "print(\"thon\" in texto)"
   ]
  },
  {
   "cell_type": "code",
   "execution_count": 54,
   "metadata": {},
   "outputs": [
    {
     "name": "stdout",
     "output_type": "stream",
     "text": [
      "False\n"
     ]
    }
   ],
   "source": [
    "# un string NO esta en un texto\n",
    "print(\"thon\" not in texto)"
   ]
  },
  {
   "cell_type": "markdown",
   "metadata": {},
   "source": [
    "#### Operaciones Binarias\n",
    "\n",
    "Una [tabla de verdad](https://es.wikipedia.org/wiki/Tabla_de_verdad), o tabla de valores de verdades, es una tabla que muestra el valor de verdad de una proposición compuesta, para cada combinación de verdad que se pueda asignar.\n",
    "\n",
    "| p \t| q \t| p ∧ q \t| p v q \t| ¬p \t| ¬q \t|\n",
    "|:-:\t|:-:\t|:-----:\t|:-----:\t|:--:\t|:--:\t|\n",
    "| T \t| T \t|   T   \t|   T   \t|  F \t|  F \t|\n",
    "| T \t| F \t|   F   \t|   T   \t|  F \t|  T \t|\n",
    "| F \t| T \t|   F   \t|   T   \t|  T \t|  F \t|\n",
    "| F \t| F \t|   F   \t|   F   \t|  T \t|  T \t|\n",
    "\n",
    "En python, los operadores binarios son:\n",
    "* **Conjunción** (*y*): `and`\n",
    "* **Disyunción** (*o*): `or`\n",
    "* **Negación** (*no*): `not`\n"
   ]
  },
  {
   "cell_type": "code",
   "execution_count": 4,
   "metadata": {},
   "outputs": [
    {
     "name": "stdout",
     "output_type": "stream",
     "text": [
      "False\n"
     ]
    }
   ],
   "source": [
    "# ejemplos 'and'\n",
    "valor = True and False\n",
    "print(valor)"
   ]
  },
  {
   "cell_type": "code",
   "execution_count": 5,
   "metadata": {},
   "outputs": [
    {
     "name": "stdout",
     "output_type": "stream",
     "text": [
      "True\n"
     ]
    }
   ],
   "source": [
    "# ejemplos 'or'\n",
    "valor = True or False\n",
    "print(valor)"
   ]
  },
  {
   "cell_type": "code",
   "execution_count": 6,
   "metadata": {},
   "outputs": [
    {
     "name": "stdout",
     "output_type": "stream",
     "text": [
      "False\n"
     ]
    }
   ],
   "source": [
    "# ejemplos 'not'\n",
    "valor = not True\n",
    "print(valor)"
   ]
  },
  {
   "cell_type": "markdown",
   "metadata": {},
   "source": [
    "## Ejercicios"
   ]
  },
  {
   "cell_type": "markdown",
   "metadata": {},
   "source": [
    "### Ejercicio 01\n",
    "\n",
    "Escriba un programa que pida al usuario que escriba su nombre, y lo salude llamándolo por su nombre.\n",
    "\n",
    "```terminal\n",
    "Ingrese su nombre: Perico\n",
    "Hola, Perico\n",
    "```"
   ]
  },
  {
   "cell_type": "code",
   "execution_count": null,
   "metadata": {
    "pycharm": {
     "name": "#%%\n"
    }
   },
   "outputs": [],
   "source": []
  },
  {
   "cell_type": "markdown",
   "metadata": {},
   "source": [
    "### Ejercicio 02\n",
    "\n",
    "Escriba un programa que reciba como entrada el radio de un círculo y entregue como salida su perímetro y su área:\n",
    "```terminal\n",
    "Ingrese el radio: 5\n",
    "Perimetro: 31.4\n",
    "Área: 78.5\n",
    "```"
   ]
  },
  {
   "cell_type": "code",
   "execution_count": null,
   "metadata": {
    "pycharm": {
     "name": "#%%\n"
    }
   },
   "outputs": [],
   "source": []
  },
  {
   "cell_type": "markdown",
   "metadata": {},
   "source": [
    "### Ejercicio 03\n",
    "\n",
    "Escriba un programa que calcule el promedio de 4 notas ingresadas por el usuario:\n",
    "\n",
    "\n",
    "```terminal\n",
    "Primera nota: 55\n",
    "Segunda nota: 71\n",
    "Tercera nota: 46\n",
    "Cuarta nota: 87\n",
    "El promedio es: 64.75\n",
    "```"
   ]
  },
  {
   "cell_type": "code",
   "execution_count": null,
   "metadata": {
    "pycharm": {
     "name": "#%%\n"
    }
   },
   "outputs": [],
   "source": []
  },
  {
   "cell_type": "markdown",
   "metadata": {},
   "source": [
    "### Ejercicio 04\n",
    "\n",
    "Escriba un programa que convierta de centímetros a pulgadas. Una pulgada es igual a 2.54 centímetros.\n",
    "\n",
    "\n",
    "```terminal\n",
    "Ingrese longitud: 45\n",
    "45 cm = 17.7165 in\n",
    "```"
   ]
  },
  {
   "cell_type": "code",
   "execution_count": null,
   "metadata": {
    "pycharm": {
     "name": "#%%\n"
    }
   },
   "outputs": [],
   "source": []
  },
  {
   "cell_type": "markdown",
   "metadata": {},
   "source": [
    "### Ejercicio 05\n",
    "\n",
    "Escriba un programa que reciba como entrada las longitudes de los dos catetos $a$ y $b$ de un triángulo rectángulo, y que entregue como salida el largo de la hipotenusa $c$ del triangulo, dado por el teorema de Pitágoras: $c^2=a^2+b^2$.\n",
    "\n",
    "```terminal\n",
    "Ingrese cateto a: 7\n",
    "Ingrese cateto b: 5\n",
    "La hipotenusa es 8.6023252670426267\n",
    "```"
   ]
  },
  {
   "cell_type": "code",
   "execution_count": null,
   "metadata": {
    "pycharm": {
     "name": "#%%\n"
    }
   },
   "outputs": [],
   "source": []
  },
  {
   "cell_type": "markdown",
   "metadata": {},
   "source": [
    "### Ejercicio 06\n",
    "\n",
    "Escriba un programa que pregunte al usuario la hora actual $t$ del reloj y un número entero de horas $h$, que indique qué hora marcará el reloj dentro de $h$ horas:\n",
    "\n",
    "\n",
    "```terminal\n",
    "Hora actual: 3\n",
    "Cantidad de horas: 5\n",
    "En 5 horas, el reloj marcara las 8\n",
    "```"
   ]
  },
  {
   "cell_type": "code",
   "execution_count": null,
   "metadata": {
    "pycharm": {
     "name": "#%%\n"
    }
   },
   "outputs": [],
   "source": []
  },
  {
   "cell_type": "markdown",
   "metadata": {},
   "source": [
    "### Ejercicio 07\n",
    "\n",
    "Un alumno desea saber que nota necesita en el tercer certamen para aprobar un ramo.\n",
    "\n",
    "El promedio del ramo se calcula con la siguiente formula.\n",
    "\n",
    "$$N_C=(C_1+C_2+C_3)/3 \\\\ N_F=N_C⋅0.7+N_L⋅0.3$$\n",
    "\n",
    "\n",
    "Donde $N_C$ es el promedio de certámenes, $N_L$ el promedio de laboratorio y $N_F$ la nota final.\n",
    "\n",
    "Escriba un programa que pregunte al usuario las notas de los dos primeros certamen y la nota de laboratorio, y muestre la nota que necesita el alumno para aprobar el ramo con nota final 60.\n",
    "\n",
    "```terminal\n",
    "Ingrese nota certamen 1: 45\n",
    "Ingrese nota certamen 2: 55\n",
    "Ingrese nota laboratorio: 65\n",
    "Necesita nota 74 en el certamen 3\n",
    "```"
   ]
  },
  {
   "cell_type": "code",
   "execution_count": null,
   "metadata": {},
   "outputs": [],
   "source": []
  }
 ],
 "metadata": {
  "kernelspec": {
   "display_name": "Python 3",
   "language": "python",
   "name": "python3"
  },
  "language_info": {
   "codemirror_mode": {
    "name": "ipython",
    "version": 3
   },
   "file_extension": ".py",
   "mimetype": "text/x-python",
   "name": "python",
   "nbconvert_exporter": "python",
   "pygments_lexer": "ipython3",
   "version": "3.8.8"
  }
 },
 "nbformat": 4,
 "nbformat_minor": 4
}
