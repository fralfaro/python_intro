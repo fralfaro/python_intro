{
 "cells": [
  {
   "cell_type": "markdown",
   "id": "e79975a3",
   "metadata": {},
   "source": [
    "# Home\n",
    "\n",
    "Introducción básica a Python\n",
    "\n",
    "## Material\n",
    "\n",
    "El material está disponible en el siguiente [repositorio](https://gitlab.com/FAAM/python_intro), para obtener el código de fuente basta con que ejecutes el siguiente comando:\n",
    "\n",
    "```\n",
    "https://gitlab.com/FAAM/python_intro\n",
    "```\n",
    "\n",
    "## Contenidos\n",
    "\n",
    "```{tableofcontents}\n",
    "```"
   ]
  }
 ],
 "metadata": {
  "jupytext": {
   "cell_metadata_filter": "-all",
   "main_language": "python",
   "notebook_metadata_filter": "-all",
   "text_representation": {
    "extension": ".md",
    "format_name": "markdown"
   }
  }
 },
 "nbformat": 4,
 "nbformat_minor": 5
}
