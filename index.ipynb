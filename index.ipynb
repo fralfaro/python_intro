{
 "cells": [
  {
   "cell_type": "markdown",
   "id": "e79975a3",
   "metadata": {},
   "source": [
    "# Home\n",
    "![example workflow](https://github.com/fralfaro/python_intro/actions/workflows/documentation.yml/badge.svg)\n",
    "<a href=\"https://fralfaro.github.io/python_intro/\"><img alt=\"Link a la Documentación\" src=\"https://img.shields.io/badge/docs-link-brightgreen\"></a>\n",
    "\n",
    "Introducción básica a Python\n",
    "\n",
    "## Material\n",
    "\n",
    "El material está disponible en el siguiente [repositorio](https://github.com/fralfaro/python_intro), para obtener el código de fuente basta con que ejecutes el siguiente comando:\n",
    "\n",
    "```\n",
    "https://github.com/FAAM/python_intro\n",
    "```\n",
    "\n",
    "## Contenidos temáticos\n",
    "\n",
    "* Introducción a la programación\n",
    "* Introducción a Python\n",
    "* Sintaxis básicas\n",
    "* Flujo de Control\n",
    "* Estructura de datos\n",
    "* Funciones\n",
    "* Errores y excepciones\n",
    "* Buenas prácticas\n",
    "\n"
   ]
  },
  {
   "cell_type": "code",
   "execution_count": null,
   "id": "b66aeb57",
   "metadata": {},
   "outputs": [],
   "source": []
  }
 ],
 "metadata": {
  "jupytext": {
   "cell_metadata_filter": "-all",
   "main_language": "python",
   "notebook_metadata_filter": "-all",
   "text_representation": {
    "extension": ".md",
    "format_name": "markdown"
   }
  },
  "kernelspec": {
   "display_name": "Python 3",
   "language": "python",
   "name": "python3"
  },
  "language_info": {
   "codemirror_mode": {
    "name": "ipython",
    "version": 3
   },
   "file_extension": ".py",
   "mimetype": "text/x-python",
   "name": "python",
   "nbconvert_exporter": "python",
   "pygments_lexer": "ipython3",
   "version": "3.8.10"
  }
 },
 "nbformat": 4,
 "nbformat_minor": 5
}
